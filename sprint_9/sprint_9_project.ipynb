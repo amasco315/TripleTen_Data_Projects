{
 "cells": [
  {
   "cell_type": "markdown",
   "metadata": {},
   "source": [
    "# Introduction\n",
    "In this project I will be looking at 3 different datasets containing information on oil well sites. Each datasets pertains to a different region. My goal will be to determine which region has the highest profit margin. I will do so by bulding and training a model for each region to help predict which region has the highest profit margin. I will then use the bootstrapping technique to analyze potential risks of loss, as well as potential profits.\n",
    "\n",
    "**Data Description** \\\n",
    "id - unique oil well identifier \\\n",
    "f0, f1, f2 - three features of points (their specific meaning is unimportant,\n",
    "but the features themselves are significant) \\\n",
    "product - volume of reserves in the oil well (thousand barrels).\n",
    "\n"
   ]
  },
  {
   "cell_type": "code",
   "execution_count": 1,
   "metadata": {},
   "outputs": [],
   "source": [
    "#importing all necessary libraries\n",
    "import pandas as pd\n",
    "import numpy as np\n",
    "from sklearn.model_selection import train_test_split\n",
    "from sklearn.linear_model import LinearRegression\n",
    "from sklearn.metrics import mean_squared_error"
   ]
  },
  {
   "cell_type": "markdown",
   "metadata": {},
   "source": [
    "## Download and prepare data"
   ]
  },
  {
   "cell_type": "code",
   "execution_count": 2,
   "metadata": {},
   "outputs": [],
   "source": [
    "g1 = pd.read_csv('/datasets/geo_data_0.csv')\n",
    "g2 = pd.read_csv('/datasets/geo_data_1.csv')\n",
    "g3 = pd.read_csv('/datasets/geo_data_2.csv')"
   ]
  },
  {
   "cell_type": "markdown",
   "metadata": {},
   "source": [
    "### first region (g1)"
   ]
  },
  {
   "cell_type": "code",
   "execution_count": 3,
   "metadata": {},
   "outputs": [
    {
     "name": "stdout",
     "output_type": "stream",
     "text": [
      "<class 'pandas.core.frame.DataFrame'>\n",
      "RangeIndex: 100000 entries, 0 to 99999\n",
      "Data columns (total 5 columns):\n",
      " #   Column   Non-Null Count   Dtype  \n",
      "---  ------   --------------   -----  \n",
      " 0   id       100000 non-null  object \n",
      " 1   f0       100000 non-null  float64\n",
      " 2   f1       100000 non-null  float64\n",
      " 3   f2       100000 non-null  float64\n",
      " 4   product  100000 non-null  float64\n",
      "dtypes: float64(4), object(1)\n",
      "memory usage: 3.8+ MB\n"
     ]
    }
   ],
   "source": [
    "g1.info()"
   ]
  },
  {
   "cell_type": "code",
   "execution_count": 4,
   "metadata": {},
   "outputs": [
    {
     "data": {
      "text/html": [
       "<div>\n",
       "<style scoped>\n",
       "    .dataframe tbody tr th:only-of-type {\n",
       "        vertical-align: middle;\n",
       "    }\n",
       "\n",
       "    .dataframe tbody tr th {\n",
       "        vertical-align: top;\n",
       "    }\n",
       "\n",
       "    .dataframe thead th {\n",
       "        text-align: right;\n",
       "    }\n",
       "</style>\n",
       "<table border=\"1\" class=\"dataframe\">\n",
       "  <thead>\n",
       "    <tr style=\"text-align: right;\">\n",
       "      <th></th>\n",
       "      <th>id</th>\n",
       "      <th>f0</th>\n",
       "      <th>f1</th>\n",
       "      <th>f2</th>\n",
       "      <th>product</th>\n",
       "    </tr>\n",
       "  </thead>\n",
       "  <tbody>\n",
       "    <tr>\n",
       "      <th>71096</th>\n",
       "      <td>0OGtB</td>\n",
       "      <td>-0.376766</td>\n",
       "      <td>0.997739</td>\n",
       "      <td>-1.151282</td>\n",
       "      <td>87.726259</td>\n",
       "    </tr>\n",
       "    <tr>\n",
       "      <th>25409</th>\n",
       "      <td>VrcKF</td>\n",
       "      <td>-0.957874</td>\n",
       "      <td>0.662481</td>\n",
       "      <td>1.315159</td>\n",
       "      <td>22.382423</td>\n",
       "    </tr>\n",
       "    <tr>\n",
       "      <th>93886</th>\n",
       "      <td>3JSoB</td>\n",
       "      <td>2.181795</td>\n",
       "      <td>0.317513</td>\n",
       "      <td>0.969483</td>\n",
       "      <td>22.972102</td>\n",
       "    </tr>\n",
       "    <tr>\n",
       "      <th>86388</th>\n",
       "      <td>X07nS</td>\n",
       "      <td>1.693292</td>\n",
       "      <td>-0.032616</td>\n",
       "      <td>1.825802</td>\n",
       "      <td>131.227417</td>\n",
       "    </tr>\n",
       "    <tr>\n",
       "      <th>62561</th>\n",
       "      <td>jr1BF</td>\n",
       "      <td>0.881963</td>\n",
       "      <td>-0.597878</td>\n",
       "      <td>4.243335</td>\n",
       "      <td>151.698842</td>\n",
       "    </tr>\n",
       "    <tr>\n",
       "      <th>20828</th>\n",
       "      <td>ZdCcS</td>\n",
       "      <td>0.568894</td>\n",
       "      <td>-0.582216</td>\n",
       "      <td>3.788057</td>\n",
       "      <td>83.006789</td>\n",
       "    </tr>\n",
       "    <tr>\n",
       "      <th>32894</th>\n",
       "      <td>uyaH5</td>\n",
       "      <td>0.057486</td>\n",
       "      <td>0.315614</td>\n",
       "      <td>2.438243</td>\n",
       "      <td>137.280633</td>\n",
       "    </tr>\n",
       "    <tr>\n",
       "      <th>38789</th>\n",
       "      <td>0ZLqu</td>\n",
       "      <td>1.024039</td>\n",
       "      <td>-0.578641</td>\n",
       "      <td>4.569445</td>\n",
       "      <td>125.168362</td>\n",
       "    </tr>\n",
       "    <tr>\n",
       "      <th>75724</th>\n",
       "      <td>2JepT</td>\n",
       "      <td>0.316141</td>\n",
       "      <td>0.777911</td>\n",
       "      <td>5.252772</td>\n",
       "      <td>133.009301</td>\n",
       "    </tr>\n",
       "    <tr>\n",
       "      <th>36545</th>\n",
       "      <td>1sZ5N</td>\n",
       "      <td>-0.761979</td>\n",
       "      <td>0.623308</td>\n",
       "      <td>1.272795</td>\n",
       "      <td>118.807370</td>\n",
       "    </tr>\n",
       "  </tbody>\n",
       "</table>\n",
       "</div>"
      ],
      "text/plain": [
       "          id        f0        f1        f2     product\n",
       "71096  0OGtB -0.376766  0.997739 -1.151282   87.726259\n",
       "25409  VrcKF -0.957874  0.662481  1.315159   22.382423\n",
       "93886  3JSoB  2.181795  0.317513  0.969483   22.972102\n",
       "86388  X07nS  1.693292 -0.032616  1.825802  131.227417\n",
       "62561  jr1BF  0.881963 -0.597878  4.243335  151.698842\n",
       "20828  ZdCcS  0.568894 -0.582216  3.788057   83.006789\n",
       "32894  uyaH5  0.057486  0.315614  2.438243  137.280633\n",
       "38789  0ZLqu  1.024039 -0.578641  4.569445  125.168362\n",
       "75724  2JepT  0.316141  0.777911  5.252772  133.009301\n",
       "36545  1sZ5N -0.761979  0.623308  1.272795  118.807370"
      ]
     },
     "execution_count": 4,
     "metadata": {},
     "output_type": "execute_result"
    }
   ],
   "source": [
    "g1.sample(10)"
   ]
  },
  {
   "cell_type": "code",
   "execution_count": 5,
   "metadata": {
    "scrolled": true
   },
   "outputs": [
    {
     "data": {
      "text/plain": [
       "0"
      ]
     },
     "execution_count": 5,
     "metadata": {},
     "output_type": "execute_result"
    }
   ],
   "source": [
    "g1.duplicated().sum()"
   ]
  },
  {
   "cell_type": "markdown",
   "metadata": {},
   "source": [
    "Ensuring there's no duplicates in the dataset."
   ]
  },
  {
   "cell_type": "code",
   "execution_count": 6,
   "metadata": {
    "scrolled": true
   },
   "outputs": [
    {
     "data": {
      "text/html": [
       "<div>\n",
       "<style scoped>\n",
       "    .dataframe tbody tr th:only-of-type {\n",
       "        vertical-align: middle;\n",
       "    }\n",
       "\n",
       "    .dataframe tbody tr th {\n",
       "        vertical-align: top;\n",
       "    }\n",
       "\n",
       "    .dataframe thead th {\n",
       "        text-align: right;\n",
       "    }\n",
       "</style>\n",
       "<table border=\"1\" class=\"dataframe\">\n",
       "  <thead>\n",
       "    <tr style=\"text-align: right;\">\n",
       "      <th></th>\n",
       "      <th>f0</th>\n",
       "      <th>f1</th>\n",
       "      <th>f2</th>\n",
       "      <th>product</th>\n",
       "    </tr>\n",
       "  </thead>\n",
       "  <tbody>\n",
       "    <tr>\n",
       "      <th>71840</th>\n",
       "      <td>1.535694</td>\n",
       "      <td>-0.180294</td>\n",
       "      <td>1.136118</td>\n",
       "      <td>157.635840</td>\n",
       "    </tr>\n",
       "    <tr>\n",
       "      <th>84518</th>\n",
       "      <td>-0.855466</td>\n",
       "      <td>0.702869</td>\n",
       "      <td>-3.825249</td>\n",
       "      <td>10.175188</td>\n",
       "    </tr>\n",
       "    <tr>\n",
       "      <th>52245</th>\n",
       "      <td>0.846238</td>\n",
       "      <td>-0.605206</td>\n",
       "      <td>6.101787</td>\n",
       "      <td>158.513536</td>\n",
       "    </tr>\n",
       "    <tr>\n",
       "      <th>65262</th>\n",
       "      <td>-0.105974</td>\n",
       "      <td>0.533061</td>\n",
       "      <td>-0.451872</td>\n",
       "      <td>80.336055</td>\n",
       "    </tr>\n",
       "    <tr>\n",
       "      <th>7148</th>\n",
       "      <td>-0.200266</td>\n",
       "      <td>1.172046</td>\n",
       "      <td>-0.397995</td>\n",
       "      <td>29.150505</td>\n",
       "    </tr>\n",
       "  </tbody>\n",
       "</table>\n",
       "</div>"
      ],
      "text/plain": [
       "             f0        f1        f2     product\n",
       "71840  1.535694 -0.180294  1.136118  157.635840\n",
       "84518 -0.855466  0.702869 -3.825249   10.175188\n",
       "52245  0.846238 -0.605206  6.101787  158.513536\n",
       "65262 -0.105974  0.533061 -0.451872   80.336055\n",
       "7148  -0.200266  1.172046 -0.397995   29.150505"
      ]
     },
     "execution_count": 6,
     "metadata": {},
     "output_type": "execute_result"
    }
   ],
   "source": [
    "g1 = g1.drop(['id'], axis=1)\n",
    "g1.sample(5)"
   ]
  },
  {
   "cell_type": "markdown",
   "metadata": {},
   "source": [
    "Removing any unnecessary columns, in this case just the id column."
   ]
  },
  {
   "cell_type": "markdown",
   "metadata": {},
   "source": [
    "### second region (g2)"
   ]
  },
  {
   "cell_type": "code",
   "execution_count": 7,
   "metadata": {},
   "outputs": [
    {
     "name": "stdout",
     "output_type": "stream",
     "text": [
      "<class 'pandas.core.frame.DataFrame'>\n",
      "RangeIndex: 100000 entries, 0 to 99999\n",
      "Data columns (total 5 columns):\n",
      " #   Column   Non-Null Count   Dtype  \n",
      "---  ------   --------------   -----  \n",
      " 0   id       100000 non-null  object \n",
      " 1   f0       100000 non-null  float64\n",
      " 2   f1       100000 non-null  float64\n",
      " 3   f2       100000 non-null  float64\n",
      " 4   product  100000 non-null  float64\n",
      "dtypes: float64(4), object(1)\n",
      "memory usage: 3.8+ MB\n"
     ]
    }
   ],
   "source": [
    "g2.info()"
   ]
  },
  {
   "cell_type": "code",
   "execution_count": 8,
   "metadata": {},
   "outputs": [
    {
     "data": {
      "text/html": [
       "<div>\n",
       "<style scoped>\n",
       "    .dataframe tbody tr th:only-of-type {\n",
       "        vertical-align: middle;\n",
       "    }\n",
       "\n",
       "    .dataframe tbody tr th {\n",
       "        vertical-align: top;\n",
       "    }\n",
       "\n",
       "    .dataframe thead th {\n",
       "        text-align: right;\n",
       "    }\n",
       "</style>\n",
       "<table border=\"1\" class=\"dataframe\">\n",
       "  <thead>\n",
       "    <tr style=\"text-align: right;\">\n",
       "      <th></th>\n",
       "      <th>id</th>\n",
       "      <th>f0</th>\n",
       "      <th>f1</th>\n",
       "      <th>f2</th>\n",
       "      <th>product</th>\n",
       "    </tr>\n",
       "  </thead>\n",
       "  <tbody>\n",
       "    <tr>\n",
       "      <th>97293</th>\n",
       "      <td>vUj4E</td>\n",
       "      <td>-2.867097</td>\n",
       "      <td>-2.723789</td>\n",
       "      <td>3.998160</td>\n",
       "      <td>110.992147</td>\n",
       "    </tr>\n",
       "    <tr>\n",
       "      <th>18446</th>\n",
       "      <td>ygdhE</td>\n",
       "      <td>9.762524</td>\n",
       "      <td>-6.545321</td>\n",
       "      <td>4.992791</td>\n",
       "      <td>134.766305</td>\n",
       "    </tr>\n",
       "    <tr>\n",
       "      <th>26599</th>\n",
       "      <td>7i1JH</td>\n",
       "      <td>10.607520</td>\n",
       "      <td>-8.048492</td>\n",
       "      <td>5.010137</td>\n",
       "      <td>134.766305</td>\n",
       "    </tr>\n",
       "    <tr>\n",
       "      <th>6765</th>\n",
       "      <td>gmG0j</td>\n",
       "      <td>2.706365</td>\n",
       "      <td>-8.420295</td>\n",
       "      <td>2.004481</td>\n",
       "      <td>53.906522</td>\n",
       "    </tr>\n",
       "    <tr>\n",
       "      <th>38241</th>\n",
       "      <td>z6JVq</td>\n",
       "      <td>6.718611</td>\n",
       "      <td>-3.302086</td>\n",
       "      <td>2.004947</td>\n",
       "      <td>53.906522</td>\n",
       "    </tr>\n",
       "    <tr>\n",
       "      <th>99497</th>\n",
       "      <td>HLInW</td>\n",
       "      <td>6.364759</td>\n",
       "      <td>-6.816702</td>\n",
       "      <td>5.005193</td>\n",
       "      <td>134.766305</td>\n",
       "    </tr>\n",
       "    <tr>\n",
       "      <th>84804</th>\n",
       "      <td>3HuEW</td>\n",
       "      <td>-5.928577</td>\n",
       "      <td>-11.295744</td>\n",
       "      <td>3.996052</td>\n",
       "      <td>110.992147</td>\n",
       "    </tr>\n",
       "    <tr>\n",
       "      <th>26638</th>\n",
       "      <td>nbHne</td>\n",
       "      <td>3.323624</td>\n",
       "      <td>-9.117453</td>\n",
       "      <td>0.001284</td>\n",
       "      <td>3.179103</td>\n",
       "    </tr>\n",
       "    <tr>\n",
       "      <th>9003</th>\n",
       "      <td>q4MtN</td>\n",
       "      <td>-14.348000</td>\n",
       "      <td>-1.182799</td>\n",
       "      <td>3.994257</td>\n",
       "      <td>110.992147</td>\n",
       "    </tr>\n",
       "    <tr>\n",
       "      <th>79772</th>\n",
       "      <td>BikQS</td>\n",
       "      <td>-2.094906</td>\n",
       "      <td>-11.497634</td>\n",
       "      <td>2.998381</td>\n",
       "      <td>84.038886</td>\n",
       "    </tr>\n",
       "  </tbody>\n",
       "</table>\n",
       "</div>"
      ],
      "text/plain": [
       "          id         f0         f1        f2     product\n",
       "97293  vUj4E  -2.867097  -2.723789  3.998160  110.992147\n",
       "18446  ygdhE   9.762524  -6.545321  4.992791  134.766305\n",
       "26599  7i1JH  10.607520  -8.048492  5.010137  134.766305\n",
       "6765   gmG0j   2.706365  -8.420295  2.004481   53.906522\n",
       "38241  z6JVq   6.718611  -3.302086  2.004947   53.906522\n",
       "99497  HLInW   6.364759  -6.816702  5.005193  134.766305\n",
       "84804  3HuEW  -5.928577 -11.295744  3.996052  110.992147\n",
       "26638  nbHne   3.323624  -9.117453  0.001284    3.179103\n",
       "9003   q4MtN -14.348000  -1.182799  3.994257  110.992147\n",
       "79772  BikQS  -2.094906 -11.497634  2.998381   84.038886"
      ]
     },
     "execution_count": 8,
     "metadata": {},
     "output_type": "execute_result"
    }
   ],
   "source": [
    "g2.sample(10)"
   ]
  },
  {
   "cell_type": "code",
   "execution_count": 9,
   "metadata": {},
   "outputs": [
    {
     "data": {
      "text/plain": [
       "0"
      ]
     },
     "execution_count": 9,
     "metadata": {},
     "output_type": "execute_result"
    }
   ],
   "source": [
    "g2.duplicated().sum()"
   ]
  },
  {
   "cell_type": "markdown",
   "metadata": {},
   "source": [
    "Ensuring there are no duplicates in the dataset. "
   ]
  },
  {
   "cell_type": "code",
   "execution_count": 10,
   "metadata": {},
   "outputs": [
    {
     "data": {
      "text/html": [
       "<div>\n",
       "<style scoped>\n",
       "    .dataframe tbody tr th:only-of-type {\n",
       "        vertical-align: middle;\n",
       "    }\n",
       "\n",
       "    .dataframe tbody tr th {\n",
       "        vertical-align: top;\n",
       "    }\n",
       "\n",
       "    .dataframe thead th {\n",
       "        text-align: right;\n",
       "    }\n",
       "</style>\n",
       "<table border=\"1\" class=\"dataframe\">\n",
       "  <thead>\n",
       "    <tr style=\"text-align: right;\">\n",
       "      <th></th>\n",
       "      <th>f0</th>\n",
       "      <th>f1</th>\n",
       "      <th>f2</th>\n",
       "      <th>product</th>\n",
       "    </tr>\n",
       "  </thead>\n",
       "  <tbody>\n",
       "    <tr>\n",
       "      <th>7369</th>\n",
       "      <td>1.102415</td>\n",
       "      <td>-13.860526</td>\n",
       "      <td>0.999889</td>\n",
       "      <td>30.132364</td>\n",
       "    </tr>\n",
       "    <tr>\n",
       "      <th>20925</th>\n",
       "      <td>-9.348770</td>\n",
       "      <td>-12.144895</td>\n",
       "      <td>3.002714</td>\n",
       "      <td>84.038886</td>\n",
       "    </tr>\n",
       "    <tr>\n",
       "      <th>34783</th>\n",
       "      <td>4.889770</td>\n",
       "      <td>-1.662401</td>\n",
       "      <td>4.997403</td>\n",
       "      <td>137.945408</td>\n",
       "    </tr>\n",
       "    <tr>\n",
       "      <th>9990</th>\n",
       "      <td>-4.286693</td>\n",
       "      <td>-0.868957</td>\n",
       "      <td>2.010357</td>\n",
       "      <td>57.085625</td>\n",
       "    </tr>\n",
       "    <tr>\n",
       "      <th>18907</th>\n",
       "      <td>3.619001</td>\n",
       "      <td>-3.449466</td>\n",
       "      <td>4.001484</td>\n",
       "      <td>107.813044</td>\n",
       "    </tr>\n",
       "  </tbody>\n",
       "</table>\n",
       "</div>"
      ],
      "text/plain": [
       "             f0         f1        f2     product\n",
       "7369   1.102415 -13.860526  0.999889   30.132364\n",
       "20925 -9.348770 -12.144895  3.002714   84.038886\n",
       "34783  4.889770  -1.662401  4.997403  137.945408\n",
       "9990  -4.286693  -0.868957  2.010357   57.085625\n",
       "18907  3.619001  -3.449466  4.001484  107.813044"
      ]
     },
     "execution_count": 10,
     "metadata": {},
     "output_type": "execute_result"
    }
   ],
   "source": [
    "g2 = g2.drop(['id'], axis=1)\n",
    "g2.sample(5)"
   ]
  },
  {
   "cell_type": "markdown",
   "metadata": {},
   "source": [
    "Removing any unnecessary columns, in this case just the id column."
   ]
  },
  {
   "cell_type": "markdown",
   "metadata": {},
   "source": [
    "### third region (g3)"
   ]
  },
  {
   "cell_type": "code",
   "execution_count": 11,
   "metadata": {},
   "outputs": [
    {
     "name": "stdout",
     "output_type": "stream",
     "text": [
      "<class 'pandas.core.frame.DataFrame'>\n",
      "RangeIndex: 100000 entries, 0 to 99999\n",
      "Data columns (total 5 columns):\n",
      " #   Column   Non-Null Count   Dtype  \n",
      "---  ------   --------------   -----  \n",
      " 0   id       100000 non-null  object \n",
      " 1   f0       100000 non-null  float64\n",
      " 2   f1       100000 non-null  float64\n",
      " 3   f2       100000 non-null  float64\n",
      " 4   product  100000 non-null  float64\n",
      "dtypes: float64(4), object(1)\n",
      "memory usage: 3.8+ MB\n"
     ]
    }
   ],
   "source": [
    "g3.info()"
   ]
  },
  {
   "cell_type": "code",
   "execution_count": 12,
   "metadata": {},
   "outputs": [
    {
     "data": {
      "text/plain": [
       "0"
      ]
     },
     "execution_count": 12,
     "metadata": {},
     "output_type": "execute_result"
    }
   ],
   "source": [
    "g3.duplicated().sum()"
   ]
  },
  {
   "cell_type": "markdown",
   "metadata": {},
   "source": [
    "Ensuring that there are no duplicates in the dataset. "
   ]
  },
  {
   "cell_type": "code",
   "execution_count": 13,
   "metadata": {},
   "outputs": [
    {
     "data": {
      "text/html": [
       "<div>\n",
       "<style scoped>\n",
       "    .dataframe tbody tr th:only-of-type {\n",
       "        vertical-align: middle;\n",
       "    }\n",
       "\n",
       "    .dataframe tbody tr th {\n",
       "        vertical-align: top;\n",
       "    }\n",
       "\n",
       "    .dataframe thead th {\n",
       "        text-align: right;\n",
       "    }\n",
       "</style>\n",
       "<table border=\"1\" class=\"dataframe\">\n",
       "  <thead>\n",
       "    <tr style=\"text-align: right;\">\n",
       "      <th></th>\n",
       "      <th>id</th>\n",
       "      <th>f0</th>\n",
       "      <th>f1</th>\n",
       "      <th>f2</th>\n",
       "      <th>product</th>\n",
       "    </tr>\n",
       "  </thead>\n",
       "  <tbody>\n",
       "    <tr>\n",
       "      <th>6115</th>\n",
       "      <td>QmhJW</td>\n",
       "      <td>0.614516</td>\n",
       "      <td>-0.077983</td>\n",
       "      <td>-2.388863</td>\n",
       "      <td>53.538275</td>\n",
       "    </tr>\n",
       "    <tr>\n",
       "      <th>29979</th>\n",
       "      <td>trk0i</td>\n",
       "      <td>-3.648740</td>\n",
       "      <td>0.644784</td>\n",
       "      <td>4.624971</td>\n",
       "      <td>67.177934</td>\n",
       "    </tr>\n",
       "    <tr>\n",
       "      <th>77494</th>\n",
       "      <td>BGHCR</td>\n",
       "      <td>0.835793</td>\n",
       "      <td>-3.522075</td>\n",
       "      <td>-2.063421</td>\n",
       "      <td>59.025245</td>\n",
       "    </tr>\n",
       "    <tr>\n",
       "      <th>11335</th>\n",
       "      <td>d19LU</td>\n",
       "      <td>1.319483</td>\n",
       "      <td>-2.674634</td>\n",
       "      <td>4.181363</td>\n",
       "      <td>152.053493</td>\n",
       "    </tr>\n",
       "    <tr>\n",
       "      <th>53316</th>\n",
       "      <td>OgPSF</td>\n",
       "      <td>-2.096880</td>\n",
       "      <td>-1.534500</td>\n",
       "      <td>-5.334918</td>\n",
       "      <td>45.387704</td>\n",
       "    </tr>\n",
       "    <tr>\n",
       "      <th>73525</th>\n",
       "      <td>eNdnL</td>\n",
       "      <td>0.640213</td>\n",
       "      <td>1.867471</td>\n",
       "      <td>0.891576</td>\n",
       "      <td>57.325672</td>\n",
       "    </tr>\n",
       "    <tr>\n",
       "      <th>64113</th>\n",
       "      <td>k8g9N</td>\n",
       "      <td>-0.230104</td>\n",
       "      <td>-1.009412</td>\n",
       "      <td>1.172677</td>\n",
       "      <td>95.787002</td>\n",
       "    </tr>\n",
       "    <tr>\n",
       "      <th>13144</th>\n",
       "      <td>5rG9v</td>\n",
       "      <td>-1.035297</td>\n",
       "      <td>-2.692639</td>\n",
       "      <td>2.934152</td>\n",
       "      <td>145.089187</td>\n",
       "    </tr>\n",
       "    <tr>\n",
       "      <th>93535</th>\n",
       "      <td>AChyd</td>\n",
       "      <td>0.690154</td>\n",
       "      <td>0.060484</td>\n",
       "      <td>-2.118324</td>\n",
       "      <td>93.762183</td>\n",
       "    </tr>\n",
       "    <tr>\n",
       "      <th>31233</th>\n",
       "      <td>GIG8S</td>\n",
       "      <td>2.689870</td>\n",
       "      <td>-0.874373</td>\n",
       "      <td>6.077201</td>\n",
       "      <td>154.575737</td>\n",
       "    </tr>\n",
       "  </tbody>\n",
       "</table>\n",
       "</div>"
      ],
      "text/plain": [
       "          id        f0        f1        f2     product\n",
       "6115   QmhJW  0.614516 -0.077983 -2.388863   53.538275\n",
       "29979  trk0i -3.648740  0.644784  4.624971   67.177934\n",
       "77494  BGHCR  0.835793 -3.522075 -2.063421   59.025245\n",
       "11335  d19LU  1.319483 -2.674634  4.181363  152.053493\n",
       "53316  OgPSF -2.096880 -1.534500 -5.334918   45.387704\n",
       "73525  eNdnL  0.640213  1.867471  0.891576   57.325672\n",
       "64113  k8g9N -0.230104 -1.009412  1.172677   95.787002\n",
       "13144  5rG9v -1.035297 -2.692639  2.934152  145.089187\n",
       "93535  AChyd  0.690154  0.060484 -2.118324   93.762183\n",
       "31233  GIG8S  2.689870 -0.874373  6.077201  154.575737"
      ]
     },
     "execution_count": 13,
     "metadata": {},
     "output_type": "execute_result"
    }
   ],
   "source": [
    "g3.sample(10)"
   ]
  },
  {
   "cell_type": "code",
   "execution_count": 14,
   "metadata": {},
   "outputs": [
    {
     "data": {
      "text/html": [
       "<div>\n",
       "<style scoped>\n",
       "    .dataframe tbody tr th:only-of-type {\n",
       "        vertical-align: middle;\n",
       "    }\n",
       "\n",
       "    .dataframe tbody tr th {\n",
       "        vertical-align: top;\n",
       "    }\n",
       "\n",
       "    .dataframe thead th {\n",
       "        text-align: right;\n",
       "    }\n",
       "</style>\n",
       "<table border=\"1\" class=\"dataframe\">\n",
       "  <thead>\n",
       "    <tr style=\"text-align: right;\">\n",
       "      <th></th>\n",
       "      <th>f0</th>\n",
       "      <th>f1</th>\n",
       "      <th>f2</th>\n",
       "      <th>product</th>\n",
       "    </tr>\n",
       "  </thead>\n",
       "  <tbody>\n",
       "    <tr>\n",
       "      <th>71033</th>\n",
       "      <td>0.990106</td>\n",
       "      <td>-0.620968</td>\n",
       "      <td>4.753109</td>\n",
       "      <td>145.847613</td>\n",
       "    </tr>\n",
       "    <tr>\n",
       "      <th>8587</th>\n",
       "      <td>-1.341940</td>\n",
       "      <td>1.646953</td>\n",
       "      <td>-2.822217</td>\n",
       "      <td>107.247892</td>\n",
       "    </tr>\n",
       "    <tr>\n",
       "      <th>7637</th>\n",
       "      <td>0.139644</td>\n",
       "      <td>0.176932</td>\n",
       "      <td>5.499236</td>\n",
       "      <td>76.820234</td>\n",
       "    </tr>\n",
       "    <tr>\n",
       "      <th>16785</th>\n",
       "      <td>0.104135</td>\n",
       "      <td>1.148835</td>\n",
       "      <td>9.269552</td>\n",
       "      <td>70.476335</td>\n",
       "    </tr>\n",
       "    <tr>\n",
       "      <th>11131</th>\n",
       "      <td>3.929802</td>\n",
       "      <td>-1.850653</td>\n",
       "      <td>0.759533</td>\n",
       "      <td>73.516348</td>\n",
       "    </tr>\n",
       "  </tbody>\n",
       "</table>\n",
       "</div>"
      ],
      "text/plain": [
       "             f0        f1        f2     product\n",
       "71033  0.990106 -0.620968  4.753109  145.847613\n",
       "8587  -1.341940  1.646953 -2.822217  107.247892\n",
       "7637   0.139644  0.176932  5.499236   76.820234\n",
       "16785  0.104135  1.148835  9.269552   70.476335\n",
       "11131  3.929802 -1.850653  0.759533   73.516348"
      ]
     },
     "execution_count": 14,
     "metadata": {},
     "output_type": "execute_result"
    }
   ],
   "source": [
    "g3 = g3.drop(['id'], axis=1)\n",
    "g3.sample(5)"
   ]
  },
  {
   "cell_type": "markdown",
   "metadata": {},
   "source": [
    "Removing any unnecessary columns, in this case just the id column."
   ]
  },
  {
   "cell_type": "markdown",
   "metadata": {},
   "source": [
    "## Train and test model for each region "
   ]
  },
  {
   "cell_type": "markdown",
   "metadata": {},
   "source": [
    "### split data into training and validation sets, ratio 75:25"
   ]
  },
  {
   "cell_type": "code",
   "execution_count": 15,
   "metadata": {},
   "outputs": [],
   "source": [
    "#first region(g1)\n",
    "g1_train, g1_valid = train_test_split(g1, test_size=0.25, random_state=315)"
   ]
  },
  {
   "cell_type": "code",
   "execution_count": 16,
   "metadata": {},
   "outputs": [],
   "source": [
    "#second region(g2)\n",
    "g2_train, g2_valid = train_test_split(g2, test_size=0.25, random_state=315)"
   ]
  },
  {
   "cell_type": "code",
   "execution_count": 17,
   "metadata": {},
   "outputs": [],
   "source": [
    "#third region(g3)\n",
    "g3_train, g3_valid = train_test_split(g3, test_size=0.25, random_state=315)"
   ]
  },
  {
   "cell_type": "code",
   "execution_count": 18,
   "metadata": {},
   "outputs": [],
   "source": [
    "#training variables for g1\n",
    "g1_train_features = g1_train.drop(['product'],axis=1)\n",
    "g1_train_target = g1_train['product']\n",
    "#validation variables for g1\n",
    "g1_valid_features = g1_valid.drop(['product'], axis=1)\n",
    "g1_valid_target = g1_valid['product']"
   ]
  },
  {
   "cell_type": "code",
   "execution_count": 19,
   "metadata": {},
   "outputs": [
    {
     "name": "stdout",
     "output_type": "stream",
     "text": [
      "(75000, 3)\n",
      "(75000,)\n",
      "(25000, 3)\n",
      "(25000,)\n"
     ]
    }
   ],
   "source": [
    "print(g1_train_features.shape)\n",
    "print(g1_train_target.shape)\n",
    "print(g1_valid_features.shape)\n",
    "print(g1_valid_target.shape)"
   ]
  },
  {
   "cell_type": "code",
   "execution_count": 20,
   "metadata": {},
   "outputs": [],
   "source": [
    "#training variables for g2\n",
    "g2_train_features = g2_train.drop(['product'],axis=1)\n",
    "g2_train_target = g2_train['product']\n",
    "#validation variables for g2\n",
    "g2_valid_features = g2_valid.drop(['product'], axis=1)\n",
    "g2_valid_target = g2_valid['product']"
   ]
  },
  {
   "cell_type": "code",
   "execution_count": 21,
   "metadata": {},
   "outputs": [
    {
     "name": "stdout",
     "output_type": "stream",
     "text": [
      "(75000, 3)\n",
      "(75000,)\n",
      "(25000, 3)\n",
      "(25000,)\n"
     ]
    }
   ],
   "source": [
    "print(g2_train_features.shape)\n",
    "print(g2_train_target.shape)\n",
    "print(g2_valid_features.shape)\n",
    "print(g2_valid_target.shape)"
   ]
  },
  {
   "cell_type": "code",
   "execution_count": 22,
   "metadata": {},
   "outputs": [],
   "source": [
    "#training variables for g3\n",
    "g3_train_features = g3_train.drop(['product'],axis=1)\n",
    "g3_train_target = g3_train['product']\n",
    "#validation variables for g3\n",
    "g3_valid_features = g3_valid.drop(['product'], axis=1)\n",
    "g3_valid_target = g3_valid['product']"
   ]
  },
  {
   "cell_type": "code",
   "execution_count": 23,
   "metadata": {},
   "outputs": [
    {
     "name": "stdout",
     "output_type": "stream",
     "text": [
      "(75000, 3)\n",
      "(75000,)\n",
      "(25000, 3)\n",
      "(25000,)\n"
     ]
    }
   ],
   "source": [
    "print(g3_train_features.shape)\n",
    "print(g3_train_target.shape)\n",
    "print(g3_valid_features.shape)\n",
    "print(g3_valid_target.shape)"
   ]
  },
  {
   "cell_type": "markdown",
   "metadata": {},
   "source": [
    "### g1 model "
   ]
  },
  {
   "cell_type": "code",
   "execution_count": 24,
   "metadata": {},
   "outputs": [
    {
     "name": "stdout",
     "output_type": "stream",
     "text": [
      "Average volume of predicted reserves in g1_model: 92.55212915166508\n",
      "RMSE of g1 model is: 37.91252286982915\n"
     ]
    }
   ],
   "source": [
    "g1_model = LinearRegression()\n",
    "g1_model.fit(g1_train_features, g1_train_target)\n",
    "predictions1 = g1_model.predict(g1_valid_features)\n",
    "print('Average volume of predicted reserves in g1_model:',predictions1.mean())\n",
    "\n",
    "result = mean_squared_error(g1_valid_target, predictions1)**0.5\n",
    "print('RMSE of g1 model is:',result)"
   ]
  },
  {
   "cell_type": "markdown",
   "metadata": {},
   "source": [
    "### g2 model"
   ]
  },
  {
   "cell_type": "code",
   "execution_count": 25,
   "metadata": {},
   "outputs": [
    {
     "name": "stdout",
     "output_type": "stream",
     "text": [
      "Average volume of predicted reserves in g2 model: 68.46363398543849\n",
      "RMSE of g2 model is: 0.8907712786831072\n"
     ]
    }
   ],
   "source": [
    "g2_model = LinearRegression()\n",
    "g2_model.fit(g2_train_features, g2_train_target)\n",
    "predictions2 = g2_model.predict(g2_valid_features)\n",
    "print('Average volume of predicted reserves in g2 model:',predictions2.mean())\n",
    "\n",
    "result = mean_squared_error(g2_valid_target, predictions2)**0.5\n",
    "print('RMSE of g2 model is:',result)"
   ]
  },
  {
   "cell_type": "markdown",
   "metadata": {},
   "source": [
    "### g3 model"
   ]
  },
  {
   "cell_type": "code",
   "execution_count": 26,
   "metadata": {},
   "outputs": [
    {
     "name": "stdout",
     "output_type": "stream",
     "text": [
      "Average volume of predicted reserves for g3 model: 94.8301814760698\n",
      "RMSE of g3 model is: 40.12203228780136\n"
     ]
    }
   ],
   "source": [
    "g3_model = LinearRegression()\n",
    "g3_model.fit(g3_train_features, g3_train_target)\n",
    "predictions3 = g3_model.predict(g3_valid_features)\n",
    "print('Average volume of predicted reserves for g3 model:',predictions3.mean())\n",
    "\n",
    "result = mean_squared_error(g3_valid_target, predictions3)**0.5\n",
    "print('RMSE of g3 model is:', result)"
   ]
  },
  {
   "cell_type": "markdown",
   "metadata": {},
   "source": [
    "### Analyze results\n"
   ]
  },
  {
   "cell_type": "code",
   "execution_count": 27,
   "metadata": {},
   "outputs": [
    {
     "name": "stdout",
     "output_type": "stream",
     "text": [
      "count    100000.000000\n",
      "mean         92.500000\n",
      "std          44.288691\n",
      "min           0.000000\n",
      "25%          56.497507\n",
      "50%          91.849972\n",
      "75%         128.564089\n",
      "max         185.364347\n",
      "Name: product, dtype: float64\n",
      "count    100000.000000\n",
      "mean         68.825000\n",
      "std          45.944423\n",
      "min           0.000000\n",
      "25%          26.953261\n",
      "50%          57.085625\n",
      "75%         107.813044\n",
      "max         137.945408\n",
      "Name: product, dtype: float64\n",
      "count    100000.000000\n",
      "mean         95.000000\n",
      "std          44.749921\n",
      "min           0.000000\n",
      "25%          59.450441\n",
      "50%          94.925613\n",
      "75%         130.595027\n",
      "max         190.029838\n",
      "Name: product, dtype: float64\n"
     ]
    }
   ],
   "source": [
    "print(g1['product'].describe())\n",
    "print(g2['product'].describe())\n",
    "print(g3['product'].describe())"
   ]
  },
  {
   "cell_type": "markdown",
   "metadata": {},
   "source": [
    "Based on the RMSE values for each region's model, it seems that region 2 is by far the easiest to predict. Region 2 has a very low RMSE value of 0.89, whereas region 1 has 37.91, and region 3 with 40.12. This would suggest that the data is more varied in regions 1 and 3, and that they are harder to predict. With that being said, the average volume of reserves is higher in both regions 1 (92.55) and 3 (94.83) than region 2 (68.46). This would suggest that regions 1 and 3 have a higher chance of producing the highest total profit. We will continue on and find out. "
   ]
  },
  {
   "cell_type": "markdown",
   "metadata": {},
   "source": [
    "## Prepare for profit calculation"
   ]
  },
  {
   "cell_type": "markdown",
   "metadata": {},
   "source": [
    "### Store key values in variables"
   ]
  },
  {
   "cell_type": "code",
   "execution_count": 28,
   "metadata": {},
   "outputs": [],
   "source": [
    "budget = 100_000_000 \n",
    "wells = 200\n",
    "rev_per_unit = 4500"
   ]
  },
  {
   "cell_type": "code",
   "execution_count": 29,
   "metadata": {},
   "outputs": [],
   "source": [
    "g1_avg = g1['product'].mean()\n",
    "g2_avg = g2['product'].mean()\n",
    "g3_avg = g3['product'].mean()"
   ]
  },
  {
   "cell_type": "markdown",
   "metadata": {},
   "source": [
    "### Calculate volume of reserves needed to breakeven"
   ]
  },
  {
   "cell_type": "code",
   "execution_count": 30,
   "metadata": {},
   "outputs": [
    {
     "name": "stdout",
     "output_type": "stream",
     "text": [
      "Cost per well in USD is: 500000.0\n"
     ]
    }
   ],
   "source": [
    "#cost per well budget\n",
    "well_cost = budget/wells\n",
    "print('Cost per well in USD is:', well_cost)"
   ]
  },
  {
   "cell_type": "code",
   "execution_count": 31,
   "metadata": {},
   "outputs": [
    {
     "name": "stdout",
     "output_type": "stream",
     "text": [
      "Volume needed to breakeven is: 111.11111111111111\n",
      "Average volume of region 1 is: 92.50000000000001\n",
      "Average volume of region 2 is: 68.82500000000002\n",
      "Average volume of region 3 is: 95.00000000000004\n"
     ]
    }
   ],
   "source": [
    "vol_needed = well_cost/rev_per_unit\n",
    "print('Volume needed to breakeven is:',vol_needed)\n",
    "print('Average volume of region 1 is:', g1_avg)\n",
    "print('Average volume of region 2 is:', g2_avg)\n",
    "print('Average volume of region 3 is:', g3_avg)"
   ]
  },
  {
   "cell_type": "markdown",
   "metadata": {},
   "source": [
    "### Findings\n",
    "Based on the calculation of the  volume needed to breakeven, none of the 3 regions have an average volume sufficient enough to breakeven. The averages of regions 1 and 3 are much closer to the necessary volume than the average from region 2. This would suggest that the best options for profitability would be either region 1 or region 3. "
   ]
  },
  {
   "cell_type": "markdown",
   "metadata": {},
   "source": [
    "## Write a function to calculate profit"
   ]
  },
  {
   "cell_type": "code",
   "execution_count": 32,
   "metadata": {},
   "outputs": [],
   "source": [
    "def calculate_profit(target, predictions):\n",
    "    predictions = pd.Series(predictions, index=target.index)\n",
    "    sorted_indices = predictions.sort_values(ascending=False).head(wells).index\n",
    "    top_wells = target.loc[sorted_indices]\n",
    "    target_reserves = top_wells.sum() \n",
    "    revenue = target_reserves * rev_per_unit\n",
    "    profit = revenue - budget\n",
    "    \n",
    "    return profit.round(2)"
   ]
  },
  {
   "cell_type": "code",
   "execution_count": 33,
   "metadata": {},
   "outputs": [
    {
     "name": "stdout",
     "output_type": "stream",
     "text": [
      "region g1 top 200 wells predicted profit:33,481,224.4\n",
      "region g2 top 200 wells predicted profit:24,150,866.97\n",
      "region g3 top 200 wells predicted profit:26,280,301.64\n"
     ]
    }
   ],
   "source": [
    "g1_valid_target = g1_valid_target.reset_index(drop=True)\n",
    "g2_valid_target = g2_valid_target.reset_index(drop=True)\n",
    "g3_valid_target = g3_valid_target.reset_index(drop=True)\n",
    "\n",
    "print(f'region g1 top 200 wells predicted profit:{calculate_profit(g1_valid_target, predictions1):,}')\n",
    "print(f'region g2 top 200 wells predicted profit:{calculate_profit(g2_valid_target, predictions2):,}')\n",
    "print(f'region g3 top 200 wells predicted profit:{calculate_profit(g3_valid_target, predictions3):,}')"
   ]
  },
  {
   "cell_type": "markdown",
   "metadata": {},
   "source": [
    "Based on the predicted profits for the top 200 wells of each region, the region that I would suggest using for oil well development is g1. The predicted profits of this region are 6,000,000 more than the region with the second highest predicted profit. "
   ]
  },
  {
   "cell_type": "markdown",
   "metadata": {},
   "source": [
    "## Bootstrap Analysis"
   ]
  },
  {
   "cell_type": "code",
   "execution_count": 34,
   "metadata": {},
   "outputs": [
    {
     "name": "stdout",
     "output_type": "stream",
     "text": [
      "Region g1: Mean Profit: 6,069,933.94, 95% CI: [  167480.3  12318968.32], Risk of Loss: 2.00%\n",
      "Region g2: Mean Profit: 6,447,007.45, 95% CI: [ 1323963.6  11684605.36], Risk of Loss: 0.70%\n",
      "Region g3: Mean Profit: 5,325,393.63, 95% CI: [ -993032.94 12254004.69], Risk of Loss: 5.30%\n"
     ]
    }
   ],
   "source": [
    "state = np.random.RandomState(315)\n",
    "def bootstrap_profit(target, predictions, n_iterations=1000, sample_size=500):\n",
    "    profits = []\n",
    "   \n",
    "    predictions = pd.Series(predictions, index=target.index)\n",
    "    \n",
    "    for i in range(n_iterations):\n",
    "        sample_indices = state.choice(target.index, size=sample_size, replace=True)\n",
    "        sample_predictions = predictions[sample_indices]\n",
    "        sample_targets = target.loc[sample_indices]\n",
    "\n",
    "        profit = calculate_profit(sample_targets, sample_predictions)\n",
    "        profits.append(profit)\n",
    "    \n",
    "    profits = np.array(profits)\n",
    "    mean_profit = profits.mean()\n",
    "    confidence_interval = np.percentile(profits, [2.5, 97.5]).round(2)\n",
    "    risk_of_loss = (profits < 0).mean()\n",
    "    \n",
    "    \n",
    "    return mean_profit, confidence_interval, risk_of_loss\n",
    "\n",
    "\n",
    "# Apply to each region\n",
    "mean_profit_g1, ci_g1, risk_g1 = bootstrap_profit(g1_valid_target, predictions1)\n",
    "mean_profit_g2, ci_g2, risk_g2 = bootstrap_profit(g2_valid_target, predictions2)\n",
    "mean_profit_g3, ci_g3, risk_g3 = bootstrap_profit(g3_valid_target, predictions3)\n",
    "# Print results\n",
    "print(f\"Region g1: Mean Profit: {mean_profit_g1.round(2):,}, 95% CI: {ci_g1}, Risk of Loss: {risk_g1*100:.2f}%\")\n",
    "print(f\"Region g2: Mean Profit: {mean_profit_g2.round(2):,}, 95% CI: {ci_g2}, Risk of Loss: {risk_g2*100:.2f}%\")\n",
    "print(f\"Region g3: Mean Profit: {mean_profit_g3.round(2):,}, 95% CI: {ci_g3}, Risk of Loss: {risk_g3*100:.2f}%\")"
   ]
  },
  {
   "cell_type": "markdown",
   "metadata": {},
   "source": [
    "## Conclusion\n",
    "After conducting the Bootstrap analysis, it seems that region g2 is actually the best region for oil well development. We see that the risk of loss in this region is only 0.7%, whereas regions g1 and g3 have 2% and 5.3% respectively. Region g2 sees the highest mean profits of the 3 regions with \\$6,447,007,45. It should be noted that if you look at the confidence interval results, both regions g1 and g3 have a higher profit total in the 97.5 percentile. This could lend to why both of these regions saw higher profit total than region g2 in section 4. With that said, the 2.5 percentile for region g2 is significantly higher than both other regions. This can be supported by region g2 having a very low RMSE score. This was the easiest region to predict, and in turn would be my choice for the most profitable region to develop new oil well sites. "
   ]
  }
 ],
 "metadata": {
  "ExecuteTimeLog": [
   {
    "duration": 5329,
    "start_time": "2024-06-13T17:56:55.206Z"
   },
   {
    "duration": 497,
    "start_time": "2024-06-13T17:58:47.780Z"
   },
   {
    "duration": 21,
    "start_time": "2024-06-13T17:58:55.387Z"
   },
   {
    "duration": 20,
    "start_time": "2024-06-13T17:59:12.835Z"
   },
   {
    "duration": 65,
    "start_time": "2024-06-13T17:59:43.458Z"
   },
   {
    "duration": 90,
    "start_time": "2024-06-13T17:59:52.708Z"
   },
   {
    "duration": 27,
    "start_time": "2024-06-13T18:00:01.340Z"
   },
   {
    "duration": 17,
    "start_time": "2024-06-13T18:01:10.248Z"
   },
   {
    "duration": 54,
    "start_time": "2024-06-13T18:01:28.082Z"
   },
   {
    "duration": 22,
    "start_time": "2024-06-13T18:01:40.605Z"
   },
   {
    "duration": 69,
    "start_time": "2024-06-13T18:01:58.587Z"
   },
   {
    "duration": 17,
    "start_time": "2024-06-13T18:02:05.061Z"
   },
   {
    "duration": 1556,
    "start_time": "2024-06-13T18:06:08.361Z"
   },
   {
    "duration": 408,
    "start_time": "2024-06-13T18:06:09.921Z"
   },
   {
    "duration": 18,
    "start_time": "2024-06-13T18:06:10.332Z"
   },
   {
    "duration": 20,
    "start_time": "2024-06-13T18:06:10.354Z"
   },
   {
    "duration": 92,
    "start_time": "2024-06-13T18:06:10.378Z"
   },
   {
    "duration": 18,
    "start_time": "2024-06-13T18:06:10.473Z"
   },
   {
    "duration": 43,
    "start_time": "2024-06-13T18:06:10.494Z"
   },
   {
    "duration": 57,
    "start_time": "2024-06-13T18:06:10.540Z"
   },
   {
    "duration": 42,
    "start_time": "2024-06-13T18:06:10.600Z"
   },
   {
    "duration": 63,
    "start_time": "2024-06-13T18:06:10.645Z"
   },
   {
    "duration": 36,
    "start_time": "2024-06-13T18:06:10.711Z"
   },
   {
    "duration": 23,
    "start_time": "2024-06-13T18:10:09.636Z"
   },
   {
    "duration": 21,
    "start_time": "2024-06-13T18:10:31.866Z"
   },
   {
    "duration": 20,
    "start_time": "2024-06-13T18:10:46.498Z"
   },
   {
    "duration": 7,
    "start_time": "2024-06-13T18:15:05.682Z"
   },
   {
    "duration": 8,
    "start_time": "2024-06-13T18:20:42.579Z"
   },
   {
    "duration": 1855,
    "start_time": "2024-06-13T18:20:51.672Z"
   },
   {
    "duration": 1571,
    "start_time": "2024-06-13T18:21:18.674Z"
   },
   {
    "duration": 371,
    "start_time": "2024-06-13T18:21:20.249Z"
   },
   {
    "duration": 23,
    "start_time": "2024-06-13T18:21:20.623Z"
   },
   {
    "duration": 22,
    "start_time": "2024-06-13T18:21:20.649Z"
   },
   {
    "duration": 87,
    "start_time": "2024-06-13T18:21:20.676Z"
   },
   {
    "duration": 17,
    "start_time": "2024-06-13T18:21:20.766Z"
   },
   {
    "duration": 20,
    "start_time": "2024-06-13T18:21:20.786Z"
   },
   {
    "duration": 17,
    "start_time": "2024-06-13T18:21:20.834Z"
   },
   {
    "duration": 79,
    "start_time": "2024-06-13T18:21:20.854Z"
   },
   {
    "duration": 19,
    "start_time": "2024-06-13T18:21:20.937Z"
   },
   {
    "duration": 85,
    "start_time": "2024-06-13T18:21:20.958Z"
   },
   {
    "duration": 17,
    "start_time": "2024-06-13T18:21:21.046Z"
   },
   {
    "duration": 14,
    "start_time": "2024-06-13T18:21:21.068Z"
   },
   {
    "duration": 53,
    "start_time": "2024-06-13T18:21:21.088Z"
   },
   {
    "duration": 20,
    "start_time": "2024-06-13T18:21:21.144Z"
   },
   {
    "duration": 1877,
    "start_time": "2024-06-13T18:21:21.167Z"
   },
   {
    "duration": 71,
    "start_time": "2024-06-13T18:21:27.003Z"
   },
   {
    "duration": 1605,
    "start_time": "2024-06-13T18:21:44.032Z"
   },
   {
    "duration": 381,
    "start_time": "2024-06-13T18:21:45.641Z"
   },
   {
    "duration": 21,
    "start_time": "2024-06-13T18:21:46.027Z"
   },
   {
    "duration": 20,
    "start_time": "2024-06-13T18:21:46.052Z"
   },
   {
    "duration": 92,
    "start_time": "2024-06-13T18:21:46.075Z"
   },
   {
    "duration": 18,
    "start_time": "2024-06-13T18:21:46.170Z"
   },
   {
    "duration": 42,
    "start_time": "2024-06-13T18:21:46.192Z"
   },
   {
    "duration": 17,
    "start_time": "2024-06-13T18:21:46.236Z"
   },
   {
    "duration": 78,
    "start_time": "2024-06-13T18:21:46.256Z"
   },
   {
    "duration": 18,
    "start_time": "2024-06-13T18:21:46.340Z"
   },
   {
    "duration": 85,
    "start_time": "2024-06-13T18:21:46.361Z"
   },
   {
    "duration": 17,
    "start_time": "2024-06-13T18:21:46.450Z"
   },
   {
    "duration": 14,
    "start_time": "2024-06-13T18:21:46.470Z"
   },
   {
    "duration": 54,
    "start_time": "2024-06-13T18:21:46.486Z"
   },
   {
    "duration": 22,
    "start_time": "2024-06-13T18:21:46.543Z"
   },
   {
    "duration": 6,
    "start_time": "2024-06-13T18:21:46.568Z"
   },
   {
    "duration": 22,
    "start_time": "2024-06-13T18:22:14.209Z"
   },
   {
    "duration": 21,
    "start_time": "2024-06-13T18:22:26.372Z"
   },
   {
    "duration": 1769,
    "start_time": "2024-06-13T18:22:32.742Z"
   },
   {
    "duration": 464,
    "start_time": "2024-06-13T18:22:34.516Z"
   },
   {
    "duration": 23,
    "start_time": "2024-06-13T18:22:34.984Z"
   },
   {
    "duration": 45,
    "start_time": "2024-06-13T18:22:35.012Z"
   },
   {
    "duration": 101,
    "start_time": "2024-06-13T18:22:35.062Z"
   },
   {
    "duration": 26,
    "start_time": "2024-06-13T18:22:35.166Z"
   },
   {
    "duration": 44,
    "start_time": "2024-06-13T18:22:35.196Z"
   },
   {
    "duration": 20,
    "start_time": "2024-06-13T18:22:35.243Z"
   },
   {
    "duration": 88,
    "start_time": "2024-06-13T18:22:35.266Z"
   },
   {
    "duration": 23,
    "start_time": "2024-06-13T18:22:35.359Z"
   },
   {
    "duration": 46,
    "start_time": "2024-06-13T18:22:35.389Z"
   },
   {
    "duration": 65,
    "start_time": "2024-06-13T18:22:35.438Z"
   },
   {
    "duration": 36,
    "start_time": "2024-06-13T18:22:35.507Z"
   },
   {
    "duration": 21,
    "start_time": "2024-06-13T18:22:35.546Z"
   },
   {
    "duration": 15,
    "start_time": "2024-06-13T18:22:35.570Z"
   },
   {
    "duration": 47,
    "start_time": "2024-06-13T18:22:35.589Z"
   },
   {
    "duration": 17,
    "start_time": "2024-06-13T18:22:35.639Z"
   },
   {
    "duration": 7,
    "start_time": "2024-06-13T18:22:35.659Z"
   },
   {
    "duration": 7,
    "start_time": "2024-06-13T18:25:01.289Z"
   },
   {
    "duration": 5,
    "start_time": "2024-06-13T18:26:12.582Z"
   },
   {
    "duration": 7,
    "start_time": "2024-06-13T18:26:52.729Z"
   },
   {
    "duration": 6,
    "start_time": "2024-06-13T18:27:01.630Z"
   },
   {
    "duration": 8,
    "start_time": "2024-06-13T18:27:30.120Z"
   },
   {
    "duration": 6,
    "start_time": "2024-06-13T18:27:42.001Z"
   },
   {
    "duration": 5,
    "start_time": "2024-06-13T18:37:39.999Z"
   },
   {
    "duration": 1624,
    "start_time": "2024-06-13T18:37:46.167Z"
   },
   {
    "duration": 406,
    "start_time": "2024-06-13T18:37:47.795Z"
   },
   {
    "duration": 33,
    "start_time": "2024-06-13T18:37:48.205Z"
   },
   {
    "duration": 25,
    "start_time": "2024-06-13T18:37:48.242Z"
   },
   {
    "duration": 94,
    "start_time": "2024-06-13T18:37:48.272Z"
   },
   {
    "duration": 21,
    "start_time": "2024-06-13T18:37:48.369Z"
   },
   {
    "duration": 44,
    "start_time": "2024-06-13T18:37:48.393Z"
   },
   {
    "duration": 19,
    "start_time": "2024-06-13T18:37:48.440Z"
   },
   {
    "duration": 105,
    "start_time": "2024-06-13T18:37:48.462Z"
   },
   {
    "duration": 23,
    "start_time": "2024-06-13T18:37:48.570Z"
   },
   {
    "duration": 44,
    "start_time": "2024-06-13T18:37:48.596Z"
   },
   {
    "duration": 95,
    "start_time": "2024-06-13T18:37:48.643Z"
   },
   {
    "duration": 18,
    "start_time": "2024-06-13T18:37:48.742Z"
   },
   {
    "duration": 22,
    "start_time": "2024-06-13T18:37:48.767Z"
   },
   {
    "duration": 49,
    "start_time": "2024-06-13T18:37:48.793Z"
   },
   {
    "duration": 14,
    "start_time": "2024-06-13T18:37:48.845Z"
   },
   {
    "duration": 15,
    "start_time": "2024-06-13T18:37:48.862Z"
   },
   {
    "duration": 9,
    "start_time": "2024-06-13T18:37:48.880Z"
   },
   {
    "duration": 5,
    "start_time": "2024-06-13T18:37:48.932Z"
   },
   {
    "duration": 9,
    "start_time": "2024-06-13T18:37:48.942Z"
   },
   {
    "duration": 6,
    "start_time": "2024-06-13T18:37:48.956Z"
   },
   {
    "duration": 9,
    "start_time": "2024-06-13T18:37:48.967Z"
   },
   {
    "duration": 53,
    "start_time": "2024-06-13T18:37:48.980Z"
   },
   {
    "duration": 16,
    "start_time": "2024-06-13T18:42:49.678Z"
   },
   {
    "duration": 554,
    "start_time": "2024-06-13T18:46:07.552Z"
   },
   {
    "duration": 1596,
    "start_time": "2024-06-13T18:46:14.328Z"
   },
   {
    "duration": 372,
    "start_time": "2024-06-13T18:46:15.928Z"
   },
   {
    "duration": 30,
    "start_time": "2024-06-13T18:46:16.303Z"
   },
   {
    "duration": 23,
    "start_time": "2024-06-13T18:46:16.335Z"
   },
   {
    "duration": 90,
    "start_time": "2024-06-13T18:46:16.361Z"
   },
   {
    "duration": 20,
    "start_time": "2024-06-13T18:46:16.453Z"
   },
   {
    "duration": 19,
    "start_time": "2024-06-13T18:46:16.476Z"
   },
   {
    "duration": 18,
    "start_time": "2024-06-13T18:46:16.533Z"
   },
   {
    "duration": 93,
    "start_time": "2024-06-13T18:46:16.554Z"
   },
   {
    "duration": 19,
    "start_time": "2024-06-13T18:46:16.650Z"
   },
   {
    "duration": 19,
    "start_time": "2024-06-13T18:46:16.672Z"
   },
   {
    "duration": 90,
    "start_time": "2024-06-13T18:46:16.695Z"
   },
   {
    "duration": 18,
    "start_time": "2024-06-13T18:46:16.788Z"
   },
   {
    "duration": 17,
    "start_time": "2024-06-13T18:46:16.833Z"
   },
   {
    "duration": 13,
    "start_time": "2024-06-13T18:46:16.853Z"
   },
   {
    "duration": 14,
    "start_time": "2024-06-13T18:46:16.869Z"
   },
   {
    "duration": 51,
    "start_time": "2024-06-13T18:46:16.886Z"
   },
   {
    "duration": 10,
    "start_time": "2024-06-13T18:46:16.940Z"
   },
   {
    "duration": 5,
    "start_time": "2024-06-13T18:46:16.953Z"
   },
   {
    "duration": 9,
    "start_time": "2024-06-13T18:46:16.961Z"
   },
   {
    "duration": 5,
    "start_time": "2024-06-13T18:46:16.973Z"
   },
   {
    "duration": 52,
    "start_time": "2024-06-13T18:46:16.981Z"
   },
   {
    "duration": 6,
    "start_time": "2024-06-13T18:46:17.036Z"
   },
   {
    "duration": 22,
    "start_time": "2024-06-13T18:46:17.045Z"
   },
   {
    "duration": 22,
    "start_time": "2024-06-13T18:46:51.720Z"
   },
   {
    "duration": 5,
    "start_time": "2024-06-13T18:47:53.035Z"
   },
   {
    "duration": 19,
    "start_time": "2024-06-13T18:48:33.556Z"
   },
   {
    "duration": 16,
    "start_time": "2024-06-13T18:50:41.994Z"
   },
   {
    "duration": 19,
    "start_time": "2024-06-13T18:52:07.044Z"
   },
   {
    "duration": 510,
    "start_time": "2024-06-13T18:52:36.091Z"
   },
   {
    "duration": 17,
    "start_time": "2024-06-13T18:52:47.307Z"
   },
   {
    "duration": 17,
    "start_time": "2024-06-13T18:52:54.993Z"
   },
   {
    "duration": 7,
    "start_time": "2024-06-13T18:58:44.142Z"
   },
   {
    "duration": 24,
    "start_time": "2024-06-13T18:58:53.647Z"
   },
   {
    "duration": 5,
    "start_time": "2024-06-13T18:59:06.352Z"
   },
   {
    "duration": 18,
    "start_time": "2024-06-13T18:59:35.976Z"
   },
   {
    "duration": 19,
    "start_time": "2024-06-13T19:00:14.100Z"
   },
   {
    "duration": 15,
    "start_time": "2024-06-13T19:00:58.122Z"
   },
   {
    "duration": 15,
    "start_time": "2024-06-13T19:01:53.039Z"
   },
   {
    "duration": 5257,
    "start_time": "2024-06-13T19:39:13.703Z"
   },
   {
    "duration": 512,
    "start_time": "2024-06-13T19:39:18.963Z"
   },
   {
    "duration": 20,
    "start_time": "2024-06-13T19:39:19.477Z"
   },
   {
    "duration": 29,
    "start_time": "2024-06-13T19:39:19.502Z"
   },
   {
    "duration": 80,
    "start_time": "2024-06-13T19:39:19.534Z"
   },
   {
    "duration": 22,
    "start_time": "2024-06-13T19:39:19.617Z"
   },
   {
    "duration": 21,
    "start_time": "2024-06-13T19:39:19.643Z"
   },
   {
    "duration": 49,
    "start_time": "2024-06-13T19:39:19.667Z"
   },
   {
    "duration": 55,
    "start_time": "2024-06-13T19:39:19.719Z"
   },
   {
    "duration": 43,
    "start_time": "2024-06-13T19:39:19.780Z"
   },
   {
    "duration": 21,
    "start_time": "2024-06-13T19:39:19.826Z"
   },
   {
    "duration": 100,
    "start_time": "2024-06-13T19:39:19.851Z"
   },
   {
    "duration": 17,
    "start_time": "2024-06-13T19:39:19.955Z"
   },
   {
    "duration": 38,
    "start_time": "2024-06-13T19:39:19.975Z"
   },
   {
    "duration": 13,
    "start_time": "2024-06-13T19:39:20.016Z"
   },
   {
    "duration": 14,
    "start_time": "2024-06-13T19:39:20.032Z"
   },
   {
    "duration": 16,
    "start_time": "2024-06-13T19:39:20.050Z"
   },
   {
    "duration": 45,
    "start_time": "2024-06-13T19:39:20.068Z"
   },
   {
    "duration": 5,
    "start_time": "2024-06-13T19:39:20.116Z"
   },
   {
    "duration": 8,
    "start_time": "2024-06-13T19:39:20.124Z"
   },
   {
    "duration": 6,
    "start_time": "2024-06-13T19:39:20.135Z"
   },
   {
    "duration": 8,
    "start_time": "2024-06-13T19:39:20.144Z"
   },
   {
    "duration": 58,
    "start_time": "2024-06-13T19:39:20.155Z"
   },
   {
    "duration": 102,
    "start_time": "2024-06-13T19:39:20.216Z"
   },
   {
    "duration": 97,
    "start_time": "2024-06-13T19:39:20.325Z"
   },
   {
    "duration": 88,
    "start_time": "2024-06-13T19:39:20.425Z"
   },
   {
    "duration": 1590,
    "start_time": "2024-06-13T20:26:13.105Z"
   },
   {
    "duration": 381,
    "start_time": "2024-06-13T20:26:14.699Z"
   },
   {
    "duration": 29,
    "start_time": "2024-06-13T20:26:15.083Z"
   },
   {
    "duration": 21,
    "start_time": "2024-06-13T20:26:15.117Z"
   },
   {
    "duration": 82,
    "start_time": "2024-06-13T20:26:15.141Z"
   },
   {
    "duration": 20,
    "start_time": "2024-06-13T20:26:15.226Z"
   },
   {
    "duration": 18,
    "start_time": "2024-06-13T20:26:15.249Z"
   },
   {
    "duration": 49,
    "start_time": "2024-06-13T20:26:15.270Z"
   },
   {
    "duration": 56,
    "start_time": "2024-06-13T20:26:15.322Z"
   },
   {
    "duration": 41,
    "start_time": "2024-06-13T20:26:15.386Z"
   },
   {
    "duration": 32,
    "start_time": "2024-06-13T20:26:15.431Z"
   },
   {
    "duration": 79,
    "start_time": "2024-06-13T20:26:15.466Z"
   },
   {
    "duration": 18,
    "start_time": "2024-06-13T20:26:15.548Z"
   },
   {
    "duration": 43,
    "start_time": "2024-06-13T20:26:15.569Z"
   },
   {
    "duration": 17,
    "start_time": "2024-06-13T20:26:15.616Z"
   },
   {
    "duration": 14,
    "start_time": "2024-06-13T20:26:15.636Z"
   },
   {
    "duration": 15,
    "start_time": "2024-06-13T20:26:15.653Z"
   },
   {
    "duration": 45,
    "start_time": "2024-06-13T20:26:15.671Z"
   },
   {
    "duration": 6,
    "start_time": "2024-06-13T20:26:15.719Z"
   },
   {
    "duration": 7,
    "start_time": "2024-06-13T20:26:15.728Z"
   },
   {
    "duration": 5,
    "start_time": "2024-06-13T20:26:15.739Z"
   },
   {
    "duration": 9,
    "start_time": "2024-06-13T20:26:15.747Z"
   },
   {
    "duration": 54,
    "start_time": "2024-06-13T20:26:15.760Z"
   },
   {
    "duration": 23,
    "start_time": "2024-06-13T20:26:15.817Z"
   },
   {
    "duration": 80,
    "start_time": "2024-06-13T20:26:15.842Z"
   },
   {
    "duration": 90,
    "start_time": "2024-06-13T20:26:15.926Z"
   },
   {
    "duration": 31,
    "start_time": "2024-06-13T20:27:02.063Z"
   },
   {
    "duration": 26,
    "start_time": "2024-06-13T20:27:23.708Z"
   },
   {
    "duration": 4,
    "start_time": "2024-06-13T20:55:03.629Z"
   },
   {
    "duration": 4,
    "start_time": "2024-06-13T21:01:50.350Z"
   },
   {
    "duration": 410,
    "start_time": "2024-06-13T21:02:00.175Z"
   },
   {
    "duration": 4,
    "start_time": "2024-06-13T21:02:09.281Z"
   },
   {
    "duration": 5,
    "start_time": "2024-06-13T21:02:20.030Z"
   },
   {
    "duration": 4,
    "start_time": "2024-06-13T21:02:35.067Z"
   },
   {
    "duration": 5,
    "start_time": "2024-06-13T21:02:37.762Z"
   },
   {
    "duration": 5,
    "start_time": "2024-06-13T21:03:23.790Z"
   },
   {
    "duration": 5,
    "start_time": "2024-06-13T21:06:26.396Z"
   },
   {
    "duration": 4,
    "start_time": "2024-06-13T21:11:04.024Z"
   },
   {
    "duration": 6,
    "start_time": "2024-06-13T21:14:22.163Z"
   },
   {
    "duration": 8,
    "start_time": "2024-06-13T21:14:27.776Z"
   },
   {
    "duration": 6,
    "start_time": "2024-06-13T21:14:30.971Z"
   },
   {
    "duration": 5,
    "start_time": "2024-06-13T21:15:36.300Z"
   },
   {
    "duration": 5201,
    "start_time": "2024-06-14T19:09:37.500Z"
   },
   {
    "duration": 489,
    "start_time": "2024-06-14T19:09:42.706Z"
   },
   {
    "duration": 25,
    "start_time": "2024-06-14T19:09:43.198Z"
   },
   {
    "duration": 21,
    "start_time": "2024-06-14T19:09:43.228Z"
   },
   {
    "duration": 90,
    "start_time": "2024-06-14T19:09:43.252Z"
   },
   {
    "duration": 21,
    "start_time": "2024-06-14T19:09:43.345Z"
   },
   {
    "duration": 40,
    "start_time": "2024-06-14T19:09:43.368Z"
   },
   {
    "duration": 17,
    "start_time": "2024-06-14T19:09:43.410Z"
   },
   {
    "duration": 76,
    "start_time": "2024-06-14T19:09:43.430Z"
   },
   {
    "duration": 18,
    "start_time": "2024-06-14T19:09:43.512Z"
   },
   {
    "duration": 18,
    "start_time": "2024-06-14T19:09:43.534Z"
   },
   {
    "duration": 90,
    "start_time": "2024-06-14T19:09:43.555Z"
   },
   {
    "duration": 18,
    "start_time": "2024-06-14T19:09:43.648Z"
   },
   {
    "duration": 43,
    "start_time": "2024-06-14T19:09:43.669Z"
   },
   {
    "duration": 15,
    "start_time": "2024-06-14T19:09:43.715Z"
   },
   {
    "duration": 13,
    "start_time": "2024-06-14T19:09:43.732Z"
   },
   {
    "duration": 15,
    "start_time": "2024-06-14T19:09:43.748Z"
   },
   {
    "duration": 41,
    "start_time": "2024-06-14T19:09:43.765Z"
   },
   {
    "duration": 5,
    "start_time": "2024-06-14T19:09:43.809Z"
   },
   {
    "duration": 8,
    "start_time": "2024-06-14T19:09:43.817Z"
   },
   {
    "duration": 6,
    "start_time": "2024-06-14T19:09:43.827Z"
   },
   {
    "duration": 8,
    "start_time": "2024-06-14T19:09:43.836Z"
   },
   {
    "duration": 6,
    "start_time": "2024-06-14T19:09:43.847Z"
   },
   {
    "duration": 33,
    "start_time": "2024-06-14T19:09:43.905Z"
   },
   {
    "duration": 16,
    "start_time": "2024-06-14T19:09:44.008Z"
   },
   {
    "duration": 88,
    "start_time": "2024-06-14T19:09:44.027Z"
   },
   {
    "duration": 94,
    "start_time": "2024-06-14T19:09:44.118Z"
   },
   {
    "duration": 4,
    "start_time": "2024-06-14T19:09:44.219Z"
   },
   {
    "duration": 82,
    "start_time": "2024-06-14T19:09:44.227Z"
   },
   {
    "duration": 5,
    "start_time": "2024-06-14T19:09:44.313Z"
   },
   {
    "duration": 5,
    "start_time": "2024-06-14T19:09:44.323Z"
   },
   {
    "duration": 493,
    "start_time": "2024-06-14T19:16:17.504Z"
   },
   {
    "duration": 33,
    "start_time": "2024-06-14T19:16:30.526Z"
   },
   {
    "duration": 23,
    "start_time": "2024-06-14T19:17:08.333Z"
   },
   {
    "duration": 19,
    "start_time": "2024-06-14T19:18:19.474Z"
   },
   {
    "duration": 33,
    "start_time": "2024-06-14T19:18:23.737Z"
   },
   {
    "duration": 19,
    "start_time": "2024-06-14T19:18:58.026Z"
   },
   {
    "duration": 40,
    "start_time": "2024-06-14T19:19:04.221Z"
   },
   {
    "duration": 45,
    "start_time": "2024-06-14T19:19:12.268Z"
   },
   {
    "duration": 39,
    "start_time": "2024-06-14T19:19:16.470Z"
   },
   {
    "duration": 23,
    "start_time": "2024-06-14T19:19:20.130Z"
   },
   {
    "duration": 40,
    "start_time": "2024-06-14T19:19:30.281Z"
   },
   {
    "duration": 38,
    "start_time": "2024-06-14T19:20:32.032Z"
   },
   {
    "duration": 38,
    "start_time": "2024-06-14T19:20:35.011Z"
   },
   {
    "duration": 41,
    "start_time": "2024-06-14T19:21:05.248Z"
   },
   {
    "duration": 41,
    "start_time": "2024-06-14T19:21:20.515Z"
   },
   {
    "duration": 39,
    "start_time": "2024-06-14T19:21:28.911Z"
   },
   {
    "duration": 5,
    "start_time": "2024-06-14T19:22:36.907Z"
   },
   {
    "duration": 20,
    "start_time": "2024-06-14T19:22:54.699Z"
   },
   {
    "duration": 19,
    "start_time": "2024-06-14T19:23:37.397Z"
   },
   {
    "duration": 19,
    "start_time": "2024-06-14T19:25:02.719Z"
   },
   {
    "duration": 6,
    "start_time": "2024-06-14T19:25:22.252Z"
   },
   {
    "duration": 26,
    "start_time": "2024-06-14T19:25:28.201Z"
   },
   {
    "duration": 1550,
    "start_time": "2024-06-14T19:25:46.126Z"
   },
   {
    "duration": 398,
    "start_time": "2024-06-14T19:25:47.679Z"
   },
   {
    "duration": 27,
    "start_time": "2024-06-14T19:25:48.079Z"
   },
   {
    "duration": 27,
    "start_time": "2024-06-14T19:25:48.110Z"
   },
   {
    "duration": 91,
    "start_time": "2024-06-14T19:25:48.142Z"
   },
   {
    "duration": 20,
    "start_time": "2024-06-14T19:25:48.236Z"
   },
   {
    "duration": 18,
    "start_time": "2024-06-14T19:25:48.259Z"
   },
   {
    "duration": 21,
    "start_time": "2024-06-14T19:25:48.307Z"
   },
   {
    "duration": 75,
    "start_time": "2024-06-14T19:25:48.331Z"
   },
   {
    "duration": 22,
    "start_time": "2024-06-14T19:25:48.409Z"
   },
   {
    "duration": 17,
    "start_time": "2024-06-14T19:25:48.434Z"
   },
   {
    "duration": 93,
    "start_time": "2024-06-14T19:25:48.456Z"
   },
   {
    "duration": 18,
    "start_time": "2024-06-14T19:25:48.552Z"
   },
   {
    "duration": 39,
    "start_time": "2024-06-14T19:25:48.577Z"
   },
   {
    "duration": 13,
    "start_time": "2024-06-14T19:25:48.621Z"
   },
   {
    "duration": 14,
    "start_time": "2024-06-14T19:25:48.636Z"
   },
   {
    "duration": 15,
    "start_time": "2024-06-14T19:25:48.653Z"
   },
   {
    "duration": 10,
    "start_time": "2024-06-14T19:25:48.706Z"
   },
   {
    "duration": 6,
    "start_time": "2024-06-14T19:25:48.719Z"
   },
   {
    "duration": 8,
    "start_time": "2024-06-14T19:25:48.728Z"
   },
   {
    "duration": 6,
    "start_time": "2024-06-14T19:25:48.739Z"
   },
   {
    "duration": 8,
    "start_time": "2024-06-14T19:25:48.748Z"
   },
   {
    "duration": 5,
    "start_time": "2024-06-14T19:25:48.806Z"
   },
   {
    "duration": 24,
    "start_time": "2024-06-14T19:25:48.814Z"
   },
   {
    "duration": 78,
    "start_time": "2024-06-14T19:25:48.841Z"
   },
   {
    "duration": 97,
    "start_time": "2024-06-14T19:25:48.924Z"
   },
   {
    "duration": 179,
    "start_time": "2024-06-14T19:25:49.031Z"
   },
   {
    "duration": 6,
    "start_time": "2024-06-14T19:25:49.214Z"
   },
   {
    "duration": 6,
    "start_time": "2024-06-14T19:25:49.223Z"
   },
   {
    "duration": 5,
    "start_time": "2024-06-14T19:25:49.232Z"
   },
   {
    "duration": 7,
    "start_time": "2024-06-14T19:25:49.240Z"
   },
   {
    "duration": 68,
    "start_time": "2024-06-14T19:25:49.251Z"
   },
   {
    "duration": 7,
    "start_time": "2024-06-14T19:25:49.321Z"
   },
   {
    "duration": 19,
    "start_time": "2024-06-14T19:25:49.332Z"
   },
   {
    "duration": 20,
    "start_time": "2024-06-14T19:25:49.354Z"
   },
   {
    "duration": 411,
    "start_time": "2024-06-14T19:27:42.698Z"
   },
   {
    "duration": 5304,
    "start_time": "2024-06-14T20:07:37.744Z"
   },
   {
    "duration": 530,
    "start_time": "2024-06-14T20:07:43.052Z"
   },
   {
    "duration": 21,
    "start_time": "2024-06-14T20:07:43.585Z"
   },
   {
    "duration": 21,
    "start_time": "2024-06-14T20:07:43.625Z"
   },
   {
    "duration": 85,
    "start_time": "2024-06-14T20:07:43.650Z"
   },
   {
    "duration": 22,
    "start_time": "2024-06-14T20:07:43.738Z"
   },
   {
    "duration": 20,
    "start_time": "2024-06-14T20:07:43.763Z"
   },
   {
    "duration": 53,
    "start_time": "2024-06-14T20:07:43.786Z"
   },
   {
    "duration": 81,
    "start_time": "2024-06-14T20:07:43.842Z"
   },
   {
    "duration": 19,
    "start_time": "2024-06-14T20:07:43.930Z"
   },
   {
    "duration": 19,
    "start_time": "2024-06-14T20:07:43.953Z"
   },
   {
    "duration": 97,
    "start_time": "2024-06-14T20:07:43.975Z"
   },
   {
    "duration": 19,
    "start_time": "2024-06-14T20:07:44.075Z"
   },
   {
    "duration": 39,
    "start_time": "2024-06-14T20:07:44.097Z"
   },
   {
    "duration": 14,
    "start_time": "2024-06-14T20:07:44.140Z"
   },
   {
    "duration": 15,
    "start_time": "2024-06-14T20:07:44.157Z"
   },
   {
    "duration": 56,
    "start_time": "2024-06-14T20:07:44.176Z"
   },
   {
    "duration": 8,
    "start_time": "2024-06-14T20:07:44.235Z"
   },
   {
    "duration": 9,
    "start_time": "2024-06-14T20:07:44.246Z"
   },
   {
    "duration": 9,
    "start_time": "2024-06-14T20:07:44.258Z"
   },
   {
    "duration": 5,
    "start_time": "2024-06-14T20:07:44.270Z"
   },
   {
    "duration": 50,
    "start_time": "2024-06-14T20:07:44.279Z"
   },
   {
    "duration": 6,
    "start_time": "2024-06-14T20:07:44.332Z"
   },
   {
    "duration": 82,
    "start_time": "2024-06-14T20:07:44.341Z"
   },
   {
    "duration": 99,
    "start_time": "2024-06-14T20:07:44.426Z"
   },
   {
    "duration": 18,
    "start_time": "2024-06-14T20:07:44.529Z"
   },
   {
    "duration": 111,
    "start_time": "2024-06-14T20:07:44.624Z"
   },
   {
    "duration": 3,
    "start_time": "2024-06-14T20:07:44.742Z"
   },
   {
    "duration": 6,
    "start_time": "2024-06-14T20:07:44.749Z"
   },
   {
    "duration": 5,
    "start_time": "2024-06-14T20:07:44.758Z"
   },
   {
    "duration": 7,
    "start_time": "2024-06-14T20:07:44.765Z"
   },
   {
    "duration": 21,
    "start_time": "2024-06-14T20:07:44.822Z"
   },
   {
    "duration": 20,
    "start_time": "2024-06-14T20:07:44.847Z"
   },
   {
    "duration": 21,
    "start_time": "2024-06-14T20:07:44.870Z"
   },
   {
    "duration": 10,
    "start_time": "2024-06-14T20:11:31.385Z"
   },
   {
    "duration": 756,
    "start_time": "2024-06-14T20:18:32.034Z"
   },
   {
    "duration": 5,
    "start_time": "2024-06-14T20:19:56.708Z"
   },
   {
    "duration": 312,
    "start_time": "2024-06-14T20:20:00.770Z"
   },
   {
    "duration": 5,
    "start_time": "2024-06-14T20:21:12.898Z"
   },
   {
    "duration": 148,
    "start_time": "2024-06-14T20:21:16.732Z"
   },
   {
    "duration": 5,
    "start_time": "2024-06-14T20:22:17.039Z"
   },
   {
    "duration": 10,
    "start_time": "2024-06-14T20:22:20.005Z"
   },
   {
    "duration": 8,
    "start_time": "2024-06-14T20:23:24.977Z"
   },
   {
    "duration": 6,
    "start_time": "2024-06-14T20:24:40.262Z"
   },
   {
    "duration": 13,
    "start_time": "2024-06-14T20:25:17.207Z"
   },
   {
    "duration": 11,
    "start_time": "2024-06-14T20:25:55.832Z"
   },
   {
    "duration": 1609,
    "start_time": "2024-06-14T20:26:24.728Z"
   },
   {
    "duration": 406,
    "start_time": "2024-06-14T20:26:26.341Z"
   },
   {
    "duration": 22,
    "start_time": "2024-06-14T20:26:26.751Z"
   },
   {
    "duration": 54,
    "start_time": "2024-06-14T20:26:26.777Z"
   },
   {
    "duration": 64,
    "start_time": "2024-06-14T20:26:26.836Z"
   },
   {
    "duration": 33,
    "start_time": "2024-06-14T20:26:26.902Z"
   },
   {
    "duration": 18,
    "start_time": "2024-06-14T20:26:26.938Z"
   },
   {
    "duration": 19,
    "start_time": "2024-06-14T20:26:26.959Z"
   },
   {
    "duration": 59,
    "start_time": "2024-06-14T20:26:27.022Z"
   },
   {
    "duration": 41,
    "start_time": "2024-06-14T20:26:27.084Z"
   },
   {
    "duration": 18,
    "start_time": "2024-06-14T20:26:27.128Z"
   },
   {
    "duration": 92,
    "start_time": "2024-06-14T20:26:27.149Z"
   },
   {
    "duration": 17,
    "start_time": "2024-06-14T20:26:27.245Z"
   },
   {
    "duration": 19,
    "start_time": "2024-06-14T20:26:27.269Z"
   },
   {
    "duration": 43,
    "start_time": "2024-06-14T20:26:27.291Z"
   },
   {
    "duration": 16,
    "start_time": "2024-06-14T20:26:27.337Z"
   },
   {
    "duration": 22,
    "start_time": "2024-06-14T20:26:27.356Z"
   },
   {
    "duration": 42,
    "start_time": "2024-06-14T20:26:27.381Z"
   },
   {
    "duration": 6,
    "start_time": "2024-06-14T20:26:27.425Z"
   },
   {
    "duration": 9,
    "start_time": "2024-06-14T20:26:27.435Z"
   },
   {
    "duration": 5,
    "start_time": "2024-06-14T20:26:27.447Z"
   },
   {
    "duration": 10,
    "start_time": "2024-06-14T20:26:27.455Z"
   },
   {
    "duration": 5,
    "start_time": "2024-06-14T20:26:27.468Z"
   },
   {
    "duration": 23,
    "start_time": "2024-06-14T20:26:27.524Z"
   },
   {
    "duration": 83,
    "start_time": "2024-06-14T20:26:27.550Z"
   },
   {
    "duration": 97,
    "start_time": "2024-06-14T20:26:27.636Z"
   },
   {
    "duration": 101,
    "start_time": "2024-06-14T20:26:27.735Z"
   },
   {
    "duration": 4,
    "start_time": "2024-06-14T20:26:27.839Z"
   },
   {
    "duration": 77,
    "start_time": "2024-06-14T20:26:27.846Z"
   },
   {
    "duration": 6,
    "start_time": "2024-06-14T20:26:27.928Z"
   },
   {
    "duration": 5,
    "start_time": "2024-06-14T20:26:27.938Z"
   },
   {
    "duration": 20,
    "start_time": "2024-06-14T20:26:27.947Z"
   },
   {
    "duration": 64,
    "start_time": "2024-06-14T20:26:27.971Z"
   },
   {
    "duration": 20,
    "start_time": "2024-06-14T20:26:28.039Z"
   },
   {
    "duration": 5,
    "start_time": "2024-06-14T20:26:28.063Z"
   },
   {
    "duration": 11,
    "start_time": "2024-06-14T20:26:28.071Z"
   },
   {
    "duration": 5,
    "start_time": "2024-06-14T20:27:07.612Z"
   },
   {
    "duration": 8,
    "start_time": "2024-06-14T20:27:09.855Z"
   },
   {
    "duration": 6,
    "start_time": "2024-06-14T20:27:28.243Z"
   },
   {
    "duration": 10,
    "start_time": "2024-06-14T20:27:29.580Z"
   },
   {
    "duration": 1558,
    "start_time": "2024-06-14T20:27:37.073Z"
   },
   {
    "duration": 425,
    "start_time": "2024-06-14T20:27:38.636Z"
   },
   {
    "duration": 21,
    "start_time": "2024-06-14T20:27:39.065Z"
   },
   {
    "duration": 44,
    "start_time": "2024-06-14T20:27:39.089Z"
   },
   {
    "duration": 85,
    "start_time": "2024-06-14T20:27:39.138Z"
   },
   {
    "duration": 21,
    "start_time": "2024-06-14T20:27:39.225Z"
   },
   {
    "duration": 19,
    "start_time": "2024-06-14T20:27:39.249Z"
   },
   {
    "duration": 18,
    "start_time": "2024-06-14T20:27:39.271Z"
   },
   {
    "duration": 63,
    "start_time": "2024-06-14T20:27:39.324Z"
   },
   {
    "duration": 42,
    "start_time": "2024-06-14T20:27:39.390Z"
   },
   {
    "duration": 18,
    "start_time": "2024-06-14T20:27:39.435Z"
   },
   {
    "duration": 102,
    "start_time": "2024-06-14T20:27:39.457Z"
   },
   {
    "duration": 18,
    "start_time": "2024-06-14T20:27:39.562Z"
   },
   {
    "duration": 39,
    "start_time": "2024-06-14T20:27:39.587Z"
   },
   {
    "duration": 17,
    "start_time": "2024-06-14T20:27:39.629Z"
   },
   {
    "duration": 18,
    "start_time": "2024-06-14T20:27:39.649Z"
   },
   {
    "duration": 54,
    "start_time": "2024-06-14T20:27:39.669Z"
   },
   {
    "duration": 11,
    "start_time": "2024-06-14T20:27:39.727Z"
   },
   {
    "duration": 8,
    "start_time": "2024-06-14T20:27:39.742Z"
   },
   {
    "duration": 8,
    "start_time": "2024-06-14T20:27:39.753Z"
   },
   {
    "duration": 6,
    "start_time": "2024-06-14T20:27:39.765Z"
   },
   {
    "duration": 54,
    "start_time": "2024-06-14T20:27:39.775Z"
   },
   {
    "duration": 8,
    "start_time": "2024-06-14T20:27:39.833Z"
   },
   {
    "duration": 21,
    "start_time": "2024-06-14T20:27:39.845Z"
   },
   {
    "duration": 77,
    "start_time": "2024-06-14T20:27:39.869Z"
   },
   {
    "duration": 97,
    "start_time": "2024-06-14T20:27:39.950Z"
   },
   {
    "duration": 113,
    "start_time": "2024-06-14T20:27:40.127Z"
   },
   {
    "duration": 4,
    "start_time": "2024-06-14T20:27:40.243Z"
   },
   {
    "duration": 6,
    "start_time": "2024-06-14T20:27:40.250Z"
   },
   {
    "duration": 5,
    "start_time": "2024-06-14T20:27:40.259Z"
   },
   {
    "duration": 6,
    "start_time": "2024-06-14T20:27:40.267Z"
   },
   {
    "duration": 66,
    "start_time": "2024-06-14T20:27:40.276Z"
   },
   {
    "duration": 21,
    "start_time": "2024-06-14T20:27:40.346Z"
   },
   {
    "duration": 51,
    "start_time": "2024-06-14T20:27:40.371Z"
   },
   {
    "duration": 8,
    "start_time": "2024-06-14T20:27:40.426Z"
   },
   {
    "duration": 767,
    "start_time": "2024-06-14T20:27:40.438Z"
   },
   {
    "duration": 11,
    "start_time": "2024-06-14T20:28:05.742Z"
   },
   {
    "duration": 19,
    "start_time": "2024-06-14T20:29:50.350Z"
   },
   {
    "duration": 5,
    "start_time": "2024-06-14T20:54:17.683Z"
   },
   {
    "duration": 44,
    "start_time": "2024-06-14T20:54:20.539Z"
   },
   {
    "duration": 5,
    "start_time": "2024-06-14T20:54:34.273Z"
   },
   {
    "duration": 18,
    "start_time": "2024-06-14T20:54:36.515Z"
   },
   {
    "duration": 4,
    "start_time": "2024-06-14T20:57:24.514Z"
   },
   {
    "duration": 18,
    "start_time": "2024-06-14T20:57:26.300Z"
   },
   {
    "duration": 5,
    "start_time": "2024-06-14T20:58:23.846Z"
   },
   {
    "duration": 17,
    "start_time": "2024-06-14T20:58:25.702Z"
   },
   {
    "duration": 4,
    "start_time": "2024-06-14T20:58:48.944Z"
   },
   {
    "duration": 20,
    "start_time": "2024-06-14T20:58:51.799Z"
   },
   {
    "duration": 1566,
    "start_time": "2024-06-14T21:00:10.233Z"
   },
   {
    "duration": 381,
    "start_time": "2024-06-14T21:00:11.804Z"
   },
   {
    "duration": 20,
    "start_time": "2024-06-14T21:00:12.188Z"
   },
   {
    "duration": 29,
    "start_time": "2024-06-14T21:00:12.212Z"
   },
   {
    "duration": 80,
    "start_time": "2024-06-14T21:00:12.244Z"
   },
   {
    "duration": 19,
    "start_time": "2024-06-14T21:00:12.327Z"
   },
   {
    "duration": 18,
    "start_time": "2024-06-14T21:00:12.349Z"
   },
   {
    "duration": 53,
    "start_time": "2024-06-14T21:00:12.370Z"
   },
   {
    "duration": 60,
    "start_time": "2024-06-14T21:00:12.425Z"
   },
   {
    "duration": 38,
    "start_time": "2024-06-14T21:00:12.492Z"
   },
   {
    "duration": 19,
    "start_time": "2024-06-14T21:00:12.533Z"
   },
   {
    "duration": 93,
    "start_time": "2024-06-14T21:00:12.556Z"
   },
   {
    "duration": 17,
    "start_time": "2024-06-14T21:00:12.651Z"
   },
   {
    "duration": 18,
    "start_time": "2024-06-14T21:00:12.671Z"
   },
   {
    "duration": 43,
    "start_time": "2024-06-14T21:00:12.692Z"
   },
   {
    "duration": 13,
    "start_time": "2024-06-14T21:00:12.738Z"
   },
   {
    "duration": 15,
    "start_time": "2024-06-14T21:00:12.754Z"
   },
   {
    "duration": 8,
    "start_time": "2024-06-14T21:00:12.771Z"
   },
   {
    "duration": 41,
    "start_time": "2024-06-14T21:00:12.783Z"
   },
   {
    "duration": 8,
    "start_time": "2024-06-14T21:00:12.827Z"
   },
   {
    "duration": 5,
    "start_time": "2024-06-14T21:00:12.839Z"
   },
   {
    "duration": 9,
    "start_time": "2024-06-14T21:00:12.847Z"
   },
   {
    "duration": 6,
    "start_time": "2024-06-14T21:00:12.858Z"
   },
   {
    "duration": 75,
    "start_time": "2024-06-14T21:00:12.868Z"
   },
   {
    "duration": 80,
    "start_time": "2024-06-14T21:00:12.946Z"
   },
   {
    "duration": 17,
    "start_time": "2024-06-14T21:00:13.028Z"
   },
   {
    "duration": 105,
    "start_time": "2024-06-14T21:00:13.124Z"
   },
   {
    "duration": 4,
    "start_time": "2024-06-14T21:00:13.236Z"
   },
   {
    "duration": 5,
    "start_time": "2024-06-14T21:00:13.243Z"
   },
   {
    "duration": 5,
    "start_time": "2024-06-14T21:00:13.251Z"
   },
   {
    "duration": 5,
    "start_time": "2024-06-14T21:00:13.260Z"
   },
   {
    "duration": 6,
    "start_time": "2024-06-14T21:00:13.267Z"
   },
   {
    "duration": 19,
    "start_time": "2024-06-14T21:00:13.324Z"
   },
   {
    "duration": 5,
    "start_time": "2024-06-14T21:08:15.839Z"
   },
   {
    "duration": 19,
    "start_time": "2024-06-14T21:08:17.841Z"
   },
   {
    "duration": 5,
    "start_time": "2024-06-14T21:08:48.901Z"
   },
   {
    "duration": 24,
    "start_time": "2024-06-14T21:08:52.418Z"
   },
   {
    "duration": 6,
    "start_time": "2024-06-14T21:11:26.251Z"
   },
   {
    "duration": 28,
    "start_time": "2024-06-14T21:11:29.270Z"
   },
   {
    "duration": 13,
    "start_time": "2024-06-14T21:12:36.672Z"
   },
   {
    "duration": 16,
    "start_time": "2024-06-14T21:13:30.408Z"
   },
   {
    "duration": 12,
    "start_time": "2024-06-14T21:16:26.178Z"
   },
   {
    "duration": 1569,
    "start_time": "2024-06-14T21:16:32.568Z"
   },
   {
    "duration": 379,
    "start_time": "2024-06-14T21:16:34.140Z"
   },
   {
    "duration": 20,
    "start_time": "2024-06-14T21:16:34.522Z"
   },
   {
    "duration": 22,
    "start_time": "2024-06-14T21:16:34.544Z"
   },
   {
    "duration": 92,
    "start_time": "2024-06-14T21:16:34.570Z"
   },
   {
    "duration": 25,
    "start_time": "2024-06-14T21:16:34.665Z"
   },
   {
    "duration": 40,
    "start_time": "2024-06-14T21:16:34.694Z"
   },
   {
    "duration": 19,
    "start_time": "2024-06-14T21:16:34.737Z"
   },
   {
    "duration": 93,
    "start_time": "2024-06-14T21:16:34.759Z"
   },
   {
    "duration": 19,
    "start_time": "2024-06-14T21:16:34.855Z"
   },
   {
    "duration": 19,
    "start_time": "2024-06-14T21:16:34.877Z"
   },
   {
    "duration": 81,
    "start_time": "2024-06-14T21:16:34.898Z"
   },
   {
    "duration": 40,
    "start_time": "2024-06-14T21:16:34.982Z"
   },
   {
    "duration": 18,
    "start_time": "2024-06-14T21:16:35.030Z"
   },
   {
    "duration": 14,
    "start_time": "2024-06-14T21:16:35.052Z"
   },
   {
    "duration": 15,
    "start_time": "2024-06-14T21:16:35.069Z"
   },
   {
    "duration": 15,
    "start_time": "2024-06-14T21:16:35.123Z"
   },
   {
    "duration": 8,
    "start_time": "2024-06-14T21:16:35.141Z"
   },
   {
    "duration": 5,
    "start_time": "2024-06-14T21:16:35.152Z"
   },
   {
    "duration": 8,
    "start_time": "2024-06-14T21:16:35.160Z"
   },
   {
    "duration": 6,
    "start_time": "2024-06-14T21:16:35.171Z"
   },
   {
    "duration": 9,
    "start_time": "2024-06-14T21:16:35.224Z"
   },
   {
    "duration": 5,
    "start_time": "2024-06-14T21:16:35.236Z"
   },
   {
    "duration": 26,
    "start_time": "2024-06-14T21:16:35.244Z"
   },
   {
    "duration": 17,
    "start_time": "2024-06-14T21:16:35.324Z"
   },
   {
    "duration": 88,
    "start_time": "2024-06-14T21:16:35.344Z"
   },
   {
    "duration": 105,
    "start_time": "2024-06-14T21:16:35.435Z"
   },
   {
    "duration": 79,
    "start_time": "2024-06-14T21:16:35.543Z"
   },
   {
    "duration": 6,
    "start_time": "2024-06-14T21:16:35.625Z"
   },
   {
    "duration": 4,
    "start_time": "2024-06-14T21:16:35.634Z"
   },
   {
    "duration": 6,
    "start_time": "2024-06-14T21:16:35.641Z"
   },
   {
    "duration": 7,
    "start_time": "2024-06-14T21:16:35.649Z"
   },
   {
    "duration": 14,
    "start_time": "2024-06-14T21:16:35.659Z"
   },
   {
    "duration": 5,
    "start_time": "2024-06-14T21:17:28.516Z"
   },
   {
    "duration": 13,
    "start_time": "2024-06-14T21:17:30.764Z"
   },
   {
    "duration": 4,
    "start_time": "2024-06-14T21:17:50.816Z"
   },
   {
    "duration": 14,
    "start_time": "2024-06-14T21:17:53.118Z"
   },
   {
    "duration": 17,
    "start_time": "2024-06-14T21:18:15.793Z"
   },
   {
    "duration": 4,
    "start_time": "2024-06-14T21:18:34.098Z"
   },
   {
    "duration": 18,
    "start_time": "2024-06-14T21:18:35.704Z"
   },
   {
    "duration": 6,
    "start_time": "2024-06-14T21:18:42.544Z"
   },
   {
    "duration": 17,
    "start_time": "2024-06-14T21:18:43.999Z"
   },
   {
    "duration": 5,
    "start_time": "2024-06-14T21:18:50.278Z"
   },
   {
    "duration": 5,
    "start_time": "2024-06-14T21:20:25.998Z"
   },
   {
    "duration": 694,
    "start_time": "2024-06-14T21:20:27.266Z"
   },
   {
    "duration": 5,
    "start_time": "2024-06-14T21:20:32.733Z"
   },
   {
    "duration": 105,
    "start_time": "2024-06-14T21:20:35.220Z"
   },
   {
    "duration": 5,
    "start_time": "2024-06-14T21:20:45.548Z"
   },
   {
    "duration": 19,
    "start_time": "2024-06-14T21:20:47.255Z"
   },
   {
    "duration": 5,
    "start_time": "2024-06-14T21:21:17.375Z"
   },
   {
    "duration": 1529,
    "start_time": "2024-06-14T21:21:21.859Z"
   },
   {
    "duration": 418,
    "start_time": "2024-06-14T21:21:23.392Z"
   },
   {
    "duration": 28,
    "start_time": "2024-06-14T21:21:23.816Z"
   },
   {
    "duration": 24,
    "start_time": "2024-06-14T21:21:23.848Z"
   },
   {
    "duration": 92,
    "start_time": "2024-06-14T21:21:23.875Z"
   },
   {
    "duration": 21,
    "start_time": "2024-06-14T21:21:23.970Z"
   },
   {
    "duration": 35,
    "start_time": "2024-06-14T21:21:23.994Z"
   },
   {
    "duration": 17,
    "start_time": "2024-06-14T21:21:24.033Z"
   },
   {
    "duration": 87,
    "start_time": "2024-06-14T21:21:24.052Z"
   },
   {
    "duration": 18,
    "start_time": "2024-06-14T21:21:24.145Z"
   },
   {
    "duration": 22,
    "start_time": "2024-06-14T21:21:24.166Z"
   },
   {
    "duration": 87,
    "start_time": "2024-06-14T21:21:24.191Z"
   },
   {
    "duration": 16,
    "start_time": "2024-06-14T21:21:24.285Z"
   },
   {
    "duration": 20,
    "start_time": "2024-06-14T21:21:24.323Z"
   },
   {
    "duration": 13,
    "start_time": "2024-06-14T21:21:24.346Z"
   },
   {
    "duration": 14,
    "start_time": "2024-06-14T21:21:24.362Z"
   },
   {
    "duration": 47,
    "start_time": "2024-06-14T21:21:24.379Z"
   },
   {
    "duration": 10,
    "start_time": "2024-06-14T21:21:24.429Z"
   },
   {
    "duration": 6,
    "start_time": "2024-06-14T21:21:24.441Z"
   },
   {
    "duration": 10,
    "start_time": "2024-06-14T21:21:24.450Z"
   },
   {
    "duration": 5,
    "start_time": "2024-06-14T21:21:24.464Z"
   },
   {
    "duration": 53,
    "start_time": "2024-06-14T21:21:24.472Z"
   },
   {
    "duration": 6,
    "start_time": "2024-06-14T21:21:24.528Z"
   },
   {
    "duration": 22,
    "start_time": "2024-06-14T21:21:24.537Z"
   },
   {
    "duration": 68,
    "start_time": "2024-06-14T21:21:24.561Z"
   },
   {
    "duration": 93,
    "start_time": "2024-06-14T21:21:24.632Z"
   },
   {
    "duration": 103,
    "start_time": "2024-06-14T21:21:24.728Z"
   },
   {
    "duration": 4,
    "start_time": "2024-06-14T21:21:24.838Z"
   },
   {
    "duration": 6,
    "start_time": "2024-06-14T21:21:24.845Z"
   },
   {
    "duration": 5,
    "start_time": "2024-06-14T21:21:24.854Z"
   },
   {
    "duration": 5,
    "start_time": "2024-06-14T21:21:24.863Z"
   },
   {
    "duration": 55,
    "start_time": "2024-06-14T21:21:24.872Z"
   },
   {
    "duration": 21,
    "start_time": "2024-06-14T21:21:24.930Z"
   },
   {
    "duration": 1526,
    "start_time": "2024-06-14T21:22:46.866Z"
   },
   {
    "duration": 383,
    "start_time": "2024-06-14T21:22:48.396Z"
   },
   {
    "duration": 20,
    "start_time": "2024-06-14T21:22:48.781Z"
   },
   {
    "duration": 34,
    "start_time": "2024-06-14T21:22:48.804Z"
   },
   {
    "duration": 60,
    "start_time": "2024-06-14T21:22:48.842Z"
   },
   {
    "duration": 23,
    "start_time": "2024-06-14T21:22:48.924Z"
   },
   {
    "duration": 22,
    "start_time": "2024-06-14T21:22:48.950Z"
   },
   {
    "duration": 56,
    "start_time": "2024-06-14T21:22:48.975Z"
   },
   {
    "duration": 56,
    "start_time": "2024-06-14T21:22:49.033Z"
   },
   {
    "duration": 40,
    "start_time": "2024-06-14T21:22:49.092Z"
   },
   {
    "duration": 17,
    "start_time": "2024-06-14T21:22:49.135Z"
   },
   {
    "duration": 87,
    "start_time": "2024-06-14T21:22:49.155Z"
   },
   {
    "duration": 17,
    "start_time": "2024-06-14T21:22:49.245Z"
   },
   {
    "duration": 18,
    "start_time": "2024-06-14T21:22:49.269Z"
   },
   {
    "duration": 12,
    "start_time": "2024-06-14T21:22:49.322Z"
   },
   {
    "duration": 14,
    "start_time": "2024-06-14T21:22:49.337Z"
   },
   {
    "duration": 15,
    "start_time": "2024-06-14T21:22:49.353Z"
   },
   {
    "duration": 8,
    "start_time": "2024-06-14T21:22:49.370Z"
   },
   {
    "duration": 44,
    "start_time": "2024-06-14T21:22:49.382Z"
   },
   {
    "duration": 9,
    "start_time": "2024-06-14T21:22:49.429Z"
   },
   {
    "duration": 6,
    "start_time": "2024-06-14T21:22:49.441Z"
   },
   {
    "duration": 8,
    "start_time": "2024-06-14T21:22:49.450Z"
   },
   {
    "duration": 5,
    "start_time": "2024-06-14T21:22:49.462Z"
   },
   {
    "duration": 63,
    "start_time": "2024-06-14T21:22:49.470Z"
   },
   {
    "duration": 85,
    "start_time": "2024-06-14T21:22:49.540Z"
   },
   {
    "duration": 16,
    "start_time": "2024-06-14T21:22:49.628Z"
   },
   {
    "duration": 103,
    "start_time": "2024-06-14T21:22:49.724Z"
   },
   {
    "duration": 4,
    "start_time": "2024-06-14T21:22:49.832Z"
   },
   {
    "duration": 5,
    "start_time": "2024-06-14T21:22:49.840Z"
   },
   {
    "duration": 5,
    "start_time": "2024-06-14T21:22:49.848Z"
   },
   {
    "duration": 6,
    "start_time": "2024-06-14T21:22:49.856Z"
   },
   {
    "duration": 58,
    "start_time": "2024-06-14T21:22:49.865Z"
   },
   {
    "duration": 708,
    "start_time": "2024-06-14T21:22:49.927Z"
   },
   {
    "duration": 20,
    "start_time": "2024-06-14T21:23:05.610Z"
   },
   {
    "duration": 6,
    "start_time": "2024-06-14T21:23:44.073Z"
   },
   {
    "duration": 44,
    "start_time": "2024-06-14T21:23:45.812Z"
   },
   {
    "duration": 5,
    "start_time": "2024-06-14T21:23:56.902Z"
   },
   {
    "duration": 19,
    "start_time": "2024-06-14T21:23:58.343Z"
   },
   {
    "duration": 1524,
    "start_time": "2024-06-14T21:24:06.276Z"
   },
   {
    "duration": 408,
    "start_time": "2024-06-14T21:24:07.804Z"
   },
   {
    "duration": 22,
    "start_time": "2024-06-14T21:24:08.215Z"
   },
   {
    "duration": 23,
    "start_time": "2024-06-14T21:24:08.240Z"
   },
   {
    "duration": 92,
    "start_time": "2024-06-14T21:24:08.267Z"
   },
   {
    "duration": 21,
    "start_time": "2024-06-14T21:24:08.362Z"
   },
   {
    "duration": 42,
    "start_time": "2024-06-14T21:24:08.387Z"
   },
   {
    "duration": 18,
    "start_time": "2024-06-14T21:24:08.432Z"
   },
   {
    "duration": 84,
    "start_time": "2024-06-14T21:24:08.453Z"
   },
   {
    "duration": 21,
    "start_time": "2024-06-14T21:24:08.540Z"
   },
   {
    "duration": 18,
    "start_time": "2024-06-14T21:24:08.564Z"
   },
   {
    "duration": 88,
    "start_time": "2024-06-14T21:24:08.585Z"
   },
   {
    "duration": 18,
    "start_time": "2024-06-14T21:24:08.676Z"
   },
   {
    "duration": 19,
    "start_time": "2024-06-14T21:24:08.724Z"
   },
   {
    "duration": 13,
    "start_time": "2024-06-14T21:24:08.746Z"
   },
   {
    "duration": 15,
    "start_time": "2024-06-14T21:24:08.761Z"
   },
   {
    "duration": 51,
    "start_time": "2024-06-14T21:24:08.778Z"
   },
   {
    "duration": 8,
    "start_time": "2024-06-14T21:24:08.832Z"
   },
   {
    "duration": 4,
    "start_time": "2024-06-14T21:24:08.843Z"
   },
   {
    "duration": 9,
    "start_time": "2024-06-14T21:24:08.851Z"
   },
   {
    "duration": 5,
    "start_time": "2024-06-14T21:24:08.863Z"
   },
   {
    "duration": 54,
    "start_time": "2024-06-14T21:24:08.872Z"
   },
   {
    "duration": 6,
    "start_time": "2024-06-14T21:24:08.929Z"
   },
   {
    "duration": 23,
    "start_time": "2024-06-14T21:24:08.938Z"
   },
   {
    "duration": 81,
    "start_time": "2024-06-14T21:24:08.964Z"
   },
   {
    "duration": 18,
    "start_time": "2024-06-14T21:24:09.126Z"
   },
   {
    "duration": 183,
    "start_time": "2024-06-14T21:24:09.146Z"
   },
   {
    "duration": 3,
    "start_time": "2024-06-14T21:24:09.334Z"
   },
   {
    "duration": 6,
    "start_time": "2024-06-14T21:24:09.340Z"
   },
   {
    "duration": 4,
    "start_time": "2024-06-14T21:24:09.349Z"
   },
   {
    "duration": 6,
    "start_time": "2024-06-14T21:24:09.357Z"
   },
   {
    "duration": 5,
    "start_time": "2024-06-14T21:24:09.366Z"
   },
   {
    "duration": 20,
    "start_time": "2024-06-14T21:24:09.422Z"
   },
   {
    "duration": 5,
    "start_time": "2024-06-14T21:25:03.593Z"
   },
   {
    "duration": 451,
    "start_time": "2024-06-14T21:25:05.346Z"
   },
   {
    "duration": 6,
    "start_time": "2024-06-14T21:25:26.988Z"
   },
   {
    "duration": 31,
    "start_time": "2024-06-14T21:25:28.369Z"
   },
   {
    "duration": 13,
    "start_time": "2024-06-14T21:26:18.070Z"
   },
   {
    "duration": 26,
    "start_time": "2024-06-14T21:29:20.570Z"
   },
   {
    "duration": 5,
    "start_time": "2024-06-14T21:29:23.062Z"
   },
   {
    "duration": 20,
    "start_time": "2024-06-14T21:29:24.669Z"
   },
   {
    "duration": 327,
    "start_time": "2024-06-14T21:46:56.710Z"
   },
   {
    "duration": 1505,
    "start_time": "2024-06-14T21:48:01.680Z"
   },
   {
    "duration": 398,
    "start_time": "2024-06-14T21:48:03.188Z"
   },
   {
    "duration": 19,
    "start_time": "2024-06-14T21:48:03.589Z"
   },
   {
    "duration": 35,
    "start_time": "2024-06-14T21:48:03.610Z"
   },
   {
    "duration": 60,
    "start_time": "2024-06-14T21:48:03.649Z"
   },
   {
    "duration": 18,
    "start_time": "2024-06-14T21:48:03.724Z"
   },
   {
    "duration": 21,
    "start_time": "2024-06-14T21:48:03.747Z"
   },
   {
    "duration": 18,
    "start_time": "2024-06-14T21:48:03.771Z"
   },
   {
    "duration": 84,
    "start_time": "2024-06-14T21:48:03.793Z"
   },
   {
    "duration": 42,
    "start_time": "2024-06-14T21:48:03.880Z"
   },
   {
    "duration": 25,
    "start_time": "2024-06-14T21:48:03.925Z"
   },
   {
    "duration": 86,
    "start_time": "2024-06-14T21:48:03.957Z"
   },
   {
    "duration": 20,
    "start_time": "2024-06-14T21:48:04.046Z"
   },
   {
    "duration": 20,
    "start_time": "2024-06-14T21:48:04.072Z"
   },
   {
    "duration": 34,
    "start_time": "2024-06-14T21:48:04.095Z"
   },
   {
    "duration": 13,
    "start_time": "2024-06-14T21:48:04.131Z"
   },
   {
    "duration": 18,
    "start_time": "2024-06-14T21:48:04.148Z"
   },
   {
    "duration": 9,
    "start_time": "2024-06-14T21:48:04.171Z"
   },
   {
    "duration": 7,
    "start_time": "2024-06-14T21:48:04.183Z"
   },
   {
    "duration": 36,
    "start_time": "2024-06-14T21:48:04.194Z"
   },
   {
    "duration": 5,
    "start_time": "2024-06-14T21:48:04.234Z"
   },
   {
    "duration": 8,
    "start_time": "2024-06-14T21:48:04.242Z"
   },
   {
    "duration": 6,
    "start_time": "2024-06-14T21:48:04.252Z"
   },
   {
    "duration": 70,
    "start_time": "2024-06-14T21:48:04.261Z"
   },
   {
    "duration": 18,
    "start_time": "2024-06-14T21:48:04.334Z"
   },
   {
    "duration": 76,
    "start_time": "2024-06-14T21:48:04.357Z"
   },
   {
    "duration": 29,
    "start_time": "2024-06-14T21:48:04.435Z"
   },
   {
    "duration": 58,
    "start_time": "2024-06-14T21:48:04.466Z"
   },
   {
    "duration": 5,
    "start_time": "2024-06-14T21:48:04.528Z"
   },
   {
    "duration": 5,
    "start_time": "2024-06-14T21:48:04.541Z"
   },
   {
    "duration": 6,
    "start_time": "2024-06-14T21:48:04.548Z"
   },
   {
    "duration": 6,
    "start_time": "2024-06-14T21:48:04.558Z"
   },
   {
    "duration": 65,
    "start_time": "2024-06-14T21:48:04.567Z"
   },
   {
    "duration": 727,
    "start_time": "2024-06-14T21:48:04.634Z"
   },
   {
    "duration": 5435,
    "start_time": "2024-06-14T23:20:10.356Z"
   },
   {
    "duration": 549,
    "start_time": "2024-06-14T23:20:15.795Z"
   },
   {
    "duration": 21,
    "start_time": "2024-06-14T23:20:16.348Z"
   },
   {
    "duration": 39,
    "start_time": "2024-06-14T23:20:16.372Z"
   },
   {
    "duration": 85,
    "start_time": "2024-06-14T23:20:16.416Z"
   },
   {
    "duration": 24,
    "start_time": "2024-06-14T23:20:16.504Z"
   },
   {
    "duration": 21,
    "start_time": "2024-06-14T23:20:16.532Z"
   },
   {
    "duration": 50,
    "start_time": "2024-06-14T23:20:16.556Z"
   },
   {
    "duration": 61,
    "start_time": "2024-06-14T23:20:16.609Z"
   },
   {
    "duration": 38,
    "start_time": "2024-06-14T23:20:16.673Z"
   },
   {
    "duration": 22,
    "start_time": "2024-06-14T23:20:16.717Z"
   },
   {
    "duration": 96,
    "start_time": "2024-06-14T23:20:16.742Z"
   },
   {
    "duration": 17,
    "start_time": "2024-06-14T23:20:16.841Z"
   },
   {
    "duration": 38,
    "start_time": "2024-06-14T23:20:16.865Z"
   },
   {
    "duration": 17,
    "start_time": "2024-06-14T23:20:16.906Z"
   },
   {
    "duration": 16,
    "start_time": "2024-06-14T23:20:16.926Z"
   },
   {
    "duration": 15,
    "start_time": "2024-06-14T23:20:16.945Z"
   },
   {
    "duration": 42,
    "start_time": "2024-06-14T23:20:16.965Z"
   },
   {
    "duration": 5,
    "start_time": "2024-06-14T23:20:17.013Z"
   },
   {
    "duration": 8,
    "start_time": "2024-06-14T23:20:17.023Z"
   },
   {
    "duration": 5,
    "start_time": "2024-06-14T23:20:17.035Z"
   },
   {
    "duration": 8,
    "start_time": "2024-06-14T23:20:17.044Z"
   },
   {
    "duration": 46,
    "start_time": "2024-06-14T23:20:17.056Z"
   },
   {
    "duration": 31,
    "start_time": "2024-06-14T23:20:17.105Z"
   },
   {
    "duration": 164,
    "start_time": "2024-06-14T23:20:17.140Z"
   },
   {
    "duration": 20,
    "start_time": "2024-06-14T23:20:17.306Z"
   },
   {
    "duration": 94,
    "start_time": "2024-06-14T23:20:17.329Z"
   },
   {
    "duration": 4,
    "start_time": "2024-06-14T23:20:17.427Z"
   },
   {
    "duration": 5,
    "start_time": "2024-06-14T23:20:17.503Z"
   },
   {
    "duration": 4,
    "start_time": "2024-06-14T23:20:17.512Z"
   },
   {
    "duration": 5,
    "start_time": "2024-06-14T23:20:17.520Z"
   },
   {
    "duration": 5,
    "start_time": "2024-06-14T23:20:17.528Z"
   },
   {
    "duration": 67,
    "start_time": "2024-06-14T23:20:17.536Z"
   },
   {
    "duration": 817,
    "start_time": "2024-06-14T23:20:17.606Z"
   },
   {
    "duration": 1687,
    "start_time": "2024-06-14T23:22:11.671Z"
   },
   {
    "duration": 385,
    "start_time": "2024-06-14T23:22:13.363Z"
   },
   {
    "duration": 26,
    "start_time": "2024-06-14T23:22:13.751Z"
   },
   {
    "duration": 37,
    "start_time": "2024-06-14T23:22:13.780Z"
   },
   {
    "duration": 80,
    "start_time": "2024-06-14T23:22:13.821Z"
   },
   {
    "duration": 24,
    "start_time": "2024-06-14T23:22:13.904Z"
   },
   {
    "duration": 19,
    "start_time": "2024-06-14T23:22:13.931Z"
   },
   {
    "duration": 50,
    "start_time": "2024-06-14T23:22:13.953Z"
   },
   {
    "duration": 60,
    "start_time": "2024-06-14T23:22:14.006Z"
   },
   {
    "duration": 45,
    "start_time": "2024-06-14T23:22:14.070Z"
   },
   {
    "duration": 23,
    "start_time": "2024-06-14T23:22:14.118Z"
   },
   {
    "duration": 99,
    "start_time": "2024-06-14T23:22:14.146Z"
   },
   {
    "duration": 20,
    "start_time": "2024-06-14T23:22:14.248Z"
   },
   {
    "duration": 40,
    "start_time": "2024-06-14T23:22:14.275Z"
   },
   {
    "duration": 14,
    "start_time": "2024-06-14T23:22:14.321Z"
   },
   {
    "duration": 16,
    "start_time": "2024-06-14T23:22:14.338Z"
   },
   {
    "duration": 52,
    "start_time": "2024-06-14T23:22:14.357Z"
   },
   {
    "duration": 9,
    "start_time": "2024-06-14T23:22:14.411Z"
   },
   {
    "duration": 6,
    "start_time": "2024-06-14T23:22:14.423Z"
   },
   {
    "duration": 9,
    "start_time": "2024-06-14T23:22:14.433Z"
   },
   {
    "duration": 6,
    "start_time": "2024-06-14T23:22:14.445Z"
   },
   {
    "duration": 51,
    "start_time": "2024-06-14T23:22:14.455Z"
   },
   {
    "duration": 5,
    "start_time": "2024-06-14T23:22:14.509Z"
   },
   {
    "duration": 29,
    "start_time": "2024-06-14T23:22:14.518Z"
   },
   {
    "duration": 21,
    "start_time": "2024-06-14T23:22:14.602Z"
   },
   {
    "duration": 82,
    "start_time": "2024-06-14T23:22:14.626Z"
   },
   {
    "duration": 121,
    "start_time": "2024-06-14T23:22:14.711Z"
   },
   {
    "duration": 4,
    "start_time": "2024-06-14T23:22:14.835Z"
   },
   {
    "duration": 6,
    "start_time": "2024-06-14T23:22:14.902Z"
   },
   {
    "duration": 5,
    "start_time": "2024-06-14T23:22:14.910Z"
   },
   {
    "duration": 6,
    "start_time": "2024-06-14T23:22:14.918Z"
   },
   {
    "duration": 5,
    "start_time": "2024-06-14T23:22:14.927Z"
   },
   {
    "duration": 66,
    "start_time": "2024-06-14T23:22:14.935Z"
   },
   {
    "duration": 757,
    "start_time": "2024-06-14T23:22:15.005Z"
   },
   {
    "duration": 1926,
    "start_time": "2024-06-14T23:23:23.692Z"
   },
   {
    "duration": 497,
    "start_time": "2024-06-14T23:23:25.622Z"
   },
   {
    "duration": 28,
    "start_time": "2024-06-14T23:23:26.123Z"
   },
   {
    "duration": 27,
    "start_time": "2024-06-14T23:23:26.159Z"
   },
   {
    "duration": 90,
    "start_time": "2024-06-14T23:23:26.190Z"
   },
   {
    "duration": 33,
    "start_time": "2024-06-14T23:23:26.284Z"
   },
   {
    "duration": 28,
    "start_time": "2024-06-14T23:23:26.321Z"
   },
   {
    "duration": 30,
    "start_time": "2024-06-14T23:23:26.353Z"
   },
   {
    "duration": 85,
    "start_time": "2024-06-14T23:23:26.402Z"
   },
   {
    "duration": 27,
    "start_time": "2024-06-14T23:23:26.497Z"
   },
   {
    "duration": 23,
    "start_time": "2024-06-14T23:23:26.527Z"
   },
   {
    "duration": 105,
    "start_time": "2024-06-14T23:23:26.554Z"
   },
   {
    "duration": 20,
    "start_time": "2024-06-14T23:23:26.662Z"
   },
   {
    "duration": 36,
    "start_time": "2024-06-14T23:23:26.687Z"
   },
   {
    "duration": 14,
    "start_time": "2024-06-14T23:23:26.727Z"
   },
   {
    "duration": 14,
    "start_time": "2024-06-14T23:23:26.744Z"
   },
   {
    "duration": 46,
    "start_time": "2024-06-14T23:23:26.761Z"
   },
   {
    "duration": 8,
    "start_time": "2024-06-14T23:23:26.813Z"
   },
   {
    "duration": 7,
    "start_time": "2024-06-14T23:23:26.823Z"
   },
   {
    "duration": 10,
    "start_time": "2024-06-14T23:23:26.833Z"
   },
   {
    "duration": 5,
    "start_time": "2024-06-14T23:23:26.846Z"
   },
   {
    "duration": 51,
    "start_time": "2024-06-14T23:23:26.855Z"
   },
   {
    "duration": 5,
    "start_time": "2024-06-14T23:23:26.913Z"
   },
   {
    "duration": 23,
    "start_time": "2024-06-14T23:23:26.922Z"
   },
   {
    "duration": 69,
    "start_time": "2024-06-14T23:23:26.949Z"
   },
   {
    "duration": 86,
    "start_time": "2024-06-14T23:23:27.022Z"
   },
   {
    "duration": 99,
    "start_time": "2024-06-14T23:23:27.120Z"
   },
   {
    "duration": 4,
    "start_time": "2024-06-14T23:23:27.229Z"
   },
   {
    "duration": 67,
    "start_time": "2024-06-14T23:23:27.237Z"
   },
   {
    "duration": 5,
    "start_time": "2024-06-14T23:23:27.307Z"
   },
   {
    "duration": 6,
    "start_time": "2024-06-14T23:23:27.314Z"
   },
   {
    "duration": 6,
    "start_time": "2024-06-14T23:23:27.324Z"
   },
   {
    "duration": 20,
    "start_time": "2024-06-14T23:23:27.333Z"
   },
   {
    "duration": 1041,
    "start_time": "2024-06-14T23:23:27.358Z"
   },
   {
    "duration": 1819,
    "start_time": "2024-06-14T23:29:12.655Z"
   },
   {
    "duration": 623,
    "start_time": "2024-06-14T23:29:14.480Z"
   },
   {
    "duration": 30,
    "start_time": "2024-06-14T23:29:15.106Z"
   },
   {
    "duration": 30,
    "start_time": "2024-06-14T23:29:15.141Z"
   },
   {
    "duration": 106,
    "start_time": "2024-06-14T23:29:15.177Z"
   },
   {
    "duration": 32,
    "start_time": "2024-06-14T23:29:15.286Z"
   },
   {
    "duration": 26,
    "start_time": "2024-06-14T23:29:15.321Z"
   },
   {
    "duration": 51,
    "start_time": "2024-06-14T23:29:15.351Z"
   },
   {
    "duration": 79,
    "start_time": "2024-06-14T23:29:15.405Z"
   },
   {
    "duration": 24,
    "start_time": "2024-06-14T23:29:15.503Z"
   },
   {
    "duration": 26,
    "start_time": "2024-06-14T23:29:15.530Z"
   },
   {
    "duration": 98,
    "start_time": "2024-06-14T23:29:15.563Z"
   },
   {
    "duration": 18,
    "start_time": "2024-06-14T23:29:15.664Z"
   },
   {
    "duration": 31,
    "start_time": "2024-06-14T23:29:15.704Z"
   },
   {
    "duration": 14,
    "start_time": "2024-06-14T23:29:15.738Z"
   },
   {
    "duration": 16,
    "start_time": "2024-06-14T23:29:15.755Z"
   },
   {
    "duration": 41,
    "start_time": "2024-06-14T23:29:15.774Z"
   },
   {
    "duration": 10,
    "start_time": "2024-06-14T23:29:15.818Z"
   },
   {
    "duration": 5,
    "start_time": "2024-06-14T23:29:15.839Z"
   },
   {
    "duration": 10,
    "start_time": "2024-06-14T23:29:15.850Z"
   },
   {
    "duration": 9,
    "start_time": "2024-06-14T23:29:15.863Z"
   },
   {
    "duration": 38,
    "start_time": "2024-06-14T23:29:15.876Z"
   },
   {
    "duration": 10,
    "start_time": "2024-06-14T23:29:15.920Z"
   },
   {
    "duration": 39,
    "start_time": "2024-06-14T23:29:15.936Z"
   },
   {
    "duration": 39,
    "start_time": "2024-06-14T23:29:15.978Z"
   },
   {
    "duration": 27,
    "start_time": "2024-06-14T23:29:16.024Z"
   },
   {
    "duration": 106,
    "start_time": "2024-06-14T23:29:16.058Z"
   },
   {
    "duration": 10,
    "start_time": "2024-06-14T23:29:16.171Z"
   },
   {
    "duration": 47,
    "start_time": "2024-06-14T23:29:16.186Z"
   },
   {
    "duration": 10,
    "start_time": "2024-06-14T23:29:16.246Z"
   },
   {
    "duration": 12,
    "start_time": "2024-06-14T23:29:16.264Z"
   },
   {
    "duration": 8,
    "start_time": "2024-06-14T23:29:16.280Z"
   },
   {
    "duration": 35,
    "start_time": "2024-06-14T23:29:16.295Z"
   },
   {
    "duration": 5286,
    "start_time": "2024-06-14T23:29:16.334Z"
   },
   {
    "duration": 1533,
    "start_time": "2024-06-14T23:35:31.146Z"
   },
   {
    "duration": 408,
    "start_time": "2024-06-14T23:35:32.682Z"
   },
   {
    "duration": 26,
    "start_time": "2024-06-14T23:35:33.092Z"
   },
   {
    "duration": 26,
    "start_time": "2024-06-14T23:35:33.121Z"
   },
   {
    "duration": 89,
    "start_time": "2024-06-14T23:35:33.153Z"
   },
   {
    "duration": 20,
    "start_time": "2024-06-14T23:35:33.246Z"
   },
   {
    "duration": 42,
    "start_time": "2024-06-14T23:35:33.270Z"
   },
   {
    "duration": 19,
    "start_time": "2024-06-14T23:35:33.318Z"
   },
   {
    "duration": 90,
    "start_time": "2024-06-14T23:35:33.340Z"
   },
   {
    "duration": 20,
    "start_time": "2024-06-14T23:35:33.434Z"
   },
   {
    "duration": 45,
    "start_time": "2024-06-14T23:35:33.458Z"
   },
   {
    "duration": 61,
    "start_time": "2024-06-14T23:35:33.506Z"
   },
   {
    "duration": 39,
    "start_time": "2024-06-14T23:35:33.570Z"
   },
   {
    "duration": 19,
    "start_time": "2024-06-14T23:35:33.617Z"
   },
   {
    "duration": 16,
    "start_time": "2024-06-14T23:35:33.642Z"
   },
   {
    "duration": 47,
    "start_time": "2024-06-14T23:35:33.661Z"
   },
   {
    "duration": 15,
    "start_time": "2024-06-14T23:35:33.711Z"
   },
   {
    "duration": 8,
    "start_time": "2024-06-14T23:35:33.729Z"
   },
   {
    "duration": 6,
    "start_time": "2024-06-14T23:35:33.740Z"
   },
   {
    "duration": 9,
    "start_time": "2024-06-14T23:35:33.749Z"
   },
   {
    "duration": 44,
    "start_time": "2024-06-14T23:35:33.762Z"
   },
   {
    "duration": 10,
    "start_time": "2024-06-14T23:35:33.810Z"
   },
   {
    "duration": 6,
    "start_time": "2024-06-14T23:35:33.823Z"
   },
   {
    "duration": 74,
    "start_time": "2024-06-14T23:35:33.832Z"
   },
   {
    "duration": 97,
    "start_time": "2024-06-14T23:35:33.911Z"
   },
   {
    "duration": 18,
    "start_time": "2024-06-14T23:35:34.012Z"
   },
   {
    "duration": 92,
    "start_time": "2024-06-14T23:35:34.034Z"
   },
   {
    "duration": 73,
    "start_time": "2024-06-14T23:35:34.129Z"
   },
   {
    "duration": 7,
    "start_time": "2024-06-14T23:35:34.206Z"
   },
   {
    "duration": 5,
    "start_time": "2024-06-14T23:35:34.216Z"
   },
   {
    "duration": 6,
    "start_time": "2024-06-14T23:35:34.225Z"
   },
   {
    "duration": 7,
    "start_time": "2024-06-14T23:35:34.234Z"
   },
   {
    "duration": 73,
    "start_time": "2024-06-14T23:35:34.245Z"
   },
   {
    "duration": 9524,
    "start_time": "2024-06-14T23:35:34.321Z"
   },
   {
    "duration": 8788,
    "start_time": "2024-06-14T23:38:18.505Z"
   },
   {
    "duration": 5,
    "start_time": "2024-06-14T23:38:46.868Z"
   },
   {
    "duration": 19,
    "start_time": "2024-06-14T23:38:50.665Z"
   },
   {
    "duration": 5192,
    "start_time": "2024-06-14T23:38:55.354Z"
   },
   {
    "duration": 1583,
    "start_time": "2024-06-14T23:41:15.022Z"
   },
   {
    "duration": 376,
    "start_time": "2024-06-14T23:41:16.609Z"
   },
   {
    "duration": 27,
    "start_time": "2024-06-14T23:41:16.988Z"
   },
   {
    "duration": 22,
    "start_time": "2024-06-14T23:41:17.019Z"
   },
   {
    "duration": 80,
    "start_time": "2024-06-14T23:41:17.044Z"
   },
   {
    "duration": 20,
    "start_time": "2024-06-14T23:41:17.127Z"
   },
   {
    "duration": 17,
    "start_time": "2024-06-14T23:41:17.150Z"
   },
   {
    "duration": 47,
    "start_time": "2024-06-14T23:41:17.171Z"
   },
   {
    "duration": 87,
    "start_time": "2024-06-14T23:41:17.221Z"
   },
   {
    "duration": 18,
    "start_time": "2024-06-14T23:41:17.316Z"
   },
   {
    "duration": 23,
    "start_time": "2024-06-14T23:41:17.337Z"
   },
   {
    "duration": 88,
    "start_time": "2024-06-14T23:41:17.363Z"
   },
   {
    "duration": 17,
    "start_time": "2024-06-14T23:41:17.454Z"
   },
   {
    "duration": 41,
    "start_time": "2024-06-14T23:41:17.474Z"
   },
   {
    "duration": 13,
    "start_time": "2024-06-14T23:41:17.518Z"
   },
   {
    "duration": 14,
    "start_time": "2024-06-14T23:41:17.533Z"
   },
   {
    "duration": 51,
    "start_time": "2024-06-14T23:41:17.550Z"
   },
   {
    "duration": 9,
    "start_time": "2024-06-14T23:41:17.604Z"
   },
   {
    "duration": 5,
    "start_time": "2024-06-14T23:41:17.616Z"
   },
   {
    "duration": 9,
    "start_time": "2024-06-14T23:41:17.624Z"
   },
   {
    "duration": 5,
    "start_time": "2024-06-14T23:41:17.636Z"
   },
   {
    "duration": 7,
    "start_time": "2024-06-14T23:41:17.644Z"
   },
   {
    "duration": 48,
    "start_time": "2024-06-14T23:41:17.654Z"
   },
   {
    "duration": 23,
    "start_time": "2024-06-14T23:41:17.706Z"
   },
   {
    "duration": 85,
    "start_time": "2024-06-14T23:41:17.731Z"
   },
   {
    "duration": 88,
    "start_time": "2024-06-14T23:41:17.819Z"
   },
   {
    "duration": 105,
    "start_time": "2024-06-14T23:41:17.910Z"
   },
   {
    "duration": 3,
    "start_time": "2024-06-14T23:41:18.023Z"
   },
   {
    "duration": 76,
    "start_time": "2024-06-14T23:41:18.029Z"
   },
   {
    "duration": 5,
    "start_time": "2024-06-14T23:41:18.108Z"
   },
   {
    "duration": 5,
    "start_time": "2024-06-14T23:41:18.116Z"
   },
   {
    "duration": 6,
    "start_time": "2024-06-14T23:41:18.124Z"
   },
   {
    "duration": 70,
    "start_time": "2024-06-14T23:41:18.133Z"
   },
   {
    "duration": 4695,
    "start_time": "2024-06-14T23:41:18.206Z"
   },
   {
    "duration": 425,
    "start_time": "2024-06-14T23:43:23.554Z"
   },
   {
    "duration": 4,
    "start_time": "2024-06-14T23:44:03.562Z"
   },
   {
    "duration": 33,
    "start_time": "2024-06-14T23:44:05.754Z"
   },
   {
    "duration": 5,
    "start_time": "2024-06-14T23:44:22.588Z"
   },
   {
    "duration": 19,
    "start_time": "2024-06-14T23:44:24.670Z"
   },
   {
    "duration": 57,
    "start_time": "2024-06-15T00:00:53.293Z"
   },
   {
    "duration": 87,
    "start_time": "2024-06-15T00:09:33.184Z"
   },
   {
    "duration": 4727,
    "start_time": "2024-06-15T00:09:50.135Z"
   },
   {
    "duration": 4731,
    "start_time": "2024-06-15T00:10:40.973Z"
   },
   {
    "duration": 5271,
    "start_time": "2024-06-15T00:22:11.870Z"
   },
   {
    "duration": 5272,
    "start_time": "2024-06-15T00:22:32.299Z"
   },
   {
    "duration": 66,
    "start_time": "2024-06-15T00:27:05.214Z"
   },
   {
    "duration": 54,
    "start_time": "2024-06-15T00:27:20.926Z"
   },
   {
    "duration": 5328,
    "start_time": "2024-06-15T00:28:45.849Z"
   },
   {
    "duration": 4735,
    "start_time": "2024-06-15T00:33:08.387Z"
   },
   {
    "duration": 4837,
    "start_time": "2024-06-15T00:34:32.864Z"
   },
   {
    "duration": 4702,
    "start_time": "2024-06-15T00:34:50.195Z"
   },
   {
    "duration": 4755,
    "start_time": "2024-06-15T00:35:25.362Z"
   },
   {
    "duration": 64,
    "start_time": "2024-06-15T00:38:12.996Z"
   },
   {
    "duration": 4681,
    "start_time": "2024-06-15T00:39:10.773Z"
   },
   {
    "duration": 4752,
    "start_time": "2024-06-15T00:39:37.132Z"
   },
   {
    "duration": 4791,
    "start_time": "2024-06-15T00:51:35.540Z"
   },
   {
    "duration": 5070,
    "start_time": "2024-06-17T00:35:09.307Z"
   },
   {
    "duration": 488,
    "start_time": "2024-06-17T00:35:14.381Z"
   },
   {
    "duration": 34,
    "start_time": "2024-06-17T00:35:14.872Z"
   },
   {
    "duration": 22,
    "start_time": "2024-06-17T00:35:14.911Z"
   },
   {
    "duration": 88,
    "start_time": "2024-06-17T00:35:14.936Z"
   },
   {
    "duration": 22,
    "start_time": "2024-06-17T00:35:15.027Z"
   },
   {
    "duration": 20,
    "start_time": "2024-06-17T00:35:15.051Z"
   },
   {
    "duration": 44,
    "start_time": "2024-06-17T00:35:15.076Z"
   },
   {
    "duration": 54,
    "start_time": "2024-06-17T00:35:15.124Z"
   },
   {
    "duration": 40,
    "start_time": "2024-06-17T00:35:15.183Z"
   },
   {
    "duration": 18,
    "start_time": "2024-06-17T00:35:15.226Z"
   },
   {
    "duration": 90,
    "start_time": "2024-06-17T00:35:15.247Z"
   },
   {
    "duration": 17,
    "start_time": "2024-06-17T00:35:15.341Z"
   },
   {
    "duration": 46,
    "start_time": "2024-06-17T00:35:15.361Z"
   },
   {
    "duration": 12,
    "start_time": "2024-06-17T00:35:15.409Z"
   },
   {
    "duration": 14,
    "start_time": "2024-06-17T00:35:15.424Z"
   },
   {
    "duration": 14,
    "start_time": "2024-06-17T00:35:15.440Z"
   },
   {
    "duration": 8,
    "start_time": "2024-06-17T00:35:15.457Z"
   },
   {
    "duration": 9,
    "start_time": "2024-06-17T00:35:15.510Z"
   },
   {
    "duration": 8,
    "start_time": "2024-06-17T00:35:15.522Z"
   },
   {
    "duration": 5,
    "start_time": "2024-06-17T00:35:15.532Z"
   },
   {
    "duration": 9,
    "start_time": "2024-06-17T00:35:15.540Z"
   },
   {
    "duration": 6,
    "start_time": "2024-06-17T00:35:15.551Z"
   },
   {
    "duration": 146,
    "start_time": "2024-06-17T00:35:15.560Z"
   },
   {
    "duration": 100,
    "start_time": "2024-06-17T00:35:15.710Z"
   },
   {
    "duration": 94,
    "start_time": "2024-06-17T00:35:15.816Z"
   },
   {
    "duration": 110,
    "start_time": "2024-06-17T00:35:15.916Z"
   },
   {
    "duration": 4,
    "start_time": "2024-06-17T00:35:16.033Z"
   },
   {
    "duration": 6,
    "start_time": "2024-06-17T00:35:16.108Z"
   },
   {
    "duration": 5,
    "start_time": "2024-06-17T00:35:16.116Z"
   },
   {
    "duration": 5,
    "start_time": "2024-06-17T00:35:16.124Z"
   },
   {
    "duration": 5,
    "start_time": "2024-06-17T00:35:16.132Z"
   },
   {
    "duration": 20,
    "start_time": "2024-06-17T00:35:16.140Z"
   },
   {
    "duration": 4745,
    "start_time": "2024-06-17T00:35:16.207Z"
   },
   {
    "duration": 5,
    "start_time": "2024-06-17T00:43:13.258Z"
   },
   {
    "duration": 23,
    "start_time": "2024-06-17T00:43:16.247Z"
   },
   {
    "duration": 5,
    "start_time": "2024-06-17T00:53:23.524Z"
   },
   {
    "duration": 20,
    "start_time": "2024-06-17T00:53:34.746Z"
   },
   {
    "duration": 5,
    "start_time": "2024-06-17T00:54:42.414Z"
   },
   {
    "duration": 23,
    "start_time": "2024-06-17T00:54:43.777Z"
   },
   {
    "duration": 8072,
    "start_time": "2024-06-17T00:55:29.910Z"
   },
   {
    "duration": 5,
    "start_time": "2024-06-17T00:56:23.116Z"
   },
   {
    "duration": 19,
    "start_time": "2024-06-17T00:56:25.285Z"
   },
   {
    "duration": 4976,
    "start_time": "2024-06-17T00:56:30.040Z"
   },
   {
    "duration": 1585,
    "start_time": "2024-06-17T00:57:35.782Z"
   },
   {
    "duration": 369,
    "start_time": "2024-06-17T00:57:37.371Z"
   },
   {
    "duration": 20,
    "start_time": "2024-06-17T00:57:37.742Z"
   },
   {
    "duration": 22,
    "start_time": "2024-06-17T00:57:37.765Z"
   },
   {
    "duration": 64,
    "start_time": "2024-06-17T00:57:37.807Z"
   },
   {
    "duration": 48,
    "start_time": "2024-06-17T00:57:37.874Z"
   },
   {
    "duration": 26,
    "start_time": "2024-06-17T00:57:37.926Z"
   },
   {
    "duration": 19,
    "start_time": "2024-06-17T00:57:37.955Z"
   },
   {
    "duration": 83,
    "start_time": "2024-06-17T00:57:37.977Z"
   },
   {
    "duration": 20,
    "start_time": "2024-06-17T00:57:38.062Z"
   },
   {
    "duration": 26,
    "start_time": "2024-06-17T00:57:38.108Z"
   },
   {
    "duration": 87,
    "start_time": "2024-06-17T00:57:38.138Z"
   },
   {
    "duration": 17,
    "start_time": "2024-06-17T00:57:38.228Z"
   },
   {
    "duration": 18,
    "start_time": "2024-06-17T00:57:38.251Z"
   },
   {
    "duration": 44,
    "start_time": "2024-06-17T00:57:38.271Z"
   },
   {
    "duration": 14,
    "start_time": "2024-06-17T00:57:38.318Z"
   },
   {
    "duration": 15,
    "start_time": "2024-06-17T00:57:38.335Z"
   },
   {
    "duration": 8,
    "start_time": "2024-06-17T00:57:38.353Z"
   },
   {
    "duration": 44,
    "start_time": "2024-06-17T00:57:38.364Z"
   },
   {
    "duration": 12,
    "start_time": "2024-06-17T00:57:38.411Z"
   },
   {
    "duration": 5,
    "start_time": "2024-06-17T00:57:38.427Z"
   },
   {
    "duration": 8,
    "start_time": "2024-06-17T00:57:38.435Z"
   },
   {
    "duration": 6,
    "start_time": "2024-06-17T00:57:38.446Z"
   },
   {
    "duration": 68,
    "start_time": "2024-06-17T00:57:38.455Z"
   },
   {
    "duration": 82,
    "start_time": "2024-06-17T00:57:38.527Z"
   },
   {
    "duration": 15,
    "start_time": "2024-06-17T00:57:38.612Z"
   },
   {
    "duration": 104,
    "start_time": "2024-06-17T00:57:38.707Z"
   },
   {
    "duration": 3,
    "start_time": "2024-06-17T00:57:38.815Z"
   },
   {
    "duration": 6,
    "start_time": "2024-06-17T00:57:38.821Z"
   },
   {
    "duration": 4,
    "start_time": "2024-06-17T00:57:38.831Z"
   },
   {
    "duration": 5,
    "start_time": "2024-06-17T00:57:38.839Z"
   },
   {
    "duration": 5,
    "start_time": "2024-06-17T00:57:38.848Z"
   },
   {
    "duration": 22,
    "start_time": "2024-06-17T00:57:38.906Z"
   },
   {
    "duration": 3588,
    "start_time": "2024-06-17T00:57:38.931Z"
   },
   {
    "duration": 6,
    "start_time": "2024-06-17T00:59:34.293Z"
   },
   {
    "duration": 19,
    "start_time": "2024-06-17T00:59:36.003Z"
   },
   {
    "duration": 1540,
    "start_time": "2024-06-17T01:00:15.027Z"
   },
   {
    "duration": 377,
    "start_time": "2024-06-17T01:00:16.570Z"
   },
   {
    "duration": 22,
    "start_time": "2024-06-17T01:00:16.950Z"
   },
   {
    "duration": 42,
    "start_time": "2024-06-17T01:00:16.975Z"
   },
   {
    "duration": 59,
    "start_time": "2024-06-17T01:00:17.022Z"
   },
   {
    "duration": 39,
    "start_time": "2024-06-17T01:00:17.084Z"
   },
   {
    "duration": 17,
    "start_time": "2024-06-17T01:00:17.126Z"
   },
   {
    "duration": 18,
    "start_time": "2024-06-17T01:00:17.147Z"
   },
   {
    "duration": 91,
    "start_time": "2024-06-17T01:00:17.167Z"
   },
   {
    "duration": 21,
    "start_time": "2024-06-17T01:00:17.260Z"
   },
   {
    "duration": 40,
    "start_time": "2024-06-17T01:00:17.284Z"
   },
   {
    "duration": 85,
    "start_time": "2024-06-17T01:00:17.328Z"
   },
   {
    "duration": 16,
    "start_time": "2024-06-17T01:00:17.416Z"
   },
   {
    "duration": 18,
    "start_time": "2024-06-17T01:00:17.440Z"
   },
   {
    "duration": 45,
    "start_time": "2024-06-17T01:00:17.462Z"
   },
   {
    "duration": 13,
    "start_time": "2024-06-17T01:00:17.510Z"
   },
   {
    "duration": 15,
    "start_time": "2024-06-17T01:00:17.525Z"
   },
   {
    "duration": 8,
    "start_time": "2024-06-17T01:00:17.544Z"
   },
   {
    "duration": 5,
    "start_time": "2024-06-17T01:00:17.556Z"
   },
   {
    "duration": 9,
    "start_time": "2024-06-17T01:00:17.607Z"
   },
   {
    "duration": 6,
    "start_time": "2024-06-17T01:00:17.618Z"
   },
   {
    "duration": 8,
    "start_time": "2024-06-17T01:00:17.627Z"
   },
   {
    "duration": 4,
    "start_time": "2024-06-17T01:00:17.639Z"
   },
   {
    "duration": 68,
    "start_time": "2024-06-17T01:00:17.647Z"
   },
   {
    "duration": 90,
    "start_time": "2024-06-17T01:00:17.717Z"
   },
   {
    "duration": 17,
    "start_time": "2024-06-17T01:00:17.811Z"
   },
   {
    "duration": 101,
    "start_time": "2024-06-17T01:00:17.918Z"
   },
   {
    "duration": 4,
    "start_time": "2024-06-17T01:00:18.022Z"
   },
   {
    "duration": 6,
    "start_time": "2024-06-17T01:00:18.029Z"
   },
   {
    "duration": 5,
    "start_time": "2024-06-17T01:00:18.038Z"
   },
   {
    "duration": 5,
    "start_time": "2024-06-17T01:00:18.046Z"
   },
   {
    "duration": 52,
    "start_time": "2024-06-17T01:00:18.055Z"
   },
   {
    "duration": 21,
    "start_time": "2024-06-17T01:00:18.111Z"
   },
   {
    "duration": 494,
    "start_time": "2024-06-17T01:00:18.135Z"
   },
   {
    "duration": 19,
    "start_time": "2024-06-17T01:01:34.775Z"
   },
   {
    "duration": 3799,
    "start_time": "2024-06-17T01:01:37.320Z"
   },
   {
    "duration": 6,
    "start_time": "2024-06-17T01:02:45.149Z"
   },
   {
    "duration": 19,
    "start_time": "2024-06-17T01:02:48.366Z"
   },
   {
    "duration": 3811,
    "start_time": "2024-06-17T01:02:56.189Z"
   },
   {
    "duration": 1919,
    "start_time": "2024-06-17T01:13:19.609Z"
   },
   {
    "duration": 3754,
    "start_time": "2024-06-17T01:13:31.768Z"
   },
   {
    "duration": 5,
    "start_time": "2024-06-17T01:14:04.316Z"
   },
   {
    "duration": 19,
    "start_time": "2024-06-17T01:14:05.940Z"
   },
   {
    "duration": 3570,
    "start_time": "2024-06-17T01:14:08.153Z"
   },
   {
    "duration": 5,
    "start_time": "2024-06-17T01:17:18.122Z"
   },
   {
    "duration": 19,
    "start_time": "2024-06-17T01:17:22.041Z"
   },
   {
    "duration": 1600,
    "start_time": "2024-06-17T01:17:27.685Z"
   },
   {
    "duration": 368,
    "start_time": "2024-06-17T01:17:29.289Z"
   },
   {
    "duration": 19,
    "start_time": "2024-06-17T01:17:29.660Z"
   },
   {
    "duration": 40,
    "start_time": "2024-06-17T01:17:29.682Z"
   },
   {
    "duration": 60,
    "start_time": "2024-06-17T01:17:29.726Z"
   },
   {
    "duration": 19,
    "start_time": "2024-06-17T01:17:29.808Z"
   },
   {
    "duration": 18,
    "start_time": "2024-06-17T01:17:29.830Z"
   },
   {
    "duration": 16,
    "start_time": "2024-06-17T01:17:29.851Z"
   },
   {
    "duration": 56,
    "start_time": "2024-06-17T01:17:29.905Z"
   },
   {
    "duration": 19,
    "start_time": "2024-06-17T01:17:29.964Z"
   },
   {
    "duration": 37,
    "start_time": "2024-06-17T01:17:29.986Z"
   },
   {
    "duration": 83,
    "start_time": "2024-06-17T01:17:30.026Z"
   },
   {
    "duration": 17,
    "start_time": "2024-06-17T01:17:30.112Z"
   },
   {
    "duration": 19,
    "start_time": "2024-06-17T01:17:30.135Z"
   },
   {
    "duration": 52,
    "start_time": "2024-06-17T01:17:30.156Z"
   },
   {
    "duration": 14,
    "start_time": "2024-06-17T01:17:30.211Z"
   },
   {
    "duration": 15,
    "start_time": "2024-06-17T01:17:30.228Z"
   },
   {
    "duration": 8,
    "start_time": "2024-06-17T01:17:30.246Z"
   },
   {
    "duration": 5,
    "start_time": "2024-06-17T01:17:30.257Z"
   },
   {
    "duration": 46,
    "start_time": "2024-06-17T01:17:30.265Z"
   },
   {
    "duration": 5,
    "start_time": "2024-06-17T01:17:30.314Z"
   },
   {
    "duration": 8,
    "start_time": "2024-06-17T01:17:30.323Z"
   },
   {
    "duration": 5,
    "start_time": "2024-06-17T01:17:30.334Z"
   },
   {
    "duration": 66,
    "start_time": "2024-06-17T01:17:30.342Z"
   },
   {
    "duration": 17,
    "start_time": "2024-06-17T01:17:30.410Z"
   },
   {
    "duration": 87,
    "start_time": "2024-06-17T01:17:30.429Z"
   },
   {
    "duration": 105,
    "start_time": "2024-06-17T01:17:30.519Z"
   },
   {
    "duration": 79,
    "start_time": "2024-06-17T01:17:30.627Z"
   },
   {
    "duration": 6,
    "start_time": "2024-06-17T01:17:30.709Z"
   },
   {
    "duration": 4,
    "start_time": "2024-06-17T01:17:30.719Z"
   },
   {
    "duration": 5,
    "start_time": "2024-06-17T01:17:30.726Z"
   },
   {
    "duration": 5,
    "start_time": "2024-06-17T01:17:30.735Z"
   },
   {
    "duration": 69,
    "start_time": "2024-06-17T01:17:30.743Z"
   },
   {
    "duration": 719,
    "start_time": "2024-06-17T01:17:30.815Z"
   },
   {
    "duration": 4458,
    "start_time": "2024-06-17T01:17:58.330Z"
   },
   {
    "duration": 4467,
    "start_time": "2024-06-17T01:21:15.502Z"
   },
   {
    "duration": 4541,
    "start_time": "2024-06-17T01:22:30.479Z"
   },
   {
    "duration": 4451,
    "start_time": "2024-06-17T01:23:04.260Z"
   },
   {
    "duration": 4638,
    "start_time": "2024-06-17T01:23:48.824Z"
   },
   {
    "duration": 13532,
    "start_time": "2024-06-17T01:27:53.924Z"
   },
   {
    "duration": 13449,
    "start_time": "2024-06-17T01:28:14.422Z"
   },
   {
    "duration": 4363,
    "start_time": "2024-06-17T01:28:51.422Z"
   },
   {
    "duration": 4390,
    "start_time": "2024-06-17T01:30:08.519Z"
   },
   {
    "duration": 4338,
    "start_time": "2024-06-17T01:31:48.629Z"
   },
   {
    "duration": 427,
    "start_time": "2024-06-17T01:36:57.124Z"
   },
   {
    "duration": 4407,
    "start_time": "2024-06-17T01:38:57.311Z"
   },
   {
    "duration": 4426,
    "start_time": "2024-06-17T01:39:04.148Z"
   },
   {
    "duration": 5404,
    "start_time": "2024-06-17T18:23:13.342Z"
   },
   {
    "duration": 607,
    "start_time": "2024-06-17T18:23:18.752Z"
   },
   {
    "duration": 23,
    "start_time": "2024-06-17T18:23:19.362Z"
   },
   {
    "duration": 46,
    "start_time": "2024-06-17T18:23:19.391Z"
   },
   {
    "duration": 104,
    "start_time": "2024-06-17T18:23:19.441Z"
   },
   {
    "duration": 30,
    "start_time": "2024-06-17T18:23:19.548Z"
   },
   {
    "duration": 52,
    "start_time": "2024-06-17T18:23:19.582Z"
   },
   {
    "duration": 27,
    "start_time": "2024-06-17T18:23:19.637Z"
   },
   {
    "duration": 109,
    "start_time": "2024-06-17T18:23:19.668Z"
   },
   {
    "duration": 43,
    "start_time": "2024-06-17T18:23:19.785Z"
   },
   {
    "duration": 35,
    "start_time": "2024-06-17T18:23:19.832Z"
   },
   {
    "duration": 105,
    "start_time": "2024-06-17T18:23:19.874Z"
   },
   {
    "duration": 19,
    "start_time": "2024-06-17T18:23:19.982Z"
   },
   {
    "duration": 20,
    "start_time": "2024-06-17T18:23:20.027Z"
   },
   {
    "duration": 17,
    "start_time": "2024-06-17T18:23:20.052Z"
   },
   {
    "duration": 16,
    "start_time": "2024-06-17T18:23:20.072Z"
   },
   {
    "duration": 52,
    "start_time": "2024-06-17T18:23:20.092Z"
   },
   {
    "duration": 13,
    "start_time": "2024-06-17T18:23:20.147Z"
   },
   {
    "duration": 6,
    "start_time": "2024-06-17T18:23:20.164Z"
   },
   {
    "duration": 51,
    "start_time": "2024-06-17T18:23:20.175Z"
   },
   {
    "duration": 6,
    "start_time": "2024-06-17T18:23:20.231Z"
   },
   {
    "duration": 12,
    "start_time": "2024-06-17T18:23:20.242Z"
   },
   {
    "duration": 6,
    "start_time": "2024-06-17T18:23:20.258Z"
   },
   {
    "duration": 68,
    "start_time": "2024-06-17T18:23:20.268Z"
   },
   {
    "duration": 95,
    "start_time": "2024-06-17T18:23:20.339Z"
   },
   {
    "duration": 103,
    "start_time": "2024-06-17T18:23:20.439Z"
   },
   {
    "duration": 98,
    "start_time": "2024-06-17T18:23:20.549Z"
   },
   {
    "duration": 4,
    "start_time": "2024-06-17T18:23:20.656Z"
   },
   {
    "duration": 8,
    "start_time": "2024-06-17T18:23:20.663Z"
   },
   {
    "duration": 5,
    "start_time": "2024-06-17T18:23:20.729Z"
   },
   {
    "duration": 6,
    "start_time": "2024-06-17T18:23:20.738Z"
   },
   {
    "duration": 6,
    "start_time": "2024-06-17T18:23:20.747Z"
   },
   {
    "duration": 70,
    "start_time": "2024-06-17T18:23:20.757Z"
   },
   {
    "duration": 4666,
    "start_time": "2024-06-17T18:23:20.830Z"
   },
   {
    "duration": 5,
    "start_time": "2024-06-17T18:24:41.713Z"
   },
   {
    "duration": 22,
    "start_time": "2024-06-17T18:24:44.724Z"
   },
   {
    "duration": 6,
    "start_time": "2024-06-17T18:25:15.116Z"
   },
   {
    "duration": 6,
    "start_time": "2024-06-17T18:25:30.075Z"
   },
   {
    "duration": 23,
    "start_time": "2024-06-17T18:26:23.335Z"
   },
   {
    "duration": 5114,
    "start_time": "2024-06-17T19:00:45.927Z"
   },
   {
    "duration": 5,
    "start_time": "2024-06-17T19:03:07.744Z"
   },
   {
    "duration": 19,
    "start_time": "2024-06-17T19:03:09.741Z"
   },
   {
    "duration": 5,
    "start_time": "2024-06-17T19:03:26.466Z"
   },
   {
    "duration": 27,
    "start_time": "2024-06-17T19:03:27.720Z"
   },
   {
    "duration": 5,
    "start_time": "2024-06-17T19:03:48.018Z"
   },
   {
    "duration": 5,
    "start_time": "2024-06-17T19:03:55.441Z"
   },
   {
    "duration": 19,
    "start_time": "2024-06-17T19:03:56.440Z"
   },
   {
    "duration": 5,
    "start_time": "2024-06-17T19:04:31.610Z"
   },
   {
    "duration": 4690,
    "start_time": "2024-06-17T19:05:15.639Z"
   },
   {
    "duration": 4702,
    "start_time": "2024-06-17T19:05:56.156Z"
   },
   {
    "duration": 4801,
    "start_time": "2024-06-17T19:06:30.160Z"
   },
   {
    "duration": 5137,
    "start_time": "2024-06-17T19:06:52.454Z"
   },
   {
    "duration": 4663,
    "start_time": "2024-06-17T19:07:43.769Z"
   },
   {
    "duration": 5585,
    "start_time": "2024-06-17T19:08:24.671Z"
   },
   {
    "duration": 4479,
    "start_time": "2024-06-17T19:09:12.107Z"
   },
   {
    "duration": 4548,
    "start_time": "2024-06-17T19:09:53.545Z"
   },
   {
    "duration": 76,
    "start_time": "2024-06-17T19:11:02.892Z"
   },
   {
    "duration": 4723,
    "start_time": "2024-06-17T19:13:18.573Z"
   },
   {
    "duration": 4918,
    "start_time": "2024-06-17T19:13:30.208Z"
   },
   {
    "duration": 4923,
    "start_time": "2024-06-17T19:13:47.181Z"
   },
   {
    "duration": 1551,
    "start_time": "2024-06-17T19:20:11.646Z"
   },
   {
    "duration": 370,
    "start_time": "2024-06-17T19:20:13.200Z"
   },
   {
    "duration": 22,
    "start_time": "2024-06-17T19:20:13.573Z"
   },
   {
    "duration": 43,
    "start_time": "2024-06-17T19:20:13.599Z"
   },
   {
    "duration": 80,
    "start_time": "2024-06-17T19:20:13.647Z"
   },
   {
    "duration": 20,
    "start_time": "2024-06-17T19:20:13.730Z"
   },
   {
    "duration": 18,
    "start_time": "2024-06-17T19:20:13.753Z"
   },
   {
    "duration": 53,
    "start_time": "2024-06-17T19:20:13.774Z"
   },
   {
    "duration": 56,
    "start_time": "2024-06-17T19:20:13.830Z"
   },
   {
    "duration": 38,
    "start_time": "2024-06-17T19:20:13.888Z"
   },
   {
    "duration": 18,
    "start_time": "2024-06-17T19:20:13.929Z"
   },
   {
    "duration": 86,
    "start_time": "2024-06-17T19:20:13.950Z"
   },
   {
    "duration": 17,
    "start_time": "2024-06-17T19:20:14.039Z"
   },
   {
    "duration": 18,
    "start_time": "2024-06-17T19:20:14.062Z"
   },
   {
    "duration": 43,
    "start_time": "2024-06-17T19:20:14.083Z"
   },
   {
    "duration": 16,
    "start_time": "2024-06-17T19:20:14.128Z"
   },
   {
    "duration": 15,
    "start_time": "2024-06-17T19:20:14.147Z"
   },
   {
    "duration": 7,
    "start_time": "2024-06-17T19:20:14.165Z"
   },
   {
    "duration": 5,
    "start_time": "2024-06-17T19:20:14.176Z"
   },
   {
    "duration": 46,
    "start_time": "2024-06-17T19:20:14.184Z"
   },
   {
    "duration": 5,
    "start_time": "2024-06-17T19:20:14.233Z"
   },
   {
    "duration": 8,
    "start_time": "2024-06-17T19:20:14.242Z"
   },
   {
    "duration": 5,
    "start_time": "2024-06-17T19:20:14.254Z"
   },
   {
    "duration": 69,
    "start_time": "2024-06-17T19:20:14.262Z"
   },
   {
    "duration": 18,
    "start_time": "2024-06-17T19:20:14.333Z"
   },
   {
    "duration": 16,
    "start_time": "2024-06-17T19:20:14.427Z"
   },
   {
    "duration": 181,
    "start_time": "2024-06-17T19:20:14.446Z"
   },
   {
    "duration": 4,
    "start_time": "2024-06-17T19:20:14.630Z"
   },
   {
    "duration": 7,
    "start_time": "2024-06-17T19:20:14.637Z"
   },
   {
    "duration": 5,
    "start_time": "2024-06-17T19:20:14.647Z"
   },
   {
    "duration": 8,
    "start_time": "2024-06-17T19:20:14.655Z"
   },
   {
    "duration": 6,
    "start_time": "2024-06-17T19:20:14.665Z"
   },
   {
    "duration": 69,
    "start_time": "2024-06-17T19:20:14.674Z"
   },
   {
    "duration": 4458,
    "start_time": "2024-06-17T19:20:14.747Z"
   },
   {
    "duration": 5,
    "start_time": "2024-06-17T19:24:37.763Z"
   },
   {
    "duration": 21,
    "start_time": "2024-06-17T19:24:40.412Z"
   },
   {
    "duration": 5,
    "start_time": "2024-06-17T19:25:33.175Z"
   },
   {
    "duration": 22,
    "start_time": "2024-06-17T19:25:35.014Z"
   },
   {
    "duration": 5,
    "start_time": "2024-06-17T19:25:48.889Z"
   },
   {
    "duration": 22,
    "start_time": "2024-06-17T19:25:50.915Z"
   },
   {
    "duration": 5,
    "start_time": "2024-06-17T19:26:30.906Z"
   },
   {
    "duration": 29,
    "start_time": "2024-06-17T19:26:32.241Z"
   },
   {
    "duration": 1727,
    "start_time": "2024-06-17T19:27:19.613Z"
   },
   {
    "duration": 366,
    "start_time": "2024-06-17T19:27:21.344Z"
   },
   {
    "duration": 20,
    "start_time": "2024-06-17T19:27:21.713Z"
   },
   {
    "duration": 22,
    "start_time": "2024-06-17T19:27:21.737Z"
   },
   {
    "duration": 92,
    "start_time": "2024-06-17T19:27:21.762Z"
   },
   {
    "duration": 19,
    "start_time": "2024-06-17T19:27:21.857Z"
   },
   {
    "duration": 17,
    "start_time": "2024-06-17T19:27:21.879Z"
   },
   {
    "duration": 44,
    "start_time": "2024-06-17T19:27:21.899Z"
   },
   {
    "duration": 85,
    "start_time": "2024-06-17T19:27:21.945Z"
   },
   {
    "duration": 22,
    "start_time": "2024-06-17T19:27:22.036Z"
   },
   {
    "duration": 20,
    "start_time": "2024-06-17T19:27:22.061Z"
   },
   {
    "duration": 88,
    "start_time": "2024-06-17T19:27:22.084Z"
   },
   {
    "duration": 16,
    "start_time": "2024-06-17T19:27:22.175Z"
   },
   {
    "duration": 42,
    "start_time": "2024-06-17T19:27:22.195Z"
   },
   {
    "duration": 13,
    "start_time": "2024-06-17T19:27:22.240Z"
   },
   {
    "duration": 14,
    "start_time": "2024-06-17T19:27:22.255Z"
   },
   {
    "duration": 16,
    "start_time": "2024-06-17T19:27:22.272Z"
   },
   {
    "duration": 40,
    "start_time": "2024-06-17T19:27:22.291Z"
   },
   {
    "duration": 5,
    "start_time": "2024-06-17T19:27:22.334Z"
   },
   {
    "duration": 8,
    "start_time": "2024-06-17T19:27:22.342Z"
   },
   {
    "duration": 6,
    "start_time": "2024-06-17T19:27:22.353Z"
   },
   {
    "duration": 8,
    "start_time": "2024-06-17T19:27:22.362Z"
   },
   {
    "duration": 53,
    "start_time": "2024-06-17T19:27:22.373Z"
   },
   {
    "duration": 24,
    "start_time": "2024-06-17T19:27:22.429Z"
   },
   {
    "duration": 83,
    "start_time": "2024-06-17T19:27:22.455Z"
   },
   {
    "duration": 90,
    "start_time": "2024-06-17T19:27:22.540Z"
   },
   {
    "duration": 99,
    "start_time": "2024-06-17T19:27:22.633Z"
   },
   {
    "duration": 3,
    "start_time": "2024-06-17T19:27:22.740Z"
   },
   {
    "duration": 6,
    "start_time": "2024-06-17T19:27:22.748Z"
   },
   {
    "duration": 5,
    "start_time": "2024-06-17T19:27:22.827Z"
   },
   {
    "duration": 7,
    "start_time": "2024-06-17T19:27:22.835Z"
   },
   {
    "duration": 5,
    "start_time": "2024-06-17T19:27:22.845Z"
   },
   {
    "duration": 729,
    "start_time": "2024-06-17T19:27:22.853Z"
   },
   {
    "duration": 0,
    "start_time": "2024-06-17T19:27:23.585Z"
   },
   {
    "duration": 27,
    "start_time": "2024-06-17T19:29:55.188Z"
   },
   {
    "duration": 5,
    "start_time": "2024-06-17T19:30:00.987Z"
   },
   {
    "duration": 24,
    "start_time": "2024-06-17T19:30:02.100Z"
   },
   {
    "duration": 20,
    "start_time": "2024-06-17T19:31:02.800Z"
   },
   {
    "duration": 5,
    "start_time": "2024-06-17T19:31:04.271Z"
   },
   {
    "duration": 20,
    "start_time": "2024-06-17T19:31:05.574Z"
   },
   {
    "duration": 1549,
    "start_time": "2024-06-17T19:31:13.651Z"
   },
   {
    "duration": 383,
    "start_time": "2024-06-17T19:31:15.203Z"
   },
   {
    "duration": 19,
    "start_time": "2024-06-17T19:31:15.589Z"
   },
   {
    "duration": 22,
    "start_time": "2024-06-17T19:31:15.628Z"
   },
   {
    "duration": 81,
    "start_time": "2024-06-17T19:31:15.653Z"
   },
   {
    "duration": 19,
    "start_time": "2024-06-17T19:31:15.737Z"
   },
   {
    "duration": 19,
    "start_time": "2024-06-17T19:31:15.759Z"
   },
   {
    "duration": 51,
    "start_time": "2024-06-17T19:31:15.782Z"
   },
   {
    "duration": 60,
    "start_time": "2024-06-17T19:31:15.836Z"
   },
   {
    "duration": 37,
    "start_time": "2024-06-17T19:31:15.902Z"
   },
   {
    "duration": 18,
    "start_time": "2024-06-17T19:31:15.942Z"
   },
   {
    "duration": 100,
    "start_time": "2024-06-17T19:31:15.962Z"
   },
   {
    "duration": 18,
    "start_time": "2024-06-17T19:31:16.065Z"
   },
   {
    "duration": 40,
    "start_time": "2024-06-17T19:31:16.086Z"
   },
   {
    "duration": 15,
    "start_time": "2024-06-17T19:31:16.129Z"
   },
   {
    "duration": 14,
    "start_time": "2024-06-17T19:31:16.147Z"
   },
   {
    "duration": 16,
    "start_time": "2024-06-17T19:31:16.164Z"
   },
   {
    "duration": 48,
    "start_time": "2024-06-17T19:31:16.183Z"
   },
   {
    "duration": 5,
    "start_time": "2024-06-17T19:31:16.235Z"
   },
   {
    "duration": 9,
    "start_time": "2024-06-17T19:31:16.244Z"
   },
   {
    "duration": 5,
    "start_time": "2024-06-17T19:31:16.257Z"
   },
   {
    "duration": 9,
    "start_time": "2024-06-17T19:31:16.266Z"
   },
   {
    "duration": 5,
    "start_time": "2024-06-17T19:31:16.327Z"
   },
   {
    "duration": 21,
    "start_time": "2024-06-17T19:31:16.335Z"
   },
   {
    "duration": 87,
    "start_time": "2024-06-17T19:31:16.359Z"
   },
   {
    "duration": 91,
    "start_time": "2024-06-17T19:31:16.449Z"
   },
   {
    "duration": 103,
    "start_time": "2024-06-17T19:31:16.542Z"
   },
   {
    "duration": 3,
    "start_time": "2024-06-17T19:31:16.728Z"
   },
   {
    "duration": 6,
    "start_time": "2024-06-17T19:31:16.734Z"
   },
   {
    "duration": 3,
    "start_time": "2024-06-17T19:31:16.744Z"
   },
   {
    "duration": 6,
    "start_time": "2024-06-17T19:31:16.750Z"
   },
   {
    "duration": 6,
    "start_time": "2024-06-17T19:31:16.758Z"
   },
   {
    "duration": 71,
    "start_time": "2024-06-17T19:31:16.768Z"
   },
   {
    "duration": 4795,
    "start_time": "2024-06-17T19:31:16.843Z"
   },
   {
    "duration": 1530,
    "start_time": "2024-06-17T19:31:43.652Z"
   },
   {
    "duration": 390,
    "start_time": "2024-06-17T19:31:45.186Z"
   },
   {
    "duration": 19,
    "start_time": "2024-06-17T19:31:45.579Z"
   },
   {
    "duration": 37,
    "start_time": "2024-06-17T19:31:45.601Z"
   },
   {
    "duration": 58,
    "start_time": "2024-06-17T19:31:45.642Z"
   },
   {
    "duration": 39,
    "start_time": "2024-06-17T19:31:45.703Z"
   },
   {
    "duration": 18,
    "start_time": "2024-06-17T19:31:45.746Z"
   },
   {
    "duration": 19,
    "start_time": "2024-06-17T19:31:45.767Z"
   },
   {
    "duration": 90,
    "start_time": "2024-06-17T19:31:45.789Z"
   },
   {
    "duration": 18,
    "start_time": "2024-06-17T19:31:45.883Z"
   },
   {
    "duration": 19,
    "start_time": "2024-06-17T19:31:45.927Z"
   },
   {
    "duration": 86,
    "start_time": "2024-06-17T19:31:45.949Z"
   },
   {
    "duration": 16,
    "start_time": "2024-06-17T19:31:46.038Z"
   },
   {
    "duration": 18,
    "start_time": "2024-06-17T19:31:46.062Z"
   },
   {
    "duration": 49,
    "start_time": "2024-06-17T19:31:46.083Z"
   },
   {
    "duration": 14,
    "start_time": "2024-06-17T19:31:46.134Z"
   },
   {
    "duration": 15,
    "start_time": "2024-06-17T19:31:46.150Z"
   },
   {
    "duration": 7,
    "start_time": "2024-06-17T19:31:46.168Z"
   },
   {
    "duration": 5,
    "start_time": "2024-06-17T19:31:46.178Z"
   },
   {
    "duration": 7,
    "start_time": "2024-06-17T19:31:46.227Z"
   },
   {
    "duration": 6,
    "start_time": "2024-06-17T19:31:46.238Z"
   },
   {
    "duration": 9,
    "start_time": "2024-06-17T19:31:46.248Z"
   },
   {
    "duration": 6,
    "start_time": "2024-06-17T19:31:46.261Z"
   },
   {
    "duration": 68,
    "start_time": "2024-06-17T19:31:46.271Z"
   },
   {
    "duration": 91,
    "start_time": "2024-06-17T19:31:46.341Z"
   },
   {
    "duration": 105,
    "start_time": "2024-06-17T19:31:46.434Z"
   },
   {
    "duration": 106,
    "start_time": "2024-06-17T19:31:46.544Z"
   },
   {
    "duration": 3,
    "start_time": "2024-06-17T19:31:46.728Z"
   },
   {
    "duration": 7,
    "start_time": "2024-06-17T19:31:46.734Z"
   },
   {
    "duration": 5,
    "start_time": "2024-06-17T19:31:46.744Z"
   },
   {
    "duration": 6,
    "start_time": "2024-06-17T19:31:46.753Z"
   },
   {
    "duration": 8,
    "start_time": "2024-06-17T19:31:46.762Z"
   },
   {
    "duration": 31,
    "start_time": "2024-06-17T19:31:46.825Z"
   },
   {
    "duration": 4822,
    "start_time": "2024-06-17T19:31:46.860Z"
   },
   {
    "duration": 21,
    "start_time": "2024-06-17T19:32:08.066Z"
   },
   {
    "duration": 1542,
    "start_time": "2024-06-17T19:32:13.253Z"
   },
   {
    "duration": 363,
    "start_time": "2024-06-17T19:32:14.798Z"
   },
   {
    "duration": 19,
    "start_time": "2024-06-17T19:32:15.164Z"
   },
   {
    "duration": 49,
    "start_time": "2024-06-17T19:32:15.188Z"
   },
   {
    "duration": 60,
    "start_time": "2024-06-17T19:32:15.240Z"
   },
   {
    "duration": 40,
    "start_time": "2024-06-17T19:32:15.304Z"
   },
   {
    "duration": 19,
    "start_time": "2024-06-17T19:32:15.348Z"
   },
   {
    "duration": 19,
    "start_time": "2024-06-17T19:32:15.371Z"
   },
   {
    "duration": 55,
    "start_time": "2024-06-17T19:32:15.426Z"
   },
   {
    "duration": 39,
    "start_time": "2024-06-17T19:32:15.487Z"
   },
   {
    "duration": 18,
    "start_time": "2024-06-17T19:32:15.530Z"
   },
   {
    "duration": 82,
    "start_time": "2024-06-17T19:32:15.550Z"
   },
   {
    "duration": 17,
    "start_time": "2024-06-17T19:32:15.635Z"
   },
   {
    "duration": 17,
    "start_time": "2024-06-17T19:32:15.657Z"
   },
   {
    "duration": 13,
    "start_time": "2024-06-17T19:32:15.677Z"
   },
   {
    "duration": 14,
    "start_time": "2024-06-17T19:32:15.725Z"
   },
   {
    "duration": 14,
    "start_time": "2024-06-17T19:32:15.742Z"
   },
   {
    "duration": 8,
    "start_time": "2024-06-17T19:32:15.759Z"
   },
   {
    "duration": 5,
    "start_time": "2024-06-17T19:32:15.771Z"
   },
   {
    "duration": 8,
    "start_time": "2024-06-17T19:32:15.779Z"
   },
   {
    "duration": 5,
    "start_time": "2024-06-17T19:32:15.828Z"
   },
   {
    "duration": 8,
    "start_time": "2024-06-17T19:32:15.836Z"
   },
   {
    "duration": 4,
    "start_time": "2024-06-17T19:32:15.848Z"
   },
   {
    "duration": 77,
    "start_time": "2024-06-17T19:32:15.855Z"
   },
   {
    "duration": 93,
    "start_time": "2024-06-17T19:32:15.939Z"
   },
   {
    "duration": 96,
    "start_time": "2024-06-17T19:32:16.036Z"
   },
   {
    "duration": 186,
    "start_time": "2024-06-17T19:32:16.140Z"
   },
   {
    "duration": 4,
    "start_time": "2024-06-17T19:32:16.334Z"
   },
   {
    "duration": 6,
    "start_time": "2024-06-17T19:32:16.342Z"
   },
   {
    "duration": 4,
    "start_time": "2024-06-17T19:32:16.352Z"
   },
   {
    "duration": 5,
    "start_time": "2024-06-17T19:32:16.360Z"
   },
   {
    "duration": 5,
    "start_time": "2024-06-17T19:32:16.369Z"
   },
   {
    "duration": 73,
    "start_time": "2024-06-17T19:32:16.376Z"
   },
   {
    "duration": 4805,
    "start_time": "2024-06-17T19:32:16.453Z"
   },
   {
    "duration": 4878,
    "start_time": "2024-06-17T19:33:48.185Z"
   },
   {
    "duration": 1620,
    "start_time": "2024-06-17T19:35:36.225Z"
   },
   {
    "duration": 370,
    "start_time": "2024-06-17T19:35:37.849Z"
   },
   {
    "duration": 25,
    "start_time": "2024-06-17T19:35:38.222Z"
   },
   {
    "duration": 22,
    "start_time": "2024-06-17T19:35:38.249Z"
   },
   {
    "duration": 88,
    "start_time": "2024-06-17T19:35:38.275Z"
   },
   {
    "duration": 19,
    "start_time": "2024-06-17T19:35:38.366Z"
   },
   {
    "duration": 40,
    "start_time": "2024-06-17T19:35:38.388Z"
   },
   {
    "duration": 20,
    "start_time": "2024-06-17T19:35:38.430Z"
   },
   {
    "duration": 80,
    "start_time": "2024-06-17T19:35:38.453Z"
   },
   {
    "duration": 20,
    "start_time": "2024-06-17T19:35:38.536Z"
   },
   {
    "duration": 21,
    "start_time": "2024-06-17T19:35:38.559Z"
   },
   {
    "duration": 101,
    "start_time": "2024-06-17T19:35:38.583Z"
   },
   {
    "duration": 16,
    "start_time": "2024-06-17T19:35:38.687Z"
   },
   {
    "duration": 19,
    "start_time": "2024-06-17T19:35:38.728Z"
   },
   {
    "duration": 13,
    "start_time": "2024-06-17T19:35:38.750Z"
   },
   {
    "duration": 15,
    "start_time": "2024-06-17T19:35:38.765Z"
   },
   {
    "duration": 52,
    "start_time": "2024-06-17T19:35:38.782Z"
   },
   {
    "duration": 8,
    "start_time": "2024-06-17T19:35:38.836Z"
   },
   {
    "duration": 5,
    "start_time": "2024-06-17T19:35:38.847Z"
   },
   {
    "duration": 8,
    "start_time": "2024-06-17T19:35:38.856Z"
   },
   {
    "duration": 5,
    "start_time": "2024-06-17T19:35:38.867Z"
   },
   {
    "duration": 51,
    "start_time": "2024-06-17T19:35:38.875Z"
   },
   {
    "duration": 6,
    "start_time": "2024-06-17T19:35:38.929Z"
   },
   {
    "duration": 20,
    "start_time": "2024-06-17T19:35:38.938Z"
   },
   {
    "duration": 77,
    "start_time": "2024-06-17T19:35:38.961Z"
   },
   {
    "duration": 90,
    "start_time": "2024-06-17T19:35:39.040Z"
   },
   {
    "duration": 104,
    "start_time": "2024-06-17T19:35:39.133Z"
   },
   {
    "duration": 4,
    "start_time": "2024-06-17T19:35:39.240Z"
   },
   {
    "duration": 81,
    "start_time": "2024-06-17T19:35:39.248Z"
   },
   {
    "duration": 5,
    "start_time": "2024-06-17T19:35:39.332Z"
   },
   {
    "duration": 6,
    "start_time": "2024-06-17T19:35:39.340Z"
   },
   {
    "duration": 5,
    "start_time": "2024-06-17T19:35:39.350Z"
   },
   {
    "duration": 24,
    "start_time": "2024-06-17T19:35:39.358Z"
   },
   {
    "duration": 4811,
    "start_time": "2024-06-17T19:35:39.426Z"
   },
   {
    "duration": 5402,
    "start_time": "2024-06-18T18:17:23.083Z"
   },
   {
    "duration": 526,
    "start_time": "2024-06-18T18:17:28.490Z"
   },
   {
    "duration": 24,
    "start_time": "2024-06-18T18:17:29.019Z"
   },
   {
    "duration": 23,
    "start_time": "2024-06-18T18:17:29.049Z"
   },
   {
    "duration": 104,
    "start_time": "2024-06-18T18:17:29.075Z"
   },
   {
    "duration": 24,
    "start_time": "2024-06-18T18:17:29.182Z"
   },
   {
    "duration": 40,
    "start_time": "2024-06-18T18:17:29.209Z"
   },
   {
    "duration": 20,
    "start_time": "2024-06-18T18:17:29.252Z"
   },
   {
    "duration": 88,
    "start_time": "2024-06-18T18:17:29.278Z"
   },
   {
    "duration": 26,
    "start_time": "2024-06-18T18:17:29.373Z"
   },
   {
    "duration": 40,
    "start_time": "2024-06-18T18:17:29.405Z"
   },
   {
    "duration": 87,
    "start_time": "2024-06-18T18:17:29.449Z"
   },
   {
    "duration": 25,
    "start_time": "2024-06-18T18:17:29.543Z"
   },
   {
    "duration": 23,
    "start_time": "2024-06-18T18:17:29.572Z"
   },
   {
    "duration": 35,
    "start_time": "2024-06-18T18:17:29.599Z"
   },
   {
    "duration": 19,
    "start_time": "2024-06-18T18:17:29.637Z"
   },
   {
    "duration": 20,
    "start_time": "2024-06-18T18:17:29.660Z"
   },
   {
    "duration": 10,
    "start_time": "2024-06-18T18:17:29.685Z"
   },
   {
    "duration": 39,
    "start_time": "2024-06-18T18:17:29.698Z"
   },
   {
    "duration": 9,
    "start_time": "2024-06-18T18:17:29.741Z"
   },
   {
    "duration": 7,
    "start_time": "2024-06-18T18:17:29.754Z"
   },
   {
    "duration": 9,
    "start_time": "2024-06-18T18:17:29.765Z"
   },
   {
    "duration": 6,
    "start_time": "2024-06-18T18:17:29.778Z"
   },
   {
    "duration": 23,
    "start_time": "2024-06-18T18:17:29.833Z"
   },
   {
    "duration": 85,
    "start_time": "2024-06-18T18:17:29.858Z"
   },
   {
    "duration": 110,
    "start_time": "2024-06-18T18:17:29.946Z"
   },
   {
    "duration": 100,
    "start_time": "2024-06-18T18:17:30.060Z"
   },
   {
    "duration": 69,
    "start_time": "2024-06-18T18:17:30.166Z"
   },
   {
    "duration": 7,
    "start_time": "2024-06-18T18:17:30.239Z"
   },
   {
    "duration": 5,
    "start_time": "2024-06-18T18:17:30.249Z"
   },
   {
    "duration": 6,
    "start_time": "2024-06-18T18:17:30.257Z"
   },
   {
    "duration": 7,
    "start_time": "2024-06-18T18:17:30.266Z"
   },
   {
    "duration": 72,
    "start_time": "2024-06-18T18:17:30.276Z"
   },
   {
    "duration": 5533,
    "start_time": "2024-06-18T18:17:30.352Z"
   },
   {
    "duration": 5322,
    "start_time": "2024-06-18T18:18:45.065Z"
   },
   {
    "duration": 5580,
    "start_time": "2024-06-18T18:21:08.882Z"
   },
   {
    "duration": 11,
    "start_time": "2024-06-18T18:21:50.793Z"
   },
   {
    "duration": 13,
    "start_time": "2024-06-18T18:21:58.057Z"
   },
   {
    "duration": 11,
    "start_time": "2024-06-18T18:22:21.175Z"
   },
   {
    "duration": 6098,
    "start_time": "2024-06-18T18:22:31.325Z"
   },
   {
    "duration": 1595,
    "start_time": "2024-06-18T18:34:53.479Z"
   },
   {
    "duration": 420,
    "start_time": "2024-06-18T18:34:55.077Z"
   },
   {
    "duration": 42,
    "start_time": "2024-06-18T18:34:55.500Z"
   },
   {
    "duration": 33,
    "start_time": "2024-06-18T18:34:55.548Z"
   },
   {
    "duration": 64,
    "start_time": "2024-06-18T18:34:55.585Z"
   },
   {
    "duration": 27,
    "start_time": "2024-06-18T18:34:55.653Z"
   },
   {
    "duration": 25,
    "start_time": "2024-06-18T18:34:55.682Z"
   },
   {
    "duration": 44,
    "start_time": "2024-06-18T18:34:55.710Z"
   },
   {
    "duration": 72,
    "start_time": "2024-06-18T18:34:55.757Z"
   },
   {
    "duration": 20,
    "start_time": "2024-06-18T18:34:55.834Z"
   },
   {
    "duration": 18,
    "start_time": "2024-06-18T18:34:55.857Z"
   },
   {
    "duration": 95,
    "start_time": "2024-06-18T18:34:55.877Z"
   },
   {
    "duration": 18,
    "start_time": "2024-06-18T18:34:55.975Z"
   },
   {
    "duration": 44,
    "start_time": "2024-06-18T18:34:56.002Z"
   },
   {
    "duration": 17,
    "start_time": "2024-06-18T18:34:56.051Z"
   },
   {
    "duration": 17,
    "start_time": "2024-06-18T18:34:56.071Z"
   },
   {
    "duration": 15,
    "start_time": "2024-06-18T18:34:56.091Z"
   },
   {
    "duration": 9,
    "start_time": "2024-06-18T18:34:56.109Z"
   },
   {
    "duration": 10,
    "start_time": "2024-06-18T18:34:56.134Z"
   },
   {
    "duration": 8,
    "start_time": "2024-06-18T18:34:56.147Z"
   },
   {
    "duration": 5,
    "start_time": "2024-06-18T18:34:56.158Z"
   },
   {
    "duration": 10,
    "start_time": "2024-06-18T18:34:56.166Z"
   },
   {
    "duration": 10,
    "start_time": "2024-06-18T18:34:56.178Z"
   },
   {
    "duration": 67,
    "start_time": "2024-06-18T18:34:56.191Z"
   },
   {
    "duration": 31,
    "start_time": "2024-06-18T18:34:56.261Z"
   },
   {
    "duration": 79,
    "start_time": "2024-06-18T18:34:56.294Z"
   },
   {
    "duration": 154,
    "start_time": "2024-06-18T18:34:56.381Z"
   },
   {
    "duration": 13,
    "start_time": "2024-06-18T18:34:56.541Z"
   },
   {
    "duration": 5,
    "start_time": "2024-06-18T18:34:56.558Z"
   },
   {
    "duration": 7,
    "start_time": "2024-06-18T18:34:56.566Z"
   },
   {
    "duration": 5,
    "start_time": "2024-06-18T18:34:56.577Z"
   },
   {
    "duration": 6,
    "start_time": "2024-06-18T18:34:56.585Z"
   },
   {
    "duration": 44,
    "start_time": "2024-06-18T18:34:56.594Z"
   },
   {
    "duration": 5487,
    "start_time": "2024-06-18T18:34:56.642Z"
   },
   {
    "duration": 1215,
    "start_time": "2024-06-18T18:35:21.504Z"
   },
   {
    "duration": 462,
    "start_time": "2024-06-18T18:35:22.722Z"
   },
   {
    "duration": 22,
    "start_time": "2024-06-18T18:35:23.187Z"
   },
   {
    "duration": 58,
    "start_time": "2024-06-18T18:35:23.212Z"
   },
   {
    "duration": 79,
    "start_time": "2024-06-18T18:35:23.280Z"
   },
   {
    "duration": 40,
    "start_time": "2024-06-18T18:35:23.363Z"
   },
   {
    "duration": 28,
    "start_time": "2024-06-18T18:35:23.407Z"
   },
   {
    "duration": 26,
    "start_time": "2024-06-18T18:35:23.438Z"
   },
   {
    "duration": 101,
    "start_time": "2024-06-18T18:35:23.467Z"
   },
   {
    "duration": 30,
    "start_time": "2024-06-18T18:35:23.571Z"
   },
   {
    "duration": 24,
    "start_time": "2024-06-18T18:35:23.606Z"
   },
   {
    "duration": 80,
    "start_time": "2024-06-18T18:35:23.636Z"
   },
   {
    "duration": 44,
    "start_time": "2024-06-18T18:35:23.719Z"
   },
   {
    "duration": 23,
    "start_time": "2024-06-18T18:35:23.771Z"
   },
   {
    "duration": 14,
    "start_time": "2024-06-18T18:35:23.797Z"
   },
   {
    "duration": 33,
    "start_time": "2024-06-18T18:35:23.815Z"
   },
   {
    "duration": 21,
    "start_time": "2024-06-18T18:35:23.851Z"
   },
   {
    "duration": 10,
    "start_time": "2024-06-18T18:35:23.877Z"
   },
   {
    "duration": 6,
    "start_time": "2024-06-18T18:35:23.890Z"
   },
   {
    "duration": 38,
    "start_time": "2024-06-18T18:35:23.900Z"
   },
   {
    "duration": 9,
    "start_time": "2024-06-18T18:35:23.941Z"
   },
   {
    "duration": 18,
    "start_time": "2024-06-18T18:35:23.953Z"
   },
   {
    "duration": 10,
    "start_time": "2024-06-18T18:35:23.974Z"
   },
   {
    "duration": 60,
    "start_time": "2024-06-18T18:35:23.988Z"
   },
   {
    "duration": 96,
    "start_time": "2024-06-18T18:35:24.052Z"
   },
   {
    "duration": 90,
    "start_time": "2024-06-18T18:35:24.157Z"
   },
   {
    "duration": 95,
    "start_time": "2024-06-18T18:35:24.256Z"
   },
   {
    "duration": 7,
    "start_time": "2024-06-18T18:35:24.356Z"
   },
   {
    "duration": 11,
    "start_time": "2024-06-18T18:35:24.366Z"
   },
   {
    "duration": 4,
    "start_time": "2024-06-18T18:35:24.379Z"
   },
   {
    "duration": 5,
    "start_time": "2024-06-18T18:35:24.386Z"
   },
   {
    "duration": 6,
    "start_time": "2024-06-18T18:35:24.394Z"
   },
   {
    "duration": 52,
    "start_time": "2024-06-18T18:35:24.403Z"
   },
   {
    "duration": 5660,
    "start_time": "2024-06-18T18:35:24.458Z"
   },
   {
    "duration": 5820,
    "start_time": "2024-06-18T18:35:55.328Z"
   },
   {
    "duration": 48,
    "start_time": "2024-06-18T18:37:47.003Z"
   },
   {
    "duration": 6655,
    "start_time": "2024-06-18T18:44:47.981Z"
   },
   {
    "duration": 1330,
    "start_time": "2024-06-18T18:53:57.766Z"
   },
   {
    "duration": 506,
    "start_time": "2024-06-18T18:53:59.100Z"
   },
   {
    "duration": 36,
    "start_time": "2024-06-18T18:53:59.609Z"
   },
   {
    "duration": 25,
    "start_time": "2024-06-18T18:53:59.650Z"
   },
   {
    "duration": 91,
    "start_time": "2024-06-18T18:53:59.678Z"
   },
   {
    "duration": 21,
    "start_time": "2024-06-18T18:53:59.772Z"
   },
   {
    "duration": 46,
    "start_time": "2024-06-18T18:53:59.796Z"
   },
   {
    "duration": 18,
    "start_time": "2024-06-18T18:53:59.845Z"
   },
   {
    "duration": 87,
    "start_time": "2024-06-18T18:53:59.866Z"
   },
   {
    "duration": 21,
    "start_time": "2024-06-18T18:53:59.959Z"
   },
   {
    "duration": 24,
    "start_time": "2024-06-18T18:53:59.984Z"
   },
   {
    "duration": 73,
    "start_time": "2024-06-18T18:54:00.033Z"
   },
   {
    "duration": 36,
    "start_time": "2024-06-18T18:54:00.109Z"
   },
   {
    "duration": 20,
    "start_time": "2024-06-18T18:54:00.148Z"
   },
   {
    "duration": 14,
    "start_time": "2024-06-18T18:54:00.171Z"
   },
   {
    "duration": 48,
    "start_time": "2024-06-18T18:54:00.188Z"
   },
   {
    "duration": 22,
    "start_time": "2024-06-18T18:54:00.244Z"
   },
   {
    "duration": 11,
    "start_time": "2024-06-18T18:54:00.276Z"
   },
   {
    "duration": 10,
    "start_time": "2024-06-18T18:54:00.296Z"
   },
   {
    "duration": 10,
    "start_time": "2024-06-18T18:54:00.316Z"
   },
   {
    "duration": 9,
    "start_time": "2024-06-18T18:54:00.333Z"
   },
   {
    "duration": 11,
    "start_time": "2024-06-18T18:54:00.349Z"
   },
   {
    "duration": 8,
    "start_time": "2024-06-18T18:54:00.364Z"
   },
   {
    "duration": 69,
    "start_time": "2024-06-18T18:54:00.375Z"
   },
   {
    "duration": 30,
    "start_time": "2024-06-18T18:54:00.447Z"
   },
   {
    "duration": 74,
    "start_time": "2024-06-18T18:54:00.481Z"
   },
   {
    "duration": 110,
    "start_time": "2024-06-18T18:54:00.560Z"
   },
   {
    "duration": 4,
    "start_time": "2024-06-18T18:54:00.678Z"
   },
   {
    "duration": 6,
    "start_time": "2024-06-18T18:54:00.734Z"
   },
   {
    "duration": 4,
    "start_time": "2024-06-18T18:54:00.743Z"
   },
   {
    "duration": 6,
    "start_time": "2024-06-18T18:54:00.751Z"
   },
   {
    "duration": 5,
    "start_time": "2024-06-18T18:54:00.760Z"
   },
   {
    "duration": 22,
    "start_time": "2024-06-18T18:54:00.769Z"
   },
   {
    "duration": 6283,
    "start_time": "2024-06-18T18:54:00.834Z"
   }
  ],
  "kernelspec": {
   "display_name": "Python 3 (ipykernel)",
   "language": "python",
   "name": "python3"
  },
  "language_info": {
   "codemirror_mode": {
    "name": "ipython",
    "version": 3
   },
   "file_extension": ".py",
   "mimetype": "text/x-python",
   "name": "python",
   "nbconvert_exporter": "python",
   "pygments_lexer": "ipython3",
   "version": "3.9.19"
  },
  "toc": {
   "base_numbering": 1,
   "nav_menu": {},
   "number_sections": true,
   "sideBar": true,
   "skip_h1_title": true,
   "title_cell": "Table of Contents",
   "title_sidebar": "Contents",
   "toc_cell": false,
   "toc_position": {},
   "toc_section_display": true,
   "toc_window_display": false
  }
 },
 "nbformat": 4,
 "nbformat_minor": 2
}
