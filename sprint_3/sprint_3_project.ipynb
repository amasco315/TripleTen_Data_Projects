{
 "cells": [
  {
   "cell_type": "markdown",
   "metadata": {},
   "source": [
    "# Which one is a better plan?\n",
    "\n",
    "You work as an analyst for the telecom operator Megaline. The company offers its clients two prepaid plans, Surf and Ultimate. The commercial department wants to know which of the plans brings in more revenue in order to adjust the advertising budget.\n",
    "\n",
    "You are going to carry out a preliminary analysis of the plans based on a relatively small client selection. You'll have the data on 500 Megaline clients: who the clients are, where they're from, which plan they use, and the number of calls they made and text messages they sent in 2018. Your job is to analyze the clients' behavior and determine which prepaid plan brings in more revenue."
   ]
  },
  {
   "cell_type": "markdown",
   "metadata": {},
   "source": [
    "**Introduction**\\\n",
    "In this project I will be looking at data on 500 customers of Megaline, a telecom operator. The data provided includes who the clients are, where they're from, which plan they use, the number of calls they made, text messages they sent, and internet data they used in 2018. Megaline has 2 different plans that they offer, Surf and Ultimate. I will be comparing the tendencies of Surf customers to Ultimate customers, as well as comparing the revenue brought in by each plan. This includes comparing amounts of messages sent, calls made, duration of calls, and internet usage. The purpose of this research is to determine which plan brings in more revenue, and report back to the commercial department at Megaline. This information will help them decide where to properly allocate their advertising budget. "
   ]
  },
  {
   "cell_type": "markdown",
   "metadata": {},
   "source": [
    "## Initialization"
   ]
  },
  {
   "cell_type": "code",
   "execution_count": 1,
   "metadata": {},
   "outputs": [],
   "source": [
    "#Loading all Libraries\n",
    "from scipy import stats as st\n",
    "import pandas as pd\n",
    "import numpy as np \n",
    "import matplotlib.pyplot as plt\n",
    "\n",
    "\n"
   ]
  },
  {
   "cell_type": "markdown",
   "metadata": {},
   "source": [
    "## Load data"
   ]
  },
  {
   "cell_type": "markdown",
   "metadata": {},
   "source": [
    "Begin by loading all data into dataframes."
   ]
  },
  {
   "cell_type": "code",
   "execution_count": 2,
   "metadata": {},
   "outputs": [],
   "source": [
    "# Load the data files into different DataFrames\n",
    "calls = pd.read_csv('/datasets/megaline_calls.csv')\n",
    "internet = pd.read_csv('/datasets/megaline_internet.csv')\n",
    "messages = pd.read_csv('/datasets/megaline_messages.csv')\n",
    "plans = pd.read_csv('/datasets/megaline_plans.csv')\n",
    "users = pd.read_csv('/datasets/megaline_users.csv')\n"
   ]
  },
  {
   "cell_type": "markdown",
   "metadata": {},
   "source": [
    "## Prepare the data"
   ]
  },
  {
   "cell_type": "markdown",
   "metadata": {},
   "source": [
    "In the following sections I will fix any issues within the dataframes, and any additional factors that could help us later on. Before doing that, I will provide the descriptions of each dataframe and their columns.\\\n",
    "**The users table (data on users):**\n",
    "- user_id — unique user identifier\n",
    "- first_name — user's name\n",
    "- last_name — user's last name\n",
    "- age — user's age (years)\n",
    "- reg_date — subscription date (dd, mm, yy)\n",
    "- churn_date — the date the user stopped using the service (if the value is missing, the calling plan was being used when this database was extracted)\n",
    "- city — user's city of residence\n",
    "- plan — calling plan name\n",
    "\n",
    "**The calls table (data on calls):**\n",
    "- id — unique call identifier\n",
    "- call_date — call date\n",
    "- duration — call duration (in minutes)\n",
    "- user_id — the identifier of the user making the call\n",
    "\n",
    "**The messages table (data on texts):**\n",
    "- id — unique text message identifier\n",
    "- message_date — text message date\n",
    "- user_id — the identifier of the user sending the text\n",
    "\n",
    "**The internet table (data on web sessions):**\n",
    "- id — unique session identifier\n",
    "- mb_used — the volume of data spent during the session (in megabytes)\n",
    "- session_date — web session date\n",
    "- user_id — user identifier\n",
    "\n",
    "**The plans table (data on the plans):**\n",
    "- plan_name — calling plan name\n",
    "- usd_monthly_fee — monthly charge in US dollars\n",
    "- minutes_included — monthly minute allowance\n",
    "- messages_included — monthly text allowance\n",
    "- mb_per_month_included — data volume allowance (in megabytes)\n",
    "- usd_per_minute — price per minute after exceeding the package limits (e.g., if the package includes 100 minutes, the 101st minute will be charged)\n",
    "- usd_per_message — price per text after exceeding the package limits\n",
    "- usd_per_gb — price per extra gigabyte of data after exceeding the package limits (1 GB = 1024 megabytes)\n"
   ]
  },
  {
   "cell_type": "markdown",
   "metadata": {},
   "source": [
    "## Plans"
   ]
  },
  {
   "cell_type": "code",
   "execution_count": 3,
   "metadata": {},
   "outputs": [
    {
     "name": "stdout",
     "output_type": "stream",
     "text": [
      "<class 'pandas.core.frame.DataFrame'>\n",
      "RangeIndex: 2 entries, 0 to 1\n",
      "Data columns (total 8 columns):\n",
      " #   Column                 Non-Null Count  Dtype  \n",
      "---  ------                 --------------  -----  \n",
      " 0   messages_included      2 non-null      int64  \n",
      " 1   mb_per_month_included  2 non-null      int64  \n",
      " 2   minutes_included       2 non-null      int64  \n",
      " 3   usd_monthly_pay        2 non-null      int64  \n",
      " 4   usd_per_gb             2 non-null      int64  \n",
      " 5   usd_per_message        2 non-null      float64\n",
      " 6   usd_per_minute         2 non-null      float64\n",
      " 7   plan_name              2 non-null      object \n",
      "dtypes: float64(2), int64(5), object(1)\n",
      "memory usage: 256.0+ bytes\n"
     ]
    },
    {
     "data": {
      "text/plain": [
       "None"
      ]
     },
     "metadata": {},
     "output_type": "display_data"
    }
   ],
   "source": [
    "# Print the general/summary information about the plans' DataFrame\n",
    "display(plans.info())\n"
   ]
  },
  {
   "cell_type": "code",
   "execution_count": 4,
   "metadata": {},
   "outputs": [
    {
     "data": {
      "text/html": [
       "<div>\n",
       "<style scoped>\n",
       "    .dataframe tbody tr th:only-of-type {\n",
       "        vertical-align: middle;\n",
       "    }\n",
       "\n",
       "    .dataframe tbody tr th {\n",
       "        vertical-align: top;\n",
       "    }\n",
       "\n",
       "    .dataframe thead th {\n",
       "        text-align: right;\n",
       "    }\n",
       "</style>\n",
       "<table border=\"1\" class=\"dataframe\">\n",
       "  <thead>\n",
       "    <tr style=\"text-align: right;\">\n",
       "      <th></th>\n",
       "      <th>messages_included</th>\n",
       "      <th>mb_per_month_included</th>\n",
       "      <th>minutes_included</th>\n",
       "      <th>usd_monthly_pay</th>\n",
       "      <th>usd_per_gb</th>\n",
       "      <th>usd_per_message</th>\n",
       "      <th>usd_per_minute</th>\n",
       "      <th>plan_name</th>\n",
       "    </tr>\n",
       "  </thead>\n",
       "  <tbody>\n",
       "    <tr>\n",
       "      <th>0</th>\n",
       "      <td>50</td>\n",
       "      <td>15360</td>\n",
       "      <td>500</td>\n",
       "      <td>20</td>\n",
       "      <td>10</td>\n",
       "      <td>0.03</td>\n",
       "      <td>0.03</td>\n",
       "      <td>surf</td>\n",
       "    </tr>\n",
       "  </tbody>\n",
       "</table>\n",
       "</div>"
      ],
      "text/plain": [
       "   messages_included  mb_per_month_included  minutes_included  \\\n",
       "0                 50                  15360               500   \n",
       "\n",
       "   usd_monthly_pay  usd_per_gb  usd_per_message  usd_per_minute plan_name  \n",
       "0               20          10             0.03            0.03      surf  "
      ]
     },
     "execution_count": 4,
     "metadata": {},
     "output_type": "execute_result"
    }
   ],
   "source": [
    "# Print a sample of data for plans\n",
    "plans.sample()\n"
   ]
  },
  {
   "cell_type": "markdown",
   "metadata": {},
   "source": [
    "Based on the general information for this dataframe, it does not seem like there is anything that we need to fix. There are no missing values, and each column appears to be an appropriate datatype. When observing a sample of the dataframe, it appears that there is nothing that needs to be fixed in this dataframe. "
   ]
  },
  {
   "cell_type": "markdown",
   "metadata": {},
   "source": [
    "## Fix data"
   ]
  },
  {
   "cell_type": "markdown",
   "metadata": {},
   "source": [
    "No obvious issues needed to be fixed based on observation."
   ]
  },
  {
   "cell_type": "markdown",
   "metadata": {},
   "source": [
    "## Enrich data"
   ]
  },
  {
   "cell_type": "markdown",
   "metadata": {},
   "source": [
    "There are no additional factors to be added to this dataframe.\n"
   ]
  },
  {
   "cell_type": "markdown",
   "metadata": {},
   "source": [
    "## Users"
   ]
  },
  {
   "cell_type": "code",
   "execution_count": 5,
   "metadata": {},
   "outputs": [
    {
     "name": "stdout",
     "output_type": "stream",
     "text": [
      "<class 'pandas.core.frame.DataFrame'>\n",
      "RangeIndex: 500 entries, 0 to 499\n",
      "Data columns (total 8 columns):\n",
      " #   Column      Non-Null Count  Dtype \n",
      "---  ------      --------------  ----- \n",
      " 0   user_id     500 non-null    int64 \n",
      " 1   first_name  500 non-null    object\n",
      " 2   last_name   500 non-null    object\n",
      " 3   age         500 non-null    int64 \n",
      " 4   city        500 non-null    object\n",
      " 5   reg_date    500 non-null    object\n",
      " 6   plan        500 non-null    object\n",
      " 7   churn_date  34 non-null     object\n",
      "dtypes: int64(2), object(6)\n",
      "memory usage: 31.4+ KB\n"
     ]
    }
   ],
   "source": [
    "# Print the general/summary information about the users' DataFrame\n",
    "users.info()\n"
   ]
  },
  {
   "cell_type": "code",
   "execution_count": 6,
   "metadata": {},
   "outputs": [
    {
     "data": {
      "text/html": [
       "<div>\n",
       "<style scoped>\n",
       "    .dataframe tbody tr th:only-of-type {\n",
       "        vertical-align: middle;\n",
       "    }\n",
       "\n",
       "    .dataframe tbody tr th {\n",
       "        vertical-align: top;\n",
       "    }\n",
       "\n",
       "    .dataframe thead th {\n",
       "        text-align: right;\n",
       "    }\n",
       "</style>\n",
       "<table border=\"1\" class=\"dataframe\">\n",
       "  <thead>\n",
       "    <tr style=\"text-align: right;\">\n",
       "      <th></th>\n",
       "      <th>user_id</th>\n",
       "      <th>first_name</th>\n",
       "      <th>last_name</th>\n",
       "      <th>age</th>\n",
       "      <th>city</th>\n",
       "      <th>reg_date</th>\n",
       "      <th>plan</th>\n",
       "      <th>churn_date</th>\n",
       "    </tr>\n",
       "  </thead>\n",
       "  <tbody>\n",
       "    <tr>\n",
       "      <th>172</th>\n",
       "      <td>1172</td>\n",
       "      <td>Weldon</td>\n",
       "      <td>Robinson</td>\n",
       "      <td>72</td>\n",
       "      <td>Boston-Cambridge-Newton, MA-NH MSA</td>\n",
       "      <td>2018-03-30</td>\n",
       "      <td>surf</td>\n",
       "      <td>2018-11-29</td>\n",
       "    </tr>\n",
       "    <tr>\n",
       "      <th>374</th>\n",
       "      <td>1374</td>\n",
       "      <td>Ching</td>\n",
       "      <td>Watts</td>\n",
       "      <td>55</td>\n",
       "      <td>Louisville/Jefferson County, KY-IN MSA</td>\n",
       "      <td>2018-02-14</td>\n",
       "      <td>surf</td>\n",
       "      <td>NaN</td>\n",
       "    </tr>\n",
       "    <tr>\n",
       "      <th>498</th>\n",
       "      <td>1498</td>\n",
       "      <td>Scot</td>\n",
       "      <td>Williamson</td>\n",
       "      <td>51</td>\n",
       "      <td>New York-Newark-Jersey City, NY-NJ-PA MSA</td>\n",
       "      <td>2018-02-04</td>\n",
       "      <td>surf</td>\n",
       "      <td>NaN</td>\n",
       "    </tr>\n",
       "    <tr>\n",
       "      <th>379</th>\n",
       "      <td>1379</td>\n",
       "      <td>Jarrett</td>\n",
       "      <td>Spencer</td>\n",
       "      <td>34</td>\n",
       "      <td>Grand Rapids-Kentwood, MI MSA</td>\n",
       "      <td>2018-10-18</td>\n",
       "      <td>surf</td>\n",
       "      <td>NaN</td>\n",
       "    </tr>\n",
       "    <tr>\n",
       "      <th>66</th>\n",
       "      <td>1066</td>\n",
       "      <td>Ariel</td>\n",
       "      <td>Woods</td>\n",
       "      <td>61</td>\n",
       "      <td>Boston-Cambridge-Newton, MA-NH MSA</td>\n",
       "      <td>2018-03-08</td>\n",
       "      <td>surf</td>\n",
       "      <td>NaN</td>\n",
       "    </tr>\n",
       "    <tr>\n",
       "      <th>195</th>\n",
       "      <td>1195</td>\n",
       "      <td>Roy</td>\n",
       "      <td>Velez</td>\n",
       "      <td>60</td>\n",
       "      <td>Portland-Vancouver-Hillsboro, OR-WA MSA</td>\n",
       "      <td>2018-06-09</td>\n",
       "      <td>surf</td>\n",
       "      <td>NaN</td>\n",
       "    </tr>\n",
       "    <tr>\n",
       "      <th>200</th>\n",
       "      <td>1200</td>\n",
       "      <td>Delmar</td>\n",
       "      <td>Cross</td>\n",
       "      <td>45</td>\n",
       "      <td>Boston-Cambridge-Newton, MA-NH MSA</td>\n",
       "      <td>2018-11-27</td>\n",
       "      <td>surf</td>\n",
       "      <td>NaN</td>\n",
       "    </tr>\n",
       "    <tr>\n",
       "      <th>201</th>\n",
       "      <td>1201</td>\n",
       "      <td>Jeanelle</td>\n",
       "      <td>Estrada</td>\n",
       "      <td>61</td>\n",
       "      <td>Bridgeport-Stamford-Norwalk, CT MSA</td>\n",
       "      <td>2018-06-04</td>\n",
       "      <td>surf</td>\n",
       "      <td>NaN</td>\n",
       "    </tr>\n",
       "    <tr>\n",
       "      <th>188</th>\n",
       "      <td>1188</td>\n",
       "      <td>Ethelene</td>\n",
       "      <td>Brock</td>\n",
       "      <td>31</td>\n",
       "      <td>Richmond, VA MSA</td>\n",
       "      <td>2018-01-10</td>\n",
       "      <td>ultimate</td>\n",
       "      <td>NaN</td>\n",
       "    </tr>\n",
       "    <tr>\n",
       "      <th>497</th>\n",
       "      <td>1497</td>\n",
       "      <td>Donte</td>\n",
       "      <td>Barrera</td>\n",
       "      <td>49</td>\n",
       "      <td>Los Angeles-Long Beach-Anaheim, CA MSA</td>\n",
       "      <td>2018-12-10</td>\n",
       "      <td>ultimate</td>\n",
       "      <td>NaN</td>\n",
       "    </tr>\n",
       "  </tbody>\n",
       "</table>\n",
       "</div>"
      ],
      "text/plain": [
       "     user_id first_name   last_name  age  \\\n",
       "172     1172     Weldon    Robinson   72   \n",
       "374     1374      Ching       Watts   55   \n",
       "498     1498       Scot  Williamson   51   \n",
       "379     1379    Jarrett     Spencer   34   \n",
       "66      1066      Ariel       Woods   61   \n",
       "195     1195        Roy       Velez   60   \n",
       "200     1200     Delmar       Cross   45   \n",
       "201     1201   Jeanelle     Estrada   61   \n",
       "188     1188   Ethelene       Brock   31   \n",
       "497     1497      Donte     Barrera   49   \n",
       "\n",
       "                                          city    reg_date      plan  \\\n",
       "172         Boston-Cambridge-Newton, MA-NH MSA  2018-03-30      surf   \n",
       "374     Louisville/Jefferson County, KY-IN MSA  2018-02-14      surf   \n",
       "498  New York-Newark-Jersey City, NY-NJ-PA MSA  2018-02-04      surf   \n",
       "379              Grand Rapids-Kentwood, MI MSA  2018-10-18      surf   \n",
       "66          Boston-Cambridge-Newton, MA-NH MSA  2018-03-08      surf   \n",
       "195    Portland-Vancouver-Hillsboro, OR-WA MSA  2018-06-09      surf   \n",
       "200         Boston-Cambridge-Newton, MA-NH MSA  2018-11-27      surf   \n",
       "201        Bridgeport-Stamford-Norwalk, CT MSA  2018-06-04      surf   \n",
       "188                           Richmond, VA MSA  2018-01-10  ultimate   \n",
       "497     Los Angeles-Long Beach-Anaheim, CA MSA  2018-12-10  ultimate   \n",
       "\n",
       "     churn_date  \n",
       "172  2018-11-29  \n",
       "374         NaN  \n",
       "498         NaN  \n",
       "379         NaN  \n",
       "66          NaN  \n",
       "195         NaN  \n",
       "200         NaN  \n",
       "201         NaN  \n",
       "188         NaN  \n",
       "497         NaN  "
      ]
     },
     "metadata": {},
     "output_type": "display_data"
    },
    {
     "data": {
      "text/plain": [
       "'There are 0 duplicate rows'"
      ]
     },
     "execution_count": 6,
     "metadata": {},
     "output_type": "execute_result"
    }
   ],
   "source": [
    "# Print a sample of data for users\n",
    "display(users.sample(10))\n",
    "f\"There are {users.duplicated().sum()} duplicate rows\"\n"
   ]
  },
  {
   "cell_type": "markdown",
   "metadata": {},
   "source": [
    "When looking at the general info for this dataframe, we can see that the churn_date column has many missing values. This is not alarming as this column should only have a date listed if the customer stopped using the service. That being said, we still want to replace these missing values to clean up the data a bit. One easy way we can fix this is by replacing the missing values with empty strings. I have also checked if there any duplicate rows, to which there are none. "
   ]
  },
  {
   "cell_type": "markdown",
   "metadata": {},
   "source": [
    "### Fix Data"
   ]
  },
  {
   "cell_type": "markdown",
   "metadata": {},
   "source": [
    "By using fillna(), we replace the missing values in the churn_date column with empty strings. When looking at the general info once again, we'll see that there are no more missing values. "
   ]
  },
  {
   "cell_type": "code",
   "execution_count": 7,
   "metadata": {},
   "outputs": [
    {
     "name": "stdout",
     "output_type": "stream",
     "text": [
      "<class 'pandas.core.frame.DataFrame'>\n",
      "RangeIndex: 500 entries, 0 to 499\n",
      "Data columns (total 8 columns):\n",
      " #   Column      Non-Null Count  Dtype \n",
      "---  ------      --------------  ----- \n",
      " 0   user_id     500 non-null    int64 \n",
      " 1   first_name  500 non-null    object\n",
      " 2   last_name   500 non-null    object\n",
      " 3   age         500 non-null    int64 \n",
      " 4   city        500 non-null    object\n",
      " 5   reg_date    500 non-null    object\n",
      " 6   plan        500 non-null    object\n",
      " 7   churn_date  500 non-null    object\n",
      "dtypes: int64(2), object(6)\n",
      "memory usage: 31.4+ KB\n"
     ]
    }
   ],
   "source": [
    "users['churn_date'] = users['churn_date'].fillna('')\n",
    "users.info()\n"
   ]
  },
  {
   "cell_type": "markdown",
   "metadata": {},
   "source": [
    "### Enrich Data"
   ]
  },
  {
   "cell_type": "markdown",
   "metadata": {},
   "source": [
    "There are no additional factors to add to this dataframe."
   ]
  },
  {
   "cell_type": "markdown",
   "metadata": {},
   "source": [
    "## Calls"
   ]
  },
  {
   "cell_type": "code",
   "execution_count": 8,
   "metadata": {},
   "outputs": [
    {
     "name": "stdout",
     "output_type": "stream",
     "text": [
      "<class 'pandas.core.frame.DataFrame'>\n",
      "RangeIndex: 137735 entries, 0 to 137734\n",
      "Data columns (total 4 columns):\n",
      " #   Column     Non-Null Count   Dtype  \n",
      "---  ------     --------------   -----  \n",
      " 0   id         137735 non-null  object \n",
      " 1   user_id    137735 non-null  int64  \n",
      " 2   call_date  137735 non-null  object \n",
      " 3   duration   137735 non-null  float64\n",
      "dtypes: float64(1), int64(1), object(2)\n",
      "memory usage: 4.2+ MB\n"
     ]
    }
   ],
   "source": [
    "# Print the general/summary information about the calls' DataFrame\n",
    "calls.info()\n"
   ]
  },
  {
   "cell_type": "code",
   "execution_count": 9,
   "metadata": {},
   "outputs": [
    {
     "data": {
      "text/html": [
       "<div>\n",
       "<style scoped>\n",
       "    .dataframe tbody tr th:only-of-type {\n",
       "        vertical-align: middle;\n",
       "    }\n",
       "\n",
       "    .dataframe tbody tr th {\n",
       "        vertical-align: top;\n",
       "    }\n",
       "\n",
       "    .dataframe thead th {\n",
       "        text-align: right;\n",
       "    }\n",
       "</style>\n",
       "<table border=\"1\" class=\"dataframe\">\n",
       "  <thead>\n",
       "    <tr style=\"text-align: right;\">\n",
       "      <th></th>\n",
       "      <th>id</th>\n",
       "      <th>user_id</th>\n",
       "      <th>call_date</th>\n",
       "      <th>duration</th>\n",
       "    </tr>\n",
       "  </thead>\n",
       "  <tbody>\n",
       "    <tr>\n",
       "      <th>123602</th>\n",
       "      <td>1436_298</td>\n",
       "      <td>1436</td>\n",
       "      <td>2018-12-09</td>\n",
       "      <td>9.31</td>\n",
       "    </tr>\n",
       "    <tr>\n",
       "      <th>34127</th>\n",
       "      <td>1126_1137</td>\n",
       "      <td>1126</td>\n",
       "      <td>2018-11-18</td>\n",
       "      <td>5.31</td>\n",
       "    </tr>\n",
       "    <tr>\n",
       "      <th>86958</th>\n",
       "      <td>1320_627</td>\n",
       "      <td>1320</td>\n",
       "      <td>2018-09-23</td>\n",
       "      <td>21.41</td>\n",
       "    </tr>\n",
       "    <tr>\n",
       "      <th>31025</th>\n",
       "      <td>1116_412</td>\n",
       "      <td>1116</td>\n",
       "      <td>2018-08-21</td>\n",
       "      <td>11.29</td>\n",
       "    </tr>\n",
       "    <tr>\n",
       "      <th>23647</th>\n",
       "      <td>1088_53</td>\n",
       "      <td>1088</td>\n",
       "      <td>2018-12-05</td>\n",
       "      <td>2.07</td>\n",
       "    </tr>\n",
       "    <tr>\n",
       "      <th>131519</th>\n",
       "      <td>1472_562</td>\n",
       "      <td>1472</td>\n",
       "      <td>2018-08-25</td>\n",
       "      <td>5.39</td>\n",
       "    </tr>\n",
       "    <tr>\n",
       "      <th>94283</th>\n",
       "      <td>1336_127</td>\n",
       "      <td>1336</td>\n",
       "      <td>2018-06-18</td>\n",
       "      <td>15.83</td>\n",
       "    </tr>\n",
       "    <tr>\n",
       "      <th>128545</th>\n",
       "      <td>1461_188</td>\n",
       "      <td>1461</td>\n",
       "      <td>2018-12-01</td>\n",
       "      <td>0.00</td>\n",
       "    </tr>\n",
       "    <tr>\n",
       "      <th>129832</th>\n",
       "      <td>1467_68</td>\n",
       "      <td>1467</td>\n",
       "      <td>2018-08-24</td>\n",
       "      <td>19.28</td>\n",
       "    </tr>\n",
       "    <tr>\n",
       "      <th>31536</th>\n",
       "      <td>1119_135</td>\n",
       "      <td>1119</td>\n",
       "      <td>2018-12-24</td>\n",
       "      <td>11.34</td>\n",
       "    </tr>\n",
       "  </tbody>\n",
       "</table>\n",
       "</div>"
      ],
      "text/plain": [
       "               id  user_id   call_date  duration\n",
       "123602   1436_298     1436  2018-12-09      9.31\n",
       "34127   1126_1137     1126  2018-11-18      5.31\n",
       "86958    1320_627     1320  2018-09-23     21.41\n",
       "31025    1116_412     1116  2018-08-21     11.29\n",
       "23647     1088_53     1088  2018-12-05      2.07\n",
       "131519   1472_562     1472  2018-08-25      5.39\n",
       "94283    1336_127     1336  2018-06-18     15.83\n",
       "128545   1461_188     1461  2018-12-01      0.00\n",
       "129832    1467_68     1467  2018-08-24     19.28\n",
       "31536    1119_135     1119  2018-12-24     11.34"
      ]
     },
     "metadata": {},
     "output_type": "display_data"
    },
    {
     "data": {
      "text/plain": [
       "'0 duplicate rows'"
      ]
     },
     "execution_count": 9,
     "metadata": {},
     "output_type": "execute_result"
    }
   ],
   "source": [
    "# Print a sample of data for calls\n",
    "display(calls.sample(10))\n",
    "f\"{calls.duplicated().sum()} duplicate rows\"\n"
   ]
  },
  {
   "cell_type": "markdown",
   "metadata": {},
   "source": [
    "### Fix data"
   ]
  },
  {
   "cell_type": "markdown",
   "metadata": {},
   "source": [
    "Based on initial observation, the only thing I want to change is the call_date column into a datetime data type. This will make looking at calls made each month much easier."
   ]
  },
  {
   "cell_type": "code",
   "execution_count": 10,
   "metadata": {},
   "outputs": [
    {
     "name": "stdout",
     "output_type": "stream",
     "text": [
      "<class 'pandas.core.frame.DataFrame'>\n",
      "RangeIndex: 137735 entries, 0 to 137734\n",
      "Data columns (total 4 columns):\n",
      " #   Column     Non-Null Count   Dtype         \n",
      "---  ------     --------------   -----         \n",
      " 0   id         137735 non-null  object        \n",
      " 1   user_id    137735 non-null  int64         \n",
      " 2   call_date  137735 non-null  datetime64[ns]\n",
      " 3   duration   137735 non-null  float64       \n",
      "dtypes: datetime64[ns](1), float64(1), int64(1), object(1)\n",
      "memory usage: 4.2+ MB\n"
     ]
    },
    {
     "data": {
      "text/html": [
       "<div>\n",
       "<style scoped>\n",
       "    .dataframe tbody tr th:only-of-type {\n",
       "        vertical-align: middle;\n",
       "    }\n",
       "\n",
       "    .dataframe tbody tr th {\n",
       "        vertical-align: top;\n",
       "    }\n",
       "\n",
       "    .dataframe thead th {\n",
       "        text-align: right;\n",
       "    }\n",
       "</style>\n",
       "<table border=\"1\" class=\"dataframe\">\n",
       "  <thead>\n",
       "    <tr style=\"text-align: right;\">\n",
       "      <th></th>\n",
       "      <th>id</th>\n",
       "      <th>user_id</th>\n",
       "      <th>call_date</th>\n",
       "      <th>duration</th>\n",
       "    </tr>\n",
       "  </thead>\n",
       "  <tbody>\n",
       "    <tr>\n",
       "      <th>60875</th>\n",
       "      <td>1220_250</td>\n",
       "      <td>1220</td>\n",
       "      <td>2018-10-02</td>\n",
       "      <td>3.70</td>\n",
       "    </tr>\n",
       "    <tr>\n",
       "      <th>67814</th>\n",
       "      <td>1245_37</td>\n",
       "      <td>1245</td>\n",
       "      <td>2018-10-30</td>\n",
       "      <td>10.21</td>\n",
       "    </tr>\n",
       "    <tr>\n",
       "      <th>32028</th>\n",
       "      <td>1120_453</td>\n",
       "      <td>1120</td>\n",
       "      <td>2018-11-20</td>\n",
       "      <td>10.78</td>\n",
       "    </tr>\n",
       "    <tr>\n",
       "      <th>32079</th>\n",
       "      <td>1120_518</td>\n",
       "      <td>1120</td>\n",
       "      <td>2018-10-08</td>\n",
       "      <td>23.78</td>\n",
       "    </tr>\n",
       "    <tr>\n",
       "      <th>75209</th>\n",
       "      <td>1265_347</td>\n",
       "      <td>1265</td>\n",
       "      <td>2018-11-29</td>\n",
       "      <td>9.24</td>\n",
       "    </tr>\n",
       "    <tr>\n",
       "      <th>8391</th>\n",
       "      <td>1039_331</td>\n",
       "      <td>1039</td>\n",
       "      <td>2018-06-23</td>\n",
       "      <td>18.77</td>\n",
       "    </tr>\n",
       "    <tr>\n",
       "      <th>124340</th>\n",
       "      <td>1439_208</td>\n",
       "      <td>1439</td>\n",
       "      <td>2018-09-13</td>\n",
       "      <td>0.00</td>\n",
       "    </tr>\n",
       "    <tr>\n",
       "      <th>27775</th>\n",
       "      <td>1106_24</td>\n",
       "      <td>1106</td>\n",
       "      <td>2018-10-01</td>\n",
       "      <td>1.42</td>\n",
       "    </tr>\n",
       "    <tr>\n",
       "      <th>27021</th>\n",
       "      <td>1101_348</td>\n",
       "      <td>1101</td>\n",
       "      <td>2018-06-15</td>\n",
       "      <td>6.47</td>\n",
       "    </tr>\n",
       "    <tr>\n",
       "      <th>36434</th>\n",
       "      <td>1138_393</td>\n",
       "      <td>1138</td>\n",
       "      <td>2018-11-01</td>\n",
       "      <td>0.00</td>\n",
       "    </tr>\n",
       "  </tbody>\n",
       "</table>\n",
       "</div>"
      ],
      "text/plain": [
       "              id  user_id  call_date  duration\n",
       "60875   1220_250     1220 2018-10-02      3.70\n",
       "67814    1245_37     1245 2018-10-30     10.21\n",
       "32028   1120_453     1120 2018-11-20     10.78\n",
       "32079   1120_518     1120 2018-10-08     23.78\n",
       "75209   1265_347     1265 2018-11-29      9.24\n",
       "8391    1039_331     1039 2018-06-23     18.77\n",
       "124340  1439_208     1439 2018-09-13      0.00\n",
       "27775    1106_24     1106 2018-10-01      1.42\n",
       "27021   1101_348     1101 2018-06-15      6.47\n",
       "36434   1138_393     1138 2018-11-01      0.00"
      ]
     },
     "execution_count": 10,
     "metadata": {},
     "output_type": "execute_result"
    }
   ],
   "source": [
    "calls['call_date'] = pd.to_datetime(calls['call_date'], format='%Y-%m-%d')\n",
    "calls.info()\n",
    "calls.sample(10)\n"
   ]
  },
  {
   "cell_type": "markdown",
   "metadata": {},
   "source": [
    "### Enrich data"
   ]
  },
  {
   "cell_type": "markdown",
   "metadata": {},
   "source": [
    "**There are 2 additions I want to make to this dataframe.**\n",
    "1. Megaline rounds all calls up; even if a call lasts 1 second, it is counted as 1 minute as far as billing is concerned. Becasue of this, I have added a column called 'rounded_dur', which rounds all of the call durations up for us. I have also converted this rounded column from float to integer. \n",
    "2. I have added a column called month, where the value represents the month that each call was made. This will make grouping the calls by month later on much easier."
   ]
  },
  {
   "cell_type": "code",
   "execution_count": 11,
   "metadata": {},
   "outputs": [
    {
     "data": {
      "text/html": [
       "<div>\n",
       "<style scoped>\n",
       "    .dataframe tbody tr th:only-of-type {\n",
       "        vertical-align: middle;\n",
       "    }\n",
       "\n",
       "    .dataframe tbody tr th {\n",
       "        vertical-align: top;\n",
       "    }\n",
       "\n",
       "    .dataframe thead th {\n",
       "        text-align: right;\n",
       "    }\n",
       "</style>\n",
       "<table border=\"1\" class=\"dataframe\">\n",
       "  <thead>\n",
       "    <tr style=\"text-align: right;\">\n",
       "      <th></th>\n",
       "      <th>id</th>\n",
       "      <th>user_id</th>\n",
       "      <th>call_date</th>\n",
       "      <th>duration</th>\n",
       "      <th>rounded_dur</th>\n",
       "      <th>month</th>\n",
       "    </tr>\n",
       "  </thead>\n",
       "  <tbody>\n",
       "    <tr>\n",
       "      <th>2557</th>\n",
       "      <td>1010_137</td>\n",
       "      <td>1010</td>\n",
       "      <td>2018-06-30</td>\n",
       "      <td>14.20</td>\n",
       "      <td>15</td>\n",
       "      <td>6</td>\n",
       "    </tr>\n",
       "    <tr>\n",
       "      <th>68373</th>\n",
       "      <td>1246_392</td>\n",
       "      <td>1246</td>\n",
       "      <td>2018-06-27</td>\n",
       "      <td>17.15</td>\n",
       "      <td>18</td>\n",
       "      <td>6</td>\n",
       "    </tr>\n",
       "    <tr>\n",
       "      <th>27783</th>\n",
       "      <td>1106_35</td>\n",
       "      <td>1106</td>\n",
       "      <td>2018-11-01</td>\n",
       "      <td>0.00</td>\n",
       "      <td>0</td>\n",
       "      <td>11</td>\n",
       "    </tr>\n",
       "    <tr>\n",
       "      <th>76997</th>\n",
       "      <td>1277_73</td>\n",
       "      <td>1277</td>\n",
       "      <td>2018-07-18</td>\n",
       "      <td>2.42</td>\n",
       "      <td>3</td>\n",
       "      <td>7</td>\n",
       "    </tr>\n",
       "    <tr>\n",
       "      <th>45032</th>\n",
       "      <td>1163_91</td>\n",
       "      <td>1163</td>\n",
       "      <td>2018-12-30</td>\n",
       "      <td>0.00</td>\n",
       "      <td>0</td>\n",
       "      <td>12</td>\n",
       "    </tr>\n",
       "    <tr>\n",
       "      <th>75012</th>\n",
       "      <td>1264_354</td>\n",
       "      <td>1264</td>\n",
       "      <td>2018-07-23</td>\n",
       "      <td>10.80</td>\n",
       "      <td>11</td>\n",
       "      <td>7</td>\n",
       "    </tr>\n",
       "    <tr>\n",
       "      <th>125568</th>\n",
       "      <td>1444_98</td>\n",
       "      <td>1444</td>\n",
       "      <td>2018-09-04</td>\n",
       "      <td>14.65</td>\n",
       "      <td>15</td>\n",
       "      <td>9</td>\n",
       "    </tr>\n",
       "    <tr>\n",
       "      <th>70686</th>\n",
       "      <td>1251_697</td>\n",
       "      <td>1251</td>\n",
       "      <td>2018-07-30</td>\n",
       "      <td>0.00</td>\n",
       "      <td>0</td>\n",
       "      <td>7</td>\n",
       "    </tr>\n",
       "    <tr>\n",
       "      <th>79576</th>\n",
       "      <td>1284_1209</td>\n",
       "      <td>1284</td>\n",
       "      <td>2018-11-24</td>\n",
       "      <td>2.08</td>\n",
       "      <td>3</td>\n",
       "      <td>11</td>\n",
       "    </tr>\n",
       "    <tr>\n",
       "      <th>133628</th>\n",
       "      <td>1483_488</td>\n",
       "      <td>1483</td>\n",
       "      <td>2018-07-23</td>\n",
       "      <td>0.00</td>\n",
       "      <td>0</td>\n",
       "      <td>7</td>\n",
       "    </tr>\n",
       "  </tbody>\n",
       "</table>\n",
       "</div>"
      ],
      "text/plain": [
       "               id  user_id  call_date  duration  rounded_dur  month\n",
       "2557     1010_137     1010 2018-06-30     14.20           15      6\n",
       "68373    1246_392     1246 2018-06-27     17.15           18      6\n",
       "27783     1106_35     1106 2018-11-01      0.00            0     11\n",
       "76997     1277_73     1277 2018-07-18      2.42            3      7\n",
       "45032     1163_91     1163 2018-12-30      0.00            0     12\n",
       "75012    1264_354     1264 2018-07-23     10.80           11      7\n",
       "125568    1444_98     1444 2018-09-04     14.65           15      9\n",
       "70686    1251_697     1251 2018-07-30      0.00            0      7\n",
       "79576   1284_1209     1284 2018-11-24      2.08            3     11\n",
       "133628   1483_488     1483 2018-07-23      0.00            0      7"
      ]
     },
     "execution_count": 11,
     "metadata": {},
     "output_type": "execute_result"
    }
   ],
   "source": [
    "calls['rounded_dur'] = calls['duration'].apply(np.ceil)\n",
    "calls['rounded_dur'] = calls['rounded_dur'].astype(int)\n",
    "calls['month'] = calls['call_date'].dt.month\n",
    "calls.sample(10)\n"
   ]
  },
  {
   "cell_type": "markdown",
   "metadata": {},
   "source": [
    "## Messages"
   ]
  },
  {
   "cell_type": "code",
   "execution_count": 12,
   "metadata": {},
   "outputs": [
    {
     "name": "stdout",
     "output_type": "stream",
     "text": [
      "<class 'pandas.core.frame.DataFrame'>\n",
      "RangeIndex: 76051 entries, 0 to 76050\n",
      "Data columns (total 3 columns):\n",
      " #   Column        Non-Null Count  Dtype \n",
      "---  ------        --------------  ----- \n",
      " 0   id            76051 non-null  object\n",
      " 1   user_id       76051 non-null  int64 \n",
      " 2   message_date  76051 non-null  object\n",
      "dtypes: int64(1), object(2)\n",
      "memory usage: 1.7+ MB\n"
     ]
    }
   ],
   "source": [
    "# Print the general/summary information about the messages' DataFrame\n",
    "messages.info()\n"
   ]
  },
  {
   "cell_type": "code",
   "execution_count": 13,
   "metadata": {
    "scrolled": true
   },
   "outputs": [
    {
     "data": {
      "text/html": [
       "<div>\n",
       "<style scoped>\n",
       "    .dataframe tbody tr th:only-of-type {\n",
       "        vertical-align: middle;\n",
       "    }\n",
       "\n",
       "    .dataframe tbody tr th {\n",
       "        vertical-align: top;\n",
       "    }\n",
       "\n",
       "    .dataframe thead th {\n",
       "        text-align: right;\n",
       "    }\n",
       "</style>\n",
       "<table border=\"1\" class=\"dataframe\">\n",
       "  <thead>\n",
       "    <tr style=\"text-align: right;\">\n",
       "      <th></th>\n",
       "      <th>id</th>\n",
       "      <th>user_id</th>\n",
       "      <th>message_date</th>\n",
       "    </tr>\n",
       "  </thead>\n",
       "  <tbody>\n",
       "    <tr>\n",
       "      <th>34158</th>\n",
       "      <td>1215_72</td>\n",
       "      <td>1215</td>\n",
       "      <td>2018-10-28</td>\n",
       "    </tr>\n",
       "    <tr>\n",
       "      <th>25792</th>\n",
       "      <td>1155_164</td>\n",
       "      <td>1155</td>\n",
       "      <td>2018-10-15</td>\n",
       "    </tr>\n",
       "    <tr>\n",
       "      <th>74333</th>\n",
       "      <td>1476_96</td>\n",
       "      <td>1476</td>\n",
       "      <td>2018-12-26</td>\n",
       "    </tr>\n",
       "    <tr>\n",
       "      <th>53356</th>\n",
       "      <td>1339_490</td>\n",
       "      <td>1339</td>\n",
       "      <td>2018-12-12</td>\n",
       "    </tr>\n",
       "    <tr>\n",
       "      <th>3344</th>\n",
       "      <td>1036_179</td>\n",
       "      <td>1036</td>\n",
       "      <td>2018-12-14</td>\n",
       "    </tr>\n",
       "    <tr>\n",
       "      <th>50551</th>\n",
       "      <td>1329_626</td>\n",
       "      <td>1329</td>\n",
       "      <td>2018-10-28</td>\n",
       "    </tr>\n",
       "    <tr>\n",
       "      <th>63441</th>\n",
       "      <td>1405_94</td>\n",
       "      <td>1405</td>\n",
       "      <td>2018-09-29</td>\n",
       "    </tr>\n",
       "    <tr>\n",
       "      <th>67519</th>\n",
       "      <td>1438_85</td>\n",
       "      <td>1438</td>\n",
       "      <td>2018-12-20</td>\n",
       "    </tr>\n",
       "    <tr>\n",
       "      <th>16105</th>\n",
       "      <td>1107_290</td>\n",
       "      <td>1107</td>\n",
       "      <td>2018-12-13</td>\n",
       "    </tr>\n",
       "    <tr>\n",
       "      <th>36847</th>\n",
       "      <td>1247_11</td>\n",
       "      <td>1247</td>\n",
       "      <td>2018-12-10</td>\n",
       "    </tr>\n",
       "  </tbody>\n",
       "</table>\n",
       "</div>"
      ],
      "text/plain": [
       "             id  user_id message_date\n",
       "34158   1215_72     1215   2018-10-28\n",
       "25792  1155_164     1155   2018-10-15\n",
       "74333   1476_96     1476   2018-12-26\n",
       "53356  1339_490     1339   2018-12-12\n",
       "3344   1036_179     1036   2018-12-14\n",
       "50551  1329_626     1329   2018-10-28\n",
       "63441   1405_94     1405   2018-09-29\n",
       "67519   1438_85     1438   2018-12-20\n",
       "16105  1107_290     1107   2018-12-13\n",
       "36847   1247_11     1247   2018-12-10"
      ]
     },
     "metadata": {},
     "output_type": "display_data"
    },
    {
     "data": {
      "text/plain": [
       "'0 duplicate rows'"
      ]
     },
     "execution_count": 13,
     "metadata": {},
     "output_type": "execute_result"
    }
   ],
   "source": [
    "# Print a sample of data for messages\n",
    "display(messages.sample(10))\n",
    "f\"{messages.duplicated().sum()} duplicate rows\"\n"
   ]
  },
  {
   "cell_type": "markdown",
   "metadata": {},
   "source": [
    "### Fix data"
   ]
  },
  {
   "cell_type": "markdown",
   "metadata": {},
   "source": [
    "Based on initial observation, the one change I want to make is the message_date column into a datetime data type. This will make looking at messages each month much easier."
   ]
  },
  {
   "cell_type": "code",
   "execution_count": 14,
   "metadata": {},
   "outputs": [
    {
     "name": "stdout",
     "output_type": "stream",
     "text": [
      "<class 'pandas.core.frame.DataFrame'>\n",
      "RangeIndex: 76051 entries, 0 to 76050\n",
      "Data columns (total 3 columns):\n",
      " #   Column        Non-Null Count  Dtype         \n",
      "---  ------        --------------  -----         \n",
      " 0   id            76051 non-null  object        \n",
      " 1   user_id       76051 non-null  int64         \n",
      " 2   message_date  76051 non-null  datetime64[ns]\n",
      "dtypes: datetime64[ns](1), int64(1), object(1)\n",
      "memory usage: 1.7+ MB\n"
     ]
    }
   ],
   "source": [
    "messages['message_date'] = pd.to_datetime(messages['message_date'], format='%Y-%m-%d')\n",
    "messages.info()\n"
   ]
  },
  {
   "cell_type": "markdown",
   "metadata": {},
   "source": [
    "### Enrich data"
   ]
  },
  {
   "cell_type": "markdown",
   "metadata": {},
   "source": [
    "The one thing I have added is a column called 'month', where the value is just the month in which the message was sent. This will make finding out messages sent per month much easier. "
   ]
  },
  {
   "cell_type": "code",
   "execution_count": 15,
   "metadata": {},
   "outputs": [
    {
     "data": {
      "text/html": [
       "<div>\n",
       "<style scoped>\n",
       "    .dataframe tbody tr th:only-of-type {\n",
       "        vertical-align: middle;\n",
       "    }\n",
       "\n",
       "    .dataframe tbody tr th {\n",
       "        vertical-align: top;\n",
       "    }\n",
       "\n",
       "    .dataframe thead th {\n",
       "        text-align: right;\n",
       "    }\n",
       "</style>\n",
       "<table border=\"1\" class=\"dataframe\">\n",
       "  <thead>\n",
       "    <tr style=\"text-align: right;\">\n",
       "      <th></th>\n",
       "      <th>id</th>\n",
       "      <th>user_id</th>\n",
       "      <th>message_date</th>\n",
       "      <th>month</th>\n",
       "    </tr>\n",
       "  </thead>\n",
       "  <tbody>\n",
       "    <tr>\n",
       "      <th>56710</th>\n",
       "      <td>1361_62</td>\n",
       "      <td>1361</td>\n",
       "      <td>2018-10-08</td>\n",
       "      <td>10</td>\n",
       "    </tr>\n",
       "    <tr>\n",
       "      <th>41848</th>\n",
       "      <td>1268_221</td>\n",
       "      <td>1268</td>\n",
       "      <td>2018-12-17</td>\n",
       "      <td>12</td>\n",
       "    </tr>\n",
       "    <tr>\n",
       "      <th>23200</th>\n",
       "      <td>1140_22</td>\n",
       "      <td>1140</td>\n",
       "      <td>2018-08-11</td>\n",
       "      <td>8</td>\n",
       "    </tr>\n",
       "    <tr>\n",
       "      <th>49434</th>\n",
       "      <td>1328_392</td>\n",
       "      <td>1328</td>\n",
       "      <td>2018-09-11</td>\n",
       "      <td>9</td>\n",
       "    </tr>\n",
       "    <tr>\n",
       "      <th>3540</th>\n",
       "      <td>1036_375</td>\n",
       "      <td>1036</td>\n",
       "      <td>2018-11-02</td>\n",
       "      <td>11</td>\n",
       "    </tr>\n",
       "    <tr>\n",
       "      <th>45961</th>\n",
       "      <td>1313_157</td>\n",
       "      <td>1313</td>\n",
       "      <td>2018-12-15</td>\n",
       "      <td>12</td>\n",
       "    </tr>\n",
       "    <tr>\n",
       "      <th>61058</th>\n",
       "      <td>1384_110</td>\n",
       "      <td>1384</td>\n",
       "      <td>2018-07-09</td>\n",
       "      <td>7</td>\n",
       "    </tr>\n",
       "    <tr>\n",
       "      <th>7068</th>\n",
       "      <td>1057_392</td>\n",
       "      <td>1057</td>\n",
       "      <td>2018-10-05</td>\n",
       "      <td>10</td>\n",
       "    </tr>\n",
       "    <tr>\n",
       "      <th>64425</th>\n",
       "      <td>1412_7</td>\n",
       "      <td>1412</td>\n",
       "      <td>2018-08-29</td>\n",
       "      <td>8</td>\n",
       "    </tr>\n",
       "    <tr>\n",
       "      <th>61594</th>\n",
       "      <td>1385_58</td>\n",
       "      <td>1385</td>\n",
       "      <td>2018-04-15</td>\n",
       "      <td>4</td>\n",
       "    </tr>\n",
       "  </tbody>\n",
       "</table>\n",
       "</div>"
      ],
      "text/plain": [
       "             id  user_id message_date  month\n",
       "56710   1361_62     1361   2018-10-08     10\n",
       "41848  1268_221     1268   2018-12-17     12\n",
       "23200   1140_22     1140   2018-08-11      8\n",
       "49434  1328_392     1328   2018-09-11      9\n",
       "3540   1036_375     1036   2018-11-02     11\n",
       "45961  1313_157     1313   2018-12-15     12\n",
       "61058  1384_110     1384   2018-07-09      7\n",
       "7068   1057_392     1057   2018-10-05     10\n",
       "64425    1412_7     1412   2018-08-29      8\n",
       "61594   1385_58     1385   2018-04-15      4"
      ]
     },
     "execution_count": 15,
     "metadata": {},
     "output_type": "execute_result"
    }
   ],
   "source": [
    "messages['month'] = messages['message_date'].dt.month\n",
    "messages.sample(10)\n"
   ]
  },
  {
   "cell_type": "markdown",
   "metadata": {},
   "source": [
    "## Internet"
   ]
  },
  {
   "cell_type": "code",
   "execution_count": 16,
   "metadata": {},
   "outputs": [
    {
     "name": "stdout",
     "output_type": "stream",
     "text": [
      "<class 'pandas.core.frame.DataFrame'>\n",
      "RangeIndex: 104825 entries, 0 to 104824\n",
      "Data columns (total 4 columns):\n",
      " #   Column        Non-Null Count   Dtype  \n",
      "---  ------        --------------   -----  \n",
      " 0   id            104825 non-null  object \n",
      " 1   user_id       104825 non-null  int64  \n",
      " 2   session_date  104825 non-null  object \n",
      " 3   mb_used       104825 non-null  float64\n",
      "dtypes: float64(1), int64(1), object(2)\n",
      "memory usage: 3.2+ MB\n"
     ]
    }
   ],
   "source": [
    "# Print the general/summary information about the internet DataFrame\n",
    "internet.info()\n"
   ]
  },
  {
   "cell_type": "code",
   "execution_count": 17,
   "metadata": {},
   "outputs": [
    {
     "data": {
      "text/html": [
       "<div>\n",
       "<style scoped>\n",
       "    .dataframe tbody tr th:only-of-type {\n",
       "        vertical-align: middle;\n",
       "    }\n",
       "\n",
       "    .dataframe tbody tr th {\n",
       "        vertical-align: top;\n",
       "    }\n",
       "\n",
       "    .dataframe thead th {\n",
       "        text-align: right;\n",
       "    }\n",
       "</style>\n",
       "<table border=\"1\" class=\"dataframe\">\n",
       "  <thead>\n",
       "    <tr style=\"text-align: right;\">\n",
       "      <th></th>\n",
       "      <th>id</th>\n",
       "      <th>user_id</th>\n",
       "      <th>session_date</th>\n",
       "      <th>mb_used</th>\n",
       "    </tr>\n",
       "  </thead>\n",
       "  <tbody>\n",
       "    <tr>\n",
       "      <th>4432</th>\n",
       "      <td>1027_260</td>\n",
       "      <td>1027</td>\n",
       "      <td>2018-12-05</td>\n",
       "      <td>928.78</td>\n",
       "    </tr>\n",
       "    <tr>\n",
       "      <th>57675</th>\n",
       "      <td>1261_122</td>\n",
       "      <td>1261</td>\n",
       "      <td>2018-07-21</td>\n",
       "      <td>530.69</td>\n",
       "    </tr>\n",
       "    <tr>\n",
       "      <th>42153</th>\n",
       "      <td>1187_330</td>\n",
       "      <td>1187</td>\n",
       "      <td>2018-11-07</td>\n",
       "      <td>473.42</td>\n",
       "    </tr>\n",
       "    <tr>\n",
       "      <th>67286</th>\n",
       "      <td>1312_509</td>\n",
       "      <td>1312</td>\n",
       "      <td>2018-08-28</td>\n",
       "      <td>348.39</td>\n",
       "    </tr>\n",
       "    <tr>\n",
       "      <th>3522</th>\n",
       "      <td>1020_93</td>\n",
       "      <td>1020</td>\n",
       "      <td>2018-12-11</td>\n",
       "      <td>578.55</td>\n",
       "    </tr>\n",
       "    <tr>\n",
       "      <th>5409</th>\n",
       "      <td>1030_8</td>\n",
       "      <td>1030</td>\n",
       "      <td>2018-10-23</td>\n",
       "      <td>19.28</td>\n",
       "    </tr>\n",
       "    <tr>\n",
       "      <th>95263</th>\n",
       "      <td>1444_214</td>\n",
       "      <td>1444</td>\n",
       "      <td>2018-12-10</td>\n",
       "      <td>341.26</td>\n",
       "    </tr>\n",
       "    <tr>\n",
       "      <th>76825</th>\n",
       "      <td>1359_516</td>\n",
       "      <td>1359</td>\n",
       "      <td>2018-04-08</td>\n",
       "      <td>151.83</td>\n",
       "    </tr>\n",
       "    <tr>\n",
       "      <th>74031</th>\n",
       "      <td>1347_126</td>\n",
       "      <td>1347</td>\n",
       "      <td>2018-08-29</td>\n",
       "      <td>383.12</td>\n",
       "    </tr>\n",
       "    <tr>\n",
       "      <th>92942</th>\n",
       "      <td>1434_173</td>\n",
       "      <td>1434</td>\n",
       "      <td>2018-03-15</td>\n",
       "      <td>608.20</td>\n",
       "    </tr>\n",
       "  </tbody>\n",
       "</table>\n",
       "</div>"
      ],
      "text/plain": [
       "             id  user_id session_date  mb_used\n",
       "4432   1027_260     1027   2018-12-05   928.78\n",
       "57675  1261_122     1261   2018-07-21   530.69\n",
       "42153  1187_330     1187   2018-11-07   473.42\n",
       "67286  1312_509     1312   2018-08-28   348.39\n",
       "3522    1020_93     1020   2018-12-11   578.55\n",
       "5409     1030_8     1030   2018-10-23    19.28\n",
       "95263  1444_214     1444   2018-12-10   341.26\n",
       "76825  1359_516     1359   2018-04-08   151.83\n",
       "74031  1347_126     1347   2018-08-29   383.12\n",
       "92942  1434_173     1434   2018-03-15   608.20"
      ]
     },
     "metadata": {},
     "output_type": "display_data"
    },
    {
     "data": {
      "text/plain": [
       "'0 duplicates'"
      ]
     },
     "execution_count": 17,
     "metadata": {},
     "output_type": "execute_result"
    }
   ],
   "source": [
    "# Print a sample of data for the internet traffic\n",
    "display(internet.sample(10))\n",
    "f\"{internet.duplicated().sum()} duplicates\"\n"
   ]
  },
  {
   "cell_type": "markdown",
   "metadata": {},
   "source": [
    "### Fix data"
   ]
  },
  {
   "cell_type": "markdown",
   "metadata": {},
   "source": [
    "Based on initial observation, the one change I want to make is the session_date column into a datetime data type. This will make looking data usage per month much easier."
   ]
  },
  {
   "cell_type": "code",
   "execution_count": 18,
   "metadata": {},
   "outputs": [
    {
     "name": "stdout",
     "output_type": "stream",
     "text": [
      "<class 'pandas.core.frame.DataFrame'>\n",
      "RangeIndex: 104825 entries, 0 to 104824\n",
      "Data columns (total 4 columns):\n",
      " #   Column        Non-Null Count   Dtype         \n",
      "---  ------        --------------   -----         \n",
      " 0   id            104825 non-null  object        \n",
      " 1   user_id       104825 non-null  int64         \n",
      " 2   session_date  104825 non-null  datetime64[ns]\n",
      " 3   mb_used       104825 non-null  float64       \n",
      "dtypes: datetime64[ns](1), float64(1), int64(1), object(1)\n",
      "memory usage: 3.2+ MB\n"
     ]
    }
   ],
   "source": [
    "internet['session_date'] = pd.to_datetime(internet['session_date'], format='%Y-%m-%d')\n",
    "internet.info()\n"
   ]
  },
  {
   "cell_type": "markdown",
   "metadata": {},
   "source": [
    "### Enrich data"
   ]
  },
  {
   "cell_type": "markdown",
   "metadata": {},
   "source": [
    "The one thing I have added is a column called 'month', where the value is just the month in which the session took place. This will make calculating data usage per month much easier. "
   ]
  },
  {
   "cell_type": "code",
   "execution_count": 19,
   "metadata": {},
   "outputs": [
    {
     "data": {
      "text/html": [
       "<div>\n",
       "<style scoped>\n",
       "    .dataframe tbody tr th:only-of-type {\n",
       "        vertical-align: middle;\n",
       "    }\n",
       "\n",
       "    .dataframe tbody tr th {\n",
       "        vertical-align: top;\n",
       "    }\n",
       "\n",
       "    .dataframe thead th {\n",
       "        text-align: right;\n",
       "    }\n",
       "</style>\n",
       "<table border=\"1\" class=\"dataframe\">\n",
       "  <thead>\n",
       "    <tr style=\"text-align: right;\">\n",
       "      <th></th>\n",
       "      <th>id</th>\n",
       "      <th>user_id</th>\n",
       "      <th>session_date</th>\n",
       "      <th>mb_used</th>\n",
       "      <th>month</th>\n",
       "    </tr>\n",
       "  </thead>\n",
       "  <tbody>\n",
       "    <tr>\n",
       "      <th>99108</th>\n",
       "      <td>1467_245</td>\n",
       "      <td>1467</td>\n",
       "      <td>2018-10-23</td>\n",
       "      <td>95.23</td>\n",
       "      <td>10</td>\n",
       "    </tr>\n",
       "    <tr>\n",
       "      <th>65824</th>\n",
       "      <td>1304_444</td>\n",
       "      <td>1304</td>\n",
       "      <td>2018-10-29</td>\n",
       "      <td>16.84</td>\n",
       "      <td>10</td>\n",
       "    </tr>\n",
       "    <tr>\n",
       "      <th>39211</th>\n",
       "      <td>1176_32</td>\n",
       "      <td>1176</td>\n",
       "      <td>2018-11-17</td>\n",
       "      <td>286.03</td>\n",
       "      <td>11</td>\n",
       "    </tr>\n",
       "    <tr>\n",
       "      <th>102631</th>\n",
       "      <td>1491_87</td>\n",
       "      <td>1491</td>\n",
       "      <td>2018-07-02</td>\n",
       "      <td>512.61</td>\n",
       "      <td>7</td>\n",
       "    </tr>\n",
       "    <tr>\n",
       "      <th>3856</th>\n",
       "      <td>1022_267</td>\n",
       "      <td>1022</td>\n",
       "      <td>2018-10-29</td>\n",
       "      <td>0.00</td>\n",
       "      <td>10</td>\n",
       "    </tr>\n",
       "    <tr>\n",
       "      <th>71865</th>\n",
       "      <td>1335_104</td>\n",
       "      <td>1335</td>\n",
       "      <td>2018-11-18</td>\n",
       "      <td>394.10</td>\n",
       "      <td>11</td>\n",
       "    </tr>\n",
       "    <tr>\n",
       "      <th>66355</th>\n",
       "      <td>1309_43</td>\n",
       "      <td>1309</td>\n",
       "      <td>2018-12-23</td>\n",
       "      <td>318.24</td>\n",
       "      <td>12</td>\n",
       "    </tr>\n",
       "    <tr>\n",
       "      <th>69353</th>\n",
       "      <td>1324_67</td>\n",
       "      <td>1324</td>\n",
       "      <td>2018-11-20</td>\n",
       "      <td>405.16</td>\n",
       "      <td>11</td>\n",
       "    </tr>\n",
       "    <tr>\n",
       "      <th>29212</th>\n",
       "      <td>1133_284</td>\n",
       "      <td>1133</td>\n",
       "      <td>2018-12-11</td>\n",
       "      <td>172.13</td>\n",
       "      <td>12</td>\n",
       "    </tr>\n",
       "    <tr>\n",
       "      <th>66997</th>\n",
       "      <td>1312_220</td>\n",
       "      <td>1312</td>\n",
       "      <td>2018-11-23</td>\n",
       "      <td>163.04</td>\n",
       "      <td>11</td>\n",
       "    </tr>\n",
       "  </tbody>\n",
       "</table>\n",
       "</div>"
      ],
      "text/plain": [
       "              id  user_id session_date  mb_used  month\n",
       "99108   1467_245     1467   2018-10-23    95.23     10\n",
       "65824   1304_444     1304   2018-10-29    16.84     10\n",
       "39211    1176_32     1176   2018-11-17   286.03     11\n",
       "102631   1491_87     1491   2018-07-02   512.61      7\n",
       "3856    1022_267     1022   2018-10-29     0.00     10\n",
       "71865   1335_104     1335   2018-11-18   394.10     11\n",
       "66355    1309_43     1309   2018-12-23   318.24     12\n",
       "69353    1324_67     1324   2018-11-20   405.16     11\n",
       "29212   1133_284     1133   2018-12-11   172.13     12\n",
       "66997   1312_220     1312   2018-11-23   163.04     11"
      ]
     },
     "execution_count": 19,
     "metadata": {},
     "output_type": "execute_result"
    }
   ],
   "source": [
    "internet['month'] = internet['session_date'].dt.month\n",
    "internet.sample(10)\n"
   ]
  },
  {
   "cell_type": "markdown",
   "metadata": {},
   "source": [
    "## Study plan conditions"
   ]
  },
  {
   "cell_type": "code",
   "execution_count": 20,
   "metadata": {},
   "outputs": [
    {
     "name": "stdout",
     "output_type": "stream",
     "text": [
      "Plan Conditions\n",
      "Surf\n",
      "\n",
      "Monthly charge: $20\n",
      "500 monthly minutes, 50 texts, and 15 GB of data\n",
      "After exceeding the package limits:\n",
      "1 minute: 3 cents\n",
      "1 text message: 3 cents\n",
      "1 GB of data: $10\n",
      "\n",
      "Ultimate\n",
      "\n",
      "Monthly charge: $70\n",
      "3000 monthly minutes, 1000 text messages, and 30 GB of data\n",
      "After exceeding the package limits:\n",
      "1 minute: 1 cent\n",
      "1 text message: 1 cent\n",
      "1 GB of data: $7\n"
     ]
    }
   ],
   "source": [
    "# Print out the plan conditions and make sure they are clear for you\n",
    "print(\"\"\"Plan Conditions\n",
    "Surf\n",
    "\n",
    "Monthly charge: $20\n",
    "500 monthly minutes, 50 texts, and 15 GB of data\n",
    "After exceeding the package limits:\n",
    "1 minute: 3 cents\n",
    "1 text message: 3 cents\n",
    "1 GB of data: $10\n",
    "\n",
    "Ultimate\n",
    "\n",
    "Monthly charge: $70\n",
    "3000 monthly minutes, 1000 text messages, and 30 GB of data\n",
    "After exceeding the package limits:\n",
    "1 minute: 1 cent\n",
    "1 text message: 1 cent\n",
    "1 GB of data: $7\"\"\")\n"
   ]
  },
  {
   "cell_type": "markdown",
   "metadata": {},
   "source": [
    "## Aggregate data per user\n",
    "\n"
   ]
  },
  {
   "cell_type": "code",
   "execution_count": 21,
   "metadata": {},
   "outputs": [
    {
     "data": {
      "text/html": [
       "<div>\n",
       "<style scoped>\n",
       "    .dataframe tbody tr th:only-of-type {\n",
       "        vertical-align: middle;\n",
       "    }\n",
       "\n",
       "    .dataframe tbody tr th {\n",
       "        vertical-align: top;\n",
       "    }\n",
       "\n",
       "    .dataframe thead th {\n",
       "        text-align: right;\n",
       "    }\n",
       "</style>\n",
       "<table border=\"1\" class=\"dataframe\">\n",
       "  <thead>\n",
       "    <tr style=\"text-align: right;\">\n",
       "      <th></th>\n",
       "      <th>user_id</th>\n",
       "      <th>month</th>\n",
       "      <th>calls_made</th>\n",
       "    </tr>\n",
       "  </thead>\n",
       "  <tbody>\n",
       "    <tr>\n",
       "      <th>0</th>\n",
       "      <td>1000</td>\n",
       "      <td>12</td>\n",
       "      <td>16</td>\n",
       "    </tr>\n",
       "    <tr>\n",
       "      <th>1</th>\n",
       "      <td>1001</td>\n",
       "      <td>8</td>\n",
       "      <td>27</td>\n",
       "    </tr>\n",
       "    <tr>\n",
       "      <th>2</th>\n",
       "      <td>1001</td>\n",
       "      <td>9</td>\n",
       "      <td>49</td>\n",
       "    </tr>\n",
       "    <tr>\n",
       "      <th>3</th>\n",
       "      <td>1001</td>\n",
       "      <td>10</td>\n",
       "      <td>65</td>\n",
       "    </tr>\n",
       "    <tr>\n",
       "      <th>4</th>\n",
       "      <td>1001</td>\n",
       "      <td>11</td>\n",
       "      <td>64</td>\n",
       "    </tr>\n",
       "    <tr>\n",
       "      <th>5</th>\n",
       "      <td>1001</td>\n",
       "      <td>12</td>\n",
       "      <td>56</td>\n",
       "    </tr>\n",
       "    <tr>\n",
       "      <th>6</th>\n",
       "      <td>1002</td>\n",
       "      <td>10</td>\n",
       "      <td>11</td>\n",
       "    </tr>\n",
       "    <tr>\n",
       "      <th>7</th>\n",
       "      <td>1002</td>\n",
       "      <td>11</td>\n",
       "      <td>55</td>\n",
       "    </tr>\n",
       "    <tr>\n",
       "      <th>8</th>\n",
       "      <td>1002</td>\n",
       "      <td>12</td>\n",
       "      <td>47</td>\n",
       "    </tr>\n",
       "    <tr>\n",
       "      <th>9</th>\n",
       "      <td>1003</td>\n",
       "      <td>12</td>\n",
       "      <td>149</td>\n",
       "    </tr>\n",
       "  </tbody>\n",
       "</table>\n",
       "</div>"
      ],
      "text/plain": [
       "   user_id  month  calls_made\n",
       "0     1000     12          16\n",
       "1     1001      8          27\n",
       "2     1001      9          49\n",
       "3     1001     10          65\n",
       "4     1001     11          64\n",
       "5     1001     12          56\n",
       "6     1002     10          11\n",
       "7     1002     11          55\n",
       "8     1002     12          47\n",
       "9     1003     12         149"
      ]
     },
     "execution_count": 21,
     "metadata": {},
     "output_type": "execute_result"
    }
   ],
   "source": [
    "# Calculate the number of calls made by each user per month. Save the result.\n",
    "monthly_calls = calls.groupby(['user_id', 'month'])['id'].count().reset_index()\n",
    "monthly_calls = monthly_calls.rename(columns={'id':'calls_made'})\n",
    "monthly_calls.head(10)\n"
   ]
  },
  {
   "cell_type": "markdown",
   "metadata": {},
   "source": [
    "Used groupby() along with count() in order to get the total amount of calls made by each user each month."
   ]
  },
  {
   "cell_type": "code",
   "execution_count": 22,
   "metadata": {},
   "outputs": [
    {
     "data": {
      "text/html": [
       "<div>\n",
       "<style scoped>\n",
       "    .dataframe tbody tr th:only-of-type {\n",
       "        vertical-align: middle;\n",
       "    }\n",
       "\n",
       "    .dataframe tbody tr th {\n",
       "        vertical-align: top;\n",
       "    }\n",
       "\n",
       "    .dataframe thead th {\n",
       "        text-align: right;\n",
       "    }\n",
       "</style>\n",
       "<table border=\"1\" class=\"dataframe\">\n",
       "  <thead>\n",
       "    <tr style=\"text-align: right;\">\n",
       "      <th></th>\n",
       "      <th>user_id</th>\n",
       "      <th>month</th>\n",
       "      <th>rounded_dur</th>\n",
       "    </tr>\n",
       "  </thead>\n",
       "  <tbody>\n",
       "    <tr>\n",
       "      <th>0</th>\n",
       "      <td>1000</td>\n",
       "      <td>12</td>\n",
       "      <td>124</td>\n",
       "    </tr>\n",
       "    <tr>\n",
       "      <th>1</th>\n",
       "      <td>1001</td>\n",
       "      <td>8</td>\n",
       "      <td>182</td>\n",
       "    </tr>\n",
       "    <tr>\n",
       "      <th>2</th>\n",
       "      <td>1001</td>\n",
       "      <td>9</td>\n",
       "      <td>315</td>\n",
       "    </tr>\n",
       "    <tr>\n",
       "      <th>3</th>\n",
       "      <td>1001</td>\n",
       "      <td>10</td>\n",
       "      <td>393</td>\n",
       "    </tr>\n",
       "    <tr>\n",
       "      <th>4</th>\n",
       "      <td>1001</td>\n",
       "      <td>11</td>\n",
       "      <td>426</td>\n",
       "    </tr>\n",
       "    <tr>\n",
       "      <th>5</th>\n",
       "      <td>1001</td>\n",
       "      <td>12</td>\n",
       "      <td>412</td>\n",
       "    </tr>\n",
       "    <tr>\n",
       "      <th>6</th>\n",
       "      <td>1002</td>\n",
       "      <td>10</td>\n",
       "      <td>59</td>\n",
       "    </tr>\n",
       "    <tr>\n",
       "      <th>7</th>\n",
       "      <td>1002</td>\n",
       "      <td>11</td>\n",
       "      <td>386</td>\n",
       "    </tr>\n",
       "    <tr>\n",
       "      <th>8</th>\n",
       "      <td>1002</td>\n",
       "      <td>12</td>\n",
       "      <td>384</td>\n",
       "    </tr>\n",
       "    <tr>\n",
       "      <th>9</th>\n",
       "      <td>1003</td>\n",
       "      <td>12</td>\n",
       "      <td>1104</td>\n",
       "    </tr>\n",
       "  </tbody>\n",
       "</table>\n",
       "</div>"
      ],
      "text/plain": [
       "   user_id  month  rounded_dur\n",
       "0     1000     12          124\n",
       "1     1001      8          182\n",
       "2     1001      9          315\n",
       "3     1001     10          393\n",
       "4     1001     11          426\n",
       "5     1001     12          412\n",
       "6     1002     10           59\n",
       "7     1002     11          386\n",
       "8     1002     12          384\n",
       "9     1003     12         1104"
      ]
     },
     "execution_count": 22,
     "metadata": {},
     "output_type": "execute_result"
    }
   ],
   "source": [
    "# Calculate the amount of minutes spent by each user per month. Save the result.\n",
    "monthly_minutes = calls.groupby(['user_id','month'])['rounded_dur'].sum().reset_index()\n",
    "monthly_minutes.head(10)\n"
   ]
  },
  {
   "cell_type": "markdown",
   "metadata": {},
   "source": [
    "Used groupby() along with sum() in order to get the total amount of minutes spent on the phone by each user each month. We used the rounded duration because Megaline rounds up every call. "
   ]
  },
  {
   "cell_type": "code",
   "execution_count": 23,
   "metadata": {},
   "outputs": [
    {
     "data": {
      "text/html": [
       "<div>\n",
       "<style scoped>\n",
       "    .dataframe tbody tr th:only-of-type {\n",
       "        vertical-align: middle;\n",
       "    }\n",
       "\n",
       "    .dataframe tbody tr th {\n",
       "        vertical-align: top;\n",
       "    }\n",
       "\n",
       "    .dataframe thead th {\n",
       "        text-align: right;\n",
       "    }\n",
       "</style>\n",
       "<table border=\"1\" class=\"dataframe\">\n",
       "  <thead>\n",
       "    <tr style=\"text-align: right;\">\n",
       "      <th></th>\n",
       "      <th>user_id</th>\n",
       "      <th>month</th>\n",
       "      <th>messages_sent</th>\n",
       "    </tr>\n",
       "  </thead>\n",
       "  <tbody>\n",
       "    <tr>\n",
       "      <th>0</th>\n",
       "      <td>1000</td>\n",
       "      <td>12</td>\n",
       "      <td>11</td>\n",
       "    </tr>\n",
       "    <tr>\n",
       "      <th>1</th>\n",
       "      <td>1001</td>\n",
       "      <td>8</td>\n",
       "      <td>30</td>\n",
       "    </tr>\n",
       "    <tr>\n",
       "      <th>2</th>\n",
       "      <td>1001</td>\n",
       "      <td>9</td>\n",
       "      <td>44</td>\n",
       "    </tr>\n",
       "    <tr>\n",
       "      <th>3</th>\n",
       "      <td>1001</td>\n",
       "      <td>10</td>\n",
       "      <td>53</td>\n",
       "    </tr>\n",
       "    <tr>\n",
       "      <th>4</th>\n",
       "      <td>1001</td>\n",
       "      <td>11</td>\n",
       "      <td>36</td>\n",
       "    </tr>\n",
       "    <tr>\n",
       "      <th>5</th>\n",
       "      <td>1001</td>\n",
       "      <td>12</td>\n",
       "      <td>44</td>\n",
       "    </tr>\n",
       "    <tr>\n",
       "      <th>6</th>\n",
       "      <td>1002</td>\n",
       "      <td>10</td>\n",
       "      <td>15</td>\n",
       "    </tr>\n",
       "    <tr>\n",
       "      <th>7</th>\n",
       "      <td>1002</td>\n",
       "      <td>11</td>\n",
       "      <td>32</td>\n",
       "    </tr>\n",
       "    <tr>\n",
       "      <th>8</th>\n",
       "      <td>1002</td>\n",
       "      <td>12</td>\n",
       "      <td>41</td>\n",
       "    </tr>\n",
       "    <tr>\n",
       "      <th>9</th>\n",
       "      <td>1003</td>\n",
       "      <td>12</td>\n",
       "      <td>50</td>\n",
       "    </tr>\n",
       "  </tbody>\n",
       "</table>\n",
       "</div>"
      ],
      "text/plain": [
       "   user_id  month  messages_sent\n",
       "0     1000     12             11\n",
       "1     1001      8             30\n",
       "2     1001      9             44\n",
       "3     1001     10             53\n",
       "4     1001     11             36\n",
       "5     1001     12             44\n",
       "6     1002     10             15\n",
       "7     1002     11             32\n",
       "8     1002     12             41\n",
       "9     1003     12             50"
      ]
     },
     "execution_count": 23,
     "metadata": {},
     "output_type": "execute_result"
    }
   ],
   "source": [
    "# Calculate the number of messages sent by each user per month. Save the result.\n",
    "monthly_messages = messages.groupby(['user_id','month'])['id'].count().reset_index()\n",
    "monthly_messages = monthly_messages.rename(columns={'id':'messages_sent'})\n",
    "monthly_messages.head(10)\n"
   ]
  },
  {
   "cell_type": "markdown",
   "metadata": {},
   "source": [
    "Used groupby() along with count() in order to get the total messages sent by each user each month. "
   ]
  },
  {
   "cell_type": "code",
   "execution_count": 24,
   "metadata": {},
   "outputs": [
    {
     "data": {
      "text/html": [
       "<div>\n",
       "<style scoped>\n",
       "    .dataframe tbody tr th:only-of-type {\n",
       "        vertical-align: middle;\n",
       "    }\n",
       "\n",
       "    .dataframe tbody tr th {\n",
       "        vertical-align: top;\n",
       "    }\n",
       "\n",
       "    .dataframe thead th {\n",
       "        text-align: right;\n",
       "    }\n",
       "</style>\n",
       "<table border=\"1\" class=\"dataframe\">\n",
       "  <thead>\n",
       "    <tr style=\"text-align: right;\">\n",
       "      <th></th>\n",
       "      <th>user_id</th>\n",
       "      <th>month</th>\n",
       "      <th>mb_used</th>\n",
       "      <th>gb_used</th>\n",
       "      <th>gb_rounded</th>\n",
       "    </tr>\n",
       "  </thead>\n",
       "  <tbody>\n",
       "    <tr>\n",
       "      <th>0</th>\n",
       "      <td>1000</td>\n",
       "      <td>12</td>\n",
       "      <td>1901.47</td>\n",
       "      <td>1.856904</td>\n",
       "      <td>2.0</td>\n",
       "    </tr>\n",
       "    <tr>\n",
       "      <th>1</th>\n",
       "      <td>1001</td>\n",
       "      <td>8</td>\n",
       "      <td>6919.15</td>\n",
       "      <td>6.756982</td>\n",
       "      <td>7.0</td>\n",
       "    </tr>\n",
       "    <tr>\n",
       "      <th>2</th>\n",
       "      <td>1001</td>\n",
       "      <td>9</td>\n",
       "      <td>13314.82</td>\n",
       "      <td>13.002754</td>\n",
       "      <td>14.0</td>\n",
       "    </tr>\n",
       "    <tr>\n",
       "      <th>3</th>\n",
       "      <td>1001</td>\n",
       "      <td>10</td>\n",
       "      <td>22330.49</td>\n",
       "      <td>21.807119</td>\n",
       "      <td>22.0</td>\n",
       "    </tr>\n",
       "    <tr>\n",
       "      <th>4</th>\n",
       "      <td>1001</td>\n",
       "      <td>11</td>\n",
       "      <td>18504.30</td>\n",
       "      <td>18.070605</td>\n",
       "      <td>19.0</td>\n",
       "    </tr>\n",
       "    <tr>\n",
       "      <th>5</th>\n",
       "      <td>1001</td>\n",
       "      <td>12</td>\n",
       "      <td>19369.18</td>\n",
       "      <td>18.915215</td>\n",
       "      <td>19.0</td>\n",
       "    </tr>\n",
       "    <tr>\n",
       "      <th>6</th>\n",
       "      <td>1002</td>\n",
       "      <td>10</td>\n",
       "      <td>6552.01</td>\n",
       "      <td>6.398447</td>\n",
       "      <td>7.0</td>\n",
       "    </tr>\n",
       "    <tr>\n",
       "      <th>7</th>\n",
       "      <td>1002</td>\n",
       "      <td>11</td>\n",
       "      <td>19345.08</td>\n",
       "      <td>18.891680</td>\n",
       "      <td>19.0</td>\n",
       "    </tr>\n",
       "    <tr>\n",
       "      <th>8</th>\n",
       "      <td>1002</td>\n",
       "      <td>12</td>\n",
       "      <td>14396.24</td>\n",
       "      <td>14.058828</td>\n",
       "      <td>15.0</td>\n",
       "    </tr>\n",
       "    <tr>\n",
       "      <th>9</th>\n",
       "      <td>1003</td>\n",
       "      <td>12</td>\n",
       "      <td>27044.14</td>\n",
       "      <td>26.410293</td>\n",
       "      <td>27.0</td>\n",
       "    </tr>\n",
       "  </tbody>\n",
       "</table>\n",
       "</div>"
      ],
      "text/plain": [
       "   user_id  month   mb_used    gb_used  gb_rounded\n",
       "0     1000     12   1901.47   1.856904         2.0\n",
       "1     1001      8   6919.15   6.756982         7.0\n",
       "2     1001      9  13314.82  13.002754        14.0\n",
       "3     1001     10  22330.49  21.807119        22.0\n",
       "4     1001     11  18504.30  18.070605        19.0\n",
       "5     1001     12  19369.18  18.915215        19.0\n",
       "6     1002     10   6552.01   6.398447         7.0\n",
       "7     1002     11  19345.08  18.891680        19.0\n",
       "8     1002     12  14396.24  14.058828        15.0\n",
       "9     1003     12  27044.14  26.410293        27.0"
      ]
     },
     "execution_count": 24,
     "metadata": {},
     "output_type": "execute_result"
    }
   ],
   "source": [
    "# Calculate the volume of internet traffic used by each user per month. Save the result.\n",
    "traffic = internet.groupby(['user_id','month'])['mb_used'].sum().reset_index()\n",
    "traffic['gb_used']=traffic['mb_used']/1024\n",
    "traffic['gb_rounded']=np.ceil(traffic['gb_used'])\n",
    "traffic.head(10)\n"
   ]
  },
  {
   "cell_type": "markdown",
   "metadata": {},
   "source": [
    "I have added two columns to our new dataframe; gb_used and gb_rounded. 'gb_used' is the amount of mb used per month converted to gb. 'gb_rounded' is then rounding the amount of gb up, because Megaline rounds up the amount of gb used every month in terms of billing. "
   ]
  },
  {
   "cell_type": "code",
   "execution_count": 25,
   "metadata": {},
   "outputs": [
    {
     "data": {
      "text/html": [
       "<div>\n",
       "<style scoped>\n",
       "    .dataframe tbody tr th:only-of-type {\n",
       "        vertical-align: middle;\n",
       "    }\n",
       "\n",
       "    .dataframe tbody tr th {\n",
       "        vertical-align: top;\n",
       "    }\n",
       "\n",
       "    .dataframe thead th {\n",
       "        text-align: right;\n",
       "    }\n",
       "</style>\n",
       "<table border=\"1\" class=\"dataframe\">\n",
       "  <thead>\n",
       "    <tr style=\"text-align: right;\">\n",
       "      <th></th>\n",
       "      <th>user_id</th>\n",
       "      <th>month</th>\n",
       "      <th>calls_made</th>\n",
       "      <th>minutes</th>\n",
       "      <th>messages_sent</th>\n",
       "      <th>mb_used</th>\n",
       "      <th>gb_used</th>\n",
       "      <th>gb_rounded</th>\n",
       "    </tr>\n",
       "  </thead>\n",
       "  <tbody>\n",
       "    <tr>\n",
       "      <th>0</th>\n",
       "      <td>1000</td>\n",
       "      <td>12</td>\n",
       "      <td>16.0</td>\n",
       "      <td>124.0</td>\n",
       "      <td>11.0</td>\n",
       "      <td>1901.47</td>\n",
       "      <td>1.856904</td>\n",
       "      <td>2.0</td>\n",
       "    </tr>\n",
       "    <tr>\n",
       "      <th>1</th>\n",
       "      <td>1001</td>\n",
       "      <td>8</td>\n",
       "      <td>27.0</td>\n",
       "      <td>182.0</td>\n",
       "      <td>30.0</td>\n",
       "      <td>6919.15</td>\n",
       "      <td>6.756982</td>\n",
       "      <td>7.0</td>\n",
       "    </tr>\n",
       "    <tr>\n",
       "      <th>2</th>\n",
       "      <td>1001</td>\n",
       "      <td>9</td>\n",
       "      <td>49.0</td>\n",
       "      <td>315.0</td>\n",
       "      <td>44.0</td>\n",
       "      <td>13314.82</td>\n",
       "      <td>13.002754</td>\n",
       "      <td>14.0</td>\n",
       "    </tr>\n",
       "    <tr>\n",
       "      <th>3</th>\n",
       "      <td>1001</td>\n",
       "      <td>10</td>\n",
       "      <td>65.0</td>\n",
       "      <td>393.0</td>\n",
       "      <td>53.0</td>\n",
       "      <td>22330.49</td>\n",
       "      <td>21.807119</td>\n",
       "      <td>22.0</td>\n",
       "    </tr>\n",
       "    <tr>\n",
       "      <th>4</th>\n",
       "      <td>1001</td>\n",
       "      <td>11</td>\n",
       "      <td>64.0</td>\n",
       "      <td>426.0</td>\n",
       "      <td>36.0</td>\n",
       "      <td>18504.30</td>\n",
       "      <td>18.070605</td>\n",
       "      <td>19.0</td>\n",
       "    </tr>\n",
       "  </tbody>\n",
       "</table>\n",
       "</div>"
      ],
      "text/plain": [
       "   user_id  month  calls_made  minutes  messages_sent   mb_used    gb_used  \\\n",
       "0     1000     12        16.0    124.0           11.0   1901.47   1.856904   \n",
       "1     1001      8        27.0    182.0           30.0   6919.15   6.756982   \n",
       "2     1001      9        49.0    315.0           44.0  13314.82  13.002754   \n",
       "3     1001     10        65.0    393.0           53.0  22330.49  21.807119   \n",
       "4     1001     11        64.0    426.0           36.0  18504.30  18.070605   \n",
       "\n",
       "   gb_rounded  \n",
       "0         2.0  \n",
       "1         7.0  \n",
       "2        14.0  \n",
       "3        22.0  \n",
       "4        19.0  "
      ]
     },
     "execution_count": 25,
     "metadata": {},
     "output_type": "execute_result"
    }
   ],
   "source": [
    "# Merge the data for calls, minutes, messages, internet based on user_id and month\n",
    "merged_df = pd.merge(monthly_calls, monthly_minutes, on=['user_id','month'], how='outer')\n",
    "merged_df = pd.merge(merged_df, monthly_messages,on=['user_id', 'month'], how='outer')\n",
    "merged_df = pd.merge(merged_df, traffic, on=['user_id','month'],how='outer')\n",
    "merged_df = merged_df.rename(columns={'rounded_dur':'minutes'})\n",
    "merged_df.head()\n"
   ]
  },
  {
   "cell_type": "code",
   "execution_count": 26,
   "metadata": {},
   "outputs": [
    {
     "data": {
      "text/html": [
       "<div>\n",
       "<style scoped>\n",
       "    .dataframe tbody tr th:only-of-type {\n",
       "        vertical-align: middle;\n",
       "    }\n",
       "\n",
       "    .dataframe tbody tr th {\n",
       "        vertical-align: top;\n",
       "    }\n",
       "\n",
       "    .dataframe thead th {\n",
       "        text-align: right;\n",
       "    }\n",
       "</style>\n",
       "<table border=\"1\" class=\"dataframe\">\n",
       "  <thead>\n",
       "    <tr style=\"text-align: right;\">\n",
       "      <th></th>\n",
       "      <th>user_id</th>\n",
       "      <th>month</th>\n",
       "      <th>calls_made</th>\n",
       "      <th>minutes</th>\n",
       "      <th>messages_sent</th>\n",
       "      <th>mb_used</th>\n",
       "      <th>gb_used</th>\n",
       "      <th>gb_rounded</th>\n",
       "      <th>city</th>\n",
       "      <th>plan</th>\n",
       "    </tr>\n",
       "  </thead>\n",
       "  <tbody>\n",
       "    <tr>\n",
       "      <th>0</th>\n",
       "      <td>1000</td>\n",
       "      <td>12.0</td>\n",
       "      <td>16.0</td>\n",
       "      <td>124.0</td>\n",
       "      <td>11.0</td>\n",
       "      <td>1901.47</td>\n",
       "      <td>1.856904</td>\n",
       "      <td>2.0</td>\n",
       "      <td>Atlanta-Sandy Springs-Roswell, GA MSA</td>\n",
       "      <td>ultimate</td>\n",
       "    </tr>\n",
       "    <tr>\n",
       "      <th>1</th>\n",
       "      <td>1001</td>\n",
       "      <td>8.0</td>\n",
       "      <td>27.0</td>\n",
       "      <td>182.0</td>\n",
       "      <td>30.0</td>\n",
       "      <td>6919.15</td>\n",
       "      <td>6.756982</td>\n",
       "      <td>7.0</td>\n",
       "      <td>Seattle-Tacoma-Bellevue, WA MSA</td>\n",
       "      <td>surf</td>\n",
       "    </tr>\n",
       "    <tr>\n",
       "      <th>2</th>\n",
       "      <td>1001</td>\n",
       "      <td>9.0</td>\n",
       "      <td>49.0</td>\n",
       "      <td>315.0</td>\n",
       "      <td>44.0</td>\n",
       "      <td>13314.82</td>\n",
       "      <td>13.002754</td>\n",
       "      <td>14.0</td>\n",
       "      <td>Seattle-Tacoma-Bellevue, WA MSA</td>\n",
       "      <td>surf</td>\n",
       "    </tr>\n",
       "    <tr>\n",
       "      <th>3</th>\n",
       "      <td>1001</td>\n",
       "      <td>10.0</td>\n",
       "      <td>65.0</td>\n",
       "      <td>393.0</td>\n",
       "      <td>53.0</td>\n",
       "      <td>22330.49</td>\n",
       "      <td>21.807119</td>\n",
       "      <td>22.0</td>\n",
       "      <td>Seattle-Tacoma-Bellevue, WA MSA</td>\n",
       "      <td>surf</td>\n",
       "    </tr>\n",
       "    <tr>\n",
       "      <th>4</th>\n",
       "      <td>1001</td>\n",
       "      <td>11.0</td>\n",
       "      <td>64.0</td>\n",
       "      <td>426.0</td>\n",
       "      <td>36.0</td>\n",
       "      <td>18504.30</td>\n",
       "      <td>18.070605</td>\n",
       "      <td>19.0</td>\n",
       "      <td>Seattle-Tacoma-Bellevue, WA MSA</td>\n",
       "      <td>surf</td>\n",
       "    </tr>\n",
       "    <tr>\n",
       "      <th>5</th>\n",
       "      <td>1001</td>\n",
       "      <td>12.0</td>\n",
       "      <td>56.0</td>\n",
       "      <td>412.0</td>\n",
       "      <td>44.0</td>\n",
       "      <td>19369.18</td>\n",
       "      <td>18.915215</td>\n",
       "      <td>19.0</td>\n",
       "      <td>Seattle-Tacoma-Bellevue, WA MSA</td>\n",
       "      <td>surf</td>\n",
       "    </tr>\n",
       "    <tr>\n",
       "      <th>6</th>\n",
       "      <td>1002</td>\n",
       "      <td>10.0</td>\n",
       "      <td>11.0</td>\n",
       "      <td>59.0</td>\n",
       "      <td>15.0</td>\n",
       "      <td>6552.01</td>\n",
       "      <td>6.398447</td>\n",
       "      <td>7.0</td>\n",
       "      <td>Las Vegas-Henderson-Paradise, NV MSA</td>\n",
       "      <td>surf</td>\n",
       "    </tr>\n",
       "    <tr>\n",
       "      <th>7</th>\n",
       "      <td>1002</td>\n",
       "      <td>11.0</td>\n",
       "      <td>55.0</td>\n",
       "      <td>386.0</td>\n",
       "      <td>32.0</td>\n",
       "      <td>19345.08</td>\n",
       "      <td>18.891680</td>\n",
       "      <td>19.0</td>\n",
       "      <td>Las Vegas-Henderson-Paradise, NV MSA</td>\n",
       "      <td>surf</td>\n",
       "    </tr>\n",
       "    <tr>\n",
       "      <th>8</th>\n",
       "      <td>1002</td>\n",
       "      <td>12.0</td>\n",
       "      <td>47.0</td>\n",
       "      <td>384.0</td>\n",
       "      <td>41.0</td>\n",
       "      <td>14396.24</td>\n",
       "      <td>14.058828</td>\n",
       "      <td>15.0</td>\n",
       "      <td>Las Vegas-Henderson-Paradise, NV MSA</td>\n",
       "      <td>surf</td>\n",
       "    </tr>\n",
       "    <tr>\n",
       "      <th>9</th>\n",
       "      <td>1003</td>\n",
       "      <td>12.0</td>\n",
       "      <td>149.0</td>\n",
       "      <td>1104.0</td>\n",
       "      <td>50.0</td>\n",
       "      <td>27044.14</td>\n",
       "      <td>26.410293</td>\n",
       "      <td>27.0</td>\n",
       "      <td>Tulsa, OK MSA</td>\n",
       "      <td>surf</td>\n",
       "    </tr>\n",
       "  </tbody>\n",
       "</table>\n",
       "</div>"
      ],
      "text/plain": [
       "   user_id  month  calls_made  minutes  messages_sent   mb_used    gb_used  \\\n",
       "0     1000   12.0        16.0    124.0           11.0   1901.47   1.856904   \n",
       "1     1001    8.0        27.0    182.0           30.0   6919.15   6.756982   \n",
       "2     1001    9.0        49.0    315.0           44.0  13314.82  13.002754   \n",
       "3     1001   10.0        65.0    393.0           53.0  22330.49  21.807119   \n",
       "4     1001   11.0        64.0    426.0           36.0  18504.30  18.070605   \n",
       "5     1001   12.0        56.0    412.0           44.0  19369.18  18.915215   \n",
       "6     1002   10.0        11.0     59.0           15.0   6552.01   6.398447   \n",
       "7     1002   11.0        55.0    386.0           32.0  19345.08  18.891680   \n",
       "8     1002   12.0        47.0    384.0           41.0  14396.24  14.058828   \n",
       "9     1003   12.0       149.0   1104.0           50.0  27044.14  26.410293   \n",
       "\n",
       "   gb_rounded                                   city      plan  \n",
       "0         2.0  Atlanta-Sandy Springs-Roswell, GA MSA  ultimate  \n",
       "1         7.0        Seattle-Tacoma-Bellevue, WA MSA      surf  \n",
       "2        14.0        Seattle-Tacoma-Bellevue, WA MSA      surf  \n",
       "3        22.0        Seattle-Tacoma-Bellevue, WA MSA      surf  \n",
       "4        19.0        Seattle-Tacoma-Bellevue, WA MSA      surf  \n",
       "5        19.0        Seattle-Tacoma-Bellevue, WA MSA      surf  \n",
       "6         7.0   Las Vegas-Henderson-Paradise, NV MSA      surf  \n",
       "7        19.0   Las Vegas-Henderson-Paradise, NV MSA      surf  \n",
       "8        15.0   Las Vegas-Henderson-Paradise, NV MSA      surf  \n",
       "9        27.0                          Tulsa, OK MSA      surf  "
      ]
     },
     "execution_count": 26,
     "metadata": {},
     "output_type": "execute_result"
    }
   ],
   "source": [
    "# Add the plan information\n",
    "user_plan = users.loc[:,['user_id','city','plan']]\n",
    "merged_df = pd.merge(merged_df,user_plan,on=['user_id'],how='outer')\n",
    "merged_df.head(10)\n"
   ]
  },
  {
   "cell_type": "markdown",
   "metadata": {},
   "source": [
    "Merged all of the data for calls, minutes, messages, and internet usage per user by month into dataframe. Afterwards I added the plan information to the dataframe so that everything we want to work with is in one datarame."
   ]
  },
  {
   "cell_type": "code",
   "execution_count": 27,
   "metadata": {},
   "outputs": [],
   "source": [
    "# Calculate the monthly revenue for each user\n",
    "def plan_charge(row):\n",
    "    revenue = 0\n",
    "    \n",
    "    plan = row['plan']\n",
    "    minutes = row['minutes']\n",
    "    messages_sent = row['messages_sent']\n",
    "    total_gb = row['gb_rounded']\n",
    "    \n",
    "    plan_details = plans[plans['plan_name'] == plan].iloc[0]\n",
    "    minutes_over = max(0, minutes - plan_details['minutes_included'])\n",
    "    messages_over = max(0, messages_sent - plan_details['messages_included'])\n",
    "    data_over = max(0, np.ceil((total_gb - plan_details['mb_per_month_included']/1024.)))\n",
    "    \n",
    "    extra_minutes_charge = minutes_over * plan_details['usd_per_minute']\n",
    "    extra_messages_charge = messages_over * plan_details['usd_per_message']\n",
    "    extra_data_charge = data_over * plan_details['usd_per_gb']\n",
    "    \n",
    "    revenue = plan_details['usd_monthly_pay'] + extra_minutes_charge + extra_messages_charge + extra_data_charge\n",
    "    return revenue"
   ]
  },
  {
   "cell_type": "code",
   "execution_count": 28,
   "metadata": {
    "scrolled": true
   },
   "outputs": [
    {
     "data": {
      "text/html": [
       "<div>\n",
       "<style scoped>\n",
       "    .dataframe tbody tr th:only-of-type {\n",
       "        vertical-align: middle;\n",
       "    }\n",
       "\n",
       "    .dataframe tbody tr th {\n",
       "        vertical-align: top;\n",
       "    }\n",
       "\n",
       "    .dataframe thead th {\n",
       "        text-align: right;\n",
       "    }\n",
       "</style>\n",
       "<table border=\"1\" class=\"dataframe\">\n",
       "  <thead>\n",
       "    <tr style=\"text-align: right;\">\n",
       "      <th></th>\n",
       "      <th>user_id</th>\n",
       "      <th>month</th>\n",
       "      <th>calls_made</th>\n",
       "      <th>minutes</th>\n",
       "      <th>messages_sent</th>\n",
       "      <th>mb_used</th>\n",
       "      <th>gb_used</th>\n",
       "      <th>gb_rounded</th>\n",
       "      <th>city</th>\n",
       "      <th>plan</th>\n",
       "      <th>revenue</th>\n",
       "    </tr>\n",
       "  </thead>\n",
       "  <tbody>\n",
       "    <tr>\n",
       "      <th>842</th>\n",
       "      <td>1181</td>\n",
       "      <td>5.0</td>\n",
       "      <td>67.0</td>\n",
       "      <td>578.0</td>\n",
       "      <td>20.0</td>\n",
       "      <td>12394.05</td>\n",
       "      <td>12.103564</td>\n",
       "      <td>13.0</td>\n",
       "      <td>New York-Newark-Jersey City, NY-NJ-PA MSA</td>\n",
       "      <td>surf</td>\n",
       "      <td>22.34</td>\n",
       "    </tr>\n",
       "    <tr>\n",
       "      <th>597</th>\n",
       "      <td>1128</td>\n",
       "      <td>8.0</td>\n",
       "      <td>7.0</td>\n",
       "      <td>56.0</td>\n",
       "      <td>54.0</td>\n",
       "      <td>15748.49</td>\n",
       "      <td>15.379385</td>\n",
       "      <td>16.0</td>\n",
       "      <td>Knoxville, TN MSA</td>\n",
       "      <td>ultimate</td>\n",
       "      <td>70.00</td>\n",
       "    </tr>\n",
       "    <tr>\n",
       "      <th>484</th>\n",
       "      <td>1103</td>\n",
       "      <td>10.0</td>\n",
       "      <td>50.0</td>\n",
       "      <td>373.0</td>\n",
       "      <td>35.0</td>\n",
       "      <td>19214.54</td>\n",
       "      <td>18.764199</td>\n",
       "      <td>19.0</td>\n",
       "      <td>Seattle-Tacoma-Bellevue, WA MSA</td>\n",
       "      <td>surf</td>\n",
       "      <td>60.00</td>\n",
       "    </tr>\n",
       "    <tr>\n",
       "      <th>1909</th>\n",
       "      <td>1414</td>\n",
       "      <td>8.0</td>\n",
       "      <td>2.0</td>\n",
       "      <td>4.0</td>\n",
       "      <td>NaN</td>\n",
       "      <td>962.46</td>\n",
       "      <td>0.939902</td>\n",
       "      <td>1.0</td>\n",
       "      <td>Urban Honolulu, HI MSA</td>\n",
       "      <td>surf</td>\n",
       "      <td>20.00</td>\n",
       "    </tr>\n",
       "    <tr>\n",
       "      <th>661</th>\n",
       "      <td>1144</td>\n",
       "      <td>5.0</td>\n",
       "      <td>82.0</td>\n",
       "      <td>619.0</td>\n",
       "      <td>73.0</td>\n",
       "      <td>25753.69</td>\n",
       "      <td>25.150088</td>\n",
       "      <td>26.0</td>\n",
       "      <td>New York-Newark-Jersey City, NY-NJ-PA MSA</td>\n",
       "      <td>ultimate</td>\n",
       "      <td>70.00</td>\n",
       "    </tr>\n",
       "    <tr>\n",
       "      <th>885</th>\n",
       "      <td>1188</td>\n",
       "      <td>10.0</td>\n",
       "      <td>48.0</td>\n",
       "      <td>344.0</td>\n",
       "      <td>43.0</td>\n",
       "      <td>20608.20</td>\n",
       "      <td>20.125195</td>\n",
       "      <td>21.0</td>\n",
       "      <td>Richmond, VA MSA</td>\n",
       "      <td>ultimate</td>\n",
       "      <td>70.00</td>\n",
       "    </tr>\n",
       "    <tr>\n",
       "      <th>295</th>\n",
       "      <td>1065</td>\n",
       "      <td>9.0</td>\n",
       "      <td>28.0</td>\n",
       "      <td>211.0</td>\n",
       "      <td>14.0</td>\n",
       "      <td>9153.05</td>\n",
       "      <td>8.938525</td>\n",
       "      <td>9.0</td>\n",
       "      <td>Los Angeles-Long Beach-Anaheim, CA MSA</td>\n",
       "      <td>surf</td>\n",
       "      <td>20.00</td>\n",
       "    </tr>\n",
       "    <tr>\n",
       "      <th>1421</th>\n",
       "      <td>1316</td>\n",
       "      <td>7.0</td>\n",
       "      <td>39.0</td>\n",
       "      <td>296.0</td>\n",
       "      <td>61.0</td>\n",
       "      <td>17071.30</td>\n",
       "      <td>16.671191</td>\n",
       "      <td>17.0</td>\n",
       "      <td>Tulsa, OK MSA</td>\n",
       "      <td>surf</td>\n",
       "      <td>40.33</td>\n",
       "    </tr>\n",
       "    <tr>\n",
       "      <th>562</th>\n",
       "      <td>1122</td>\n",
       "      <td>5.0</td>\n",
       "      <td>47.0</td>\n",
       "      <td>353.0</td>\n",
       "      <td>15.0</td>\n",
       "      <td>10913.65</td>\n",
       "      <td>10.657861</td>\n",
       "      <td>11.0</td>\n",
       "      <td>Miami-Fort Lauderdale-West Palm Beach, FL MSA</td>\n",
       "      <td>surf</td>\n",
       "      <td>20.00</td>\n",
       "    </tr>\n",
       "    <tr>\n",
       "      <th>1569</th>\n",
       "      <td>1346</td>\n",
       "      <td>9.0</td>\n",
       "      <td>50.0</td>\n",
       "      <td>416.0</td>\n",
       "      <td>61.0</td>\n",
       "      <td>18006.84</td>\n",
       "      <td>17.584805</td>\n",
       "      <td>18.0</td>\n",
       "      <td>Tucson, AZ MSA</td>\n",
       "      <td>ultimate</td>\n",
       "      <td>70.00</td>\n",
       "    </tr>\n",
       "  </tbody>\n",
       "</table>\n",
       "</div>"
      ],
      "text/plain": [
       "      user_id  month  calls_made  minutes  messages_sent   mb_used    gb_used  \\\n",
       "842      1181    5.0        67.0    578.0           20.0  12394.05  12.103564   \n",
       "597      1128    8.0         7.0     56.0           54.0  15748.49  15.379385   \n",
       "484      1103   10.0        50.0    373.0           35.0  19214.54  18.764199   \n",
       "1909     1414    8.0         2.0      4.0            NaN    962.46   0.939902   \n",
       "661      1144    5.0        82.0    619.0           73.0  25753.69  25.150088   \n",
       "885      1188   10.0        48.0    344.0           43.0  20608.20  20.125195   \n",
       "295      1065    9.0        28.0    211.0           14.0   9153.05   8.938525   \n",
       "1421     1316    7.0        39.0    296.0           61.0  17071.30  16.671191   \n",
       "562      1122    5.0        47.0    353.0           15.0  10913.65  10.657861   \n",
       "1569     1346    9.0        50.0    416.0           61.0  18006.84  17.584805   \n",
       "\n",
       "      gb_rounded                                           city      plan  \\\n",
       "842         13.0      New York-Newark-Jersey City, NY-NJ-PA MSA      surf   \n",
       "597         16.0                              Knoxville, TN MSA  ultimate   \n",
       "484         19.0                Seattle-Tacoma-Bellevue, WA MSA      surf   \n",
       "1909         1.0                         Urban Honolulu, HI MSA      surf   \n",
       "661         26.0      New York-Newark-Jersey City, NY-NJ-PA MSA  ultimate   \n",
       "885         21.0                               Richmond, VA MSA  ultimate   \n",
       "295          9.0         Los Angeles-Long Beach-Anaheim, CA MSA      surf   \n",
       "1421        17.0                                  Tulsa, OK MSA      surf   \n",
       "562         11.0  Miami-Fort Lauderdale-West Palm Beach, FL MSA      surf   \n",
       "1569        18.0                                 Tucson, AZ MSA  ultimate   \n",
       "\n",
       "      revenue  \n",
       "842     22.34  \n",
       "597     70.00  \n",
       "484     60.00  \n",
       "1909    20.00  \n",
       "661     70.00  \n",
       "885     70.00  \n",
       "295     20.00  \n",
       "1421    40.33  \n",
       "562     20.00  \n",
       "1569    70.00  "
      ]
     },
     "execution_count": 28,
     "metadata": {},
     "output_type": "execute_result"
    }
   ],
   "source": [
    "merged_df['revenue'] = merged_df.apply(plan_charge,axis=1)\n",
    "merged_df.sample(10)\n"
   ]
  },
  {
   "cell_type": "markdown",
   "metadata": {},
   "source": [
    "## Study user behaviour\n"
   ]
  },
  {
   "cell_type": "markdown",
   "metadata": {},
   "source": [
    "### Calls"
   ]
  },
  {
   "cell_type": "code",
   "execution_count": 29,
   "metadata": {},
   "outputs": [
    {
     "data": {
      "image/png": "[encoded data removed]",
      "text/plain": [
       "<Figure size 432x288 with 1 Axes>"
      ]
     },
     "metadata": {
      "needs_background": "light"
     },
     "output_type": "display_data"
    }
   ],
   "source": [
    "# Compare average duration of calls per each plan per each distinct month. Plot a bar plot to visualize it.\n",
    "total_minutes_ultimate = merged_df[merged_df['plan']=='ultimate']\n",
    "avg_minutes_ultimate = total_minutes_ultimate.groupby('month')['minutes'].mean()\n",
    "\n",
    "total_minutes_surf = merged_df[merged_df['plan']=='surf']\n",
    "avg_minutes_surf = total_minutes_surf.groupby('month')['minutes'].mean()\n",
    "\n",
    "avg_minutes = pd.merge(avg_minutes_ultimate, avg_minutes_surf, on='month',how='outer').reset_index()\n",
    "avg_minutes = avg_minutes.rename(columns={'minutes_x':'ultimate','minutes_y':'surf'})\n",
    "avg_minutes.plot(kind='bar',\n",
    "                 x='month',\n",
    "                 title='Distribution of average call duration for 2 plans by month',\n",
    "                 ylabel='average minutes')\n",
    "plt.show()"
   ]
  },
  {
   "cell_type": "code",
   "execution_count": 30,
   "metadata": {},
   "outputs": [
    {
     "data": {
      "image/png": "[encoded data removed]",
      "text/plain": [
       "<Figure size 576x432 with 1 Axes>"
      ]
     },
     "metadata": {
      "needs_background": "light"
     },
     "output_type": "display_data"
    }
   ],
   "source": [
    "# Compare the number of minutes users of each plan require each month. Plot a histogram.\n",
    "ultimate_df = merged_df[merged_df['plan'] == 'ultimate']\n",
    "surf_df = merged_df[merged_df['plan']=='surf']\n",
    "\n",
    "#surf plan \n",
    "plt.figure(figsize=(8,6))\n",
    "plt.hist(surf_df['minutes'],bins=20,color='orange',edgecolor='black')\n",
    "plt.grid(True)\n",
    "plt.title('Histogram of Duration of calls for Surf Plan')\n",
    "plt.xlabel('Total Minutes')\n",
    "plt.ylabel('Number of Calls')\n",
    "plt.show()\n"
   ]
  },
  {
   "cell_type": "code",
   "execution_count": 31,
   "metadata": {},
   "outputs": [
    {
     "data": {
      "image/png": "[encoded data removed]",
      "text/plain": [
       "<Figure size 576x432 with 1 Axes>"
      ]
     },
     "metadata": {
      "needs_background": "light"
     },
     "output_type": "display_data"
    }
   ],
   "source": [
    "#Ultimate Plan\n",
    "plt.figure(figsize=(8,6))\n",
    "plt.hist(ultimate_df['minutes'],bins=20,color='blue',edgecolor='black')\n",
    "plt.grid(True)\n",
    "plt.title('Histogram of Duration of calls for Ultimate Plan')\n",
    "plt.xlabel('Total Minutes')\n",
    "plt.ylabel('Number of Calls')\n",
    "plt.show()"
   ]
  },
  {
   "cell_type": "code",
   "execution_count": 32,
   "metadata": {
    "scrolled": true
   },
   "outputs": [
    {
     "data": {
      "text/html": [
       "<div>\n",
       "<style scoped>\n",
       "    .dataframe tbody tr th:only-of-type {\n",
       "        vertical-align: middle;\n",
       "    }\n",
       "\n",
       "    .dataframe tbody tr th {\n",
       "        vertical-align: top;\n",
       "    }\n",
       "\n",
       "    .dataframe thead th {\n",
       "        text-align: right;\n",
       "    }\n",
       "</style>\n",
       "<table border=\"1\" class=\"dataframe\">\n",
       "  <thead>\n",
       "    <tr style=\"text-align: right;\">\n",
       "      <th>month</th>\n",
       "      <th>1.0</th>\n",
       "      <th>2.0</th>\n",
       "      <th>3.0</th>\n",
       "      <th>4.0</th>\n",
       "      <th>5.0</th>\n",
       "      <th>6.0</th>\n",
       "      <th>7.0</th>\n",
       "      <th>8.0</th>\n",
       "      <th>9.0</th>\n",
       "      <th>10.0</th>\n",
       "      <th>11.0</th>\n",
       "      <th>12.0</th>\n",
       "    </tr>\n",
       "    <tr>\n",
       "      <th>plan</th>\n",
       "      <th></th>\n",
       "      <th></th>\n",
       "      <th></th>\n",
       "      <th></th>\n",
       "      <th></th>\n",
       "      <th></th>\n",
       "      <th></th>\n",
       "      <th></th>\n",
       "      <th></th>\n",
       "      <th></th>\n",
       "      <th></th>\n",
       "      <th></th>\n",
       "    </tr>\n",
       "  </thead>\n",
       "  <tbody>\n",
       "    <tr>\n",
       "      <th>surf</th>\n",
       "      <td>15842.000000</td>\n",
       "      <td>52226.500000</td>\n",
       "      <td>35809.363636</td>\n",
       "      <td>50866.743265</td>\n",
       "      <td>56938.779459</td>\n",
       "      <td>44094.061404</td>\n",
       "      <td>59802.012325</td>\n",
       "      <td>52122.749224</td>\n",
       "      <td>44579.912538</td>\n",
       "      <td>49326.952306</td>\n",
       "      <td>48748.787108</td>\n",
       "      <td>59882.373385</td>\n",
       "    </tr>\n",
       "    <tr>\n",
       "      <th>ultimate</th>\n",
       "      <td>16572.333333</td>\n",
       "      <td>54345.066667</td>\n",
       "      <td>61984.931818</td>\n",
       "      <td>34888.928571</td>\n",
       "      <td>43841.046798</td>\n",
       "      <td>37902.570707</td>\n",
       "      <td>72563.374635</td>\n",
       "      <td>53645.506640</td>\n",
       "      <td>57070.464569</td>\n",
       "      <td>52811.566484</td>\n",
       "      <td>59479.782603</td>\n",
       "      <td>60461.924270</td>\n",
       "    </tr>\n",
       "  </tbody>\n",
       "</table>\n",
       "</div>"
      ],
      "text/plain": [
       "month             1.0           2.0           3.0           4.0   \\\n",
       "plan                                                               \n",
       "surf      15842.000000  52226.500000  35809.363636  50866.743265   \n",
       "ultimate  16572.333333  54345.066667  61984.931818  34888.928571   \n",
       "\n",
       "month             5.0           6.0           7.0           8.0   \\\n",
       "plan                                                               \n",
       "surf      56938.779459  44094.061404  59802.012325  52122.749224   \n",
       "ultimate  43841.046798  37902.570707  72563.374635  53645.506640   \n",
       "\n",
       "month             9.0           10.0          11.0          12.0  \n",
       "plan                                                              \n",
       "surf      44579.912538  49326.952306  48748.787108  59882.373385  \n",
       "ultimate  57070.464569  52811.566484  59479.782603  60461.924270  "
      ]
     },
     "metadata": {},
     "output_type": "display_data"
    },
    {
     "data": {
      "text/html": [
       "<div>\n",
       "<style scoped>\n",
       "    .dataframe tbody tr th:only-of-type {\n",
       "        vertical-align: middle;\n",
       "    }\n",
       "\n",
       "    .dataframe tbody tr th {\n",
       "        vertical-align: top;\n",
       "    }\n",
       "\n",
       "    .dataframe thead th {\n",
       "        text-align: right;\n",
       "    }\n",
       "</style>\n",
       "<table border=\"1\" class=\"dataframe\">\n",
       "  <thead>\n",
       "    <tr style=\"text-align: right;\">\n",
       "      <th>month</th>\n",
       "      <th>1.0</th>\n",
       "      <th>2.0</th>\n",
       "      <th>3.0</th>\n",
       "      <th>4.0</th>\n",
       "      <th>5.0</th>\n",
       "      <th>6.0</th>\n",
       "      <th>7.0</th>\n",
       "      <th>8.0</th>\n",
       "      <th>9.0</th>\n",
       "      <th>10.0</th>\n",
       "      <th>11.0</th>\n",
       "      <th>12.0</th>\n",
       "    </tr>\n",
       "    <tr>\n",
       "      <th>plan</th>\n",
       "      <th></th>\n",
       "      <th></th>\n",
       "      <th></th>\n",
       "      <th></th>\n",
       "      <th></th>\n",
       "      <th></th>\n",
       "      <th></th>\n",
       "      <th></th>\n",
       "      <th></th>\n",
       "      <th></th>\n",
       "      <th></th>\n",
       "      <th></th>\n",
       "    </tr>\n",
       "  </thead>\n",
       "  <tbody>\n",
       "    <tr>\n",
       "      <th>surf</th>\n",
       "      <td>203.0</td>\n",
       "      <td>297.000000</td>\n",
       "      <td>330.00</td>\n",
       "      <td>351.540000</td>\n",
       "      <td>410.240000</td>\n",
       "      <td>435.791667</td>\n",
       "      <td>453.733333</td>\n",
       "      <td>417.849057</td>\n",
       "      <td>420.732984</td>\n",
       "      <td>438.991379</td>\n",
       "      <td>432.494585</td>\n",
       "      <td>484.501608</td>\n",
       "    </tr>\n",
       "    <tr>\n",
       "      <th>ultimate</th>\n",
       "      <td>193.5</td>\n",
       "      <td>470.333333</td>\n",
       "      <td>304.25</td>\n",
       "      <td>336.857143</td>\n",
       "      <td>406.241379</td>\n",
       "      <td>387.444444</td>\n",
       "      <td>427.067797</td>\n",
       "      <td>421.436620</td>\n",
       "      <td>437.511628</td>\n",
       "      <td>455.028571</td>\n",
       "      <td>448.730159</td>\n",
       "      <td>465.261745</td>\n",
       "    </tr>\n",
       "  </tbody>\n",
       "</table>\n",
       "</div>"
      ],
      "text/plain": [
       "month      1.0         2.0     3.0         4.0         5.0         6.0   \\\n",
       "plan                                                                      \n",
       "surf      203.0  297.000000  330.00  351.540000  410.240000  435.791667   \n",
       "ultimate  193.5  470.333333  304.25  336.857143  406.241379  387.444444   \n",
       "\n",
       "month           7.0         8.0         9.0         10.0        11.0  \\\n",
       "plan                                                                   \n",
       "surf      453.733333  417.849057  420.732984  438.991379  432.494585   \n",
       "ultimate  427.067797  421.436620  437.511628  455.028571  448.730159   \n",
       "\n",
       "month           12.0  \n",
       "plan                  \n",
       "surf      484.501608  \n",
       "ultimate  465.261745  "
      ]
     },
     "metadata": {},
     "output_type": "display_data"
    }
   ],
   "source": [
    "# Calculate the mean and the variance of the monthly call duration\n",
    "var_monthly = merged_df.pivot_table(index='plan', columns='month', values='minutes', aggfunc='var')\n",
    "display(var_monthly)\n",
    "mean_monthly = merged_df.pivot_table(index='plan', columns='month',values='minutes',aggfunc='mean')\n",
    "display(mean_monthly)\n",
    "\n"
   ]
  },
  {
   "cell_type": "markdown",
   "metadata": {},
   "source": [
    "The first pivot table shown above calculates the variance of call duration per month for each plan. The second pivot table shown calculates the average duration of calls each month for each plan. "
   ]
  },
  {
   "cell_type": "code",
   "execution_count": 33,
   "metadata": {},
   "outputs": [
    {
     "data": {
      "image/png": "[encoded data removed]",
      "text/plain": [
       "<Figure size 432x288 with 1 Axes>"
      ]
     },
     "metadata": {
      "needs_background": "light"
     },
     "output_type": "display_data"
    }
   ],
   "source": [
    "# Plot a boxplot to visualize the distribution of the monthly call duration\n",
    "avg_minutes.plot(kind='box',\n",
    "                 x='month',\n",
    "                 title='Distribution of monthly call duration for 2 plans',\n",
    "                 ylabel='average minutes')\n",
    "plt.show()\n"
   ]
  },
  {
   "cell_type": "markdown",
   "metadata": {},
   "source": [
    "Based on the graphs shown above, it seems that there is not too much difference in the calling habits of surf and ultimate plan users.  We can see that the only month with a major diffence between the two was February. The surf plan has a slightly wider range between its lowest month and highest month than the ultimate plan does. The means of both plans are very similar, and they both have a negative skew implying the mean is less than the median. "
   ]
  },
  {
   "cell_type": "markdown",
   "metadata": {},
   "source": [
    "<div class=\"alert alert-block alert-success\">✔️\n",
    "    \n",
    "\n",
    "__Reviewer's comment №3__\n",
    "\n",
    "Now correct)"
   ]
  },
  {
   "cell_type": "markdown",
   "metadata": {},
   "source": [
    " "
   ]
  },
  {
   "cell_type": "markdown",
   "metadata": {},
   "source": [
    "### Messages"
   ]
  },
  {
   "cell_type": "code",
   "execution_count": 34,
   "metadata": {},
   "outputs": [
    {
     "data": {
      "image/png": "[encoded data removed]",
      "text/plain": [
       "<Figure size 432x288 with 1 Axes>"
      ]
     },
     "metadata": {
      "needs_background": "light"
     },
     "output_type": "display_data"
    }
   ],
   "source": [
    "# Compare the number of messages users of each plan tend to send each month\n",
    "# Filter for the 'ultimate' plan and calculate the mean messages sent per month\n",
    "messages_ultimate = merged_df[merged_df['plan']==\"ultimate\"]\n",
    "mean_messages_ultimate = messages_ultimate.groupby('month')['messages_sent'].mean()\n",
    "\n",
    "# Filter for the 'surf' plan and calculate the mean messages sent per month\n",
    "messages_surf = merged_df[merged_df['plan']==\"surf\"]\n",
    "mean_messages_surf = messages_surf.groupby('month')['messages_sent'].mean()\n",
    "\n",
    "# Convert series to dataframes\n",
    "df_mean_messages = pd.DataFrame({\n",
    "    'Ultimate': mean_messages_ultimate,\n",
    "    'Surf': mean_messages_surf\n",
    "}).reset_index()\n",
    "\n",
    "df_mean_messages.plot(kind='bar',\n",
    "                     x='month',\n",
    "                     title='Average messages sent each month for 2 plans',\n",
    "                     ylabel='messages sent')\n",
    "plt.show()\n",
    "\n"
   ]
  },
  {
   "cell_type": "code",
   "execution_count": 35,
   "metadata": {},
   "outputs": [
    {
     "data": {
      "image/png": "[encoded data removed]",
      "text/plain": [
       "<Figure size 432x288 with 1 Axes>"
      ]
     },
     "metadata": {
      "needs_background": "light"
     },
     "output_type": "display_data"
    }
   ],
   "source": [
    "df_mean_messages.plot(kind='box',\n",
    "                     x='month',\n",
    "                     title='Average messages sent each month for 2 plans',\n",
    "                     ylabel='messages sent')\n",
    "plt.show()"
   ]
  },
  {
   "cell_type": "code",
   "execution_count": 36,
   "metadata": {},
   "outputs": [
    {
     "data": {
      "image/png": "[encoded data removed]",
      "text/plain": [
       "<Figure size 576x432 with 1 Axes>"
      ]
     },
     "metadata": {
      "needs_background": "light"
     },
     "output_type": "display_data"
    }
   ],
   "source": [
    "#surf plan \n",
    "plt.figure(figsize=(8,6))\n",
    "plt.hist(surf_df['messages_sent'],bins=20,color='orange',edgecolor='black')\n",
    "plt.grid(True)\n",
    "plt.title('Histogram of Messages Sent for Surf Plan')\n",
    "plt.xlabel('Total Messages')\n",
    "plt.ylabel('Frequency of Messages')\n",
    "plt.show()\n"
   ]
  },
  {
   "cell_type": "code",
   "execution_count": 37,
   "metadata": {},
   "outputs": [
    {
     "data": {
      "image/png": "[encoded data removed]",
      "text/plain": [
       "<Figure size 576x432 with 1 Axes>"
      ]
     },
     "metadata": {
      "needs_background": "light"
     },
     "output_type": "display_data"
    }
   ],
   "source": [
    "#ultimate plan \n",
    "plt.figure(figsize=(8,6))\n",
    "plt.hist(ultimate_df['messages_sent'],bins=20,color='blue',edgecolor='black')\n",
    "plt.grid(True)\n",
    "plt.title('Histogram of Messages Sent for Ultimate Plan')\n",
    "plt.xlabel('Total Messages')\n",
    "plt.ylabel('Frequency of Messages')\n",
    "plt.show()"
   ]
  },
  {
   "cell_type": "markdown",
   "metadata": {},
   "source": [
    "Customers with the Ultimate plan generally tend to send more messages than those with the Surf plan. As we can see, the mean for Ultimate is roughly 10 messages more than the mean for Surf. That being said, both plans have a similar negative skew, indicating that the mean is less than the median. "
   ]
  },
  {
   "cell_type": "markdown",
   "metadata": {},
   "source": [
    "### Internet"
   ]
  },
  {
   "cell_type": "code",
   "execution_count": 38,
   "metadata": {},
   "outputs": [],
   "source": [
    "# Compare the amount of internet traffic consumed by users per plan\n"
   ]
  },
  {
   "cell_type": "code",
   "execution_count": 39,
   "metadata": {},
   "outputs": [
    {
     "data": {
      "image/png": "[encoded data removed]",
      "text/plain": [
       "<Figure size 432x288 with 1 Axes>"
      ]
     },
     "metadata": {
      "needs_background": "light"
     },
     "output_type": "display_data"
    }
   ],
   "source": [
    "# Filter for the 'ultimate' plan and calculate the mean internet usage per month\n",
    "internet_ultimate = merged_df[merged_df['plan']==\"ultimate\"]\n",
    "mean_internet_ultimate = internet_ultimate.groupby('month')['gb_rounded'].mean()\n",
    "\n",
    "# Filter for the 'surf' plan and calculate the mean internet usage per month\n",
    "internet_surf = merged_df[merged_df['plan']==\"surf\"]\n",
    "mean_internet_surf = internet_surf.groupby('month')['gb_rounded'].mean()\n",
    "\n",
    "# Convert series to dataframes\n",
    "df_mean_internet = pd.DataFrame({\n",
    "    'Ultimate': mean_internet_ultimate,\n",
    "    'Surf': mean_internet_surf\n",
    "}).reset_index()\n",
    "\n",
    "df_mean_internet.plot(kind='bar',\n",
    "                     x='month',\n",
    "                     title='Average internet usage in gb per month for 2 plans',\n",
    "                     ylabel='gb used')\n",
    "plt.show()\n"
   ]
  },
  {
   "cell_type": "code",
   "execution_count": 40,
   "metadata": {},
   "outputs": [
    {
     "data": {
      "image/png": "[encoded data removed]",
      "text/plain": [
       "<Figure size 432x288 with 1 Axes>"
      ]
     },
     "metadata": {
      "needs_background": "light"
     },
     "output_type": "display_data"
    }
   ],
   "source": [
    "df_mean_internet.plot(kind='box',\n",
    "                     x='month',\n",
    "                     title='Average internet usage each month for 2 plans',\n",
    "                     ylabel='gb used')\n",
    "plt.show()"
   ]
  },
  {
   "cell_type": "code",
   "execution_count": 41,
   "metadata": {},
   "outputs": [
    {
     "data": {
      "image/png": "[encoded data removed]",
      "text/plain": [
       "<Figure size 576x432 with 1 Axes>"
      ]
     },
     "metadata": {
      "needs_background": "light"
     },
     "output_type": "display_data"
    }
   ],
   "source": [
    "#surf plan \n",
    "plt.figure(figsize=(8,6))\n",
    "plt.hist(surf_df['gb_rounded'],bins=20,color='orange',edgecolor='black')\n",
    "plt.grid(True)\n",
    "plt.title('Histogram of Internet Usage for Surf Plan')\n",
    "plt.xlabel('Total GB Used')\n",
    "plt.ylabel('Frequency of Usage')\n",
    "plt.show()"
   ]
  },
  {
   "cell_type": "code",
   "execution_count": 42,
   "metadata": {},
   "outputs": [
    {
     "data": {
      "image/png": "[encoded data removed]",
      "text/plain": [
       "<Figure size 576x432 with 1 Axes>"
      ]
     },
     "metadata": {
      "needs_background": "light"
     },
     "output_type": "display_data"
    }
   ],
   "source": [
    "#ultimate plan \n",
    "plt.figure(figsize=(8,6))\n",
    "plt.hist(ultimate_df['gb_rounded'],bins=20,color='blue',edgecolor='black')\n",
    "plt.grid(True)\n",
    "plt.title('Histogram of Internet Usage for Ultimate Plan')\n",
    "plt.xlabel('Total GB Used')\n",
    "plt.ylabel('Frequecy of Usage')\n",
    "plt.show()"
   ]
  },
  {
   "cell_type": "markdown",
   "metadata": {},
   "source": [
    "Customers with Ultimate plans almost always use more internet data than those with Surf plans. The only times customers with Surf plans use more are during June and July. Perhaps there are many students on the Surf plan, and they spend their extra free time in the summer months using more of their internet data. We also see that the Ultimate plan internet usage has a relatively normal distribution, whereas the Surf plan is negatively skewed. "
   ]
  },
  {
   "cell_type": "markdown",
   "metadata": {},
   "source": [
    "## Revenue"
   ]
  },
  {
   "cell_type": "code",
   "execution_count": 43,
   "metadata": {},
   "outputs": [],
   "source": [
    "# Filter for the 'ultimate' plan and calculate the total and mean revenue per month\n",
    "revenue_ultimate = merged_df[merged_df['plan']==\"ultimate\"]\n",
    "total_revenue_ultimate = revenue_ultimate.groupby('month')['revenue'].sum()\n",
    "mean_revenue_ultimate = revenue_ultimate.groupby('month')['revenue'].mean()\n",
    "\n",
    "# Filter for the 'surf' plan and calculate the total and mean revenue per month\n",
    "revenue_surf = merged_df[merged_df['plan']==\"surf\"]\n",
    "total_revenue_surf = revenue_surf.groupby('month')['revenue'].sum()\n",
    "mean_revenue_surf = revenue_surf.groupby('month')['revenue'].mean()\n",
    "#combine the series into a df\n",
    "\n",
    "df_total_revenue = pd.DataFrame({\n",
    "    'Ultimate': total_revenue_ultimate,\n",
    "    'Surf': total_revenue_surf\n",
    "}).reset_index()\n",
    "\n",
    "df_mean_revenue = pd.DataFrame({\n",
    "    'Ultimate': mean_revenue_ultimate,\n",
    "    'Surf': mean_revenue_surf\n",
    "}).reset_index()\n",
    "\n",
    "\n"
   ]
  },
  {
   "cell_type": "code",
   "execution_count": 44,
   "metadata": {},
   "outputs": [
    {
     "data": {
      "image/png": "[encoded data removed]",
      "text/plain": [
       "<Figure size 432x288 with 1 Axes>"
      ]
     },
     "metadata": {
      "needs_background": "light"
     },
     "output_type": "display_data"
    }
   ],
   "source": [
    "df_total_revenue.plot(kind='bar',\n",
    "                     x='month',\n",
    "                     title='Accumulated revenue each month for 2 plans',\n",
    "                    ylabel='revenue in usd')\n",
    "plt.show()"
   ]
  },
  {
   "cell_type": "code",
   "execution_count": 45,
   "metadata": {},
   "outputs": [
    {
     "data": {
      "image/png": "[encoded data removed]",
      "text/plain": [
       "<Figure size 432x288 with 1 Axes>"
      ]
     },
     "metadata": {
      "needs_background": "light"
     },
     "output_type": "display_data"
    }
   ],
   "source": [
    "df_mean_revenue.plot(kind='bar',\n",
    "                    x='month',\n",
    "                    title='Average revenue per user each month for 2 plans',\n",
    "                    ylabel='revenue in usd')\n",
    "plt.show()"
   ]
  },
  {
   "cell_type": "code",
   "execution_count": 46,
   "metadata": {},
   "outputs": [
    {
     "data": {
      "image/png": "[encoded data removed]",
      "text/plain": [
       "<Figure size 576x432 with 1 Axes>"
      ]
     },
     "metadata": {
      "needs_background": "light"
     },
     "output_type": "display_data"
    }
   ],
   "source": [
    "#surf plan \n",
    "plt.figure(figsize=(8,6))\n",
    "plt.hist(surf_df['revenue'],bins=10,color='orange',edgecolor='black')\n",
    "plt.grid(True)\n",
    "plt.title('Histogram of Revenue for Surf Plan')\n",
    "plt.xlabel('Total Revenue')\n",
    "plt.ylabel('Frequency of Revenue')\n",
    "plt.show()\n"
   ]
  },
  {
   "cell_type": "code",
   "execution_count": 47,
   "metadata": {},
   "outputs": [
    {
     "data": {
      "image/png": "[encoded data removed]",
      "text/plain": [
       "<Figure size 576x432 with 1 Axes>"
      ]
     },
     "metadata": {
      "needs_background": "light"
     },
     "output_type": "display_data"
    }
   ],
   "source": [
    "#ultimate plan \n",
    "plt.figure(figsize=(8,6))\n",
    "plt.hist(ultimate_df['revenue'],bins=10,color='blue',edgecolor='black')\n",
    "plt.grid(True)\n",
    "plt.title('Histogram of Revenue for Ultimate Plan')\n",
    "plt.xlabel('Total Revenue')\n",
    "plt.ylabel('Frequency of Revenue')\n",
    "plt.show()"
   ]
  },
  {
   "cell_type": "markdown",
   "metadata": {},
   "source": [
    "The first bar graph shows us the progression of revenue generated by each plan as the months go on. As we can see, the revenue generated by the Surf plan surpasses the revenue generated by the Ultimate plan by March. By the end of the year, the Surf plan generates more than double the revenue that the Ultimate plan generate.\n",
    "The second graph shows us the average revenue per user each month. What this shows us is that on average, Megalink makes more from one individual Ultimate customer than they do from an individual Surf customer. When you compare the 2 graphs, we can come to the conlcusion that there are significantly more Surf customers than there are Ultimate customers."
   ]
  },
  {
   "cell_type": "markdown",
   "metadata": {},
   "source": [
    "## Test statistical hypotheses"
   ]
  },
  {
   "cell_type": "markdown",
   "metadata": {},
   "source": [
    "The Ho for this experiment is that there is no difference in the average revenue of Surf and Ultimate plans. The H1 is that there is a noticeable difference in the average revenue of Surf and Ultimate plans. "
   ]
  },
  {
   "cell_type": "code",
   "execution_count": 48,
   "metadata": {},
   "outputs": [
    {
     "name": "stdout",
     "output_type": "stream",
     "text": [
      "p-value: 0.0004970238953490146\n",
      "We reject the null hypothesis\n"
     ]
    }
   ],
   "source": [
    "# Test the hypotheses that the average revenue from users of the Ultimate and Surf calling plans differs\n",
    "surf_sample = df_mean_revenue['Surf']\n",
    "ultimate_sample = df_mean_revenue['Ultimate']\n",
    "\n",
    "alpha = .05\n",
    "\n",
    "results = st.ttest_ind(surf_sample, ultimate_sample, equal_var=False)\n",
    "\n",
    "print('p-value:',results.pvalue)\n",
    "if results.pvalue < alpha:\n",
    "    print(\"We reject the null hypothesis\")\n",
    "else:\n",
    "    print(\"We can't reject the null hypothesis\")"
   ]
  },
  {
   "cell_type": "markdown",
   "metadata": {},
   "source": [
    "After testing the hypothesis, we see that we reject the null hypothesis. The null hypothesis in this scenario is that there is no diffence in the average revenue of Surf and Ultimate plans. Because we reject this, we can assume that there is indeed a noticeable difference in the average revenue Surf and Ultimate plans."
   ]
  },
  {
   "cell_type": "code",
   "execution_count": 49,
   "metadata": {},
   "outputs": [
    {
     "name": "stdout",
     "output_type": "stream",
     "text": [
      "p-value: 0.049745282774076104\n",
      "We reject the null hypothesis\n"
     ]
    }
   ],
   "source": [
    "# Test the hypotheses that the average revenue from users in the NY-NJ area is different from that of the users from the other regions.\n",
    "#Ho is there is no difference in average revenue based on geographic location\n",
    "#H1 is that there is a noticeable difference in revenue based on geographic location. \n",
    "revenue_NY_NJ = merged_df[merged_df['city'].str.contains('NY-NJ')]\n",
    "revenue_NY_NJ = revenue_NY_NJ['revenue']\n",
    "\n",
    "revenue_else = merged_df[~merged_df['city'].str.contains('NY-NJ')]\n",
    "revenue_else = revenue_else['revenue']\n",
    "\n",
    "alpha = .05\n",
    "\n",
    "results = st.ttest_ind(revenue_NY_NJ, revenue_else)\n",
    "\n",
    "print('p-value:',results.pvalue)\n",
    "if results.pvalue < alpha:\n",
    "    print(\"We reject the null hypothesis\")\n",
    "else:\n",
    "    print(\"We can't reject the null hypothesis\")\n"
   ]
  },
  {
   "cell_type": "markdown",
   "metadata": {},
   "source": [
    "The null hypothesis in this scenario is that there is no noticeable difference in the average revevnue from users in NY-NJ in comparison to all other regions. After testing the hypothesis, we see that we reject the null hypothesis. This would indicate that there is a noticeable difference in average revenue based on geographical location. "
   ]
  },
  {
   "cell_type": "markdown",
   "metadata": {},
   "source": [
    "## General conclusion\n",
    "\n",
    "In this project we have learned a lot about Megaline and their customers. First, we saw that customers with Surf and Ultimate plans have similar calling habits. The duration of calls for both customer bases were very similar in all but one month, February.  Moving on to messages, we see that on average Ultimate customers send 10 more messages per month than Surf customers. This would make sense as Ultimate customers have 20x more text messages included in their plan. In terms of internet usage, we see that for the first few months of the year that Ultimate customers use far more internet data than Surf customers. However, from June until the end of the year we see an uptick in Surf customers internet usage, and is pretty in line with Ultimate customers usage. Lastly, when looking at revenue we see that although the average revenue per user is higher amongst Ultimate customers, the total revenue brought in from Surf customers in a year is more than double the revenue from Ultimate customers in a year. This would suggest that far more customers have the Surf plan, and that they should shift their advertising budget to advertise the Surf plan more."
   ]
  }
 ],
 "metadata": {
  "ExecuteTimeLog": [
   {
    "duration": 828,
    "start_time": "2021-11-16T09:21:11.304Z"
   },
   {
    "duration": 893,
    "start_time": "2021-11-16T09:21:17.728Z"
   },
   {
    "duration": 1150,
    "start_time": "2021-11-16T09:21:29.568Z"
   },
   {
    "duration": 3,
    "start_time": "2021-11-16T09:24:14.495Z"
   },
   {
    "duration": 120,
    "start_time": "2021-11-16T09:24:46.630Z"
   },
   {
    "duration": 3,
    "start_time": "2021-11-16T09:28:27.882Z"
   },
   {
    "duration": 4,
    "start_time": "2021-11-16T09:29:54.281Z"
   },
   {
    "duration": 3,
    "start_time": "2021-11-16T09:30:45.936Z"
   },
   {
    "duration": 4,
    "start_time": "2021-11-16T09:31:06.300Z"
   },
   {
    "duration": 113,
    "start_time": "2021-11-16T09:31:37.208Z"
   },
   {
    "duration": 143,
    "start_time": "2021-11-16T09:31:48.656Z"
   },
   {
    "duration": 98,
    "start_time": "2021-11-16T09:31:55.678Z"
   },
   {
    "duration": 3,
    "start_time": "2021-11-16T09:32:08.535Z"
   },
   {
    "duration": 111,
    "start_time": "2021-11-16T09:32:10.120Z"
   },
   {
    "duration": 3,
    "start_time": "2021-11-16T09:32:15.732Z"
   },
   {
    "duration": 4,
    "start_time": "2021-11-16T09:32:29.423Z"
   },
   {
    "duration": 3,
    "start_time": "2021-11-16T10:03:03.074Z"
   },
   {
    "duration": 3,
    "start_time": "2021-11-16T10:10:01.288Z"
   },
   {
    "duration": 3,
    "start_time": "2021-11-16T10:10:46.923Z"
   },
   {
    "duration": 121,
    "start_time": "2021-11-16T10:37:46.494Z"
   },
   {
    "duration": 125,
    "start_time": "2021-11-16T10:38:20.632Z"
   },
   {
    "duration": 112,
    "start_time": "2021-11-16T10:46:53.001Z"
   },
   {
    "duration": 110,
    "start_time": "2021-11-16T10:48:25.775Z"
   },
   {
    "duration": 3,
    "start_time": "2021-11-16T10:50:18.720Z"
   },
   {
    "duration": 4,
    "start_time": "2021-11-16T10:50:37.649Z"
   },
   {
    "duration": 2,
    "start_time": "2021-11-16T10:50:51.884Z"
   },
   {
    "duration": 3,
    "start_time": "2021-11-16T10:51:56.237Z"
   },
   {
    "duration": 101,
    "start_time": "2021-11-16T10:53:13.791Z"
   },
   {
    "duration": 3,
    "start_time": "2021-11-16T10:55:59.186Z"
   },
   {
    "duration": 3,
    "start_time": "2021-11-16T10:56:10.751Z"
   },
   {
    "duration": 3,
    "start_time": "2021-11-16T10:56:49.038Z"
   },
   {
    "duration": 3,
    "start_time": "2021-11-16T10:56:49.174Z"
   },
   {
    "duration": 4,
    "start_time": "2021-11-16T10:56:49.414Z"
   },
   {
    "duration": 3,
    "start_time": "2021-11-16T10:56:49.680Z"
   },
   {
    "duration": 3,
    "start_time": "2021-11-16T10:56:50.370Z"
   },
   {
    "duration": 114,
    "start_time": "2021-11-16T10:59:34.518Z"
   },
   {
    "duration": 3,
    "start_time": "2021-11-16T11:01:41.201Z"
   },
   {
    "duration": 116,
    "start_time": "2021-11-16T11:01:48.754Z"
   },
   {
    "duration": 3,
    "start_time": "2021-11-16T11:02:16.685Z"
   },
   {
    "duration": 3,
    "start_time": "2021-11-16T11:02:19.479Z"
   },
   {
    "duration": 3,
    "start_time": "2021-11-16T11:02:47.067Z"
   },
   {
    "duration": 3,
    "start_time": "2021-11-16T11:02:49.353Z"
   },
   {
    "duration": 3,
    "start_time": "2021-11-16T11:03:07.835Z"
   },
   {
    "duration": 3,
    "start_time": "2021-11-16T11:03:07.953Z"
   },
   {
    "duration": 112,
    "start_time": "2021-11-16T11:07:52.072Z"
   },
   {
    "duration": 187,
    "start_time": "2021-11-16T11:09:23.468Z"
   },
   {
    "duration": 4,
    "start_time": "2021-11-16T11:10:01.455Z"
   },
   {
    "duration": 3,
    "start_time": "2021-11-16T11:10:05.069Z"
   },
   {
    "duration": 4,
    "start_time": "2021-11-16T11:10:13.376Z"
   },
   {
    "duration": 3,
    "start_time": "2021-11-16T11:10:14.434Z"
   },
   {
    "duration": 3,
    "start_time": "2021-11-16T11:10:22.853Z"
   },
   {
    "duration": 4,
    "start_time": "2021-11-16T11:27:29.279Z"
   },
   {
    "duration": 4,
    "start_time": "2021-11-16T11:29:08.919Z"
   },
   {
    "duration": 118,
    "start_time": "2021-11-16T11:29:46.703Z"
   },
   {
    "duration": 437,
    "start_time": "2021-11-16T11:36:02.181Z"
   },
   {
    "duration": 157,
    "start_time": "2021-11-16T11:36:14.388Z"
   },
   {
    "duration": 207,
    "start_time": "2021-11-16T11:47:15.898Z"
   },
   {
    "duration": 3,
    "start_time": "2021-11-16T11:53:52.092Z"
   },
   {
    "duration": 3,
    "start_time": "2021-11-16T11:53:52.236Z"
   },
   {
    "duration": 3,
    "start_time": "2021-11-16T11:59:12.005Z"
   },
   {
    "duration": 112,
    "start_time": "2021-11-16T12:00:33.446Z"
   },
   {
    "duration": 3,
    "start_time": "2021-11-16T12:02:14.453Z"
   },
   {
    "duration": 3,
    "start_time": "2021-11-16T12:02:39.512Z"
   },
   {
    "duration": 106,
    "start_time": "2021-11-16T12:03:03.460Z"
   },
   {
    "duration": 3,
    "start_time": "2021-11-17T20:37:21.139Z"
   },
   {
    "duration": 3,
    "start_time": "2021-11-17T20:37:22.229Z"
   },
   {
    "duration": 3,
    "start_time": "2021-11-17T20:38:38.806Z"
   },
   {
    "duration": 3,
    "start_time": "2021-11-17T20:38:41.958Z"
   },
   {
    "duration": 3,
    "start_time": "2021-11-17T20:43:46.551Z"
   },
   {
    "duration": 4,
    "start_time": "2021-11-17T20:58:21.835Z"
   },
   {
    "duration": 3,
    "start_time": "2021-11-17T20:59:21.872Z"
   },
   {
    "duration": 4,
    "start_time": "2021-11-17T20:59:45.352Z"
   },
   {
    "duration": 4,
    "start_time": "2021-11-17T20:59:49.646Z"
   },
   {
    "duration": 159,
    "start_time": "2021-11-17T21:02:26.949Z"
   },
   {
    "duration": 3,
    "start_time": "2021-11-17T21:03:53.461Z"
   },
   {
    "duration": 3,
    "start_time": "2021-11-17T21:03:53.694Z"
   },
   {
    "duration": 3,
    "start_time": "2021-11-17T21:05:28.145Z"
   },
   {
    "duration": 116,
    "start_time": "2021-11-17T21:05:57.787Z"
   },
   {
    "duration": 3,
    "start_time": "2021-11-17T21:06:37.993Z"
   },
   {
    "duration": 3,
    "start_time": "2021-11-17T21:06:38.261Z"
   },
   {
    "duration": 3,
    "start_time": "2021-11-17T21:11:54.358Z"
   },
   {
    "duration": 3,
    "start_time": "2021-11-17T21:12:43.846Z"
   },
   {
    "duration": 4,
    "start_time": "2021-11-17T21:13:08.773Z"
   },
   {
    "duration": 3,
    "start_time": "2021-11-17T21:14:44.441Z"
   },
   {
    "duration": 3,
    "start_time": "2021-11-17T21:15:42.059Z"
   },
   {
    "duration": 4,
    "start_time": "2021-11-17T21:15:51.995Z"
   },
   {
    "duration": 3,
    "start_time": "2021-11-17T21:15:53.923Z"
   },
   {
    "duration": 3,
    "start_time": "2021-11-17T21:15:55.282Z"
   },
   {
    "duration": 3,
    "start_time": "2021-11-17T21:16:28.492Z"
   },
   {
    "duration": 3,
    "start_time": "2021-11-17T21:16:32.603Z"
   },
   {
    "duration": 3,
    "start_time": "2021-11-17T21:17:06.941Z"
   },
   {
    "duration": 98,
    "start_time": "2021-11-17T21:18:05.733Z"
   },
   {
    "duration": 4,
    "start_time": "2021-11-17T21:21:35.255Z"
   },
   {
    "duration": 3,
    "start_time": "2021-11-17T21:21:37.804Z"
   },
   {
    "duration": 4,
    "start_time": "2021-11-17T21:23:06.071Z"
   },
   {
    "duration": 3,
    "start_time": "2021-11-17T21:23:24.799Z"
   },
   {
    "duration": 3,
    "start_time": "2021-11-17T21:23:32.591Z"
   },
   {
    "duration": 98,
    "start_time": "2021-11-17T21:28:31.559Z"
   },
   {
    "duration": 3,
    "start_time": "2021-11-17T21:28:45.448Z"
   },
   {
    "duration": 3,
    "start_time": "2021-11-17T21:29:17.303Z"
   },
   {
    "duration": 3,
    "start_time": "2021-11-17T21:29:29.617Z"
   },
   {
    "duration": 3,
    "start_time": "2021-11-17T21:29:32.681Z"
   },
   {
    "duration": 3,
    "start_time": "2021-11-17T21:36:11.474Z"
   },
   {
    "duration": 3,
    "start_time": "2021-11-17T21:36:14.791Z"
   },
   {
    "duration": 3,
    "start_time": "2021-11-17T21:36:53.943Z"
   },
   {
    "duration": 3,
    "start_time": "2021-11-17T21:36:56.165Z"
   },
   {
    "duration": 4,
    "start_time": "2021-11-17T21:37:16.590Z"
   },
   {
    "duration": 3,
    "start_time": "2021-11-17T21:37:22.702Z"
   },
   {
    "duration": 4,
    "start_time": "2021-11-17T21:38:03.479Z"
   },
   {
    "duration": 3,
    "start_time": "2021-11-17T21:38:08.601Z"
   },
   {
    "duration": 3,
    "start_time": "2021-11-17T21:38:12.928Z"
   },
   {
    "duration": 3,
    "start_time": "2021-11-17T21:38:48.896Z"
   },
   {
    "duration": 2,
    "start_time": "2021-11-17T21:38:49.171Z"
   },
   {
    "duration": 4,
    "start_time": "2021-11-17T21:39:57.889Z"
   },
   {
    "duration": 3,
    "start_time": "2021-11-17T21:39:58.057Z"
   },
   {
    "duration": 3,
    "start_time": "2021-11-17T21:41:20.108Z"
   },
   {
    "duration": 3,
    "start_time": "2021-11-17T21:41:20.629Z"
   },
   {
    "duration": 3,
    "start_time": "2021-11-17T21:42:49.136Z"
   },
   {
    "duration": 3,
    "start_time": "2021-11-17T21:43:15.137Z"
   },
   {
    "duration": 4,
    "start_time": "2021-11-17T21:43:16.766Z"
   },
   {
    "duration": 4,
    "start_time": "2021-11-17T21:43:31.711Z"
   },
   {
    "duration": 3,
    "start_time": "2021-11-17T21:43:36.312Z"
   },
   {
    "duration": 4,
    "start_time": "2021-11-17T21:45:08.825Z"
   },
   {
    "duration": 4,
    "start_time": "2021-11-17T21:45:10.119Z"
   },
   {
    "duration": 4,
    "start_time": "2021-11-17T21:45:13.748Z"
   },
   {
    "duration": 3,
    "start_time": "2021-11-17T21:45:22.219Z"
   },
   {
    "duration": 3,
    "start_time": "2021-11-17T21:45:33.412Z"
   },
   {
    "duration": 2,
    "start_time": "2021-11-17T21:46:01.885Z"
   },
   {
    "duration": 3,
    "start_time": "2021-11-17T21:46:03.628Z"
   },
   {
    "duration": 107,
    "start_time": "2021-11-17T21:47:32.512Z"
   },
   {
    "duration": 103,
    "start_time": "2021-11-17T21:50:36.243Z"
   },
   {
    "duration": 3,
    "start_time": "2021-11-18T06:28:31.440Z"
   },
   {
    "duration": 3,
    "start_time": "2021-11-18T06:29:00.168Z"
   },
   {
    "duration": 3,
    "start_time": "2021-11-18T06:31:27.008Z"
   },
   {
    "duration": 2,
    "start_time": "2021-11-18T06:35:34.288Z"
   },
   {
    "duration": 2,
    "start_time": "2021-11-18T06:38:04.527Z"
   }
  ],
  "kernelspec": {
   "display_name": "Python 3 (ipykernel)",
   "language": "python",
   "name": "python3"
  },
  "language_info": {
   "codemirror_mode": {
    "name": "ipython",
    "version": 3
   },
   "file_extension": ".py",
   "mimetype": "text/x-python",
   "name": "python",
   "nbconvert_exporter": "python",
   "pygments_lexer": "ipython3",
   "version": "3.9.19"
  },
  "toc": {
   "base_numbering": 1,
   "nav_menu": {},
   "number_sections": true,
   "sideBar": true,
   "skip_h1_title": false,
   "title_cell": "Table of Contents",
   "title_sidebar": "Contents",
   "toc_cell": false,
   "toc_position": {},
   "toc_section_display": true,
   "toc_window_display": true
  }
 },
 "nbformat": 4,
 "nbformat_minor": 2
}
