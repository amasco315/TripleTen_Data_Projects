{
 "cells": [
  {
   "cell_type": "markdown",
   "metadata": {},
   "source": [
    "Rusty Bargain used car sales service is developing an app to attract new customers. In that app, you can quickly find out the market value of your car. You have access to historical data: technical specifications, trim versions, and prices. You need to build the model to determine the value. \n",
    "\n",
    "Rusty Bargain is interested in:\n",
    "\n",
    "- the quality of the prediction;\n",
    "- the speed of the prediction;\n",
    "- the time required for training"
   ]
  },
  {
   "cell_type": "code",
   "execution_count": 1,
   "metadata": {},
   "outputs": [],
   "source": [
    "import pandas as pd\n",
    "import numpy as np\n",
    "import time\n",
    "from matplotlib import pyplot as plt\n",
    "import seaborn as sns\n",
    "import lightgbm as lgb\n",
    "from sklearn.model_selection import cross_val_score, train_test_split\n",
    "from sklearn.linear_model import LinearRegression\n",
    "from sklearn.tree import DecisionTreeRegressor\n",
    "from sklearn.ensemble import RandomForestRegressor\n",
    "from sklearn.metrics import mean_absolute_error, make_scorer, mean_squared_error\n",
    "from sklearn.preprocessing import StandardScaler"
   ]
  },
  {
   "cell_type": "markdown",
   "metadata": {},
   "source": [
    "## Data Preparation"
   ]
  },
  {
   "cell_type": "code",
   "execution_count": 2,
   "metadata": {},
   "outputs": [],
   "source": [
    "car_data = pd.read_csv('/datasets/car_data.csv')"
   ]
  },
  {
   "cell_type": "code",
   "execution_count": 3,
   "metadata": {},
   "outputs": [
    {
     "name": "stdout",
     "output_type": "stream",
     "text": [
      "<class 'pandas.core.frame.DataFrame'>\n",
      "RangeIndex: 354369 entries, 0 to 354368\n",
      "Data columns (total 16 columns):\n",
      " #   Column             Non-Null Count   Dtype \n",
      "---  ------             --------------   ----- \n",
      " 0   DateCrawled        354369 non-null  object\n",
      " 1   Price              354369 non-null  int64 \n",
      " 2   VehicleType        316879 non-null  object\n",
      " 3   RegistrationYear   354369 non-null  int64 \n",
      " 4   Gearbox            334536 non-null  object\n",
      " 5   Power              354369 non-null  int64 \n",
      " 6   Model              334664 non-null  object\n",
      " 7   Mileage            354369 non-null  int64 \n",
      " 8   RegistrationMonth  354369 non-null  int64 \n",
      " 9   FuelType           321474 non-null  object\n",
      " 10  Brand              354369 non-null  object\n",
      " 11  NotRepaired        283215 non-null  object\n",
      " 12  DateCreated        354369 non-null  object\n",
      " 13  NumberOfPictures   354369 non-null  int64 \n",
      " 14  PostalCode         354369 non-null  int64 \n",
      " 15  LastSeen           354369 non-null  object\n",
      "dtypes: int64(7), object(9)\n",
      "memory usage: 43.3+ MB\n"
     ]
    }
   ],
   "source": [
    "car_data.info()"
   ]
  },
  {
   "cell_type": "code",
   "execution_count": 4,
   "metadata": {},
   "outputs": [
    {
     "data": {
      "text/html": [
       "<div>\n",
       "<style scoped>\n",
       "    .dataframe tbody tr th:only-of-type {\n",
       "        vertical-align: middle;\n",
       "    }\n",
       "\n",
       "    .dataframe tbody tr th {\n",
       "        vertical-align: top;\n",
       "    }\n",
       "\n",
       "    .dataframe thead th {\n",
       "        text-align: right;\n",
       "    }\n",
       "</style>\n",
       "<table border=\"1\" class=\"dataframe\">\n",
       "  <thead>\n",
       "    <tr style=\"text-align: right;\">\n",
       "      <th></th>\n",
       "      <th>DateCrawled</th>\n",
       "      <th>Price</th>\n",
       "      <th>VehicleType</th>\n",
       "      <th>RegistrationYear</th>\n",
       "      <th>Gearbox</th>\n",
       "      <th>Power</th>\n",
       "      <th>Model</th>\n",
       "      <th>Mileage</th>\n",
       "      <th>RegistrationMonth</th>\n",
       "      <th>FuelType</th>\n",
       "      <th>Brand</th>\n",
       "      <th>NotRepaired</th>\n",
       "      <th>DateCreated</th>\n",
       "      <th>NumberOfPictures</th>\n",
       "      <th>PostalCode</th>\n",
       "      <th>LastSeen</th>\n",
       "    </tr>\n",
       "  </thead>\n",
       "  <tbody>\n",
       "    <tr>\n",
       "      <th>108704</th>\n",
       "      <td>29/03/2016 20:36</td>\n",
       "      <td>8499</td>\n",
       "      <td>wagon</td>\n",
       "      <td>2007</td>\n",
       "      <td>auto</td>\n",
       "      <td>158</td>\n",
       "      <td>forester</td>\n",
       "      <td>125000</td>\n",
       "      <td>3</td>\n",
       "      <td>petrol</td>\n",
       "      <td>subaru</td>\n",
       "      <td>no</td>\n",
       "      <td>29/03/2016 00:00</td>\n",
       "      <td>0</td>\n",
       "      <td>96146</td>\n",
       "      <td>06/04/2016 06:45</td>\n",
       "    </tr>\n",
       "    <tr>\n",
       "      <th>197063</th>\n",
       "      <td>17/03/2016 11:46</td>\n",
       "      <td>11111</td>\n",
       "      <td>NaN</td>\n",
       "      <td>2017</td>\n",
       "      <td>manual</td>\n",
       "      <td>90</td>\n",
       "      <td>NaN</td>\n",
       "      <td>20000</td>\n",
       "      <td>3</td>\n",
       "      <td>petrol</td>\n",
       "      <td>suzuki</td>\n",
       "      <td>no</td>\n",
       "      <td>17/03/2016 00:00</td>\n",
       "      <td>0</td>\n",
       "      <td>21465</td>\n",
       "      <td>24/03/2016 03:17</td>\n",
       "    </tr>\n",
       "    <tr>\n",
       "      <th>55913</th>\n",
       "      <td>11/03/2016 12:48</td>\n",
       "      <td>4000</td>\n",
       "      <td>bus</td>\n",
       "      <td>2007</td>\n",
       "      <td>manual</td>\n",
       "      <td>125</td>\n",
       "      <td>meriva</td>\n",
       "      <td>125000</td>\n",
       "      <td>12</td>\n",
       "      <td>petrol</td>\n",
       "      <td>opel</td>\n",
       "      <td>no</td>\n",
       "      <td>11/03/2016 00:00</td>\n",
       "      <td>0</td>\n",
       "      <td>98553</td>\n",
       "      <td>01/04/2016 10:18</td>\n",
       "    </tr>\n",
       "    <tr>\n",
       "      <th>243711</th>\n",
       "      <td>19/03/2016 11:25</td>\n",
       "      <td>11500</td>\n",
       "      <td>bus</td>\n",
       "      <td>2007</td>\n",
       "      <td>manual</td>\n",
       "      <td>170</td>\n",
       "      <td>touran</td>\n",
       "      <td>125000</td>\n",
       "      <td>7</td>\n",
       "      <td>gasoline</td>\n",
       "      <td>volkswagen</td>\n",
       "      <td>no</td>\n",
       "      <td>19/03/2016 00:00</td>\n",
       "      <td>0</td>\n",
       "      <td>63263</td>\n",
       "      <td>19/03/2016 18:42</td>\n",
       "    </tr>\n",
       "    <tr>\n",
       "      <th>223395</th>\n",
       "      <td>09/03/2016 01:00</td>\n",
       "      <td>3650</td>\n",
       "      <td>sedan</td>\n",
       "      <td>2003</td>\n",
       "      <td>auto</td>\n",
       "      <td>170</td>\n",
       "      <td>stilo</td>\n",
       "      <td>125000</td>\n",
       "      <td>6</td>\n",
       "      <td>petrol</td>\n",
       "      <td>fiat</td>\n",
       "      <td>no</td>\n",
       "      <td>09/03/2016 00:00</td>\n",
       "      <td>0</td>\n",
       "      <td>49377</td>\n",
       "      <td>07/04/2016 04:47</td>\n",
       "    </tr>\n",
       "    <tr>\n",
       "      <th>78735</th>\n",
       "      <td>04/04/2016 12:52</td>\n",
       "      <td>17000</td>\n",
       "      <td>NaN</td>\n",
       "      <td>2014</td>\n",
       "      <td>manual</td>\n",
       "      <td>0</td>\n",
       "      <td>5_reihe</td>\n",
       "      <td>20000</td>\n",
       "      <td>8</td>\n",
       "      <td>petrol</td>\n",
       "      <td>mazda</td>\n",
       "      <td>no</td>\n",
       "      <td>04/04/2016 00:00</td>\n",
       "      <td>0</td>\n",
       "      <td>47441</td>\n",
       "      <td>06/04/2016 14:16</td>\n",
       "    </tr>\n",
       "    <tr>\n",
       "      <th>159498</th>\n",
       "      <td>09/03/2016 20:25</td>\n",
       "      <td>650</td>\n",
       "      <td>small</td>\n",
       "      <td>1996</td>\n",
       "      <td>manual</td>\n",
       "      <td>60</td>\n",
       "      <td>corsa</td>\n",
       "      <td>150000</td>\n",
       "      <td>9</td>\n",
       "      <td>petrol</td>\n",
       "      <td>opel</td>\n",
       "      <td>yes</td>\n",
       "      <td>09/03/2016 00:00</td>\n",
       "      <td>0</td>\n",
       "      <td>55129</td>\n",
       "      <td>10/03/2016 19:38</td>\n",
       "    </tr>\n",
       "    <tr>\n",
       "      <th>145400</th>\n",
       "      <td>14/03/2016 06:56</td>\n",
       "      <td>4500</td>\n",
       "      <td>wagon</td>\n",
       "      <td>2003</td>\n",
       "      <td>manual</td>\n",
       "      <td>190</td>\n",
       "      <td>a4</td>\n",
       "      <td>150000</td>\n",
       "      <td>3</td>\n",
       "      <td>petrol</td>\n",
       "      <td>audi</td>\n",
       "      <td>yes</td>\n",
       "      <td>14/03/2016 00:00</td>\n",
       "      <td>0</td>\n",
       "      <td>7333</td>\n",
       "      <td>15/03/2016 03:44</td>\n",
       "    </tr>\n",
       "    <tr>\n",
       "      <th>330884</th>\n",
       "      <td>02/04/2016 09:51</td>\n",
       "      <td>4800</td>\n",
       "      <td>convertible</td>\n",
       "      <td>1997</td>\n",
       "      <td>manual</td>\n",
       "      <td>101</td>\n",
       "      <td>golf</td>\n",
       "      <td>150000</td>\n",
       "      <td>4</td>\n",
       "      <td>petrol</td>\n",
       "      <td>volkswagen</td>\n",
       "      <td>no</td>\n",
       "      <td>02/04/2016 00:00</td>\n",
       "      <td>0</td>\n",
       "      <td>35435</td>\n",
       "      <td>02/04/2016 14:49</td>\n",
       "    </tr>\n",
       "    <tr>\n",
       "      <th>317867</th>\n",
       "      <td>14/03/2016 07:32</td>\n",
       "      <td>7600</td>\n",
       "      <td>sedan</td>\n",
       "      <td>2009</td>\n",
       "      <td>manual</td>\n",
       "      <td>80</td>\n",
       "      <td>golf</td>\n",
       "      <td>125000</td>\n",
       "      <td>9</td>\n",
       "      <td>petrol</td>\n",
       "      <td>volkswagen</td>\n",
       "      <td>no</td>\n",
       "      <td>14/03/2016 00:00</td>\n",
       "      <td>0</td>\n",
       "      <td>55411</td>\n",
       "      <td>06/04/2016 17:15</td>\n",
       "    </tr>\n",
       "  </tbody>\n",
       "</table>\n",
       "</div>"
      ],
      "text/plain": [
       "             DateCrawled  Price  VehicleType  RegistrationYear Gearbox  Power  \\\n",
       "108704  29/03/2016 20:36   8499        wagon              2007    auto    158   \n",
       "197063  17/03/2016 11:46  11111          NaN              2017  manual     90   \n",
       "55913   11/03/2016 12:48   4000          bus              2007  manual    125   \n",
       "243711  19/03/2016 11:25  11500          bus              2007  manual    170   \n",
       "223395  09/03/2016 01:00   3650        sedan              2003    auto    170   \n",
       "78735   04/04/2016 12:52  17000          NaN              2014  manual      0   \n",
       "159498  09/03/2016 20:25    650        small              1996  manual     60   \n",
       "145400  14/03/2016 06:56   4500        wagon              2003  manual    190   \n",
       "330884  02/04/2016 09:51   4800  convertible              1997  manual    101   \n",
       "317867  14/03/2016 07:32   7600        sedan              2009  manual     80   \n",
       "\n",
       "           Model  Mileage  RegistrationMonth  FuelType       Brand  \\\n",
       "108704  forester   125000                  3    petrol      subaru   \n",
       "197063       NaN    20000                  3    petrol      suzuki   \n",
       "55913     meriva   125000                 12    petrol        opel   \n",
       "243711    touran   125000                  7  gasoline  volkswagen   \n",
       "223395     stilo   125000                  6    petrol        fiat   \n",
       "78735    5_reihe    20000                  8    petrol       mazda   \n",
       "159498     corsa   150000                  9    petrol        opel   \n",
       "145400        a4   150000                  3    petrol        audi   \n",
       "330884      golf   150000                  4    petrol  volkswagen   \n",
       "317867      golf   125000                  9    petrol  volkswagen   \n",
       "\n",
       "       NotRepaired       DateCreated  NumberOfPictures  PostalCode  \\\n",
       "108704          no  29/03/2016 00:00                 0       96146   \n",
       "197063          no  17/03/2016 00:00                 0       21465   \n",
       "55913           no  11/03/2016 00:00                 0       98553   \n",
       "243711          no  19/03/2016 00:00                 0       63263   \n",
       "223395          no  09/03/2016 00:00                 0       49377   \n",
       "78735           no  04/04/2016 00:00                 0       47441   \n",
       "159498         yes  09/03/2016 00:00                 0       55129   \n",
       "145400         yes  14/03/2016 00:00                 0        7333   \n",
       "330884          no  02/04/2016 00:00                 0       35435   \n",
       "317867          no  14/03/2016 00:00                 0       55411   \n",
       "\n",
       "                LastSeen  \n",
       "108704  06/04/2016 06:45  \n",
       "197063  24/03/2016 03:17  \n",
       "55913   01/04/2016 10:18  \n",
       "243711  19/03/2016 18:42  \n",
       "223395  07/04/2016 04:47  \n",
       "78735   06/04/2016 14:16  \n",
       "159498  10/03/2016 19:38  \n",
       "145400  15/03/2016 03:44  \n",
       "330884  02/04/2016 14:49  \n",
       "317867  06/04/2016 17:15  "
      ]
     },
     "execution_count": 4,
     "metadata": {},
     "output_type": "execute_result"
    }
   ],
   "source": [
    "car_data.sample(10)"
   ]
  },
  {
   "cell_type": "code",
   "execution_count": 5,
   "metadata": {},
   "outputs": [
    {
     "data": {
      "text/plain": [
       "array([nan, 'coupe', 'suv', 'small', 'sedan', 'convertible', 'bus',\n",
       "       'wagon', 'other'], dtype=object)"
      ]
     },
     "execution_count": 5,
     "metadata": {},
     "output_type": "execute_result"
    }
   ],
   "source": [
    "car_data['VehicleType'].unique()"
   ]
  },
  {
   "cell_type": "code",
   "execution_count": 6,
   "metadata": {},
   "outputs": [
    {
     "data": {
      "text/plain": [
       "array(['manual', 'auto', nan], dtype=object)"
      ]
     },
     "execution_count": 6,
     "metadata": {},
     "output_type": "execute_result"
    }
   ],
   "source": [
    "car_data['Gearbox'].unique()"
   ]
  },
  {
   "cell_type": "code",
   "execution_count": 7,
   "metadata": {},
   "outputs": [
    {
     "data": {
      "text/plain": [
       "array(['petrol', 'gasoline', nan, 'lpg', 'other', 'hybrid', 'cng',\n",
       "       'electric'], dtype=object)"
      ]
     },
     "execution_count": 7,
     "metadata": {},
     "output_type": "execute_result"
    }
   ],
   "source": [
    "car_data['FuelType'].unique()"
   ]
  },
  {
   "cell_type": "code",
   "execution_count": 8,
   "metadata": {},
   "outputs": [
    {
     "data": {
      "text/plain": [
       "array([nan, 'yes', 'no'], dtype=object)"
      ]
     },
     "execution_count": 8,
     "metadata": {},
     "output_type": "execute_result"
    }
   ],
   "source": [
    "car_data['NotRepaired'].unique()"
   ]
  },
  {
   "cell_type": "markdown",
   "metadata": {},
   "source": [
    "Looking at the unique values in each column to better determine how to deal with the missing values. "
   ]
  },
  {
   "cell_type": "code",
   "execution_count": 9,
   "metadata": {},
   "outputs": [
    {
     "data": {
      "text/plain": [
       "250"
      ]
     },
     "execution_count": 9,
     "metadata": {},
     "output_type": "execute_result"
    }
   ],
   "source": [
    "car_data['Model'].nunique()"
   ]
  },
  {
   "cell_type": "code",
   "execution_count": 10,
   "metadata": {},
   "outputs": [],
   "source": [
    "car_data = car_data.fillna('unknown')"
   ]
  },
  {
   "cell_type": "code",
   "execution_count": 11,
   "metadata": {},
   "outputs": [],
   "source": [
    "car_data['VehicleType'] = car_data['VehicleType'].replace('other','unknown')\n",
    "car_data['FuelType'] = car_data['FuelType'].replace('other','unknown')\n",
    "car_data['Model'] = car_data['Model'].replace('other','unknown')"
   ]
  },
  {
   "cell_type": "markdown",
   "metadata": {},
   "source": [
    "All of the missing values were for categorical features. Because of this, I chose to fill the missing values with 'unknown' so that we won't have to eliminate any of the data. I also changed any of the 'other' values to unknown as well, because these are essentially unknown values too. "
   ]
  },
  {
   "cell_type": "code",
   "execution_count": 12,
   "metadata": {},
   "outputs": [
    {
     "data": {
      "text/html": [
       "<div>\n",
       "<style scoped>\n",
       "    .dataframe tbody tr th:only-of-type {\n",
       "        vertical-align: middle;\n",
       "    }\n",
       "\n",
       "    .dataframe tbody tr th {\n",
       "        vertical-align: top;\n",
       "    }\n",
       "\n",
       "    .dataframe thead th {\n",
       "        text-align: right;\n",
       "    }\n",
       "</style>\n",
       "<table border=\"1\" class=\"dataframe\">\n",
       "  <thead>\n",
       "    <tr style=\"text-align: right;\">\n",
       "      <th></th>\n",
       "      <th>DateCrawled</th>\n",
       "      <th>Price</th>\n",
       "      <th>VehicleType</th>\n",
       "      <th>RegistrationYear</th>\n",
       "      <th>Gearbox</th>\n",
       "      <th>Power</th>\n",
       "      <th>Model</th>\n",
       "      <th>Mileage</th>\n",
       "      <th>RegistrationMonth</th>\n",
       "      <th>FuelType</th>\n",
       "      <th>Brand</th>\n",
       "      <th>NotRepaired</th>\n",
       "      <th>DateCreated</th>\n",
       "      <th>NumberOfPictures</th>\n",
       "      <th>PostalCode</th>\n",
       "      <th>LastSeen</th>\n",
       "    </tr>\n",
       "  </thead>\n",
       "  <tbody>\n",
       "    <tr>\n",
       "      <th>220223</th>\n",
       "      <td>03/04/2016 20:49</td>\n",
       "      <td>0</td>\n",
       "      <td>unknown</td>\n",
       "      <td>2017</td>\n",
       "      <td>manual</td>\n",
       "      <td>55</td>\n",
       "      <td>corsa</td>\n",
       "      <td>125000</td>\n",
       "      <td>0</td>\n",
       "      <td>petrol</td>\n",
       "      <td>opel</td>\n",
       "      <td>no</td>\n",
       "      <td>03/04/2016 00:00</td>\n",
       "      <td>0</td>\n",
       "      <td>17192</td>\n",
       "      <td>05/04/2016 21:46</td>\n",
       "    </tr>\n",
       "    <tr>\n",
       "      <th>109989</th>\n",
       "      <td>09/03/2016 15:39</td>\n",
       "      <td>2300</td>\n",
       "      <td>wagon</td>\n",
       "      <td>2001</td>\n",
       "      <td>manual</td>\n",
       "      <td>125</td>\n",
       "      <td>forester</td>\n",
       "      <td>150000</td>\n",
       "      <td>12</td>\n",
       "      <td>lpg</td>\n",
       "      <td>subaru</td>\n",
       "      <td>no</td>\n",
       "      <td>09/03/2016 00:00</td>\n",
       "      <td>0</td>\n",
       "      <td>37081</td>\n",
       "      <td>15/03/2016 00:15</td>\n",
       "    </tr>\n",
       "    <tr>\n",
       "      <th>73176</th>\n",
       "      <td>19/03/2016 18:47</td>\n",
       "      <td>14299</td>\n",
       "      <td>sedan</td>\n",
       "      <td>2011</td>\n",
       "      <td>manual</td>\n",
       "      <td>120</td>\n",
       "      <td>a4</td>\n",
       "      <td>60000</td>\n",
       "      <td>5</td>\n",
       "      <td>petrol</td>\n",
       "      <td>audi</td>\n",
       "      <td>no</td>\n",
       "      <td>19/03/2016 00:00</td>\n",
       "      <td>0</td>\n",
       "      <td>94532</td>\n",
       "      <td>07/04/2016 06:16</td>\n",
       "    </tr>\n",
       "    <tr>\n",
       "      <th>328209</th>\n",
       "      <td>26/03/2016 21:50</td>\n",
       "      <td>0</td>\n",
       "      <td>small</td>\n",
       "      <td>1999</td>\n",
       "      <td>manual</td>\n",
       "      <td>54</td>\n",
       "      <td>corsa</td>\n",
       "      <td>125000</td>\n",
       "      <td>12</td>\n",
       "      <td>petrol</td>\n",
       "      <td>opel</td>\n",
       "      <td>no</td>\n",
       "      <td>26/03/2016 00:00</td>\n",
       "      <td>0</td>\n",
       "      <td>35683</td>\n",
       "      <td>28/03/2016 13:32</td>\n",
       "    </tr>\n",
       "    <tr>\n",
       "      <th>217270</th>\n",
       "      <td>29/03/2016 19:51</td>\n",
       "      <td>1500</td>\n",
       "      <td>sedan</td>\n",
       "      <td>1994</td>\n",
       "      <td>manual</td>\n",
       "      <td>122</td>\n",
       "      <td>c_klasse</td>\n",
       "      <td>150000</td>\n",
       "      <td>6</td>\n",
       "      <td>petrol</td>\n",
       "      <td>mercedes_benz</td>\n",
       "      <td>no</td>\n",
       "      <td>29/03/2016 00:00</td>\n",
       "      <td>0</td>\n",
       "      <td>69488</td>\n",
       "      <td>06/04/2016 06:15</td>\n",
       "    </tr>\n",
       "    <tr>\n",
       "      <th>108680</th>\n",
       "      <td>03/04/2016 20:41</td>\n",
       "      <td>1695</td>\n",
       "      <td>wagon</td>\n",
       "      <td>2000</td>\n",
       "      <td>auto</td>\n",
       "      <td>165</td>\n",
       "      <td>v70</td>\n",
       "      <td>150000</td>\n",
       "      <td>9</td>\n",
       "      <td>unknown</td>\n",
       "      <td>volvo</td>\n",
       "      <td>no</td>\n",
       "      <td>03/04/2016 00:00</td>\n",
       "      <td>0</td>\n",
       "      <td>29587</td>\n",
       "      <td>05/04/2016 21:17</td>\n",
       "    </tr>\n",
       "    <tr>\n",
       "      <th>257845</th>\n",
       "      <td>23/03/2016 09:52</td>\n",
       "      <td>350</td>\n",
       "      <td>wagon</td>\n",
       "      <td>1995</td>\n",
       "      <td>manual</td>\n",
       "      <td>74</td>\n",
       "      <td>astra</td>\n",
       "      <td>150000</td>\n",
       "      <td>4</td>\n",
       "      <td>petrol</td>\n",
       "      <td>opel</td>\n",
       "      <td>no</td>\n",
       "      <td>23/03/2016 00:00</td>\n",
       "      <td>0</td>\n",
       "      <td>84367</td>\n",
       "      <td>24/03/2016 17:44</td>\n",
       "    </tr>\n",
       "    <tr>\n",
       "      <th>334270</th>\n",
       "      <td>02/04/2016 13:55</td>\n",
       "      <td>6200</td>\n",
       "      <td>sedan</td>\n",
       "      <td>2007</td>\n",
       "      <td>manual</td>\n",
       "      <td>140</td>\n",
       "      <td>golf</td>\n",
       "      <td>150000</td>\n",
       "      <td>2</td>\n",
       "      <td>petrol</td>\n",
       "      <td>volkswagen</td>\n",
       "      <td>no</td>\n",
       "      <td>02/04/2016 00:00</td>\n",
       "      <td>0</td>\n",
       "      <td>23684</td>\n",
       "      <td>06/04/2016 12:16</td>\n",
       "    </tr>\n",
       "    <tr>\n",
       "      <th>122040</th>\n",
       "      <td>24/03/2016 08:51</td>\n",
       "      <td>5800</td>\n",
       "      <td>wagon</td>\n",
       "      <td>2008</td>\n",
       "      <td>manual</td>\n",
       "      <td>90</td>\n",
       "      <td>astra</td>\n",
       "      <td>80000</td>\n",
       "      <td>3</td>\n",
       "      <td>petrol</td>\n",
       "      <td>opel</td>\n",
       "      <td>no</td>\n",
       "      <td>24/03/2016 00:00</td>\n",
       "      <td>0</td>\n",
       "      <td>23730</td>\n",
       "      <td>01/04/2016 01:16</td>\n",
       "    </tr>\n",
       "    <tr>\n",
       "      <th>340524</th>\n",
       "      <td>28/03/2016 14:43</td>\n",
       "      <td>1999</td>\n",
       "      <td>wagon</td>\n",
       "      <td>2002</td>\n",
       "      <td>manual</td>\n",
       "      <td>84</td>\n",
       "      <td>astra</td>\n",
       "      <td>150000</td>\n",
       "      <td>10</td>\n",
       "      <td>petrol</td>\n",
       "      <td>opel</td>\n",
       "      <td>no</td>\n",
       "      <td>28/03/2016 00:00</td>\n",
       "      <td>0</td>\n",
       "      <td>32107</td>\n",
       "      <td>06/04/2016 18:44</td>\n",
       "    </tr>\n",
       "  </tbody>\n",
       "</table>\n",
       "</div>"
      ],
      "text/plain": [
       "             DateCrawled  Price VehicleType  RegistrationYear Gearbox  Power  \\\n",
       "220223  03/04/2016 20:49      0     unknown              2017  manual     55   \n",
       "109989  09/03/2016 15:39   2300       wagon              2001  manual    125   \n",
       "73176   19/03/2016 18:47  14299       sedan              2011  manual    120   \n",
       "328209  26/03/2016 21:50      0       small              1999  manual     54   \n",
       "217270  29/03/2016 19:51   1500       sedan              1994  manual    122   \n",
       "108680  03/04/2016 20:41   1695       wagon              2000    auto    165   \n",
       "257845  23/03/2016 09:52    350       wagon              1995  manual     74   \n",
       "334270  02/04/2016 13:55   6200       sedan              2007  manual    140   \n",
       "122040  24/03/2016 08:51   5800       wagon              2008  manual     90   \n",
       "340524  28/03/2016 14:43   1999       wagon              2002  manual     84   \n",
       "\n",
       "           Model  Mileage  RegistrationMonth FuelType          Brand  \\\n",
       "220223     corsa   125000                  0   petrol           opel   \n",
       "109989  forester   150000                 12      lpg         subaru   \n",
       "73176         a4    60000                  5   petrol           audi   \n",
       "328209     corsa   125000                 12   petrol           opel   \n",
       "217270  c_klasse   150000                  6   petrol  mercedes_benz   \n",
       "108680       v70   150000                  9  unknown          volvo   \n",
       "257845     astra   150000                  4   petrol           opel   \n",
       "334270      golf   150000                  2   petrol     volkswagen   \n",
       "122040     astra    80000                  3   petrol           opel   \n",
       "340524     astra   150000                 10   petrol           opel   \n",
       "\n",
       "       NotRepaired       DateCreated  NumberOfPictures  PostalCode  \\\n",
       "220223          no  03/04/2016 00:00                 0       17192   \n",
       "109989          no  09/03/2016 00:00                 0       37081   \n",
       "73176           no  19/03/2016 00:00                 0       94532   \n",
       "328209          no  26/03/2016 00:00                 0       35683   \n",
       "217270          no  29/03/2016 00:00                 0       69488   \n",
       "108680          no  03/04/2016 00:00                 0       29587   \n",
       "257845          no  23/03/2016 00:00                 0       84367   \n",
       "334270          no  02/04/2016 00:00                 0       23684   \n",
       "122040          no  24/03/2016 00:00                 0       23730   \n",
       "340524          no  28/03/2016 00:00                 0       32107   \n",
       "\n",
       "                LastSeen  \n",
       "220223  05/04/2016 21:46  \n",
       "109989  15/03/2016 00:15  \n",
       "73176   07/04/2016 06:16  \n",
       "328209  28/03/2016 13:32  \n",
       "217270  06/04/2016 06:15  \n",
       "108680  05/04/2016 21:17  \n",
       "257845  24/03/2016 17:44  \n",
       "334270  06/04/2016 12:16  \n",
       "122040  01/04/2016 01:16  \n",
       "340524  06/04/2016 18:44  "
      ]
     },
     "execution_count": 12,
     "metadata": {},
     "output_type": "execute_result"
    }
   ],
   "source": [
    "car_data.sample(10)"
   ]
  },
  {
   "cell_type": "code",
   "execution_count": 13,
   "metadata": {},
   "outputs": [
    {
     "data": {
      "text/html": [
       "<div>\n",
       "<style scoped>\n",
       "    .dataframe tbody tr th:only-of-type {\n",
       "        vertical-align: middle;\n",
       "    }\n",
       "\n",
       "    .dataframe tbody tr th {\n",
       "        vertical-align: top;\n",
       "    }\n",
       "\n",
       "    .dataframe thead th {\n",
       "        text-align: right;\n",
       "    }\n",
       "</style>\n",
       "<table border=\"1\" class=\"dataframe\">\n",
       "  <thead>\n",
       "    <tr style=\"text-align: right;\">\n",
       "      <th></th>\n",
       "      <th>Price</th>\n",
       "      <th>RegistrationYear</th>\n",
       "      <th>Power</th>\n",
       "      <th>Mileage</th>\n",
       "      <th>RegistrationMonth</th>\n",
       "      <th>NumberOfPictures</th>\n",
       "      <th>PostalCode</th>\n",
       "    </tr>\n",
       "  </thead>\n",
       "  <tbody>\n",
       "    <tr>\n",
       "      <th>count</th>\n",
       "      <td>354369.000000</td>\n",
       "      <td>354369.000000</td>\n",
       "      <td>354369.000000</td>\n",
       "      <td>354369.000000</td>\n",
       "      <td>354369.000000</td>\n",
       "      <td>354369.0</td>\n",
       "      <td>354369.000000</td>\n",
       "    </tr>\n",
       "    <tr>\n",
       "      <th>mean</th>\n",
       "      <td>4416.656776</td>\n",
       "      <td>2004.234448</td>\n",
       "      <td>110.094337</td>\n",
       "      <td>128211.172535</td>\n",
       "      <td>5.714645</td>\n",
       "      <td>0.0</td>\n",
       "      <td>50508.689087</td>\n",
       "    </tr>\n",
       "    <tr>\n",
       "      <th>std</th>\n",
       "      <td>4514.158514</td>\n",
       "      <td>90.227958</td>\n",
       "      <td>189.850405</td>\n",
       "      <td>37905.341530</td>\n",
       "      <td>3.726421</td>\n",
       "      <td>0.0</td>\n",
       "      <td>25783.096248</td>\n",
       "    </tr>\n",
       "    <tr>\n",
       "      <th>min</th>\n",
       "      <td>0.000000</td>\n",
       "      <td>1000.000000</td>\n",
       "      <td>0.000000</td>\n",
       "      <td>5000.000000</td>\n",
       "      <td>0.000000</td>\n",
       "      <td>0.0</td>\n",
       "      <td>1067.000000</td>\n",
       "    </tr>\n",
       "    <tr>\n",
       "      <th>25%</th>\n",
       "      <td>1050.000000</td>\n",
       "      <td>1999.000000</td>\n",
       "      <td>69.000000</td>\n",
       "      <td>125000.000000</td>\n",
       "      <td>3.000000</td>\n",
       "      <td>0.0</td>\n",
       "      <td>30165.000000</td>\n",
       "    </tr>\n",
       "    <tr>\n",
       "      <th>50%</th>\n",
       "      <td>2700.000000</td>\n",
       "      <td>2003.000000</td>\n",
       "      <td>105.000000</td>\n",
       "      <td>150000.000000</td>\n",
       "      <td>6.000000</td>\n",
       "      <td>0.0</td>\n",
       "      <td>49413.000000</td>\n",
       "    </tr>\n",
       "    <tr>\n",
       "      <th>75%</th>\n",
       "      <td>6400.000000</td>\n",
       "      <td>2008.000000</td>\n",
       "      <td>143.000000</td>\n",
       "      <td>150000.000000</td>\n",
       "      <td>9.000000</td>\n",
       "      <td>0.0</td>\n",
       "      <td>71083.000000</td>\n",
       "    </tr>\n",
       "    <tr>\n",
       "      <th>max</th>\n",
       "      <td>20000.000000</td>\n",
       "      <td>9999.000000</td>\n",
       "      <td>20000.000000</td>\n",
       "      <td>150000.000000</td>\n",
       "      <td>12.000000</td>\n",
       "      <td>0.0</td>\n",
       "      <td>99998.000000</td>\n",
       "    </tr>\n",
       "  </tbody>\n",
       "</table>\n",
       "</div>"
      ],
      "text/plain": [
       "               Price  RegistrationYear          Power        Mileage  \\\n",
       "count  354369.000000     354369.000000  354369.000000  354369.000000   \n",
       "mean     4416.656776       2004.234448     110.094337  128211.172535   \n",
       "std      4514.158514         90.227958     189.850405   37905.341530   \n",
       "min         0.000000       1000.000000       0.000000    5000.000000   \n",
       "25%      1050.000000       1999.000000      69.000000  125000.000000   \n",
       "50%      2700.000000       2003.000000     105.000000  150000.000000   \n",
       "75%      6400.000000       2008.000000     143.000000  150000.000000   \n",
       "max     20000.000000       9999.000000   20000.000000  150000.000000   \n",
       "\n",
       "       RegistrationMonth  NumberOfPictures     PostalCode  \n",
       "count      354369.000000          354369.0  354369.000000  \n",
       "mean            5.714645               0.0   50508.689087  \n",
       "std             3.726421               0.0   25783.096248  \n",
       "min             0.000000               0.0    1067.000000  \n",
       "25%             3.000000               0.0   30165.000000  \n",
       "50%             6.000000               0.0   49413.000000  \n",
       "75%             9.000000               0.0   71083.000000  \n",
       "max            12.000000               0.0   99998.000000  "
      ]
     },
     "execution_count": 13,
     "metadata": {},
     "output_type": "execute_result"
    }
   ],
   "source": [
    "#Using descriptive statistics to see if there are any outliers or oddities to be dealt with\n",
    "car_data.describe()"
   ]
  },
  {
   "cell_type": "code",
   "execution_count": 14,
   "metadata": {},
   "outputs": [],
   "source": [
    "#dropping Number of Pictures column \n",
    "car_data = car_data.drop(columns=['NumberOfPictures'])"
   ]
  },
  {
   "cell_type": "markdown",
   "metadata": {},
   "source": [
    "Number of Pictures column only has the value of 0, either this column is flawed, or it is providing no actual useful information. Either way, we will drop it from the df. "
   ]
  },
  {
   "cell_type": "code",
   "execution_count": 15,
   "metadata": {},
   "outputs": [
    {
     "data": {
      "text/plain": [
       "0     37352\n",
       "3     34373\n",
       "6     31508\n",
       "4     29270\n",
       "5     29153\n",
       "7     27213\n",
       "10    26099\n",
       "12    24289\n",
       "11    24186\n",
       "9     23813\n",
       "1     23219\n",
       "8     22627\n",
       "2     21267\n",
       "Name: RegistrationMonth, dtype: int64"
      ]
     },
     "execution_count": 15,
     "metadata": {},
     "output_type": "execute_result"
    }
   ],
   "source": [
    "car_data['RegistrationMonth'].value_counts()"
   ]
  },
  {
   "cell_type": "code",
   "execution_count": 16,
   "metadata": {},
   "outputs": [
    {
     "data": {
      "text/html": [
       "<div>\n",
       "<style scoped>\n",
       "    .dataframe tbody tr th:only-of-type {\n",
       "        vertical-align: middle;\n",
       "    }\n",
       "\n",
       "    .dataframe tbody tr th {\n",
       "        vertical-align: top;\n",
       "    }\n",
       "\n",
       "    .dataframe thead th {\n",
       "        text-align: right;\n",
       "    }\n",
       "</style>\n",
       "<table border=\"1\" class=\"dataframe\">\n",
       "  <thead>\n",
       "    <tr style=\"text-align: right;\">\n",
       "      <th></th>\n",
       "      <th>DateCrawled</th>\n",
       "      <th>Price</th>\n",
       "      <th>VehicleType</th>\n",
       "      <th>RegistrationYear</th>\n",
       "      <th>Gearbox</th>\n",
       "      <th>Power</th>\n",
       "      <th>Model</th>\n",
       "      <th>Mileage</th>\n",
       "      <th>RegistrationMonth</th>\n",
       "      <th>FuelType</th>\n",
       "      <th>Brand</th>\n",
       "      <th>NotRepaired</th>\n",
       "      <th>DateCreated</th>\n",
       "      <th>PostalCode</th>\n",
       "      <th>LastSeen</th>\n",
       "    </tr>\n",
       "  </thead>\n",
       "  <tbody>\n",
       "    <tr>\n",
       "      <th>224593</th>\n",
       "      <td>08/03/2016 19:39</td>\n",
       "      <td>2200</td>\n",
       "      <td>unknown</td>\n",
       "      <td>2017</td>\n",
       "      <td>manual</td>\n",
       "      <td>165</td>\n",
       "      <td>a6</td>\n",
       "      <td>150000</td>\n",
       "      <td>0</td>\n",
       "      <td>unknown</td>\n",
       "      <td>audi</td>\n",
       "      <td>unknown</td>\n",
       "      <td>08/03/2016 00:00</td>\n",
       "      <td>1458</td>\n",
       "      <td>05/04/2016 13:18</td>\n",
       "    </tr>\n",
       "    <tr>\n",
       "      <th>288384</th>\n",
       "      <td>19/03/2016 12:55</td>\n",
       "      <td>650</td>\n",
       "      <td>unknown</td>\n",
       "      <td>2016</td>\n",
       "      <td>manual</td>\n",
       "      <td>101</td>\n",
       "      <td>golf</td>\n",
       "      <td>150000</td>\n",
       "      <td>0</td>\n",
       "      <td>unknown</td>\n",
       "      <td>volkswagen</td>\n",
       "      <td>unknown</td>\n",
       "      <td>19/03/2016 00:00</td>\n",
       "      <td>89281</td>\n",
       "      <td>27/03/2016 00:45</td>\n",
       "    </tr>\n",
       "    <tr>\n",
       "      <th>162425</th>\n",
       "      <td>27/03/2016 11:36</td>\n",
       "      <td>799</td>\n",
       "      <td>unknown</td>\n",
       "      <td>1995</td>\n",
       "      <td>unknown</td>\n",
       "      <td>0</td>\n",
       "      <td>a4</td>\n",
       "      <td>150000</td>\n",
       "      <td>0</td>\n",
       "      <td>petrol</td>\n",
       "      <td>audi</td>\n",
       "      <td>yes</td>\n",
       "      <td>27/03/2016 00:00</td>\n",
       "      <td>34593</td>\n",
       "      <td>07/04/2016 07:45</td>\n",
       "    </tr>\n",
       "    <tr>\n",
       "      <th>51905</th>\n",
       "      <td>31/03/2016 17:45</td>\n",
       "      <td>1000</td>\n",
       "      <td>wagon</td>\n",
       "      <td>2000</td>\n",
       "      <td>manual</td>\n",
       "      <td>205</td>\n",
       "      <td>mondeo</td>\n",
       "      <td>150000</td>\n",
       "      <td>0</td>\n",
       "      <td>unknown</td>\n",
       "      <td>ford</td>\n",
       "      <td>unknown</td>\n",
       "      <td>31/03/2016 00:00</td>\n",
       "      <td>42651</td>\n",
       "      <td>06/04/2016 11:15</td>\n",
       "    </tr>\n",
       "    <tr>\n",
       "      <th>292363</th>\n",
       "      <td>24/03/2016 07:57</td>\n",
       "      <td>4850</td>\n",
       "      <td>unknown</td>\n",
       "      <td>1980</td>\n",
       "      <td>unknown</td>\n",
       "      <td>0</td>\n",
       "      <td>x_type</td>\n",
       "      <td>30000</td>\n",
       "      <td>0</td>\n",
       "      <td>unknown</td>\n",
       "      <td>jaguar</td>\n",
       "      <td>unknown</td>\n",
       "      <td>24/03/2016 00:00</td>\n",
       "      <td>31008</td>\n",
       "      <td>25/03/2016 15:55</td>\n",
       "    </tr>\n",
       "    <tr>\n",
       "      <th>174796</th>\n",
       "      <td>12/03/2016 15:48</td>\n",
       "      <td>0</td>\n",
       "      <td>unknown</td>\n",
       "      <td>2005</td>\n",
       "      <td>unknown</td>\n",
       "      <td>0</td>\n",
       "      <td>corsa</td>\n",
       "      <td>150000</td>\n",
       "      <td>0</td>\n",
       "      <td>unknown</td>\n",
       "      <td>opel</td>\n",
       "      <td>unknown</td>\n",
       "      <td>12/03/2016 00:00</td>\n",
       "      <td>66773</td>\n",
       "      <td>17/03/2016 17:47</td>\n",
       "    </tr>\n",
       "    <tr>\n",
       "      <th>154676</th>\n",
       "      <td>03/04/2016 12:39</td>\n",
       "      <td>6500</td>\n",
       "      <td>convertible</td>\n",
       "      <td>2004</td>\n",
       "      <td>manual</td>\n",
       "      <td>135</td>\n",
       "      <td>unknown</td>\n",
       "      <td>70000</td>\n",
       "      <td>0</td>\n",
       "      <td>petrol</td>\n",
       "      <td>peugeot</td>\n",
       "      <td>no</td>\n",
       "      <td>03/04/2016 00:00</td>\n",
       "      <td>25541</td>\n",
       "      <td>07/04/2016 14:57</td>\n",
       "    </tr>\n",
       "    <tr>\n",
       "      <th>44643</th>\n",
       "      <td>23/03/2016 09:47</td>\n",
       "      <td>3600</td>\n",
       "      <td>coupe</td>\n",
       "      <td>1999</td>\n",
       "      <td>manual</td>\n",
       "      <td>170</td>\n",
       "      <td>3er</td>\n",
       "      <td>150000</td>\n",
       "      <td>0</td>\n",
       "      <td>petrol</td>\n",
       "      <td>bmw</td>\n",
       "      <td>no</td>\n",
       "      <td>23/03/2016 00:00</td>\n",
       "      <td>46499</td>\n",
       "      <td>01/04/2016 12:44</td>\n",
       "    </tr>\n",
       "    <tr>\n",
       "      <th>71953</th>\n",
       "      <td>12/03/2016 17:43</td>\n",
       "      <td>2100</td>\n",
       "      <td>wagon</td>\n",
       "      <td>2004</td>\n",
       "      <td>manual</td>\n",
       "      <td>103</td>\n",
       "      <td>stilo</td>\n",
       "      <td>150000</td>\n",
       "      <td>0</td>\n",
       "      <td>petrol</td>\n",
       "      <td>fiat</td>\n",
       "      <td>unknown</td>\n",
       "      <td>12/03/2016 00:00</td>\n",
       "      <td>33647</td>\n",
       "      <td>03/04/2016 08:16</td>\n",
       "    </tr>\n",
       "    <tr>\n",
       "      <th>244784</th>\n",
       "      <td>15/03/2016 16:55</td>\n",
       "      <td>1500</td>\n",
       "      <td>wagon</td>\n",
       "      <td>2002</td>\n",
       "      <td>unknown</td>\n",
       "      <td>110</td>\n",
       "      <td>unknown</td>\n",
       "      <td>150000</td>\n",
       "      <td>0</td>\n",
       "      <td>petrol</td>\n",
       "      <td>peugeot</td>\n",
       "      <td>no</td>\n",
       "      <td>15/03/2016 00:00</td>\n",
       "      <td>52076</td>\n",
       "      <td>19/03/2016 11:17</td>\n",
       "    </tr>\n",
       "  </tbody>\n",
       "</table>\n",
       "</div>"
      ],
      "text/plain": [
       "             DateCrawled  Price  VehicleType  RegistrationYear  Gearbox  \\\n",
       "224593  08/03/2016 19:39   2200      unknown              2017   manual   \n",
       "288384  19/03/2016 12:55    650      unknown              2016   manual   \n",
       "162425  27/03/2016 11:36    799      unknown              1995  unknown   \n",
       "51905   31/03/2016 17:45   1000        wagon              2000   manual   \n",
       "292363  24/03/2016 07:57   4850      unknown              1980  unknown   \n",
       "174796  12/03/2016 15:48      0      unknown              2005  unknown   \n",
       "154676  03/04/2016 12:39   6500  convertible              2004   manual   \n",
       "44643   23/03/2016 09:47   3600        coupe              1999   manual   \n",
       "71953   12/03/2016 17:43   2100        wagon              2004   manual   \n",
       "244784  15/03/2016 16:55   1500        wagon              2002  unknown   \n",
       "\n",
       "        Power    Model  Mileage  RegistrationMonth FuelType       Brand  \\\n",
       "224593    165       a6   150000                  0  unknown        audi   \n",
       "288384    101     golf   150000                  0  unknown  volkswagen   \n",
       "162425      0       a4   150000                  0   petrol        audi   \n",
       "51905     205   mondeo   150000                  0  unknown        ford   \n",
       "292363      0   x_type    30000                  0  unknown      jaguar   \n",
       "174796      0    corsa   150000                  0  unknown        opel   \n",
       "154676    135  unknown    70000                  0   petrol     peugeot   \n",
       "44643     170      3er   150000                  0   petrol         bmw   \n",
       "71953     103    stilo   150000                  0   petrol        fiat   \n",
       "244784    110  unknown   150000                  0   petrol     peugeot   \n",
       "\n",
       "       NotRepaired       DateCreated  PostalCode          LastSeen  \n",
       "224593     unknown  08/03/2016 00:00        1458  05/04/2016 13:18  \n",
       "288384     unknown  19/03/2016 00:00       89281  27/03/2016 00:45  \n",
       "162425         yes  27/03/2016 00:00       34593  07/04/2016 07:45  \n",
       "51905      unknown  31/03/2016 00:00       42651  06/04/2016 11:15  \n",
       "292363     unknown  24/03/2016 00:00       31008  25/03/2016 15:55  \n",
       "174796     unknown  12/03/2016 00:00       66773  17/03/2016 17:47  \n",
       "154676          no  03/04/2016 00:00       25541  07/04/2016 14:57  \n",
       "44643           no  23/03/2016 00:00       46499  01/04/2016 12:44  \n",
       "71953      unknown  12/03/2016 00:00       33647  03/04/2016 08:16  \n",
       "244784          no  15/03/2016 00:00       52076  19/03/2016 11:17  "
      ]
     },
     "execution_count": 16,
     "metadata": {},
     "output_type": "execute_result"
    }
   ],
   "source": [
    "month0 = car_data[car_data['RegistrationMonth']==0]\n",
    "month0.sample(10)"
   ]
  },
  {
   "cell_type": "markdown",
   "metadata": {},
   "source": [
    "Looking at random samples of the entries where the registration month is 0 in order to see if there is any way to determine what month 0 actually is supposed to be, or if this is just denoting an unknown value. Roughly 10% of the data has the Registration Month as 0, so I don't want to remove all of these rows. I see no pattern as to what month 0 is supposed to be, so I will opt to count month '0' as unknown. I would change the values of 0 to unknown, but I want to keep all of the datatypes numerical. So for that reason, any value of 0 in the RegistrationMonth column is meant to denote an unknown value. "
   ]
  },
  {
   "cell_type": "code",
   "execution_count": 17,
   "metadata": {},
   "outputs": [],
   "source": [
    "car_data = car_data[(car_data['RegistrationYear'] >= 1920) & (car_data['RegistrationYear'] <= 2024)].reset_index(drop=True)"
   ]
  },
  {
   "cell_type": "markdown",
   "metadata": {},
   "source": [
    "There were some oddities in the Registration Year column (i.e year 1000 or 9999), so I have removed any values outside the range of 1920-2024. "
   ]
  },
  {
   "cell_type": "code",
   "execution_count": 18,
   "metadata": {},
   "outputs": [],
   "source": [
    "car_data = car_data[car_data['Power'] >= 50].reset_index(drop=True)"
   ]
  },
  {
   "cell_type": "markdown",
   "metadata": {},
   "source": [
    "Setting a reasonable range for the Power column to get rid of outliers (i.e value of 0)"
   ]
  },
  {
   "cell_type": "code",
   "execution_count": 19,
   "metadata": {},
   "outputs": [],
   "source": [
    "car_data = car_data[car_data['Price'] > 0].reset_index(drop=True)"
   ]
  },
  {
   "cell_type": "markdown",
   "metadata": {},
   "source": [
    "Setting a reasonable range for the Price column to get rid of outliers (i.e value of 0)"
   ]
  },
  {
   "cell_type": "code",
   "execution_count": 20,
   "metadata": {},
   "outputs": [
    {
     "name": "stdout",
     "output_type": "stream",
     "text": [
      "<class 'pandas.core.frame.DataFrame'>\n",
      "RangeIndex: 301476 entries, 0 to 301475\n",
      "Data columns (total 15 columns):\n",
      " #   Column             Non-Null Count   Dtype \n",
      "---  ------             --------------   ----- \n",
      " 0   DateCrawled        301476 non-null  object\n",
      " 1   Price              301476 non-null  int64 \n",
      " 2   VehicleType        301476 non-null  object\n",
      " 3   RegistrationYear   301476 non-null  int64 \n",
      " 4   Gearbox            301476 non-null  object\n",
      " 5   Power              301476 non-null  int64 \n",
      " 6   Model              301476 non-null  object\n",
      " 7   Mileage            301476 non-null  int64 \n",
      " 8   RegistrationMonth  301476 non-null  int64 \n",
      " 9   FuelType           301476 non-null  object\n",
      " 10  Brand              301476 non-null  object\n",
      " 11  NotRepaired        301476 non-null  object\n",
      " 12  DateCreated        301476 non-null  object\n",
      " 13  PostalCode         301476 non-null  int64 \n",
      " 14  LastSeen           301476 non-null  object\n",
      "dtypes: int64(6), object(9)\n",
      "memory usage: 34.5+ MB\n"
     ]
    }
   ],
   "source": [
    "car_data.info()"
   ]
  },
  {
   "cell_type": "code",
   "execution_count": 21,
   "metadata": {},
   "outputs": [],
   "source": [
    "#Dropping unnecessary columns\n",
    "car_data = car_data.drop(columns=['DateCrawled', 'DateCreated', 'LastSeen', 'PostalCode'])"
   ]
  },
  {
   "cell_type": "markdown",
   "metadata": {},
   "source": [
    "I noticed that the Postal Code column had many values with only 4 digits. It's possible that these entries were missing a 0 from either the first or last digit. Regardless, I don't think the postal code is an important feature in determining the vehicles' value. "
   ]
  },
  {
   "cell_type": "code",
   "execution_count": 22,
   "metadata": {},
   "outputs": [
    {
     "name": "stdout",
     "output_type": "stream",
     "text": [
      "<class 'pandas.core.frame.DataFrame'>\n",
      "RangeIndex: 301476 entries, 0 to 301475\n",
      "Data columns (total 11 columns):\n",
      " #   Column             Non-Null Count   Dtype \n",
      "---  ------             --------------   ----- \n",
      " 0   Price              301476 non-null  int64 \n",
      " 1   VehicleType        301476 non-null  object\n",
      " 2   RegistrationYear   301476 non-null  int64 \n",
      " 3   Gearbox            301476 non-null  object\n",
      " 4   Power              301476 non-null  int64 \n",
      " 5   Model              301476 non-null  object\n",
      " 6   Mileage            301476 non-null  int64 \n",
      " 7   RegistrationMonth  301476 non-null  int64 \n",
      " 8   FuelType           301476 non-null  object\n",
      " 9   Brand              301476 non-null  object\n",
      " 10  NotRepaired        301476 non-null  object\n",
      "dtypes: int64(5), object(6)\n",
      "memory usage: 25.3+ MB\n"
     ]
    }
   ],
   "source": [
    "car_data.info()"
   ]
  },
  {
   "cell_type": "code",
   "execution_count": 23,
   "metadata": {},
   "outputs": [],
   "source": [
    "car_data_encoded = pd.get_dummies(car_data, columns=['VehicleType', 'Gearbox', 'Model', 'FuelType', 'Brand', 'NotRepaired'], drop_first=True)"
   ]
  },
  {
   "cell_type": "markdown",
   "metadata": {},
   "source": [
    "Encoding categorical features "
   ]
  },
  {
   "cell_type": "code",
   "execution_count": 24,
   "metadata": {},
   "outputs": [
    {
     "name": "stdout",
     "output_type": "stream",
     "text": [
      "<class 'pandas.core.frame.DataFrame'>\n",
      "RangeIndex: 301476 entries, 0 to 301475\n",
      "Columns: 309 entries, Price to NotRepaired_yes\n",
      "dtypes: int64(5), uint8(304)\n",
      "memory usage: 98.9 MB\n"
     ]
    }
   ],
   "source": [
    "car_data_encoded.info()"
   ]
  },
  {
   "cell_type": "markdown",
   "metadata": {},
   "source": [
    "## Model Training"
   ]
  },
  {
   "cell_type": "code",
   "execution_count": 25,
   "metadata": {},
   "outputs": [],
   "source": [
    "X = car_data_encoded.drop('Price', axis=1)\n",
    "y = car_data_encoded['Price']\n",
    "   \n",
    "# Split data into training + validation set and test set\n",
    "X_train_full, X_test, y_train_full, y_test = train_test_split(X, y, test_size=0.2, random_state=315)\n",
    "\n",
    "# Further split the training set into training and validation sets\n",
    "X_train, X_valid, y_train, y_valid = train_test_split(X_train_full, y_train_full, test_size=0.25, random_state=315)\n",
    "   "
   ]
  },
  {
   "cell_type": "code",
   "execution_count": 26,
   "metadata": {},
   "outputs": [
    {
     "name": "stderr",
     "output_type": "stream",
     "text": [
      "/tmp/ipykernel_114/3353569170.py:9: SettingWithCopyWarning: \n",
      "A value is trying to be set on a copy of a slice from a DataFrame.\n",
      "Try using .loc[row_indexer,col_indexer] = value instead\n",
      "\n",
      "See the caveats in the documentation: https://pandas.pydata.org/pandas-docs/stable/user_guide/indexing.html#returning-a-view-versus-a-copy\n",
      "  X_train[numerical_features] = scaler.transform(X_train[numerical_features])\n",
      "/opt/conda/envs/python3/lib/python3.9/site-packages/pandas/core/indexing.py:1738: SettingWithCopyWarning: \n",
      "A value is trying to be set on a copy of a slice from a DataFrame.\n",
      "Try using .loc[row_indexer,col_indexer] = value instead\n",
      "\n",
      "See the caveats in the documentation: https://pandas.pydata.org/pandas-docs/stable/user_guide/indexing.html#returning-a-view-versus-a-copy\n",
      "  self._setitem_single_column(loc, value[:, i].tolist(), pi)\n",
      "/tmp/ipykernel_114/3353569170.py:10: SettingWithCopyWarning: \n",
      "A value is trying to be set on a copy of a slice from a DataFrame.\n",
      "Try using .loc[row_indexer,col_indexer] = value instead\n",
      "\n",
      "See the caveats in the documentation: https://pandas.pydata.org/pandas-docs/stable/user_guide/indexing.html#returning-a-view-versus-a-copy\n",
      "  X_valid[numerical_features] = scaler.transform(X_valid[numerical_features])\n",
      "/opt/conda/envs/python3/lib/python3.9/site-packages/pandas/core/indexing.py:1738: SettingWithCopyWarning: \n",
      "A value is trying to be set on a copy of a slice from a DataFrame.\n",
      "Try using .loc[row_indexer,col_indexer] = value instead\n",
      "\n",
      "See the caveats in the documentation: https://pandas.pydata.org/pandas-docs/stable/user_guide/indexing.html#returning-a-view-versus-a-copy\n",
      "  self._setitem_single_column(loc, value[:, i].tolist(), pi)\n",
      "/tmp/ipykernel_114/3353569170.py:11: SettingWithCopyWarning: \n",
      "A value is trying to be set on a copy of a slice from a DataFrame.\n",
      "Try using .loc[row_indexer,col_indexer] = value instead\n",
      "\n",
      "See the caveats in the documentation: https://pandas.pydata.org/pandas-docs/stable/user_guide/indexing.html#returning-a-view-versus-a-copy\n",
      "  X_test[numerical_features] = scaler.transform(X_test[numerical_features])\n",
      "/opt/conda/envs/python3/lib/python3.9/site-packages/pandas/core/indexing.py:1738: SettingWithCopyWarning: \n",
      "A value is trying to be set on a copy of a slice from a DataFrame.\n",
      "Try using .loc[row_indexer,col_indexer] = value instead\n",
      "\n",
      "See the caveats in the documentation: https://pandas.pydata.org/pandas-docs/stable/user_guide/indexing.html#returning-a-view-versus-a-copy\n",
      "  self._setitem_single_column(loc, value[:, i].tolist(), pi)\n"
     ]
    }
   ],
   "source": [
    "numerical_features = ['RegistrationYear', 'Power', 'Mileage', 'RegistrationMonth']\n",
    "\n",
    "scaler = StandardScaler()\n",
    "\n",
    "# Fit the scaler on the training data\n",
    "scaler.fit(X_train[numerical_features])\n",
    "\n",
    "# Transform the training, validation, and test data\n",
    "X_train[numerical_features] = scaler.transform(X_train[numerical_features])\n",
    "X_valid[numerical_features] = scaler.transform(X_valid[numerical_features])\n",
    "X_test[numerical_features] = scaler.transform(X_test[numerical_features])"
   ]
  },
  {
   "cell_type": "code",
   "execution_count": 27,
   "metadata": {},
   "outputs": [
    {
     "name": "stdout",
     "output_type": "stream",
     "text": [
      "Linear Regression RMSE: 2785.57\n",
      "Training time: 6.1357 seconds\n",
      "Prediction time: 0.1048 seconds\n",
      "\n",
      "Decision Tree RMSE: 2045.47\n",
      "Training time: 3.2994 seconds\n",
      "Prediction time: 0.0635 seconds\n",
      "\n"
     ]
    }
   ],
   "source": [
    "# Linear Regression\n",
    "lin_reg = LinearRegression()\n",
    "#measure train time\n",
    "start_train = time.time()\n",
    "lin_reg.fit(X_train, y_train)\n",
    "end_train = time.time()\n",
    "training_time = end_train - start_train\n",
    "#measure prediction time\n",
    "start_pred = time.time()\n",
    "y_pred = lin_reg.predict(X_valid)\n",
    "end_pred = time.time()\n",
    "prediction_time = end_pred - start_pred\n",
    "# Calculate RMSE\n",
    "rmse_lin = mean_squared_error(y_valid, y_pred, squared=False)\n",
    "\n",
    "print(f\"Linear Regression RMSE: {rmse_lin:.2f}\")\n",
    "print(f\"Training time: {training_time:.4f} seconds\")\n",
    "print(f\"Prediction time: {prediction_time:.4f} seconds\")\n",
    "print()\n",
    "\n",
    "# Decision Tree Regressor\n",
    "tree_reg = DecisionTreeRegressor(random_state=315)  \n",
    "# Measure training time\n",
    "start_train = time.time()\n",
    "tree_reg.fit(X_train, y_train)\n",
    "end_train = time.time()\n",
    "training_time = end_train - start_train\n",
    "\n",
    "# Measure prediction time\n",
    "start_pred = time.time()\n",
    "y_pred = tree_reg.predict(X_valid)\n",
    "end_pred = time.time()\n",
    "prediction_time = end_pred - start_pred\n",
    "\n",
    "# Calculate RMSE\n",
    "rmse_tree = mean_squared_error(y_valid, y_pred, squared=False)\n",
    "\n",
    "print(f\"Decision Tree RMSE: {rmse_tree:.2f}\")\n",
    "print(f\"Training time: {training_time:.4f} seconds\")\n",
    "print(f\"Prediction time: {prediction_time:.4f} seconds\")\n",
    "print()\n",
    "\n",
    "# Random Forest Regressor\n",
    "#forest_reg = RandomForestRegressor(random_state=315, n_estimators=50) \n",
    "# Measure training time\n",
    "#start_train = time.time()\n",
    "#forest_reg.fit(X_train, y_train)\n",
    "#end_train = time.time()\n",
    "#training_time = end_train - start_train\n",
    "\n",
    "# Measure prediction time\n",
    "#start_pred = time.time()\n",
    "#y_pred = forest_reg.predict(X_valid)\n",
    "#end_pred = time.time()\n",
    "#prediction_time = end_pred - start_pred\n",
    "\n",
    "# Calculate RMSE\n",
    "#rmse_forest = mean_squared_error(y_valid, y_pred, squared=False)\n",
    "\n",
    "#print(f\"Random Forest RMSE: {rmse_forest:.2f}\")\n",
    "#print(f\"Training time: {training_time:.4f} seconds\")\n",
    "#print(f\"Prediction time: {prediction_time:.4f} seconds\")"
   ]
  },
  {
   "cell_type": "markdown",
   "metadata": {},
   "source": [
    "Upon the initial run of the models, we see that both the Decision Tree and Random Forest models have better RMSE scores than the Linear Regression model. This is to be expected as the Linear Regression model is being used as a sanity check in this instance. It should be noted that the Random Forest model's RMSE score is better than the Decision Tree's by a rather significant amount. With that said, we also need to take into account the amount of time it takes the models to train and predict. The Random Forest model took over a minute to train, whereas the other 2 models took a matter of seconds. The prediction time for the Random Forest, while not long at 1.05 seconds, is still significantly longer relatively speaking to the fraction of a second it took the other 2 models. "
   ]
  },
  {
   "cell_type": "markdown",
   "metadata": {},
   "source": [
    "### Decision Tree Regressor Model"
   ]
  },
  {
   "cell_type": "code",
   "execution_count": 28,
   "metadata": {},
   "outputs": [],
   "source": [
    "#for depth in range(1, 20):\n",
    "#    tree = DecisionTreeRegressor(random_state=315, max_depth=depth)\n",
    "#    tree.fit(X_train, y_train)\n",
    "#    y_pred = tree.predict(X_valid)\n",
    "#    rmse_tree = mean_squared_error(y_valid, y_pred, squared=False)\n",
    "#    print('max_depth =', depth, ': ', end='')\n",
    "#    print(f'Decision Tree RMSE: {rmse_tree:.2f}')"
   ]
  },
  {
   "cell_type": "markdown",
   "metadata": {},
   "source": [
    "After testing out many different max_depth values for this model, I have determined that max_depth=16 will give us the best DecisionTree model. "
   ]
  },
  {
   "cell_type": "code",
   "execution_count": 29,
   "metadata": {},
   "outputs": [
    {
     "name": "stdout",
     "output_type": "stream",
     "text": [
      "Decision Tree RMSE: 1895.55\n"
     ]
    }
   ],
   "source": [
    "tree_reg = DecisionTreeRegressor(random_state=315, max_depth=16)\n",
    "tree_reg.fit(X_train, y_train)\n",
    "y_pred = tree_reg.predict(X_valid)\n",
    "rmse_tree = mean_squared_error(y_valid, y_pred, squared=False)\n",
    "print(f'Decision Tree RMSE: {rmse_tree:.2f}')"
   ]
  },
  {
   "cell_type": "markdown",
   "metadata": {},
   "source": [
    "In addition to tuning the max_depth hyperparameter, I tried tuning both the splitter and criterion hyperparameters, but the default values for both resulted with the most optimal version of this model. "
   ]
  },
  {
   "cell_type": "markdown",
   "metadata": {},
   "source": [
    "### Random Forest Regressor Model "
   ]
  },
  {
   "cell_type": "code",
   "execution_count": 30,
   "metadata": {},
   "outputs": [],
   "source": [
    "#best_rmse = 1650\n",
    "#best_est = 0\n",
    "#for est in range(90, 101):\n",
    "#    rando = RandomForestRegressor(random_state=315, n_estimators=est)\n",
    "#    rando.fit(X_train, y_train)\n",
    "#    y_pred = rando.predict(X_valid)\n",
    "#    rmse_forest = mean_squared_error(y_valid, y_pred, squared=False)\n",
    "#    if rmse_forest < best_rmse:\n",
    "#        best_rmse = rmse_forest\n",
    "#        best_est = est\n",
    "#print('RMSE of the best model is (n_estimators = {}): {}'.format(best_est, best_rmse))"
   ]
  },
  {
   "cell_type": "markdown",
   "metadata": {},
   "source": [
    "After running multiple models with different n_estimators (commented out the code above for time saving purposes) I have determined that using n_estimators=50 is the best course of action for the RandomForestRegressor model. There were higher values for n_estimators with slightly lower RMSE scores, but by a small margin. Therefore I'm opting for 50 in order to ensure that it is a quality model, without slowing it down too much. "
   ]
  },
  {
   "cell_type": "code",
   "execution_count": 31,
   "metadata": {},
   "outputs": [],
   "source": [
    "#for depth in range (1,11):\n",
    "#    rando = RandomForestRegressor(random_state=315, max_depth=depth)\n",
    "#    rando.fit(X_train, y_train)\n",
    "#    y_pred = rando.predict(X_valid)\n",
    "#    rmse_forest = mean_squared_error(y_valid, y_pred, squared=False)\n",
    "#    print('max_depth =', depth, ': ', end='')\n",
    "#    print(f'Random Forest RMSE: {rmse_forest:.2f}')"
   ]
  },
  {
   "cell_type": "markdown",
   "metadata": {},
   "source": [
    "After running multiple models with different max_depth values (commented out the code above for time saving purposes) I have determined that using the default max_depth=None is the best course of action for the RandomForestRegressor Model. "
   ]
  },
  {
   "cell_type": "code",
   "execution_count": 32,
   "metadata": {},
   "outputs": [],
   "source": [
    "#forest_reg = RandomForestRegressor(random_state=315, n_estimators=50) \n",
    "#forest_reg.fit(X_train, y_train)\n",
    "#y_pred = forest_reg.predict(X_valid)\n",
    "#rmse_forest = mean_squared_error(y_valid, y_pred, squared=False)\n",
    "#print(f'Random Forest RMSE: {rmse_forest:.2f}')"
   ]
  },
  {
   "cell_type": "markdown",
   "metadata": {},
   "source": [
    "### LightGBM Model "
   ]
  },
  {
   "cell_type": "code",
   "execution_count": 33,
   "metadata": {
    "scrolled": true
   },
   "outputs": [
    {
     "name": "stdout",
     "output_type": "stream",
     "text": [
      "[LightGBM] [Warning] Auto-choosing row-wise multi-threading, the overhead of testing was 0.005484 seconds.\n",
      "You can set `force_row_wise=true` to remove the overhead.\n",
      "And if memory is not enough, you can set `force_col_wise=true`.\n",
      "[LightGBM] [Info] Total Bins 918\n",
      "[LightGBM] [Info] Number of data points in the train set: 180885, number of used features: 286\n",
      "[LightGBM] [Info] Start training from score 4870.838151\n",
      "LightGBM RMSE: 1608.18\n",
      "Training time: 2.7938 seconds\n",
      "Prediction time: 0.4030 seconds\n"
     ]
    }
   ],
   "source": [
    "lgb_train = lgb.Dataset(X_train, y_train)\n",
    "params = {\n",
    "    'objective': 'regression',\n",
    "    'metric': 'rmse',\n",
    "    'num_leaves': 57,\n",
    "    'learning_rate': 0.5,\n",
    "    'feature_fraction': 0.9\n",
    "}\n",
    "#measure training time \n",
    "start_train = time.time()\n",
    "gbm = lgb.train(params, lgb_train, num_boost_round=100)\n",
    "end_train = time.time()\n",
    "training_time = end_train - start_train\n",
    "#measure prediction time\n",
    "start_pred = time.time()\n",
    "y_pred_gbm = gbm.predict(X_valid, num_iteration=gbm.best_iteration)\n",
    "end_pred = time.time()\n",
    "prediction_time = end_pred - start_pred\n",
    "#calculate RMSE\n",
    "rmse_gbm = mean_squared_error(y_valid, y_pred_gbm, squared=False)\n",
    "print(f'LightGBM RMSE: {rmse_gbm:.2f}')\n",
    "print(f\"Training time: {training_time:.4f} seconds\")\n",
    "print(f\"Prediction time: {prediction_time:.4f} seconds\")"
   ]
  },
  {
   "cell_type": "markdown",
   "metadata": {},
   "source": [
    "After messing around with the different parameters of the LGBM model, the above iteration is what I would use moving forward. I was able to achieve even lower RMSE scores by continuing to raise the num_leaves, but I did not want to run the risk of overfitting the model."
   ]
  },
  {
   "cell_type": "code",
   "execution_count": 34,
   "metadata": {},
   "outputs": [
    {
     "name": "stdout",
     "output_type": "stream",
     "text": [
      "Linear Regression RMSE: 2765.06\n",
      "Training time: 6.3768 seconds\n",
      "Prediction time: 0.1054 seconds\n",
      "\n",
      "Decision Tree RMSE: 1904.65\n",
      "Training time: 2.5349 seconds\n",
      "Prediction time: 0.0511 seconds\n",
      "\n",
      "Random Forest RMSE: 1619.84\n",
      "Training time: 96.2357 seconds\n",
      "Prediction time: 1.1498 seconds\n",
      "\n",
      "[LightGBM] [Warning] Auto-choosing row-wise multi-threading, the overhead of testing was 0.007723 seconds.\n",
      "You can set `force_row_wise=true` to remove the overhead.\n",
      "And if memory is not enough, you can set `force_col_wise=true`.\n",
      "[LightGBM] [Info] Total Bins 918\n",
      "[LightGBM] [Info] Number of data points in the train set: 180885, number of used features: 286\n",
      "[LightGBM] [Info] Start training from score 4870.838151\n",
      "LightGBM RMSE: 1617.93\n",
      "Training time: 2.8288 seconds\n",
      "Prediction time: 0.4050 seconds\n"
     ]
    }
   ],
   "source": [
    "# Linear Regression\n",
    "lin_reg = LinearRegression()\n",
    "#measure train time\n",
    "start_train = time.time()\n",
    "lin_reg.fit(X_train, y_train)\n",
    "end_train = time.time()\n",
    "training_time = end_train - start_train\n",
    "#measure prediction time\n",
    "start_pred = time.time()\n",
    "y_pred = lin_reg.predict(X_test)\n",
    "end_pred = time.time()\n",
    "prediction_time = end_pred - start_pred\n",
    "# Calculate RMSE\n",
    "rmse_lin = mean_squared_error(y_test, y_pred, squared=False)\n",
    "\n",
    "print(f\"Linear Regression RMSE: {rmse_lin:.2f}\")\n",
    "print(f\"Training time: {training_time:.4f} seconds\")\n",
    "print(f\"Prediction time: {prediction_time:.4f} seconds\")\n",
    "print()\n",
    "\n",
    "# Decision Tree Regressor\n",
    "tree_reg = DecisionTreeRegressor(random_state=315, max_depth=16)\n",
    "# Measure training time\n",
    "start_train = time.time()\n",
    "tree_reg.fit(X_train, y_train)\n",
    "end_train = time.time()\n",
    "training_time = end_train - start_train\n",
    "\n",
    "# Measure prediction time\n",
    "start_pred = time.time()\n",
    "y_pred = tree_reg.predict(X_test)\n",
    "end_pred = time.time()\n",
    "prediction_time = end_pred - start_pred\n",
    "\n",
    "# Calculate RMSE\n",
    "rmse_tree = mean_squared_error(y_test, y_pred, squared=False)\n",
    "\n",
    "print(f\"Decision Tree RMSE: {rmse_tree:.2f}\")\n",
    "print(f\"Training time: {training_time:.4f} seconds\")\n",
    "print(f\"Prediction time: {prediction_time:.4f} seconds\")\n",
    "print()\n",
    "\n",
    "# Random Forest Regressor\n",
    "forest_reg = RandomForestRegressor(random_state=315, n_estimators=50) \n",
    "# Measure training time\n",
    "start_train = time.time()\n",
    "forest_reg.fit(X_train, y_train)\n",
    "end_train = time.time()\n",
    "training_time = end_train - start_train\n",
    "\n",
    "# Measure prediction time\n",
    "start_pred = time.time()\n",
    "y_pred = forest_reg.predict(X_test)\n",
    "end_pred = time.time()\n",
    "prediction_time = end_pred - start_pred\n",
    "\n",
    "# Calculate RMSE\n",
    "rmse_forest = mean_squared_error(y_test, y_pred, squared=False)\n",
    "\n",
    "print(f\"Random Forest RMSE: {rmse_forest:.2f}\")\n",
    "print(f\"Training time: {training_time:.4f} seconds\")\n",
    "print(f\"Prediction time: {prediction_time:.4f} seconds\")\n",
    "print()\n",
    "\n",
    "# LightGBM \n",
    "lgb_train = lgb.Dataset(X_train, y_train)\n",
    "params = {\n",
    "    'objective': 'regression',\n",
    "    'metric': 'rmse',\n",
    "    'num_leaves': 57,\n",
    "    'learning_rate': 0.5,\n",
    "    'feature_fraction': 0.9\n",
    "}\n",
    "#measure training time \n",
    "start_train = time.time()\n",
    "gbm = lgb.train(params, lgb_train, num_boost_round=100)\n",
    "end_train = time.time()\n",
    "training_time = end_train - start_train\n",
    "#measure prediction time\n",
    "start_pred = time.time()\n",
    "y_pred_gbm = gbm.predict(X_test, num_iteration=gbm.best_iteration)\n",
    "end_pred = time.time()\n",
    "prediction_time = end_pred - start_pred\n",
    "#calculate RMSE\n",
    "rmse_gbm = mean_squared_error(y_test, y_pred_gbm, squared=False)\n",
    "print(f'LightGBM RMSE: {rmse_gbm:.2f}')\n",
    "print(f\"Training time: {training_time:.4f} seconds\")\n",
    "print(f\"Prediction time: {prediction_time:.4f} seconds\")"
   ]
  },
  {
   "cell_type": "markdown",
   "metadata": {},
   "source": [
    "All 3 models outperformed the linear regression model, which is what we were hoping for. The linear regression model is meant to act as a sanity check. "
   ]
  },
  {
   "cell_type": "markdown",
   "metadata": {},
   "source": [
    "## Conclusion\n",
    "After building multiple models (Linear Regression, Decision Tree Regressor, Random Forest Regressor, and LightGBM) to determine the value of customer's vehicles, here are my findings. All 3 models outperformed the Linear Regression model, which is what we anticipated. The Linear Regression model was used as a sanity check for the other 3 models. For context, the RMSE scores of the models were as follows: \n",
    "- Linear Regression: 2765.06\n",
    "- Decision Tree: 1904.65\n",
    "- Random Forest: 1619.84\n",
    "- LightGBM: 1617.93 \n",
    "\n",
    "The 2 best models for determining the value of a customer's car are the Random Forest and LightGBM models. Both of them scored very similarly in RMSE. With that said, the Random Forest Model takes a much longer time to train and predict than the LightGBM Model. With that in mind, the LightGBM model would be the optimal model for this task. It was the most accurate of the models, while also performing very quickly. This makes it the more desireable model to use for this task. "
   ]
  }
 ],
 "metadata": {
  "ExecuteTimeLog": [
   {
    "duration": 10,
    "start_time": "2024-10-03T09:29:13.366Z"
   },
   {
    "duration": 2635,
    "start_time": "2024-10-03T19:02:22.210Z"
   },
   {
    "duration": 458,
    "start_time": "2024-10-03T19:02:24.847Z"
   },
   {
    "duration": 96,
    "start_time": "2024-10-03T19:02:25.307Z"
   },
   {
    "duration": 26,
    "start_time": "2024-10-03T19:02:25.405Z"
   },
   {
    "duration": 16,
    "start_time": "2024-10-03T19:02:25.433Z"
   },
   {
    "duration": 15,
    "start_time": "2024-10-03T19:02:25.451Z"
   },
   {
    "duration": 16,
    "start_time": "2024-10-03T19:02:25.468Z"
   },
   {
    "duration": 40,
    "start_time": "2024-10-03T19:02:25.486Z"
   },
   {
    "duration": 30,
    "start_time": "2024-10-03T19:02:25.527Z"
   },
   {
    "duration": 127,
    "start_time": "2024-10-03T19:02:25.561Z"
   },
   {
    "duration": 34,
    "start_time": "2024-10-03T19:02:25.690Z"
   },
   {
    "duration": 58,
    "start_time": "2024-10-03T19:02:25.725Z"
   },
   {
    "duration": 70,
    "start_time": "2024-10-03T19:02:25.785Z"
   },
   {
    "duration": 21,
    "start_time": "2024-10-03T19:02:25.857Z"
   },
   {
    "duration": 7,
    "start_time": "2024-10-03T19:02:25.880Z"
   },
   {
    "duration": 41,
    "start_time": "2024-10-03T19:02:25.889Z"
   },
   {
    "duration": 57,
    "start_time": "2024-10-03T19:02:25.932Z"
   },
   {
    "duration": 51,
    "start_time": "2024-10-03T19:02:25.991Z"
   },
   {
    "duration": 45,
    "start_time": "2024-10-03T19:02:26.044Z"
   },
   {
    "duration": 85,
    "start_time": "2024-10-03T19:02:26.092Z"
   },
   {
    "duration": 18,
    "start_time": "2024-10-03T19:02:26.179Z"
   },
   {
    "duration": 70,
    "start_time": "2024-10-03T19:02:26.199Z"
   },
   {
    "duration": 251,
    "start_time": "2024-10-03T19:02:26.270Z"
   },
   {
    "duration": 14,
    "start_time": "2024-10-03T19:02:26.524Z"
   },
   {
    "duration": 925,
    "start_time": "2024-10-03T19:02:26.540Z"
   },
   {
    "duration": 130,
    "start_time": "2024-10-03T19:02:27.466Z"
   },
   {
    "duration": 106790,
    "start_time": "2024-10-03T19:02:27.599Z"
   },
   {
    "duration": 2,
    "start_time": "2024-10-03T19:04:14.393Z"
   },
   {
    "duration": 2472,
    "start_time": "2024-10-03T19:04:14.397Z"
   },
   {
    "duration": 2,
    "start_time": "2024-10-03T19:04:16.872Z"
   },
   {
    "duration": 3,
    "start_time": "2024-10-03T19:04:16.876Z"
   },
   {
    "duration": 3,
    "start_time": "2024-10-03T19:04:16.880Z"
   },
   {
    "duration": 3339,
    "start_time": "2024-10-03T19:04:16.885Z"
   },
   {
    "duration": 109397,
    "start_time": "2024-10-03T19:04:20.226Z"
   },
   {
    "duration": 993,
    "start_time": "2024-10-03T20:48:53.105Z"
   },
   {
    "duration": 412,
    "start_time": "2024-10-03T20:48:54.100Z"
   },
   {
    "duration": 97,
    "start_time": "2024-10-03T20:48:54.514Z"
   },
   {
    "duration": 26,
    "start_time": "2024-10-03T20:48:54.613Z"
   },
   {
    "duration": 15,
    "start_time": "2024-10-03T20:48:54.641Z"
   },
   {
    "duration": 15,
    "start_time": "2024-10-03T20:48:54.659Z"
   },
   {
    "duration": 16,
    "start_time": "2024-10-03T20:48:54.675Z"
   },
   {
    "duration": 41,
    "start_time": "2024-10-03T20:48:54.692Z"
   },
   {
    "duration": 30,
    "start_time": "2024-10-03T20:48:54.735Z"
   },
   {
    "duration": 127,
    "start_time": "2024-10-03T20:48:54.766Z"
   },
   {
    "duration": 34,
    "start_time": "2024-10-03T20:48:54.894Z"
   },
   {
    "duration": 57,
    "start_time": "2024-10-03T20:48:54.930Z"
   },
   {
    "duration": 68,
    "start_time": "2024-10-03T20:48:54.989Z"
   },
   {
    "duration": 21,
    "start_time": "2024-10-03T20:48:55.060Z"
   },
   {
    "duration": 7,
    "start_time": "2024-10-03T20:48:55.083Z"
   },
   {
    "duration": 39,
    "start_time": "2024-10-03T20:48:55.092Z"
   },
   {
    "duration": 59,
    "start_time": "2024-10-03T20:48:55.133Z"
   },
   {
    "duration": 51,
    "start_time": "2024-10-03T20:48:55.194Z"
   },
   {
    "duration": 46,
    "start_time": "2024-10-03T20:48:55.246Z"
   },
   {
    "duration": 82,
    "start_time": "2024-10-03T20:48:55.293Z"
   },
   {
    "duration": 17,
    "start_time": "2024-10-03T20:48:55.377Z"
   },
   {
    "duration": 71,
    "start_time": "2024-10-03T20:48:55.396Z"
   },
   {
    "duration": 263,
    "start_time": "2024-10-03T20:48:55.469Z"
   },
   {
    "duration": 15,
    "start_time": "2024-10-03T20:48:55.734Z"
   },
   {
    "duration": 921,
    "start_time": "2024-10-03T20:48:55.750Z"
   },
   {
    "duration": 127,
    "start_time": "2024-10-03T20:48:56.672Z"
   },
   {
    "duration": 9611,
    "start_time": "2024-10-03T20:48:56.801Z"
   },
   {
    "duration": 10,
    "start_time": "2024-10-03T20:49:06.414Z"
   },
   {
    "duration": 2498,
    "start_time": "2024-10-03T20:49:06.426Z"
   },
   {
    "duration": 3,
    "start_time": "2024-10-03T20:49:08.925Z"
   },
   {
    "duration": 3,
    "start_time": "2024-10-03T20:49:08.930Z"
   },
   {
    "duration": 2,
    "start_time": "2024-10-03T20:49:08.935Z"
   },
   {
    "duration": 3203,
    "start_time": "2024-10-03T20:49:08.939Z"
   },
   {
    "duration": 109699,
    "start_time": "2024-10-03T20:49:12.144Z"
   }
  ],
  "kernelspec": {
   "display_name": "Python 3 (ipykernel)",
   "language": "python",
   "name": "python3"
  },
  "language_info": {
   "codemirror_mode": {
    "name": "ipython",
    "version": 3
   },
   "file_extension": ".py",
   "mimetype": "text/x-python",
   "name": "python",
   "nbconvert_exporter": "python",
   "pygments_lexer": "ipython3",
   "version": "3.9.19"
  },
  "toc": {
   "base_numbering": 1,
   "nav_menu": {},
   "number_sections": true,
   "sideBar": true,
   "skip_h1_title": true,
   "title_cell": "Table of Contents",
   "title_sidebar": "Contents",
   "toc_cell": false,
   "toc_position": {},
   "toc_section_display": true,
   "toc_window_display": false
  }
 },
 "nbformat": 4,
 "nbformat_minor": 2
}
