{
 "cells": [
  {
   "cell_type": "markdown",
   "metadata": {},
   "source": [
    "# Sprint 7 Project"
   ]
  },
  {
   "cell_type": "code",
   "execution_count": 1,
   "metadata": {},
   "outputs": [],
   "source": [
    "#import necessary libraries\n",
    "import pandas as pd\n",
    "from sklearn.tree import DecisionTreeClassifier\n",
    "from sklearn.metrics import accuracy_score\n",
    "from sklearn.model_selection import train_test_split\n",
    "from sklearn.ensemble import RandomForestClassifier\n",
    "from sklearn.linear_model import LogisticRegression\n"
   ]
  },
  {
   "cell_type": "markdown",
   "metadata": {},
   "source": [
    "## Open and look through data file"
   ]
  },
  {
   "cell_type": "code",
   "execution_count": 2,
   "metadata": {},
   "outputs": [],
   "source": [
    "df = pd.read_csv('/datasets/users_behavior.csv')"
   ]
  },
  {
   "cell_type": "code",
   "execution_count": 3,
   "metadata": {},
   "outputs": [
    {
     "name": "stdout",
     "output_type": "stream",
     "text": [
      "<class 'pandas.core.frame.DataFrame'>\n",
      "RangeIndex: 3214 entries, 0 to 3213\n",
      "Data columns (total 5 columns):\n",
      " #   Column    Non-Null Count  Dtype  \n",
      "---  ------    --------------  -----  \n",
      " 0   calls     3214 non-null   float64\n",
      " 1   minutes   3214 non-null   float64\n",
      " 2   messages  3214 non-null   float64\n",
      " 3   mb_used   3214 non-null   float64\n",
      " 4   is_ultra  3214 non-null   int64  \n",
      "dtypes: float64(4), int64(1)\n",
      "memory usage: 125.7 KB\n"
     ]
    }
   ],
   "source": [
    "df.info()"
   ]
  },
  {
   "cell_type": "code",
   "execution_count": 4,
   "metadata": {
    "scrolled": true
   },
   "outputs": [
    {
     "data": {
      "text/html": [
       "<div>\n",
       "<style scoped>\n",
       "    .dataframe tbody tr th:only-of-type {\n",
       "        vertical-align: middle;\n",
       "    }\n",
       "\n",
       "    .dataframe tbody tr th {\n",
       "        vertical-align: top;\n",
       "    }\n",
       "\n",
       "    .dataframe thead th {\n",
       "        text-align: right;\n",
       "    }\n",
       "</style>\n",
       "<table border=\"1\" class=\"dataframe\">\n",
       "  <thead>\n",
       "    <tr style=\"text-align: right;\">\n",
       "      <th></th>\n",
       "      <th>calls</th>\n",
       "      <th>minutes</th>\n",
       "      <th>messages</th>\n",
       "      <th>mb_used</th>\n",
       "      <th>is_ultra</th>\n",
       "    </tr>\n",
       "  </thead>\n",
       "  <tbody>\n",
       "    <tr>\n",
       "      <th>419</th>\n",
       "      <td>91.0</td>\n",
       "      <td>686.38</td>\n",
       "      <td>62.0</td>\n",
       "      <td>20499.92</td>\n",
       "      <td>0</td>\n",
       "    </tr>\n",
       "    <tr>\n",
       "      <th>76</th>\n",
       "      <td>73.0</td>\n",
       "      <td>633.22</td>\n",
       "      <td>21.0</td>\n",
       "      <td>18421.17</td>\n",
       "      <td>0</td>\n",
       "    </tr>\n",
       "    <tr>\n",
       "      <th>1857</th>\n",
       "      <td>62.0</td>\n",
       "      <td>352.66</td>\n",
       "      <td>82.0</td>\n",
       "      <td>28205.37</td>\n",
       "      <td>0</td>\n",
       "    </tr>\n",
       "    <tr>\n",
       "      <th>1136</th>\n",
       "      <td>89.0</td>\n",
       "      <td>602.81</td>\n",
       "      <td>56.0</td>\n",
       "      <td>19293.91</td>\n",
       "      <td>0</td>\n",
       "    </tr>\n",
       "    <tr>\n",
       "      <th>68</th>\n",
       "      <td>138.0</td>\n",
       "      <td>1009.11</td>\n",
       "      <td>64.0</td>\n",
       "      <td>27807.13</td>\n",
       "      <td>1</td>\n",
       "    </tr>\n",
       "    <tr>\n",
       "      <th>2621</th>\n",
       "      <td>76.0</td>\n",
       "      <td>451.09</td>\n",
       "      <td>84.0</td>\n",
       "      <td>23212.12</td>\n",
       "      <td>0</td>\n",
       "    </tr>\n",
       "    <tr>\n",
       "      <th>3132</th>\n",
       "      <td>47.0</td>\n",
       "      <td>324.43</td>\n",
       "      <td>62.0</td>\n",
       "      <td>11778.95</td>\n",
       "      <td>0</td>\n",
       "    </tr>\n",
       "    <tr>\n",
       "      <th>2504</th>\n",
       "      <td>111.0</td>\n",
       "      <td>758.66</td>\n",
       "      <td>47.0</td>\n",
       "      <td>16045.16</td>\n",
       "      <td>0</td>\n",
       "    </tr>\n",
       "    <tr>\n",
       "      <th>2002</th>\n",
       "      <td>34.0</td>\n",
       "      <td>274.53</td>\n",
       "      <td>13.0</td>\n",
       "      <td>5762.76</td>\n",
       "      <td>0</td>\n",
       "    </tr>\n",
       "    <tr>\n",
       "      <th>2318</th>\n",
       "      <td>39.0</td>\n",
       "      <td>242.87</td>\n",
       "      <td>11.0</td>\n",
       "      <td>15370.83</td>\n",
       "      <td>0</td>\n",
       "    </tr>\n",
       "  </tbody>\n",
       "</table>\n",
       "</div>"
      ],
      "text/plain": [
       "      calls  minutes  messages   mb_used  is_ultra\n",
       "419    91.0   686.38      62.0  20499.92         0\n",
       "76     73.0   633.22      21.0  18421.17         0\n",
       "1857   62.0   352.66      82.0  28205.37         0\n",
       "1136   89.0   602.81      56.0  19293.91         0\n",
       "68    138.0  1009.11      64.0  27807.13         1\n",
       "2621   76.0   451.09      84.0  23212.12         0\n",
       "3132   47.0   324.43      62.0  11778.95         0\n",
       "2504  111.0   758.66      47.0  16045.16         0\n",
       "2002   34.0   274.53      13.0   5762.76         0\n",
       "2318   39.0   242.87      11.0  15370.83         0"
      ]
     },
     "execution_count": 4,
     "metadata": {},
     "output_type": "execute_result"
    }
   ],
   "source": [
    "df.sample(10)"
   ]
  },
  {
   "cell_type": "markdown",
   "metadata": {},
   "source": [
    "## Split source data into training, validation, and test sets"
   ]
  },
  {
   "cell_type": "code",
   "execution_count": 5,
   "metadata": {},
   "outputs": [],
   "source": [
    "#split source data into training set, and temp set to get validation and test sets\n",
    "df_train, df_temp = train_test_split(df, test_size=0.4, random_state=315)\n",
    "#use temp set to split into validation and test sets\n",
    "df_valid, df_test = train_test_split(df_temp, test_size=0.5, random_state=315)"
   ]
  },
  {
   "cell_type": "code",
   "execution_count": 6,
   "metadata": {},
   "outputs": [],
   "source": [
    "#variables for features and target of training set\n",
    "train_features = df_train.drop(['is_ultra'],axis=1)\n",
    "train_target = df_train['is_ultra']"
   ]
  },
  {
   "cell_type": "code",
   "execution_count": 7,
   "metadata": {},
   "outputs": [],
   "source": [
    "#variables for features and target of validation set\n",
    "valid_features = df_valid.drop(['is_ultra'],axis=1)\n",
    "valid_target = df_valid['is_ultra']"
   ]
  },
  {
   "cell_type": "code",
   "execution_count": 8,
   "metadata": {},
   "outputs": [],
   "source": [
    "#variables for features and target of test set\n",
    "test_features = df_test.drop(['is_ultra'],axis=1)\n",
    "test_target = df_test['is_ultra']"
   ]
  },
  {
   "cell_type": "code",
   "execution_count": 9,
   "metadata": {},
   "outputs": [
    {
     "name": "stdout",
     "output_type": "stream",
     "text": [
      "(1928, 4)\n",
      "(1928,)\n",
      "(643, 4)\n",
      "(643,)\n",
      "(643, 4)\n",
      "(643,)\n"
     ]
    }
   ],
   "source": [
    "print(train_features.shape)\n",
    "print(train_target.shape)\n",
    "print(valid_features.shape)\n",
    "print(valid_target.shape)\n",
    "print(test_features.shape)\n",
    "print(test_target.shape)"
   ]
  },
  {
   "cell_type": "markdown",
   "metadata": {},
   "source": [
    "By using 'test_size = 0.4' and then 'test_size= 0.5' we are able to split our data into 3 sets, with the ratio of 3:1:1"
   ]
  },
  {
   "cell_type": "markdown",
   "metadata": {},
   "source": [
    "## Investigate different models"
   ]
  },
  {
   "cell_type": "code",
   "execution_count": 10,
   "metadata": {},
   "outputs": [
    {
     "data": {
      "text/plain": [
       "DecisionTreeClassifier(random_state=315)"
      ]
     },
     "execution_count": 10,
     "metadata": {},
     "output_type": "execute_result"
    }
   ],
   "source": [
    "model = DecisionTreeClassifier(random_state = 315)\n",
    "model.fit(train_features, train_target)"
   ]
  },
  {
   "cell_type": "code",
   "execution_count": 11,
   "metadata": {},
   "outputs": [
    {
     "data": {
      "text/plain": [
       "DecisionTreeClassifier(ccp_alpha=0.0, class_weight=None, criterion='gini',\n",
       "                       max_depth=None, max_features=None, max_leaf_nodes=None,\n",
       "                       min_impurity_decrease=0.0, min_impurity_split=None,\n",
       "                       min_samples_leaf=1, min_samples_split=2,\n",
       "                       min_weight_fraction_leaf=0.0, random_state=315,\n",
       "                       splitter='best')"
      ]
     },
     "execution_count": 11,
     "metadata": {},
     "output_type": "execute_result"
    }
   ],
   "source": [
    "from sklearn._config import get_config, set_config\n",
    "set_config(print_changed_only=False)\n",
    "model"
   ]
  },
  {
   "cell_type": "code",
   "execution_count": 12,
   "metadata": {
    "scrolled": true
   },
   "outputs": [
    {
     "name": "stdout",
     "output_type": "stream",
     "text": [
      "max_depth = 1 : 0.7589424572317263\n",
      "max_depth = 2 : 0.7931570762052877\n",
      "max_depth = 3 : 0.8118195956454122\n",
      "max_depth = 4 : 0.8040435458786936\n",
      "max_depth = 5 : 0.8040435458786936\n"
     ]
    }
   ],
   "source": [
    "for depth in range(1, 6):\n",
    "    model = DecisionTreeClassifier(random_state=315, max_depth=depth)\n",
    "    model.fit(train_features, train_target)\n",
    "    valid_predictions = model.predict(valid_features)\n",
    "    print('max_depth =', depth, ': ', end='')\n",
    "    print(accuracy_score(valid_target, valid_predictions))"
   ]
  },
  {
   "cell_type": "markdown",
   "metadata": {},
   "source": [
    "Max depth of 3 seems to give us the most accurate decision tree model. "
   ]
  },
  {
   "cell_type": "code",
   "execution_count": 13,
   "metadata": {},
   "outputs": [
    {
     "name": "stdout",
     "output_type": "stream",
     "text": [
      "Accuracy of the best model on the validation set (n_estimators = 47): 0.8118195956454122\n"
     ]
    }
   ],
   "source": [
    "best_score = 0\n",
    "best_est = 0\n",
    "for est in range(1, 50):\n",
    "    model2 = RandomForestClassifier(random_state=315, n_estimators=est)\n",
    "    model2.fit(train_features, train_target)\n",
    "    score = model2.score(valid_features, valid_target)\n",
    "    if score > best_score:\n",
    "        best_score = score\n",
    "        best_est = est\n",
    "\n",
    "print(\"Accuracy of the best model on the validation set (n_estimators = {}): {}\".format(best_est, best_score))"
   ]
  },
  {
   "cell_type": "code",
   "execution_count": 14,
   "metadata": {
    "scrolled": true
   },
   "outputs": [
    {
     "name": "stdout",
     "output_type": "stream",
     "text": [
      "Accuracy of the logistic regression model on the training set: 0.7012448132780082\n",
      "Accuracy of the logistic regression model on the validation set: 0.7060653188180405\n"
     ]
    }
   ],
   "source": [
    "model3 = LogisticRegression(random_state=315, solver=\"liblinear\")\n",
    "model3.fit(train_features, train_target)\n",
    "train_score = model3.score(train_features, train_target)\n",
    "valid_score = model3.score(valid_features, valid_target)\n",
    "\n",
    "print(\"Accuracy of the logistic regression model on the training set:\",train_score,)\n",
    "print(\"Accuracy of the logistic regression model on the validation set:\",valid_score,)"
   ]
  },
  {
   "cell_type": "markdown",
   "metadata": {},
   "source": [
    "I have made 3 models: A decision tree model, and random forest model, and a logistic regression model. The logisitic regression model is the least accurate of the 3, therefore I will not be continuing with this model. As for the decision tree and random forest models, they each produced the same accuracy score under certain conditions. The decision tree with a max depth of 3, and the random tree with 47 trees in the forest both produced the the highest accuracy score. For my final model, I will continue with the decision tree model. Had the random forest model produced a higher accuracy score than I would've proceded with that one, but because the scores are the same I am opting for the model with higher speed. "
   ]
  },
  {
   "cell_type": "markdown",
   "metadata": {},
   "source": [
    "## Test Model Quality "
   ]
  },
  {
   "cell_type": "code",
   "execution_count": 15,
   "metadata": {},
   "outputs": [
    {
     "name": "stdout",
     "output_type": "stream",
     "text": [
      "0.7978227060653188\n"
     ]
    }
   ],
   "source": [
    "final_model = DecisionTreeClassifier(random_state=315, max_depth=3)\n",
    "final_model.fit(train_features, train_target)\n",
    "test_predictions = final_model.predict(test_features)\n",
    "print(accuracy_score(test_target, test_predictions))"
   ]
  },
  {
   "cell_type": "markdown",
   "metadata": {},
   "source": [
    "The accuracy score of the model using the test set is just under 80%. While we would certainly be happier with a better accuracy score, it is still higher than the threshold of 75%. "
   ]
  },
  {
   "cell_type": "markdown",
   "metadata": {},
   "source": [
    "## Sanity Check"
   ]
  },
  {
   "cell_type": "code",
   "execution_count": 16,
   "metadata": {},
   "outputs": [
    {
     "name": "stdout",
     "output_type": "stream",
     "text": [
      "0.6920684292379471\n"
     ]
    }
   ],
   "source": [
    "from sklearn.dummy import DummyClassifier\n",
    "dummy_clf = DummyClassifier(strategy='most_frequent')\n",
    "dummy_clf.fit(train_features, train_target)\n",
    "\n",
    "dummy_predictions = dummy_clf.predict(valid_features)\n",
    "dummy_accuracy = accuracy_score(valid_target, dummy_predictions)\n",
    "print(dummy_accuracy)"
   ]
  },
  {
   "cell_type": "markdown",
   "metadata": {},
   "source": [
    "From the sanity check we see that our model's accuracy score was higher than the sanity check's accuracy score. In other words, the model we have made performs better than chance. "
   ]
  }
 ],
 "metadata": {
  "ExecuteTimeLog": [
   {
    "duration": 1207,
    "start_time": "2024-05-16T19:49:31.583Z"
   },
   {
    "duration": 17,
    "start_time": "2024-05-16T19:50:23.404Z"
   },
   {
    "duration": 19,
    "start_time": "2024-05-16T19:50:28.770Z"
   },
   {
    "duration": 14,
    "start_time": "2024-05-16T19:50:35.201Z"
   },
   {
    "duration": 15,
    "start_time": "2024-05-16T20:02:13.936Z"
   },
   {
    "duration": 9,
    "start_time": "2024-05-16T20:12:22.651Z"
   },
   {
    "duration": 5,
    "start_time": "2024-05-16T20:25:03.797Z"
   },
   {
    "duration": 15,
    "start_time": "2024-05-16T20:25:16.503Z"
   },
   {
    "duration": 13,
    "start_time": "2024-05-16T20:25:22.752Z"
   },
   {
    "duration": 5,
    "start_time": "2024-05-16T20:31:14.826Z"
   },
   {
    "duration": 4,
    "start_time": "2024-05-16T20:32:04.105Z"
   },
   {
    "duration": 5,
    "start_time": "2024-05-16T20:34:59.959Z"
   },
   {
    "duration": 5,
    "start_time": "2024-05-16T20:35:07.835Z"
   },
   {
    "duration": 21,
    "start_time": "2024-05-16T20:41:09.953Z"
   },
   {
    "duration": 20,
    "start_time": "2024-05-16T20:41:52.007Z"
   },
   {
    "duration": 1261,
    "start_time": "2024-05-16T20:42:40.092Z"
   },
   {
    "duration": 12,
    "start_time": "2024-05-16T20:42:41.357Z"
   },
   {
    "duration": 15,
    "start_time": "2024-05-16T20:42:41.372Z"
   },
   {
    "duration": 21,
    "start_time": "2024-05-16T20:42:41.408Z"
   },
   {
    "duration": 9,
    "start_time": "2024-05-16T20:42:41.432Z"
   },
   {
    "duration": 6,
    "start_time": "2024-05-16T20:42:41.444Z"
   },
   {
    "duration": 6,
    "start_time": "2024-05-16T20:42:41.453Z"
   },
   {
    "duration": 5,
    "start_time": "2024-05-16T20:42:41.506Z"
   },
   {
    "duration": 6,
    "start_time": "2024-05-16T20:42:41.514Z"
   },
   {
    "duration": 20,
    "start_time": "2024-05-16T20:42:41.526Z"
   },
   {
    "duration": 8,
    "start_time": "2024-05-16T20:48:23.895Z"
   },
   {
    "duration": 18,
    "start_time": "2024-05-16T21:03:55.390Z"
   },
   {
    "duration": 20,
    "start_time": "2024-05-16T21:04:38.851Z"
   },
   {
    "duration": 1360,
    "start_time": "2024-05-16T21:04:56.942Z"
   },
   {
    "duration": 27,
    "start_time": "2024-05-16T21:04:58.307Z"
   },
   {
    "duration": 24,
    "start_time": "2024-05-16T21:04:58.338Z"
   },
   {
    "duration": 47,
    "start_time": "2024-05-16T21:04:58.365Z"
   },
   {
    "duration": 12,
    "start_time": "2024-05-16T21:04:58.421Z"
   },
   {
    "duration": 6,
    "start_time": "2024-05-16T21:04:58.439Z"
   },
   {
    "duration": 9,
    "start_time": "2024-05-16T21:04:58.450Z"
   },
   {
    "duration": 12,
    "start_time": "2024-05-16T21:04:58.463Z"
   },
   {
    "duration": 28,
    "start_time": "2024-05-16T21:04:58.479Z"
   },
   {
    "duration": 25,
    "start_time": "2024-05-16T21:04:58.513Z"
   },
   {
    "duration": 10,
    "start_time": "2024-05-16T21:04:58.541Z"
   },
   {
    "duration": 394,
    "start_time": "2024-05-16T21:05:43.660Z"
   },
   {
    "duration": 19,
    "start_time": "2024-05-16T21:05:48.321Z"
   },
   {
    "duration": 7,
    "start_time": "2024-05-16T21:05:55.545Z"
   },
   {
    "duration": 8,
    "start_time": "2024-05-16T21:05:57.180Z"
   },
   {
    "duration": 7,
    "start_time": "2024-05-16T21:06:01.295Z"
   },
   {
    "duration": 1176,
    "start_time": "2024-05-16T21:10:53.255Z"
   },
   {
    "duration": 12,
    "start_time": "2024-05-16T21:10:54.435Z"
   },
   {
    "duration": 16,
    "start_time": "2024-05-16T21:10:54.450Z"
   },
   {
    "duration": 46,
    "start_time": "2024-05-16T21:10:54.470Z"
   },
   {
    "duration": 9,
    "start_time": "2024-05-16T21:10:54.519Z"
   },
   {
    "duration": 6,
    "start_time": "2024-05-16T21:10:54.531Z"
   },
   {
    "duration": 6,
    "start_time": "2024-05-16T21:10:54.539Z"
   },
   {
    "duration": 6,
    "start_time": "2024-05-16T21:10:54.547Z"
   },
   {
    "duration": 51,
    "start_time": "2024-05-16T21:10:54.556Z"
   },
   {
    "duration": 64,
    "start_time": "2024-05-16T21:10:54.610Z"
   },
   {
    "duration": 1270,
    "start_time": "2024-05-16T21:14:01.307Z"
   },
   {
    "duration": 11,
    "start_time": "2024-05-16T21:14:02.581Z"
   },
   {
    "duration": 24,
    "start_time": "2024-05-16T21:14:02.595Z"
   },
   {
    "duration": 23,
    "start_time": "2024-05-16T21:14:02.621Z"
   },
   {
    "duration": 9,
    "start_time": "2024-05-16T21:14:02.650Z"
   },
   {
    "duration": 6,
    "start_time": "2024-05-16T21:14:02.663Z"
   },
   {
    "duration": 6,
    "start_time": "2024-05-16T21:14:02.709Z"
   },
   {
    "duration": 8,
    "start_time": "2024-05-16T21:14:02.719Z"
   },
   {
    "duration": 7,
    "start_time": "2024-05-16T21:14:02.730Z"
   },
   {
    "duration": 85,
    "start_time": "2024-05-16T21:14:02.740Z"
   },
   {
    "duration": 41,
    "start_time": "2024-05-16T21:14:30.807Z"
   },
   {
    "duration": 1240,
    "start_time": "2024-05-16T21:14:48.613Z"
   },
   {
    "duration": 10,
    "start_time": "2024-05-16T21:14:49.858Z"
   },
   {
    "duration": 34,
    "start_time": "2024-05-16T21:14:49.872Z"
   },
   {
    "duration": 22,
    "start_time": "2024-05-16T21:14:49.909Z"
   },
   {
    "duration": 8,
    "start_time": "2024-05-16T21:14:49.936Z"
   },
   {
    "duration": 6,
    "start_time": "2024-05-16T21:14:49.947Z"
   },
   {
    "duration": 5,
    "start_time": "2024-05-16T21:14:49.957Z"
   },
   {
    "duration": 6,
    "start_time": "2024-05-16T21:14:50.007Z"
   },
   {
    "duration": 5,
    "start_time": "2024-05-16T21:14:50.016Z"
   },
   {
    "duration": 42,
    "start_time": "2024-05-16T21:14:50.024Z"
   },
   {
    "duration": 15,
    "start_time": "2024-05-16T21:17:40.167Z"
   },
   {
    "duration": 1168,
    "start_time": "2024-05-16T21:17:45.142Z"
   },
   {
    "duration": 11,
    "start_time": "2024-05-16T21:17:46.314Z"
   },
   {
    "duration": 15,
    "start_time": "2024-05-16T21:17:46.328Z"
   },
   {
    "duration": 24,
    "start_time": "2024-05-16T21:17:46.348Z"
   },
   {
    "duration": 9,
    "start_time": "2024-05-16T21:17:46.407Z"
   },
   {
    "duration": 6,
    "start_time": "2024-05-16T21:17:46.418Z"
   },
   {
    "duration": 5,
    "start_time": "2024-05-16T21:17:46.427Z"
   },
   {
    "duration": 5,
    "start_time": "2024-05-16T21:17:46.435Z"
   },
   {
    "duration": 5,
    "start_time": "2024-05-16T21:17:46.444Z"
   },
   {
    "duration": 92,
    "start_time": "2024-05-16T21:17:46.453Z"
   },
   {
    "duration": 348,
    "start_time": "2024-05-16T21:22:08.409Z"
   },
   {
    "duration": 349,
    "start_time": "2024-05-16T21:23:48.958Z"
   },
   {
    "duration": 400,
    "start_time": "2024-05-16T21:37:00.688Z"
   },
   {
    "duration": 1221,
    "start_time": "2024-05-16T21:37:07.390Z"
   },
   {
    "duration": 12,
    "start_time": "2024-05-16T21:37:08.614Z"
   },
   {
    "duration": 16,
    "start_time": "2024-05-16T21:37:08.628Z"
   },
   {
    "duration": 21,
    "start_time": "2024-05-16T21:37:08.648Z"
   },
   {
    "duration": 41,
    "start_time": "2024-05-16T21:37:08.672Z"
   },
   {
    "duration": 5,
    "start_time": "2024-05-16T21:37:08.718Z"
   },
   {
    "duration": 5,
    "start_time": "2024-05-16T21:37:08.725Z"
   },
   {
    "duration": 5,
    "start_time": "2024-05-16T21:37:08.734Z"
   },
   {
    "duration": 7,
    "start_time": "2024-05-16T21:37:08.741Z"
   },
   {
    "duration": 89,
    "start_time": "2024-05-16T21:37:08.753Z"
   },
   {
    "duration": 367,
    "start_time": "2024-05-16T21:37:08.845Z"
   },
   {
    "duration": 20,
    "start_time": "2024-05-16T21:37:09.215Z"
   },
   {
    "duration": 20,
    "start_time": "2024-05-16T21:37:37.258Z"
   },
   {
    "duration": 1187,
    "start_time": "2024-05-16T21:38:12.714Z"
   },
   {
    "duration": 12,
    "start_time": "2024-05-16T21:38:13.904Z"
   },
   {
    "duration": 16,
    "start_time": "2024-05-16T21:38:13.918Z"
   },
   {
    "duration": 23,
    "start_time": "2024-05-16T21:38:13.937Z"
   },
   {
    "duration": 42,
    "start_time": "2024-05-16T21:38:13.964Z"
   },
   {
    "duration": 6,
    "start_time": "2024-05-16T21:38:14.009Z"
   },
   {
    "duration": 6,
    "start_time": "2024-05-16T21:38:14.018Z"
   },
   {
    "duration": 5,
    "start_time": "2024-05-16T21:38:14.027Z"
   },
   {
    "duration": 5,
    "start_time": "2024-05-16T21:38:14.035Z"
   },
   {
    "duration": 93,
    "start_time": "2024-05-16T21:38:14.044Z"
   },
   {
    "duration": 391,
    "start_time": "2024-05-16T21:38:14.140Z"
   },
   {
    "duration": 21,
    "start_time": "2024-05-16T21:38:14.534Z"
   },
   {
    "duration": 1266,
    "start_time": "2024-05-16T22:06:47.601Z"
   },
   {
    "duration": 14,
    "start_time": "2024-05-16T22:06:48.871Z"
   },
   {
    "duration": 33,
    "start_time": "2024-05-16T22:06:48.888Z"
   },
   {
    "duration": 23,
    "start_time": "2024-05-16T22:06:48.926Z"
   },
   {
    "duration": 11,
    "start_time": "2024-05-16T22:06:48.953Z"
   },
   {
    "duration": 5,
    "start_time": "2024-05-16T22:06:48.967Z"
   },
   {
    "duration": 6,
    "start_time": "2024-05-16T22:06:49.006Z"
   },
   {
    "duration": 6,
    "start_time": "2024-05-16T22:06:49.015Z"
   },
   {
    "duration": 5,
    "start_time": "2024-05-16T22:06:49.025Z"
   },
   {
    "duration": 82,
    "start_time": "2024-05-16T22:06:49.036Z"
   },
   {
    "duration": 365,
    "start_time": "2024-05-16T22:06:49.121Z"
   },
   {
    "duration": 31,
    "start_time": "2024-05-16T22:06:49.490Z"
   },
   {
    "duration": 1182,
    "start_time": "2024-05-16T22:07:36.670Z"
   },
   {
    "duration": 11,
    "start_time": "2024-05-16T22:07:37.855Z"
   },
   {
    "duration": 16,
    "start_time": "2024-05-16T22:07:37.869Z"
   },
   {
    "duration": 31,
    "start_time": "2024-05-16T22:07:37.910Z"
   },
   {
    "duration": 9,
    "start_time": "2024-05-16T22:07:37.944Z"
   },
   {
    "duration": 6,
    "start_time": "2024-05-16T22:07:37.955Z"
   },
   {
    "duration": 5,
    "start_time": "2024-05-16T22:07:37.964Z"
   },
   {
    "duration": 39,
    "start_time": "2024-05-16T22:07:37.973Z"
   },
   {
    "duration": 8,
    "start_time": "2024-05-16T22:07:38.016Z"
   },
   {
    "duration": 42,
    "start_time": "2024-05-16T22:07:38.029Z"
   },
   {
    "duration": 353,
    "start_time": "2024-05-16T22:07:38.106Z"
   },
   {
    "duration": 21,
    "start_time": "2024-05-16T22:07:38.462Z"
   },
   {
    "duration": 1240,
    "start_time": "2024-05-16T22:12:31.357Z"
   },
   {
    "duration": 14,
    "start_time": "2024-05-16T22:12:32.601Z"
   },
   {
    "duration": 15,
    "start_time": "2024-05-16T22:12:32.621Z"
   },
   {
    "duration": 24,
    "start_time": "2024-05-16T22:12:32.640Z"
   },
   {
    "duration": 41,
    "start_time": "2024-05-16T22:12:32.669Z"
   },
   {
    "duration": 5,
    "start_time": "2024-05-16T22:12:32.713Z"
   },
   {
    "duration": 5,
    "start_time": "2024-05-16T22:12:32.722Z"
   },
   {
    "duration": 6,
    "start_time": "2024-05-16T22:12:32.730Z"
   },
   {
    "duration": 6,
    "start_time": "2024-05-16T22:12:32.739Z"
   },
   {
    "duration": 96,
    "start_time": "2024-05-16T22:12:32.748Z"
   },
   {
    "duration": 347,
    "start_time": "2024-05-16T22:12:32.848Z"
   },
   {
    "duration": 22,
    "start_time": "2024-05-16T22:12:33.197Z"
   },
   {
    "duration": 1223,
    "start_time": "2024-05-16T22:13:37.612Z"
   },
   {
    "duration": 13,
    "start_time": "2024-05-16T22:13:38.838Z"
   },
   {
    "duration": 16,
    "start_time": "2024-05-16T22:13:38.853Z"
   },
   {
    "duration": 48,
    "start_time": "2024-05-16T22:13:38.875Z"
   },
   {
    "duration": 9,
    "start_time": "2024-05-16T22:13:38.926Z"
   },
   {
    "duration": 6,
    "start_time": "2024-05-16T22:13:38.938Z"
   },
   {
    "duration": 5,
    "start_time": "2024-05-16T22:13:38.947Z"
   },
   {
    "duration": 5,
    "start_time": "2024-05-16T22:13:38.956Z"
   },
   {
    "duration": 6,
    "start_time": "2024-05-16T22:13:39.008Z"
   },
   {
    "duration": 44,
    "start_time": "2024-05-16T22:13:39.019Z"
   },
   {
    "duration": 357,
    "start_time": "2024-05-16T22:13:39.066Z"
   },
   {
    "duration": 20,
    "start_time": "2024-05-16T22:13:39.426Z"
   },
   {
    "duration": 1180,
    "start_time": "2024-05-16T22:15:06.575Z"
   },
   {
    "duration": 12,
    "start_time": "2024-05-16T22:15:07.759Z"
   },
   {
    "duration": 33,
    "start_time": "2024-05-16T22:15:07.773Z"
   },
   {
    "duration": 22,
    "start_time": "2024-05-16T22:15:07.810Z"
   },
   {
    "duration": 8,
    "start_time": "2024-05-16T22:15:07.836Z"
   },
   {
    "duration": 6,
    "start_time": "2024-05-16T22:15:07.846Z"
   },
   {
    "duration": 6,
    "start_time": "2024-05-16T22:15:07.855Z"
   },
   {
    "duration": 54,
    "start_time": "2024-05-16T22:15:07.863Z"
   },
   {
    "duration": 6,
    "start_time": "2024-05-16T22:15:07.921Z"
   },
   {
    "duration": 44,
    "start_time": "2024-05-16T22:15:07.930Z"
   },
   {
    "duration": 361,
    "start_time": "2024-05-16T22:15:07.977Z"
   },
   {
    "duration": 19,
    "start_time": "2024-05-16T22:15:08.341Z"
   },
   {
    "duration": 1204,
    "start_time": "2024-05-16T22:16:43.429Z"
   },
   {
    "duration": 11,
    "start_time": "2024-05-16T22:16:44.637Z"
   },
   {
    "duration": 15,
    "start_time": "2024-05-16T22:16:44.651Z"
   },
   {
    "duration": 47,
    "start_time": "2024-05-16T22:16:44.669Z"
   },
   {
    "duration": 7,
    "start_time": "2024-05-16T22:16:44.721Z"
   },
   {
    "duration": 7,
    "start_time": "2024-05-16T22:16:44.731Z"
   },
   {
    "duration": 6,
    "start_time": "2024-05-16T22:16:44.741Z"
   },
   {
    "duration": 5,
    "start_time": "2024-05-16T22:16:44.750Z"
   },
   {
    "duration": 51,
    "start_time": "2024-05-16T22:16:44.758Z"
   },
   {
    "duration": 41,
    "start_time": "2024-05-16T22:16:44.812Z"
   },
   {
    "duration": 370,
    "start_time": "2024-05-16T22:16:44.856Z"
   },
   {
    "duration": 17,
    "start_time": "2024-05-16T22:16:45.229Z"
   },
   {
    "duration": 1123,
    "start_time": "2024-05-16T22:17:24.653Z"
   },
   {
    "duration": 11,
    "start_time": "2024-05-16T22:17:25.780Z"
   },
   {
    "duration": 24,
    "start_time": "2024-05-16T22:17:25.794Z"
   },
   {
    "duration": 21,
    "start_time": "2024-05-16T22:17:25.822Z"
   },
   {
    "duration": 9,
    "start_time": "2024-05-16T22:17:25.847Z"
   },
   {
    "duration": 5,
    "start_time": "2024-05-16T22:17:25.859Z"
   },
   {
    "duration": 43,
    "start_time": "2024-05-16T22:17:25.867Z"
   },
   {
    "duration": 6,
    "start_time": "2024-05-16T22:17:25.913Z"
   },
   {
    "duration": 6,
    "start_time": "2024-05-16T22:17:25.922Z"
   },
   {
    "duration": 78,
    "start_time": "2024-05-16T22:17:25.931Z"
   },
   {
    "duration": 352,
    "start_time": "2024-05-16T22:17:26.012Z"
   },
   {
    "duration": 21,
    "start_time": "2024-05-16T22:17:26.367Z"
   },
   {
    "duration": 25093,
    "start_time": "2024-05-16T22:20:29.417Z"
   },
   {
    "duration": 610,
    "start_time": "2024-05-16T22:21:04.010Z"
   },
   {
    "duration": 1225,
    "start_time": "2024-05-16T22:22:00.212Z"
   },
   {
    "duration": 12,
    "start_time": "2024-05-16T22:22:01.441Z"
   },
   {
    "duration": 19,
    "start_time": "2024-05-16T22:22:01.456Z"
   },
   {
    "duration": 25,
    "start_time": "2024-05-16T22:22:01.505Z"
   },
   {
    "duration": 11,
    "start_time": "2024-05-16T22:22:01.532Z"
   },
   {
    "duration": 5,
    "start_time": "2024-05-16T22:22:01.546Z"
   },
   {
    "duration": 6,
    "start_time": "2024-05-16T22:22:01.555Z"
   },
   {
    "duration": 5,
    "start_time": "2024-05-16T22:22:01.608Z"
   },
   {
    "duration": 5,
    "start_time": "2024-05-16T22:22:01.618Z"
   },
   {
    "duration": 43,
    "start_time": "2024-05-16T22:22:01.630Z"
   },
   {
    "duration": 668,
    "start_time": "2024-05-16T22:22:01.708Z"
   },
   {
    "duration": 37,
    "start_time": "2024-05-16T22:22:02.379Z"
   },
   {
    "duration": 6574,
    "start_time": "2024-05-16T22:22:21.218Z"
   },
   {
    "duration": 1226,
    "start_time": "2024-05-17T18:35:11.742Z"
   },
   {
    "duration": 19,
    "start_time": "2024-05-17T18:35:12.971Z"
   },
   {
    "duration": 21,
    "start_time": "2024-05-17T18:35:12.993Z"
   },
   {
    "duration": 24,
    "start_time": "2024-05-17T18:35:13.016Z"
   },
   {
    "duration": 8,
    "start_time": "2024-05-17T18:35:13.044Z"
   },
   {
    "duration": 45,
    "start_time": "2024-05-17T18:35:13.056Z"
   },
   {
    "duration": 6,
    "start_time": "2024-05-17T18:35:13.104Z"
   },
   {
    "duration": 5,
    "start_time": "2024-05-17T18:35:13.113Z"
   },
   {
    "duration": 6,
    "start_time": "2024-05-17T18:35:13.122Z"
   },
   {
    "duration": 85,
    "start_time": "2024-05-17T18:35:13.131Z"
   },
   {
    "duration": 6721,
    "start_time": "2024-05-17T18:35:13.219Z"
   },
   {
    "duration": 21,
    "start_time": "2024-05-17T18:35:19.944Z"
   },
   {
    "duration": 1193,
    "start_time": "2024-05-17T18:46:08.965Z"
   },
   {
    "duration": 13,
    "start_time": "2024-05-17T18:46:10.163Z"
   },
   {
    "duration": 27,
    "start_time": "2024-05-17T18:46:10.179Z"
   },
   {
    "duration": 23,
    "start_time": "2024-05-17T18:46:10.209Z"
   },
   {
    "duration": 10,
    "start_time": "2024-05-17T18:46:10.238Z"
   },
   {
    "duration": 6,
    "start_time": "2024-05-17T18:46:10.251Z"
   },
   {
    "duration": 43,
    "start_time": "2024-05-17T18:46:10.260Z"
   },
   {
    "duration": 5,
    "start_time": "2024-05-17T18:46:10.306Z"
   },
   {
    "duration": 6,
    "start_time": "2024-05-17T18:46:10.315Z"
   },
   {
    "duration": 23,
    "start_time": "2024-05-17T18:46:10.324Z"
   },
   {
    "duration": 88,
    "start_time": "2024-05-17T18:46:10.350Z"
   },
   {
    "duration": 6696,
    "start_time": "2024-05-17T18:46:10.441Z"
   },
   {
    "duration": 21,
    "start_time": "2024-05-17T18:46:17.140Z"
   },
   {
    "duration": 407,
    "start_time": "2024-05-17T18:46:24.858Z"
   },
   {
    "duration": 38,
    "start_time": "2024-05-17T18:46:30.930Z"
   },
   {
    "duration": 1179,
    "start_time": "2024-05-17T18:48:51.900Z"
   },
   {
    "duration": 20,
    "start_time": "2024-05-17T18:48:53.082Z"
   },
   {
    "duration": 16,
    "start_time": "2024-05-17T18:48:53.104Z"
   },
   {
    "duration": 22,
    "start_time": "2024-05-17T18:48:53.124Z"
   },
   {
    "duration": 9,
    "start_time": "2024-05-17T18:48:53.149Z"
   },
   {
    "duration": 41,
    "start_time": "2024-05-17T18:48:53.161Z"
   },
   {
    "duration": 5,
    "start_time": "2024-05-17T18:48:53.206Z"
   },
   {
    "duration": 5,
    "start_time": "2024-05-17T18:48:53.214Z"
   },
   {
    "duration": 6,
    "start_time": "2024-05-17T18:48:53.222Z"
   },
   {
    "duration": 442,
    "start_time": "2024-05-17T18:48:53.234Z"
   },
   {
    "duration": 0,
    "start_time": "2024-05-17T18:48:53.678Z"
   },
   {
    "duration": 0,
    "start_time": "2024-05-17T18:48:53.681Z"
   },
   {
    "duration": 0,
    "start_time": "2024-05-17T18:48:53.683Z"
   },
   {
    "duration": 1228,
    "start_time": "2024-05-17T18:49:15.121Z"
   },
   {
    "duration": 11,
    "start_time": "2024-05-17T18:49:16.353Z"
   },
   {
    "duration": 35,
    "start_time": "2024-05-17T18:49:16.367Z"
   },
   {
    "duration": 24,
    "start_time": "2024-05-17T18:49:16.407Z"
   },
   {
    "duration": 8,
    "start_time": "2024-05-17T18:49:16.436Z"
   },
   {
    "duration": 6,
    "start_time": "2024-05-17T18:49:16.447Z"
   },
   {
    "duration": 5,
    "start_time": "2024-05-17T18:49:16.456Z"
   },
   {
    "duration": 7,
    "start_time": "2024-05-17T18:49:16.503Z"
   },
   {
    "duration": 6,
    "start_time": "2024-05-17T18:49:16.513Z"
   },
   {
    "duration": 21,
    "start_time": "2024-05-17T18:49:16.523Z"
   },
   {
    "duration": 90,
    "start_time": "2024-05-17T18:49:16.547Z"
   },
   {
    "duration": 6698,
    "start_time": "2024-05-17T18:49:16.639Z"
   },
   {
    "duration": 20,
    "start_time": "2024-05-17T18:49:23.339Z"
   },
   {
    "duration": 1225,
    "start_time": "2024-05-17T18:54:48.718Z"
   },
   {
    "duration": 12,
    "start_time": "2024-05-17T18:54:49.947Z"
   },
   {
    "duration": 16,
    "start_time": "2024-05-17T18:54:49.962Z"
   },
   {
    "duration": 39,
    "start_time": "2024-05-17T18:54:49.981Z"
   },
   {
    "duration": 9,
    "start_time": "2024-05-17T18:54:50.025Z"
   },
   {
    "duration": 6,
    "start_time": "2024-05-17T18:54:50.037Z"
   },
   {
    "duration": 6,
    "start_time": "2024-05-17T18:54:50.046Z"
   },
   {
    "duration": 51,
    "start_time": "2024-05-17T18:54:50.055Z"
   },
   {
    "duration": 6,
    "start_time": "2024-05-17T18:54:50.109Z"
   },
   {
    "duration": 23,
    "start_time": "2024-05-17T18:54:50.117Z"
   },
   {
    "duration": 6,
    "start_time": "2024-05-17T18:54:50.143Z"
   },
   {
    "duration": 88,
    "start_time": "2024-05-17T18:54:50.152Z"
   },
   {
    "duration": 6727,
    "start_time": "2024-05-17T18:54:50.242Z"
   },
   {
    "duration": 33,
    "start_time": "2024-05-17T18:54:56.974Z"
   },
   {
    "duration": 14,
    "start_time": "2024-05-17T19:15:48.923Z"
   },
   {
    "duration": 425,
    "start_time": "2024-05-17T19:37:41.692Z"
   },
   {
    "duration": 7,
    "start_time": "2024-05-17T19:38:00.554Z"
   },
   {
    "duration": 1247,
    "start_time": "2024-05-17T19:45:09.026Z"
   },
   {
    "duration": 13,
    "start_time": "2024-05-17T19:45:10.278Z"
   },
   {
    "duration": 19,
    "start_time": "2024-05-17T19:45:10.295Z"
   },
   {
    "duration": 23,
    "start_time": "2024-05-17T19:45:10.318Z"
   },
   {
    "duration": 11,
    "start_time": "2024-05-17T19:45:10.348Z"
   },
   {
    "duration": 9,
    "start_time": "2024-05-17T19:45:10.401Z"
   },
   {
    "duration": 5,
    "start_time": "2024-05-17T19:45:10.413Z"
   },
   {
    "duration": 6,
    "start_time": "2024-05-17T19:45:10.422Z"
   },
   {
    "duration": 5,
    "start_time": "2024-05-17T19:45:10.432Z"
   },
   {
    "duration": 68,
    "start_time": "2024-05-17T19:45:10.440Z"
   },
   {
    "duration": 8,
    "start_time": "2024-05-17T19:45:10.511Z"
   },
   {
    "duration": 52,
    "start_time": "2024-05-17T19:45:10.522Z"
   },
   {
    "duration": 6807,
    "start_time": "2024-05-17T19:45:10.604Z"
   },
   {
    "duration": 23,
    "start_time": "2024-05-17T19:45:17.417Z"
   },
   {
    "duration": 14,
    "start_time": "2024-05-17T19:45:17.446Z"
   },
   {
    "duration": 38,
    "start_time": "2024-05-17T19:45:17.463Z"
   },
   {
    "duration": 1252,
    "start_time": "2024-05-18T16:53:41.202Z"
   },
   {
    "duration": 19,
    "start_time": "2024-05-18T16:53:42.458Z"
   },
   {
    "duration": 14,
    "start_time": "2024-05-18T16:53:42.480Z"
   },
   {
    "duration": 34,
    "start_time": "2024-05-18T16:53:42.497Z"
   },
   {
    "duration": 9,
    "start_time": "2024-05-18T16:53:42.536Z"
   },
   {
    "duration": 6,
    "start_time": "2024-05-18T16:53:42.547Z"
   },
   {
    "duration": 6,
    "start_time": "2024-05-18T16:53:42.556Z"
   },
   {
    "duration": 47,
    "start_time": "2024-05-18T16:53:42.565Z"
   },
   {
    "duration": 5,
    "start_time": "2024-05-18T16:53:42.615Z"
   },
   {
    "duration": 23,
    "start_time": "2024-05-18T16:53:42.624Z"
   },
   {
    "duration": 8,
    "start_time": "2024-05-18T16:53:42.649Z"
   },
   {
    "duration": 85,
    "start_time": "2024-05-18T16:53:42.659Z"
   },
   {
    "duration": 6727,
    "start_time": "2024-05-18T16:53:42.747Z"
   },
   {
    "duration": 33,
    "start_time": "2024-05-18T16:53:49.479Z"
   },
   {
    "duration": 14,
    "start_time": "2024-05-18T16:53:49.515Z"
   },
   {
    "duration": 9,
    "start_time": "2024-05-18T16:53:49.532Z"
   }
  ],
  "kernelspec": {
   "display_name": "Python 3 (ipykernel)",
   "language": "python",
   "name": "python3"
  },
  "language_info": {
   "codemirror_mode": {
    "name": "ipython",
    "version": 3
   },
   "file_extension": ".py",
   "mimetype": "text/x-python",
   "name": "python",
   "nbconvert_exporter": "python",
   "pygments_lexer": "ipython3",
   "version": "3.9.19"
  },
  "toc": {
   "base_numbering": 1,
   "nav_menu": {},
   "number_sections": true,
   "sideBar": true,
   "skip_h1_title": true,
   "title_cell": "Table of Contents",
   "title_sidebar": "Contents",
   "toc_cell": false,
   "toc_position": {},
   "toc_section_display": true,
   "toc_window_display": false
  }
 },
 "nbformat": 4,
 "nbformat_minor": 2
}
