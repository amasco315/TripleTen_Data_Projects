{
 "cells": [
  {
   "cell_type": "markdown",
   "metadata": {},
   "source": [
    "# Introduction\n",
    "In this project I will be looking at a dataset on Beta Bank customers, and looking at why customers are slowly leaving the bank. In order to do so, I will make multiple models, and explore different parameters and class weights that can maximize the F1 score the model produces. We will be aiming to get an F1 score of at least 0.59. "
   ]
  },
  {
   "cell_type": "markdown",
   "metadata": {},
   "source": [
    "## Importing Libraries and loading dataframe"
   ]
  },
  {
   "cell_type": "code",
   "execution_count": 1,
   "metadata": {},
   "outputs": [],
   "source": [
    "#importing all necessary libraries\n",
    "import pandas as pd\n",
    "import seaborn as sns\n",
    "from matplotlib import pyplot as plt\n",
    "from sklearn.tree import DecisionTreeClassifier\n",
    "from sklearn.model_selection import train_test_split\n",
    "from sklearn.metrics import f1_score\n",
    "from sklearn.metrics import accuracy_score\n",
    "from sklearn.linear_model import LogisticRegression\n",
    "from sklearn.preprocessing import StandardScaler\n",
    "from sklearn.utils import shuffle\n",
    "from sklearn.metrics import roc_auc_score\n",
    "from sklearn.ensemble import RandomForestClassifier"
   ]
  },
  {
   "cell_type": "code",
   "execution_count": 2,
   "metadata": {},
   "outputs": [],
   "source": [
    "df = pd.read_csv('/datasets/Churn.csv')"
   ]
  },
  {
   "cell_type": "code",
   "execution_count": 3,
   "metadata": {},
   "outputs": [
    {
     "name": "stdout",
     "output_type": "stream",
     "text": [
      "<class 'pandas.core.frame.DataFrame'>\n",
      "RangeIndex: 10000 entries, 0 to 9999\n",
      "Data columns (total 14 columns):\n",
      " #   Column           Non-Null Count  Dtype  \n",
      "---  ------           --------------  -----  \n",
      " 0   RowNumber        10000 non-null  int64  \n",
      " 1   CustomerId       10000 non-null  int64  \n",
      " 2   Surname          10000 non-null  object \n",
      " 3   CreditScore      10000 non-null  int64  \n",
      " 4   Geography        10000 non-null  object \n",
      " 5   Gender           10000 non-null  object \n",
      " 6   Age              10000 non-null  int64  \n",
      " 7   Tenure           9091 non-null   float64\n",
      " 8   Balance          10000 non-null  float64\n",
      " 9   NumOfProducts    10000 non-null  int64  \n",
      " 10  HasCrCard        10000 non-null  int64  \n",
      " 11  IsActiveMember   10000 non-null  int64  \n",
      " 12  EstimatedSalary  10000 non-null  float64\n",
      " 13  Exited           10000 non-null  int64  \n",
      "dtypes: float64(3), int64(8), object(3)\n",
      "memory usage: 1.1+ MB\n"
     ]
    }
   ],
   "source": [
    "df.info()"
   ]
  },
  {
   "cell_type": "code",
   "execution_count": 4,
   "metadata": {},
   "outputs": [
    {
     "data": {
      "text/html": [
       "<div>\n",
       "<style scoped>\n",
       "    .dataframe tbody tr th:only-of-type {\n",
       "        vertical-align: middle;\n",
       "    }\n",
       "\n",
       "    .dataframe tbody tr th {\n",
       "        vertical-align: top;\n",
       "    }\n",
       "\n",
       "    .dataframe thead th {\n",
       "        text-align: right;\n",
       "    }\n",
       "</style>\n",
       "<table border=\"1\" class=\"dataframe\">\n",
       "  <thead>\n",
       "    <tr style=\"text-align: right;\">\n",
       "      <th></th>\n",
       "      <th>RowNumber</th>\n",
       "      <th>CustomerId</th>\n",
       "      <th>Surname</th>\n",
       "      <th>CreditScore</th>\n",
       "      <th>Geography</th>\n",
       "      <th>Gender</th>\n",
       "      <th>Age</th>\n",
       "      <th>Tenure</th>\n",
       "      <th>Balance</th>\n",
       "      <th>NumOfProducts</th>\n",
       "      <th>HasCrCard</th>\n",
       "      <th>IsActiveMember</th>\n",
       "      <th>EstimatedSalary</th>\n",
       "      <th>Exited</th>\n",
       "    </tr>\n",
       "  </thead>\n",
       "  <tbody>\n",
       "    <tr>\n",
       "      <th>136</th>\n",
       "      <td>137</td>\n",
       "      <td>15802381</td>\n",
       "      <td>Li</td>\n",
       "      <td>461</td>\n",
       "      <td>Germany</td>\n",
       "      <td>Female</td>\n",
       "      <td>34</td>\n",
       "      <td>5.0</td>\n",
       "      <td>63663.93</td>\n",
       "      <td>1</td>\n",
       "      <td>0</td>\n",
       "      <td>1</td>\n",
       "      <td>167784.28</td>\n",
       "      <td>0</td>\n",
       "    </tr>\n",
       "    <tr>\n",
       "      <th>2788</th>\n",
       "      <td>2789</td>\n",
       "      <td>15726589</td>\n",
       "      <td>Matveyev</td>\n",
       "      <td>540</td>\n",
       "      <td>Germany</td>\n",
       "      <td>Male</td>\n",
       "      <td>39</td>\n",
       "      <td>1.0</td>\n",
       "      <td>82531.11</td>\n",
       "      <td>1</td>\n",
       "      <td>1</td>\n",
       "      <td>0</td>\n",
       "      <td>114092.52</td>\n",
       "      <td>0</td>\n",
       "    </tr>\n",
       "    <tr>\n",
       "      <th>4695</th>\n",
       "      <td>4696</td>\n",
       "      <td>15786739</td>\n",
       "      <td>Clements</td>\n",
       "      <td>669</td>\n",
       "      <td>France</td>\n",
       "      <td>Male</td>\n",
       "      <td>37</td>\n",
       "      <td>1.0</td>\n",
       "      <td>125529.55</td>\n",
       "      <td>1</td>\n",
       "      <td>1</td>\n",
       "      <td>1</td>\n",
       "      <td>162260.93</td>\n",
       "      <td>0</td>\n",
       "    </tr>\n",
       "    <tr>\n",
       "      <th>4269</th>\n",
       "      <td>4270</td>\n",
       "      <td>15580252</td>\n",
       "      <td>Waters</td>\n",
       "      <td>748</td>\n",
       "      <td>France</td>\n",
       "      <td>Male</td>\n",
       "      <td>44</td>\n",
       "      <td>4.0</td>\n",
       "      <td>112610.77</td>\n",
       "      <td>1</td>\n",
       "      <td>0</td>\n",
       "      <td>1</td>\n",
       "      <td>2048.55</td>\n",
       "      <td>0</td>\n",
       "    </tr>\n",
       "    <tr>\n",
       "      <th>2951</th>\n",
       "      <td>2952</td>\n",
       "      <td>15671655</td>\n",
       "      <td>Thorpe</td>\n",
       "      <td>763</td>\n",
       "      <td>Germany</td>\n",
       "      <td>Male</td>\n",
       "      <td>31</td>\n",
       "      <td>7.0</td>\n",
       "      <td>143966.30</td>\n",
       "      <td>2</td>\n",
       "      <td>1</td>\n",
       "      <td>1</td>\n",
       "      <td>140262.96</td>\n",
       "      <td>1</td>\n",
       "    </tr>\n",
       "    <tr>\n",
       "      <th>5241</th>\n",
       "      <td>5242</td>\n",
       "      <td>15581526</td>\n",
       "      <td>Iweobiegbulam</td>\n",
       "      <td>574</td>\n",
       "      <td>France</td>\n",
       "      <td>Male</td>\n",
       "      <td>41</td>\n",
       "      <td>1.0</td>\n",
       "      <td>0.00</td>\n",
       "      <td>2</td>\n",
       "      <td>0</td>\n",
       "      <td>0</td>\n",
       "      <td>70550.00</td>\n",
       "      <td>0</td>\n",
       "    </tr>\n",
       "    <tr>\n",
       "      <th>1493</th>\n",
       "      <td>1494</td>\n",
       "      <td>15686963</td>\n",
       "      <td>Hardiman</td>\n",
       "      <td>680</td>\n",
       "      <td>Spain</td>\n",
       "      <td>Female</td>\n",
       "      <td>30</td>\n",
       "      <td>3.0</td>\n",
       "      <td>0.00</td>\n",
       "      <td>1</td>\n",
       "      <td>1</td>\n",
       "      <td>0</td>\n",
       "      <td>160131.58</td>\n",
       "      <td>0</td>\n",
       "    </tr>\n",
       "    <tr>\n",
       "      <th>8944</th>\n",
       "      <td>8945</td>\n",
       "      <td>15752312</td>\n",
       "      <td>Howells</td>\n",
       "      <td>551</td>\n",
       "      <td>Spain</td>\n",
       "      <td>Male</td>\n",
       "      <td>49</td>\n",
       "      <td>1.0</td>\n",
       "      <td>150777.72</td>\n",
       "      <td>2</td>\n",
       "      <td>1</td>\n",
       "      <td>1</td>\n",
       "      <td>135757.27</td>\n",
       "      <td>0</td>\n",
       "    </tr>\n",
       "    <tr>\n",
       "      <th>8300</th>\n",
       "      <td>8301</td>\n",
       "      <td>15802625</td>\n",
       "      <td>Hardy</td>\n",
       "      <td>733</td>\n",
       "      <td>Germany</td>\n",
       "      <td>Male</td>\n",
       "      <td>48</td>\n",
       "      <td>7.0</td>\n",
       "      <td>85915.52</td>\n",
       "      <td>1</td>\n",
       "      <td>1</td>\n",
       "      <td>1</td>\n",
       "      <td>23860.50</td>\n",
       "      <td>0</td>\n",
       "    </tr>\n",
       "    <tr>\n",
       "      <th>2724</th>\n",
       "      <td>2725</td>\n",
       "      <td>15812628</td>\n",
       "      <td>Dodd</td>\n",
       "      <td>453</td>\n",
       "      <td>Germany</td>\n",
       "      <td>Female</td>\n",
       "      <td>38</td>\n",
       "      <td>NaN</td>\n",
       "      <td>120623.21</td>\n",
       "      <td>1</td>\n",
       "      <td>1</td>\n",
       "      <td>0</td>\n",
       "      <td>129697.99</td>\n",
       "      <td>0</td>\n",
       "    </tr>\n",
       "  </tbody>\n",
       "</table>\n",
       "</div>"
      ],
      "text/plain": [
       "      RowNumber  CustomerId        Surname  CreditScore Geography  Gender  \\\n",
       "136         137    15802381             Li          461   Germany  Female   \n",
       "2788       2789    15726589       Matveyev          540   Germany    Male   \n",
       "4695       4696    15786739       Clements          669    France    Male   \n",
       "4269       4270    15580252         Waters          748    France    Male   \n",
       "2951       2952    15671655         Thorpe          763   Germany    Male   \n",
       "5241       5242    15581526  Iweobiegbulam          574    France    Male   \n",
       "1493       1494    15686963       Hardiman          680     Spain  Female   \n",
       "8944       8945    15752312        Howells          551     Spain    Male   \n",
       "8300       8301    15802625          Hardy          733   Germany    Male   \n",
       "2724       2725    15812628           Dodd          453   Germany  Female   \n",
       "\n",
       "      Age  Tenure    Balance  NumOfProducts  HasCrCard  IsActiveMember  \\\n",
       "136    34     5.0   63663.93              1          0               1   \n",
       "2788   39     1.0   82531.11              1          1               0   \n",
       "4695   37     1.0  125529.55              1          1               1   \n",
       "4269   44     4.0  112610.77              1          0               1   \n",
       "2951   31     7.0  143966.30              2          1               1   \n",
       "5241   41     1.0       0.00              2          0               0   \n",
       "1493   30     3.0       0.00              1          1               0   \n",
       "8944   49     1.0  150777.72              2          1               1   \n",
       "8300   48     7.0   85915.52              1          1               1   \n",
       "2724   38     NaN  120623.21              1          1               0   \n",
       "\n",
       "      EstimatedSalary  Exited  \n",
       "136         167784.28       0  \n",
       "2788        114092.52       0  \n",
       "4695        162260.93       0  \n",
       "4269          2048.55       0  \n",
       "2951        140262.96       1  \n",
       "5241         70550.00       0  \n",
       "1493        160131.58       0  \n",
       "8944        135757.27       0  \n",
       "8300         23860.50       0  \n",
       "2724        129697.99       0  "
      ]
     },
     "metadata": {},
     "output_type": "display_data"
    }
   ],
   "source": [
    "display(df.sample(10))"
   ]
  },
  {
   "cell_type": "markdown",
   "metadata": {},
   "source": [
    "## Data Preprocessing"
   ]
  },
  {
   "cell_type": "code",
   "execution_count": 5,
   "metadata": {},
   "outputs": [],
   "source": [
    "df.columns = df.columns.str.lower()\n",
    "df = df.rename(columns={'rownumber':'row_number', \n",
    "                        'customerid': 'customer_id' , \n",
    "                        'creditscore':'credit_score', \n",
    "                        'numofproducts': 'num_of_products', \n",
    "                        'hascrcard':'has_cr_card', \n",
    "                        'isactivemember':'is_active_member', \n",
    "                        'estimatedsalary':'estimated_salary'})"
   ]
  },
  {
   "cell_type": "markdown",
   "metadata": {},
   "source": [
    "Making all columns lowercase, and adding underscores where spaces should go. This is more of a personal preference, and not a necessary step. "
   ]
  },
  {
   "cell_type": "code",
   "execution_count": 6,
   "metadata": {},
   "outputs": [
    {
     "name": "stdout",
     "output_type": "stream",
     "text": [
      "<class 'pandas.core.frame.DataFrame'>\n",
      "RangeIndex: 10000 entries, 0 to 9999\n",
      "Data columns (total 14 columns):\n",
      " #   Column            Non-Null Count  Dtype  \n",
      "---  ------            --------------  -----  \n",
      " 0   row_number        10000 non-null  int64  \n",
      " 1   customer_id       10000 non-null  int64  \n",
      " 2   surname           10000 non-null  object \n",
      " 3   credit_score      10000 non-null  int64  \n",
      " 4   geography         10000 non-null  object \n",
      " 5   gender            10000 non-null  object \n",
      " 6   age               10000 non-null  int64  \n",
      " 7   tenure            9091 non-null   float64\n",
      " 8   balance           10000 non-null  float64\n",
      " 9   num_of_products   10000 non-null  int64  \n",
      " 10  has_cr_card       10000 non-null  int64  \n",
      " 11  is_active_member  10000 non-null  int64  \n",
      " 12  estimated_salary  10000 non-null  float64\n",
      " 13  exited            10000 non-null  int64  \n",
      "dtypes: float64(3), int64(8), object(3)\n",
      "memory usage: 1.1+ MB\n"
     ]
    }
   ],
   "source": [
    "df.info()"
   ]
  },
  {
   "cell_type": "code",
   "execution_count": 7,
   "metadata": {},
   "outputs": [
    {
     "data": {
      "text/plain": [
       "array([ 2.,  1.,  8.,  7.,  4.,  6.,  3., 10.,  5.,  9.,  0., nan])"
      ]
     },
     "execution_count": 7,
     "metadata": {},
     "output_type": "execute_result"
    }
   ],
   "source": [
    "df['tenure'].unique()"
   ]
  },
  {
   "cell_type": "markdown",
   "metadata": {},
   "source": [
    "Looking at the unique values in the tenure column to better determine how to deal with the missing values. "
   ]
  },
  {
   "cell_type": "code",
   "execution_count": 8,
   "metadata": {},
   "outputs": [
    {
     "data": {
      "text/plain": [
       "5.0"
      ]
     },
     "execution_count": 8,
     "metadata": {},
     "output_type": "execute_result"
    }
   ],
   "source": [
    "df['tenure'].median()"
   ]
  },
  {
   "cell_type": "code",
   "execution_count": 9,
   "metadata": {},
   "outputs": [],
   "source": [
    "df['tenure'] = df['tenure'].fillna(5.0)"
   ]
  },
  {
   "cell_type": "markdown",
   "metadata": {},
   "source": [
    "Filling the missing values in the tenure column with the median value. "
   ]
  },
  {
   "cell_type": "code",
   "execution_count": 10,
   "metadata": {},
   "outputs": [],
   "source": [
    "df = df.drop(['row_number', 'customer_id', 'surname'], axis=1)"
   ]
  },
  {
   "cell_type": "markdown",
   "metadata": {},
   "source": [
    "Dropping columns that are not going to be used as features. "
   ]
  },
  {
   "cell_type": "code",
   "execution_count": 11,
   "metadata": {},
   "outputs": [
    {
     "name": "stdout",
     "output_type": "stream",
     "text": [
      "<class 'pandas.core.frame.DataFrame'>\n",
      "RangeIndex: 10000 entries, 0 to 9999\n",
      "Data columns (total 11 columns):\n",
      " #   Column            Non-Null Count  Dtype  \n",
      "---  ------            --------------  -----  \n",
      " 0   credit_score      10000 non-null  int64  \n",
      " 1   geography         10000 non-null  object \n",
      " 2   gender            10000 non-null  object \n",
      " 3   age               10000 non-null  int64  \n",
      " 4   tenure            10000 non-null  float64\n",
      " 5   balance           10000 non-null  float64\n",
      " 6   num_of_products   10000 non-null  int64  \n",
      " 7   has_cr_card       10000 non-null  int64  \n",
      " 8   is_active_member  10000 non-null  int64  \n",
      " 9   estimated_salary  10000 non-null  float64\n",
      " 10  exited            10000 non-null  int64  \n",
      "dtypes: float64(3), int64(6), object(2)\n",
      "memory usage: 859.5+ KB\n"
     ]
    }
   ],
   "source": [
    "df.info()"
   ]
  },
  {
   "cell_type": "code",
   "execution_count": 12,
   "metadata": {},
   "outputs": [],
   "source": [
    "new_df = pd.get_dummies(df, columns=['geography', 'gender'], drop_first=True)"
   ]
  },
  {
   "cell_type": "markdown",
   "metadata": {},
   "source": [
    "Using dummies to make categorical features (geography and gender) into numerical features. "
   ]
  },
  {
   "cell_type": "code",
   "execution_count": 13,
   "metadata": {},
   "outputs": [
    {
     "data": {
      "text/html": [
       "<div>\n",
       "<style scoped>\n",
       "    .dataframe tbody tr th:only-of-type {\n",
       "        vertical-align: middle;\n",
       "    }\n",
       "\n",
       "    .dataframe tbody tr th {\n",
       "        vertical-align: top;\n",
       "    }\n",
       "\n",
       "    .dataframe thead th {\n",
       "        text-align: right;\n",
       "    }\n",
       "</style>\n",
       "<table border=\"1\" class=\"dataframe\">\n",
       "  <thead>\n",
       "    <tr style=\"text-align: right;\">\n",
       "      <th></th>\n",
       "      <th>credit_score</th>\n",
       "      <th>age</th>\n",
       "      <th>tenure</th>\n",
       "      <th>balance</th>\n",
       "      <th>num_of_products</th>\n",
       "      <th>has_cr_card</th>\n",
       "      <th>is_active_member</th>\n",
       "      <th>estimated_salary</th>\n",
       "      <th>exited</th>\n",
       "      <th>geography_Germany</th>\n",
       "      <th>geography_Spain</th>\n",
       "      <th>gender_Male</th>\n",
       "    </tr>\n",
       "  </thead>\n",
       "  <tbody>\n",
       "    <tr>\n",
       "      <th>2459</th>\n",
       "      <td>576</td>\n",
       "      <td>63</td>\n",
       "      <td>9.0</td>\n",
       "      <td>70655.48</td>\n",
       "      <td>1</td>\n",
       "      <td>0</td>\n",
       "      <td>0</td>\n",
       "      <td>78955.80</td>\n",
       "      <td>1</td>\n",
       "      <td>0</td>\n",
       "      <td>0</td>\n",
       "      <td>1</td>\n",
       "    </tr>\n",
       "    <tr>\n",
       "      <th>3658</th>\n",
       "      <td>699</td>\n",
       "      <td>43</td>\n",
       "      <td>3.0</td>\n",
       "      <td>80764.03</td>\n",
       "      <td>1</td>\n",
       "      <td>1</td>\n",
       "      <td>0</td>\n",
       "      <td>199378.58</td>\n",
       "      <td>1</td>\n",
       "      <td>0</td>\n",
       "      <td>0</td>\n",
       "      <td>0</td>\n",
       "    </tr>\n",
       "    <tr>\n",
       "      <th>9997</th>\n",
       "      <td>709</td>\n",
       "      <td>36</td>\n",
       "      <td>7.0</td>\n",
       "      <td>0.00</td>\n",
       "      <td>1</td>\n",
       "      <td>0</td>\n",
       "      <td>1</td>\n",
       "      <td>42085.58</td>\n",
       "      <td>1</td>\n",
       "      <td>0</td>\n",
       "      <td>0</td>\n",
       "      <td>0</td>\n",
       "    </tr>\n",
       "    <tr>\n",
       "      <th>5578</th>\n",
       "      <td>687</td>\n",
       "      <td>50</td>\n",
       "      <td>5.0</td>\n",
       "      <td>0.00</td>\n",
       "      <td>2</td>\n",
       "      <td>1</td>\n",
       "      <td>0</td>\n",
       "      <td>110230.40</td>\n",
       "      <td>0</td>\n",
       "      <td>0</td>\n",
       "      <td>1</td>\n",
       "      <td>0</td>\n",
       "    </tr>\n",
       "    <tr>\n",
       "      <th>1954</th>\n",
       "      <td>624</td>\n",
       "      <td>51</td>\n",
       "      <td>5.0</td>\n",
       "      <td>174397.21</td>\n",
       "      <td>2</td>\n",
       "      <td>1</td>\n",
       "      <td>1</td>\n",
       "      <td>172372.63</td>\n",
       "      <td>0</td>\n",
       "      <td>0</td>\n",
       "      <td>1</td>\n",
       "      <td>1</td>\n",
       "    </tr>\n",
       "    <tr>\n",
       "      <th>3621</th>\n",
       "      <td>711</td>\n",
       "      <td>36</td>\n",
       "      <td>9.0</td>\n",
       "      <td>137688.71</td>\n",
       "      <td>1</td>\n",
       "      <td>1</td>\n",
       "      <td>1</td>\n",
       "      <td>46884.10</td>\n",
       "      <td>0</td>\n",
       "      <td>0</td>\n",
       "      <td>0</td>\n",
       "      <td>1</td>\n",
       "    </tr>\n",
       "    <tr>\n",
       "      <th>1760</th>\n",
       "      <td>521</td>\n",
       "      <td>38</td>\n",
       "      <td>5.0</td>\n",
       "      <td>110641.18</td>\n",
       "      <td>1</td>\n",
       "      <td>0</td>\n",
       "      <td>1</td>\n",
       "      <td>136507.69</td>\n",
       "      <td>1</td>\n",
       "      <td>0</td>\n",
       "      <td>0</td>\n",
       "      <td>1</td>\n",
       "    </tr>\n",
       "    <tr>\n",
       "      <th>1043</th>\n",
       "      <td>579</td>\n",
       "      <td>35</td>\n",
       "      <td>1.0</td>\n",
       "      <td>0.00</td>\n",
       "      <td>2</td>\n",
       "      <td>1</td>\n",
       "      <td>0</td>\n",
       "      <td>4460.20</td>\n",
       "      <td>0</td>\n",
       "      <td>0</td>\n",
       "      <td>0</td>\n",
       "      <td>1</td>\n",
       "    </tr>\n",
       "    <tr>\n",
       "      <th>3501</th>\n",
       "      <td>646</td>\n",
       "      <td>30</td>\n",
       "      <td>5.0</td>\n",
       "      <td>100548.67</td>\n",
       "      <td>2</td>\n",
       "      <td>0</td>\n",
       "      <td>0</td>\n",
       "      <td>136983.77</td>\n",
       "      <td>0</td>\n",
       "      <td>1</td>\n",
       "      <td>0</td>\n",
       "      <td>0</td>\n",
       "    </tr>\n",
       "    <tr>\n",
       "      <th>8338</th>\n",
       "      <td>602</td>\n",
       "      <td>42</td>\n",
       "      <td>1.0</td>\n",
       "      <td>138912.17</td>\n",
       "      <td>1</td>\n",
       "      <td>1</td>\n",
       "      <td>1</td>\n",
       "      <td>139494.75</td>\n",
       "      <td>0</td>\n",
       "      <td>0</td>\n",
       "      <td>1</td>\n",
       "      <td>0</td>\n",
       "    </tr>\n",
       "  </tbody>\n",
       "</table>\n",
       "</div>"
      ],
      "text/plain": [
       "      credit_score  age  tenure    balance  num_of_products  has_cr_card  \\\n",
       "2459           576   63     9.0   70655.48                1            0   \n",
       "3658           699   43     3.0   80764.03                1            1   \n",
       "9997           709   36     7.0       0.00                1            0   \n",
       "5578           687   50     5.0       0.00                2            1   \n",
       "1954           624   51     5.0  174397.21                2            1   \n",
       "3621           711   36     9.0  137688.71                1            1   \n",
       "1760           521   38     5.0  110641.18                1            0   \n",
       "1043           579   35     1.0       0.00                2            1   \n",
       "3501           646   30     5.0  100548.67                2            0   \n",
       "8338           602   42     1.0  138912.17                1            1   \n",
       "\n",
       "      is_active_member  estimated_salary  exited  geography_Germany  \\\n",
       "2459                 0          78955.80       1                  0   \n",
       "3658                 0         199378.58       1                  0   \n",
       "9997                 1          42085.58       1                  0   \n",
       "5578                 0         110230.40       0                  0   \n",
       "1954                 1         172372.63       0                  0   \n",
       "3621                 1          46884.10       0                  0   \n",
       "1760                 1         136507.69       1                  0   \n",
       "1043                 0           4460.20       0                  0   \n",
       "3501                 0         136983.77       0                  1   \n",
       "8338                 1         139494.75       0                  0   \n",
       "\n",
       "      geography_Spain  gender_Male  \n",
       "2459                0            1  \n",
       "3658                0            0  \n",
       "9997                0            0  \n",
       "5578                1            0  \n",
       "1954                1            1  \n",
       "3621                0            1  \n",
       "1760                0            1  \n",
       "1043                0            1  \n",
       "3501                0            0  \n",
       "8338                1            0  "
      ]
     },
     "execution_count": 13,
     "metadata": {},
     "output_type": "execute_result"
    }
   ],
   "source": [
    "new_df.sample(10)"
   ]
  },
  {
   "cell_type": "code",
   "execution_count": 14,
   "metadata": {},
   "outputs": [],
   "source": [
    "features = new_df.drop(['exited'], axis=1)\n",
    "target = new_df['exited']"
   ]
  },
  {
   "cell_type": "code",
   "execution_count": 15,
   "metadata": {},
   "outputs": [
    {
     "name": "stdout",
     "output_type": "stream",
     "text": [
      "0    0.7963\n",
      "1    0.2037\n",
      "Name: exited, dtype: float64\n"
     ]
    },
    {
     "data": {
      "image/png": "[encoded data removed]",
      "text/plain": [
       "<Figure size 640x480 with 1 Axes>"
      ]
     },
     "metadata": {},
     "output_type": "display_data"
    }
   ],
   "source": [
    "class_frequency = new_df['exited'].value_counts(normalize=True)\n",
    "print(class_frequency)\n",
    "sns.countplot(new_df['exited']).set_title('Class frequency of Exited column')\n",
    "plt.show()"
   ]
  },
  {
   "cell_type": "code",
   "execution_count": 16,
   "metadata": {},
   "outputs": [
    {
     "name": "stdout",
     "output_type": "stream",
     "text": [
      "1    0.5151\n",
      "0    0.4849\n",
      "Name: is_active_member, dtype: float64\n"
     ]
    },
    {
     "data": {
      "image/png": "[encoded data removed]",
      "text/plain": [
       "<Figure size 640x480 with 1 Axes>"
      ]
     },
     "metadata": {},
     "output_type": "display_data"
    }
   ],
   "source": [
    "class_frequency = new_df['is_active_member'].value_counts(normalize=True)\n",
    "print(class_frequency)\n",
    "sns.countplot(new_df['is_active_member']).set_title('Class frequency of Acitve Member column')\n",
    "plt.show()"
   ]
  },
  {
   "cell_type": "code",
   "execution_count": 17,
   "metadata": {},
   "outputs": [
    {
     "name": "stdout",
     "output_type": "stream",
     "text": [
      "1    0.5457\n",
      "0    0.4543\n",
      "Name: gender_Male, dtype: float64\n"
     ]
    },
    {
     "data": {
      "image/png": "[encoded data removed]",
      "text/plain": [
       "<Figure size 640x480 with 1 Axes>"
      ]
     },
     "metadata": {},
     "output_type": "display_data"
    }
   ],
   "source": [
    "class_frequency = new_df['gender_Male'].value_counts(normalize=True)\n",
    "print(class_frequency)\n",
    "sns.countplot(new_df['gender_Male']).set_title('Class frequency of Gender column')\n",
    "plt.show()"
   ]
  },
  {
   "cell_type": "code",
   "execution_count": 18,
   "metadata": {},
   "outputs": [
    {
     "name": "stdout",
     "output_type": "stream",
     "text": [
      "1    0.7055\n",
      "0    0.2945\n",
      "Name: has_cr_card, dtype: float64\n"
     ]
    },
    {
     "data": {
      "image/png": "[encoded data removed]",
      "text/plain": [
       "<Figure size 640x480 with 1 Axes>"
      ]
     },
     "metadata": {},
     "output_type": "display_data"
    }
   ],
   "source": [
    "class_frequency = new_df['has_cr_card'].value_counts(normalize=True)\n",
    "print(class_frequency)\n",
    "sns.countplot(new_df['has_cr_card']).set_title('Class frequency of has credit card column')\n",
    "plt.show()"
   ]
  },
  {
   "cell_type": "markdown",
   "metadata": {},
   "source": [
    "**Balance of Classes** The classes of the target are not balanced, with a ratio of almost 4:1 leaning to the negative class. While looking at a few of the features, we see a different result. The active member and gender columns are pretty close to even. The has credit card column is imbalanced at a ratio of 7:3 in favor of the positive class. "
   ]
  },
  {
   "cell_type": "markdown",
   "metadata": {},
   "source": [
    "### Split data into training, validation, and test sets"
   ]
  },
  {
   "cell_type": "code",
   "execution_count": 19,
   "metadata": {},
   "outputs": [],
   "source": [
    "#split source data into training set, and temp set to get validation and test sets\n",
    "df_train, df_temp = train_test_split(new_df, test_size=0.4, random_state=12345)\n",
    "#use temp set to split into validation and test sets\n",
    "df_valid, df_test = train_test_split(df_temp, test_size=0.5, random_state=12345)"
   ]
  },
  {
   "cell_type": "code",
   "execution_count": 20,
   "metadata": {},
   "outputs": [],
   "source": [
    "#variables for features and target of training set\n",
    "features_train = df_train.drop(['exited'],axis=1)\n",
    "target_train = df_train['exited']"
   ]
  },
  {
   "cell_type": "code",
   "execution_count": 21,
   "metadata": {},
   "outputs": [],
   "source": [
    "#variables for features and target of validation set\n",
    "features_valid = df_valid.drop(['exited'],axis=1)\n",
    "target_valid = df_valid['exited']"
   ]
  },
  {
   "cell_type": "code",
   "execution_count": 22,
   "metadata": {},
   "outputs": [],
   "source": [
    "#variables for features and target of test set\n",
    "features_test = df_test.drop(['exited'],axis=1)\n",
    "target_test = df_test['exited']"
   ]
  },
  {
   "cell_type": "markdown",
   "metadata": {},
   "source": [
    "Defining the variables for features and targets of the train and validation sets."
   ]
  },
  {
   "cell_type": "code",
   "execution_count": 23,
   "metadata": {},
   "outputs": [
    {
     "name": "stdout",
     "output_type": "stream",
     "text": [
      "(6000, 11)\n",
      "(6000,)\n",
      "(2000, 11)\n",
      "(2000,)\n",
      "(2000, 11)\n",
      "(2000,)\n"
     ]
    }
   ],
   "source": [
    "print(features_train.shape)\n",
    "print(target_train.shape)\n",
    "print(features_valid.shape)\n",
    "print(target_valid.shape)\n",
    "print(features_test.shape)\n",
    "print(target_test.shape)"
   ]
  },
  {
   "cell_type": "markdown",
   "metadata": {},
   "source": [
    "### Standardize numerical features"
   ]
  },
  {
   "cell_type": "code",
   "execution_count": 24,
   "metadata": {},
   "outputs": [],
   "source": [
    "pd.options.mode.chained_assignment = None\n",
    "numeric = ['credit_score', 'age', 'tenure', 'balance', 'num_of_products', 'estimated_salary']\n",
    "scaler = StandardScaler()\n",
    "\n",
    "scaler.fit(features_train[numeric])\n",
    "scaler.fit(features_valid[numeric])\n",
    "scaler.fit(features_test[numeric])\n",
    "\n",
    "features_train[numeric] = scaler.transform(features_train[numeric])\n",
    "features_valid[numeric] = scaler.transform(features_valid[numeric])\n",
    "features_test[numeric] = scaler.transform(features_test[numeric])"
   ]
  },
  {
   "cell_type": "markdown",
   "metadata": {},
   "source": [
    "Standardizing the numerical features."
   ]
  },
  {
   "cell_type": "markdown",
   "metadata": {},
   "source": [
    "## Logistic Regression model"
   ]
  },
  {
   "cell_type": "code",
   "execution_count": 25,
   "metadata": {
    "scrolled": false
   },
   "outputs": [
    {
     "name": "stdout",
     "output_type": "stream",
     "text": [
      "F1 Score: 0.33108108108108103\n",
      "0.802\n"
     ]
    }
   ],
   "source": [
    "model = LogisticRegression(random_state=12345, solver='liblinear')\n",
    "model.fit(features_train, target_train)\n",
    "prediction = model.predict(features_valid)\n",
    "f1 = f1_score(target_valid, prediction)\n",
    "accuracy = accuracy_score(target_valid, prediction)\n",
    "print(f\"F1 Score: {f1}\")\n",
    "print(accuracy)\n"
   ]
  },
  {
   "cell_type": "markdown",
   "metadata": {},
   "source": [
    "Trained the model without fixing the imbalance. The F1 score is not as bad as I thought it would be (0.33), but it's still a ways off from our goal of at least 0.59. "
   ]
  },
  {
   "cell_type": "markdown",
   "metadata": {},
   "source": [
    "### balanced class weights"
   ]
  },
  {
   "cell_type": "code",
   "execution_count": 26,
   "metadata": {},
   "outputs": [
    {
     "name": "stdout",
     "output_type": "stream",
     "text": [
      "F1 Score: 0.4888507718696398\n",
      "0.702\n"
     ]
    }
   ],
   "source": [
    "model = LogisticRegression(random_state=12345, solver='liblinear', class_weight='balanced')\n",
    "model.fit(features_train, target_train)\n",
    "prediction = model.predict(features_valid)\n",
    "f1 = f1_score(target_valid, prediction)\n",
    "accuracy = accuracy_score(target_valid, prediction)\n",
    "print(f\"F1 Score: {f1}\")\n",
    "print(accuracy)\n"
   ]
  },
  {
   "cell_type": "markdown",
   "metadata": {},
   "source": [
    "After setting the class weight to balanced, the F1 score improved considerably to 0.49. A solid improvement for this model, but still some work to do. "
   ]
  },
  {
   "cell_type": "markdown",
   "metadata": {},
   "source": [
    "### Upsampling"
   ]
  },
  {
   "cell_type": "code",
   "execution_count": 27,
   "metadata": {},
   "outputs": [],
   "source": [
    "def upsample(features, target, repeat):\n",
    "    features_zeros = features[target == 0]\n",
    "    features_ones = features[target == 1]\n",
    "    target_zeros = target[target == 0]\n",
    "    target_ones = target[target == 1]\n",
    "\n",
    "    features_upsampled = pd.concat([features_zeros] + [features_ones] * repeat)\n",
    "    target_upsampled = pd.concat([target_zeros] + [target_ones] * repeat)\n",
    "\n",
    "    features_upsampled, target_upsampled = shuffle(features_upsampled, target_upsampled, random_state=12345)\n",
    "\n",
    "    return features_upsampled, target_upsampled\n",
    "\n",
    "features_upsampled, target_upsampled = upsample(features_train, target_train, 10)"
   ]
  },
  {
   "cell_type": "code",
   "execution_count": 28,
   "metadata": {},
   "outputs": [
    {
     "name": "stdout",
     "output_type": "stream",
     "text": [
      "F1: 0.4194260485651214\n"
     ]
    }
   ],
   "source": [
    "model1 = LogisticRegression(random_state=12345, solver='liblinear')\n",
    "model1.fit(features_upsampled, target_upsampled)\n",
    "prediction = model1.predict(features_valid)\n",
    "print('F1:', f1_score(target_valid, prediction))"
   ]
  },
  {
   "cell_type": "markdown",
   "metadata": {},
   "source": [
    "Tried upsampling to see how it would effect the f1 score, and it lowered it to 0.42."
   ]
  },
  {
   "cell_type": "markdown",
   "metadata": {},
   "source": [
    "### Downsampling"
   ]
  },
  {
   "cell_type": "code",
   "execution_count": 29,
   "metadata": {},
   "outputs": [],
   "source": [
    "def downsample(features, target, fraction):\n",
    "    features_zeros = features[target == 0]\n",
    "    features_ones = features[target == 1]\n",
    "    target_zeros = target[target == 0]\n",
    "    target_ones = target[target == 1]\n",
    "\n",
    "    features_downsampled = pd.concat([features_zeros.sample(frac=fraction, random_state=12345)] + [features_ones])\n",
    "    target_downsampled = pd.concat([target_zeros.sample(frac=fraction, random_state=12345)] + [target_ones])\n",
    "\n",
    "    features_downsampled, target_downsampled = shuffle(features_downsampled, target_downsampled, random_state=12345)\n",
    "\n",
    "    return features_downsampled, target_downsampled\n",
    "\n",
    "features_downsampled, target_downsampled = downsample(features_train, target_train, 0.1)"
   ]
  },
  {
   "cell_type": "code",
   "execution_count": 30,
   "metadata": {},
   "outputs": [
    {
     "name": "stdout",
     "output_type": "stream",
     "text": [
      "F1: 0.4308390022675737\n"
     ]
    }
   ],
   "source": [
    "model2 = LogisticRegression(random_state=12345, solver='liblinear')\n",
    "model2.fit(features_downsampled, target_downsampled)\n",
    "prediction = model2.predict(features_valid)\n",
    "print('F1:', f1_score(target_valid, prediction))"
   ]
  },
  {
   "cell_type": "markdown",
   "metadata": {},
   "source": [
    "Tried downsampling to see how it would effect the f1 score, and it lowered to 0.43."
   ]
  },
  {
   "cell_type": "markdown",
   "metadata": {},
   "source": [
    "## Tree Model"
   ]
  },
  {
   "cell_type": "code",
   "execution_count": 31,
   "metadata": {},
   "outputs": [
    {
     "name": "stdout",
     "output_type": "stream",
     "text": [
      "F1 Score: 0.5036319612590799\n",
      "0.795\n"
     ]
    }
   ],
   "source": [
    "tree = DecisionTreeClassifier(random_state=12345)\n",
    "tree.fit(features_train, target_train)\n",
    "prediction = tree.predict(features_valid)\n",
    "f1 = f1_score(target_valid, prediction)\n",
    "accuracy = accuracy_score(target_valid, prediction)\n",
    "print(f\"F1 Score: {f1}\")\n",
    "print(accuracy)\n"
   ]
  },
  {
   "cell_type": "markdown",
   "metadata": {},
   "source": [
    "Made a decision tree model to see if it would be better than the logistic regression model. We got an F1 score of 0.50, which is just about where the Logistic Regression model was. Seems that both would be a good option to continue tinkering with."
   ]
  },
  {
   "cell_type": "code",
   "execution_count": 32,
   "metadata": {},
   "outputs": [
    {
     "data": {
      "text/plain": [
       "DecisionTreeClassifier(ccp_alpha=0.0, class_weight=None, criterion='gini',\n",
       "                       max_depth=None, max_features=None, max_leaf_nodes=None,\n",
       "                       min_impurity_decrease=0.0, min_impurity_split=None,\n",
       "                       min_samples_leaf=1, min_samples_split=2,\n",
       "                       min_weight_fraction_leaf=0.0, random_state=12345,\n",
       "                       splitter='best')"
      ]
     },
     "execution_count": 32,
     "metadata": {},
     "output_type": "execute_result"
    }
   ],
   "source": [
    "from sklearn._config import get_config, set_config\n",
    "set_config(print_changed_only=False)\n",
    "tree"
   ]
  },
  {
   "cell_type": "code",
   "execution_count": 33,
   "metadata": {},
   "outputs": [
    {
     "name": "stdout",
     "output_type": "stream",
     "text": [
      "max_depth = 1 : 0.4994903160040775\n",
      "max_depth = 2 : 0.541015625\n",
      "max_depth = 3 : 0.541015625\n",
      "max_depth = 4 : 0.5277777777777778\n",
      "max_depth = 5 : 0.5963791267305644\n"
     ]
    }
   ],
   "source": [
    "for depth in range(1, 6):\n",
    "    tree = DecisionTreeClassifier(random_state=12345, class_weight = 'balanced', max_depth=depth)\n",
    "    tree.fit(features_train, target_train)\n",
    "    prediction = tree.predict(features_valid)\n",
    "    print('max_depth =', depth, ': ', end='')\n",
    "    print(f1_score(target_valid, prediction))"
   ]
  },
  {
   "cell_type": "markdown",
   "metadata": {},
   "source": [
    "Seeing which value for max depth gives us a better f1 score. Max depth of 5 has us just above our goal with 0.60, so we could continue on with this as the final model. That being said, we will first see how upsampling and downsampling effect the F1 score. "
   ]
  },
  {
   "cell_type": "markdown",
   "metadata": {},
   "source": [
    "### Upsampling"
   ]
  },
  {
   "cell_type": "code",
   "execution_count": 34,
   "metadata": {},
   "outputs": [
    {
     "name": "stdout",
     "output_type": "stream",
     "text": [
      "F1: 0.49012933968686184\n"
     ]
    }
   ],
   "source": [
    "tree2 = DecisionTreeClassifier(random_state=12345, max_depth=5)\n",
    "tree2.fit(features_upsampled, target_upsampled)\n",
    "prediction = tree2.predict(features_valid)\n",
    "print('F1:', f1_score(target_valid, prediction))"
   ]
  },
  {
   "cell_type": "markdown",
   "metadata": {},
   "source": [
    "Upsampling lowered the F1 score to 0.49, not ideal."
   ]
  },
  {
   "cell_type": "markdown",
   "metadata": {},
   "source": [
    "### Downsampling"
   ]
  },
  {
   "cell_type": "code",
   "execution_count": 35,
   "metadata": {},
   "outputs": [
    {
     "name": "stdout",
     "output_type": "stream",
     "text": [
      "F1: 0.49553877831159915\n"
     ]
    }
   ],
   "source": [
    "tree3 =DecisionTreeClassifier(random_state=12345, max_depth=5)\n",
    "tree3.fit(features_downsampled, target_downsampled)\n",
    "prediction = tree3.predict(features_valid)\n",
    "print('F1:', f1_score(target_valid, prediction))"
   ]
  },
  {
   "cell_type": "markdown",
   "metadata": {},
   "source": [
    "Downsampling also lowered the F1 score, better stick with class weights set to balanced. "
   ]
  },
  {
   "cell_type": "code",
   "execution_count": 36,
   "metadata": {},
   "outputs": [
    {
     "name": "stdout",
     "output_type": "stream",
     "text": [
      "0.5984930032292788\n"
     ]
    }
   ],
   "source": [
    "tree = DecisionTreeClassifier(random_state=12345, max_depth=5, class_weight='balanced', criterion='entropy')\n",
    "tree.fit(features_train, target_train)\n",
    "prediction = tree.predict(features_valid)\n",
    "print(f1_score(target_valid, prediction))"
   ]
  },
  {
   "cell_type": "code",
   "execution_count": 37,
   "metadata": {},
   "outputs": [
    {
     "name": "stdout",
     "output_type": "stream",
     "text": [
      "Accuracy of the best model on the validation set (n_estimators = 22): 0.8555\n"
     ]
    }
   ],
   "source": [
    "best_score = 0\n",
    "best_est = 0\n",
    "for est in range(1, 30):\n",
    "    rando = RandomForestClassifier(random_state=12345, n_estimators=est, class_weight='balanced')\n",
    "    rando.fit(features_train, target_train)\n",
    "    score = rando.score(features_valid, target_valid)\n",
    "    if score > best_score:\n",
    "        best_score = score\n",
    "        best_est = est\n",
    "\n",
    "print(\"Accuracy of the best model on the validation set (n_estimators = {}): {}\".format(best_est, best_score))"
   ]
  },
  {
   "cell_type": "markdown",
   "metadata": {},
   "source": [
    "### Auc-Roc score "
   ]
  },
  {
   "cell_type": "code",
   "execution_count": 38,
   "metadata": {},
   "outputs": [
    {
     "name": "stdout",
     "output_type": "stream",
     "text": [
      "0.5984930032292788\n"
     ]
    }
   ],
   "source": [
    "tree = DecisionTreeClassifier(random_state=12345, max_depth=5, class_weight='balanced', criterion='entropy')\n",
    "tree.fit(features_train, target_train)\n",
    "prediction = tree.predict(features_valid)\n",
    "print(f1_score(target_valid, prediction))"
   ]
  },
  {
   "cell_type": "code",
   "execution_count": 39,
   "metadata": {},
   "outputs": [
    {
     "name": "stdout",
     "output_type": "stream",
     "text": [
      "0.8307537246172549\n"
     ]
    }
   ],
   "source": [
    "probabilities_valid = tree.predict_proba(features_valid)\n",
    "probabilities_one_valid = probabilities_valid[:, 1]\n",
    "auc_roc = roc_auc_score(target_valid, probabilities_one_valid)\n",
    "\n",
    "print(auc_roc)"
   ]
  },
  {
   "cell_type": "markdown",
   "metadata": {},
   "source": [
    "Auc-Roc score is 0.83, which indicates that this model performs better than a random model."
   ]
  },
  {
   "cell_type": "markdown",
   "metadata": {},
   "source": [
    "## Final Model test"
   ]
  },
  {
   "cell_type": "code",
   "execution_count": 40,
   "metadata": {},
   "outputs": [
    {
     "name": "stdout",
     "output_type": "stream",
     "text": [
      "0.5963488843813387\n"
     ]
    }
   ],
   "source": [
    "final_model = DecisionTreeClassifier(random_state=12345, max_depth=8, class_weight='balanced', max_leaf_nodes=20)\n",
    "final_model.fit(features_train, target_train)\n",
    "test_predictions = final_model.predict(features_test)\n",
    "print(f1_score(target_test, test_predictions))"
   ]
  },
  {
   "cell_type": "markdown",
   "metadata": {},
   "source": [
    "The test of the final model came in just at the desired result of 0.59."
   ]
  },
  {
   "cell_type": "markdown",
   "metadata": {},
   "source": [
    "## Conclusion\n",
    "In order to achieve an f1 score of at least 0.59, I made two different types of models to work with: a logistic regression model and a decision tree model. When working with the logistic regression model, I tried balanced class weights, as well as upsampling and downsampling. None of which were able to produce the desired F1 score. I then moved on to the decision tree model, where I found that by setting the max depth to 5, the class weights to balanced, and the criterion to 'entropy' we were just able to produce the desired F1 score. The Final model however was not achieving this, so I tuned it some more. I set criterion back to 'gini', raised the max_depth to 8, and made max_leaf_nodes set to 20."
   ]
  }
 ],
 "metadata": {
  "ExecuteTimeLog": [
   {
    "duration": 1216,
    "start_time": "2024-05-30T16:18:57.637Z"
   },
   {
    "duration": 33,
    "start_time": "2024-05-30T16:19:24.633Z"
   },
   {
    "duration": 17,
    "start_time": "2024-05-30T16:19:32.834Z"
   },
   {
    "duration": 27,
    "start_time": "2024-05-30T16:24:12.683Z"
   },
   {
    "duration": 21,
    "start_time": "2024-05-30T16:24:27.766Z"
   },
   {
    "duration": 7,
    "start_time": "2024-05-30T16:24:59.270Z"
   },
   {
    "duration": 4,
    "start_time": "2024-05-30T16:58:00.814Z"
   },
   {
    "duration": 16,
    "start_time": "2024-05-30T16:58:10.922Z"
   },
   {
    "duration": 8,
    "start_time": "2024-05-30T17:02:40.440Z"
   },
   {
    "duration": 5,
    "start_time": "2024-05-30T17:04:33.463Z"
   },
   {
    "duration": 18,
    "start_time": "2024-05-30T17:04:37.577Z"
   },
   {
    "duration": 6,
    "start_time": "2024-05-30T17:04:55.456Z"
   },
   {
    "duration": 5,
    "start_time": "2024-05-30T17:05:13.176Z"
   },
   {
    "duration": 16,
    "start_time": "2024-05-30T17:05:18.252Z"
   },
   {
    "duration": 11,
    "start_time": "2024-05-30T17:07:26.479Z"
   },
   {
    "duration": 17,
    "start_time": "2024-05-30T17:07:32.720Z"
   },
   {
    "duration": 19,
    "start_time": "2024-05-30T17:07:40.977Z"
   },
   {
    "duration": 5,
    "start_time": "2024-05-30T17:09:04.599Z"
   },
   {
    "duration": 7,
    "start_time": "2024-05-30T17:10:32.615Z"
   },
   {
    "duration": 18,
    "start_time": "2024-05-30T17:10:44.014Z"
   },
   {
    "duration": 400,
    "start_time": "2024-05-30T17:10:58.695Z"
   },
   {
    "duration": 6,
    "start_time": "2024-05-30T17:11:17.412Z"
   },
   {
    "duration": 8,
    "start_time": "2024-05-30T17:11:37.158Z"
   },
   {
    "duration": 6,
    "start_time": "2024-05-30T17:12:20.700Z"
   },
   {
    "duration": 11,
    "start_time": "2024-05-30T17:12:55.957Z"
   },
   {
    "duration": 7,
    "start_time": "2024-05-30T17:13:32.475Z"
   },
   {
    "duration": 4,
    "start_time": "2024-05-30T17:13:56.239Z"
   },
   {
    "duration": 1179,
    "start_time": "2024-05-30T17:14:02.597Z"
   },
   {
    "duration": 25,
    "start_time": "2024-05-30T17:14:03.779Z"
   },
   {
    "duration": 29,
    "start_time": "2024-05-30T17:14:03.807Z"
   },
   {
    "duration": 27,
    "start_time": "2024-05-30T17:14:03.841Z"
   },
   {
    "duration": 4,
    "start_time": "2024-05-30T17:14:03.872Z"
   },
   {
    "duration": 6,
    "start_time": "2024-05-30T17:14:03.880Z"
   },
   {
    "duration": 56,
    "start_time": "2024-05-30T17:14:03.888Z"
   },
   {
    "duration": 10,
    "start_time": "2024-05-30T17:14:03.947Z"
   },
   {
    "duration": 8,
    "start_time": "2024-05-30T17:14:03.960Z"
   },
   {
    "duration": 5,
    "start_time": "2024-05-30T17:14:03.972Z"
   },
   {
    "duration": 6,
    "start_time": "2024-05-30T17:14:03.980Z"
   },
   {
    "duration": 55,
    "start_time": "2024-05-30T17:14:03.989Z"
   },
   {
    "duration": 14,
    "start_time": "2024-05-30T17:14:04.047Z"
   },
   {
    "duration": 22,
    "start_time": "2024-05-30T17:14:04.064Z"
   },
   {
    "duration": 43,
    "start_time": "2024-05-30T17:14:04.089Z"
   },
   {
    "duration": 10,
    "start_time": "2024-05-30T17:14:04.135Z"
   },
   {
    "duration": 1176,
    "start_time": "2024-05-30T17:20:08.472Z"
   },
   {
    "duration": 28,
    "start_time": "2024-05-30T17:20:09.653Z"
   },
   {
    "duration": 20,
    "start_time": "2024-05-30T17:20:09.684Z"
   },
   {
    "duration": 30,
    "start_time": "2024-05-30T17:20:09.732Z"
   },
   {
    "duration": 5,
    "start_time": "2024-05-30T17:20:09.765Z"
   },
   {
    "duration": 5,
    "start_time": "2024-05-30T17:20:09.774Z"
   },
   {
    "duration": 56,
    "start_time": "2024-05-30T17:20:09.782Z"
   },
   {
    "duration": 6,
    "start_time": "2024-05-30T17:20:09.842Z"
   },
   {
    "duration": 8,
    "start_time": "2024-05-30T17:20:09.852Z"
   },
   {
    "duration": 4,
    "start_time": "2024-05-30T17:20:09.865Z"
   },
   {
    "duration": 6,
    "start_time": "2024-05-30T17:20:09.874Z"
   },
   {
    "duration": 61,
    "start_time": "2024-05-30T17:20:09.883Z"
   },
   {
    "duration": 13,
    "start_time": "2024-05-30T17:20:09.947Z"
   },
   {
    "duration": 21,
    "start_time": "2024-05-30T17:20:09.963Z"
   },
   {
    "duration": 5,
    "start_time": "2024-05-30T17:20:09.987Z"
   },
   {
    "duration": 8,
    "start_time": "2024-05-30T17:20:10.031Z"
   },
   {
    "duration": 442,
    "start_time": "2024-05-30T17:20:10.042Z"
   },
   {
    "duration": 1188,
    "start_time": "2024-05-30T17:21:25.185Z"
   },
   {
    "duration": 25,
    "start_time": "2024-05-30T17:21:26.377Z"
   },
   {
    "duration": 31,
    "start_time": "2024-05-30T17:21:26.405Z"
   },
   {
    "duration": 28,
    "start_time": "2024-05-30T17:21:26.438Z"
   },
   {
    "duration": 5,
    "start_time": "2024-05-30T17:21:26.470Z"
   },
   {
    "duration": 6,
    "start_time": "2024-05-30T17:21:26.479Z"
   },
   {
    "duration": 55,
    "start_time": "2024-05-30T17:21:26.488Z"
   },
   {
    "duration": 7,
    "start_time": "2024-05-30T17:21:26.546Z"
   },
   {
    "duration": 8,
    "start_time": "2024-05-30T17:21:26.556Z"
   },
   {
    "duration": 6,
    "start_time": "2024-05-30T17:21:26.566Z"
   },
   {
    "duration": 5,
    "start_time": "2024-05-30T17:21:26.576Z"
   },
   {
    "duration": 15,
    "start_time": "2024-05-30T17:21:26.631Z"
   },
   {
    "duration": 12,
    "start_time": "2024-05-30T17:21:26.649Z"
   },
   {
    "duration": 20,
    "start_time": "2024-05-30T17:21:26.666Z"
   },
   {
    "duration": 42,
    "start_time": "2024-05-30T17:21:26.688Z"
   },
   {
    "duration": 13,
    "start_time": "2024-05-30T17:21:26.733Z"
   },
   {
    "duration": 83,
    "start_time": "2024-05-30T17:21:26.748Z"
   },
   {
    "duration": 1186,
    "start_time": "2024-05-30T17:22:36.713Z"
   },
   {
    "duration": 36,
    "start_time": "2024-05-30T17:22:37.903Z"
   },
   {
    "duration": 17,
    "start_time": "2024-05-30T17:22:37.942Z"
   },
   {
    "duration": 28,
    "start_time": "2024-05-30T17:22:37.962Z"
   },
   {
    "duration": 4,
    "start_time": "2024-05-30T17:22:37.994Z"
   },
   {
    "duration": 6,
    "start_time": "2024-05-30T17:22:38.031Z"
   },
   {
    "duration": 16,
    "start_time": "2024-05-30T17:22:38.041Z"
   },
   {
    "duration": 6,
    "start_time": "2024-05-30T17:22:38.060Z"
   },
   {
    "duration": 9,
    "start_time": "2024-05-30T17:22:38.069Z"
   },
   {
    "duration": 48,
    "start_time": "2024-05-30T17:22:38.081Z"
   },
   {
    "duration": 6,
    "start_time": "2024-05-30T17:22:38.132Z"
   },
   {
    "duration": 15,
    "start_time": "2024-05-30T17:22:38.141Z"
   },
   {
    "duration": 12,
    "start_time": "2024-05-30T17:22:38.159Z"
   },
   {
    "duration": 57,
    "start_time": "2024-05-30T17:22:38.177Z"
   },
   {
    "duration": 6,
    "start_time": "2024-05-30T17:22:38.237Z"
   },
   {
    "duration": 7,
    "start_time": "2024-05-30T17:22:38.246Z"
   },
   {
    "duration": 98,
    "start_time": "2024-05-30T17:22:38.256Z"
   },
   {
    "duration": 1204,
    "start_time": "2024-05-30T17:23:02.475Z"
   },
   {
    "duration": 25,
    "start_time": "2024-05-30T17:23:03.682Z"
   },
   {
    "duration": 17,
    "start_time": "2024-05-30T17:23:03.731Z"
   },
   {
    "duration": 28,
    "start_time": "2024-05-30T17:23:03.751Z"
   },
   {
    "duration": 4,
    "start_time": "2024-05-30T17:23:03.782Z"
   },
   {
    "duration": 43,
    "start_time": "2024-05-30T17:23:03.790Z"
   },
   {
    "duration": 18,
    "start_time": "2024-05-30T17:23:03.837Z"
   },
   {
    "duration": 7,
    "start_time": "2024-05-30T17:23:03.858Z"
   },
   {
    "duration": 9,
    "start_time": "2024-05-30T17:23:03.873Z"
   },
   {
    "duration": 46,
    "start_time": "2024-05-30T17:23:03.885Z"
   },
   {
    "duration": 6,
    "start_time": "2024-05-30T17:23:03.935Z"
   },
   {
    "duration": 16,
    "start_time": "2024-05-30T17:23:03.944Z"
   },
   {
    "duration": 14,
    "start_time": "2024-05-30T17:23:03.962Z"
   },
   {
    "duration": 64,
    "start_time": "2024-05-30T17:23:03.979Z"
   },
   {
    "duration": 6,
    "start_time": "2024-05-30T17:23:04.046Z"
   },
   {
    "duration": 9,
    "start_time": "2024-05-30T17:23:04.055Z"
   },
   {
    "duration": 87,
    "start_time": "2024-05-30T17:23:04.067Z"
   },
   {
    "duration": 1171,
    "start_time": "2024-05-30T17:58:14.274Z"
   },
   {
    "duration": 27,
    "start_time": "2024-05-30T17:58:15.449Z"
   },
   {
    "duration": 18,
    "start_time": "2024-05-30T17:58:15.478Z"
   },
   {
    "duration": 50,
    "start_time": "2024-05-30T17:58:15.499Z"
   },
   {
    "duration": 4,
    "start_time": "2024-05-30T17:58:15.554Z"
   },
   {
    "duration": 6,
    "start_time": "2024-05-30T17:58:15.561Z"
   },
   {
    "duration": 18,
    "start_time": "2024-05-30T17:58:15.570Z"
   },
   {
    "duration": 45,
    "start_time": "2024-05-30T17:58:15.590Z"
   },
   {
    "duration": 9,
    "start_time": "2024-05-30T17:58:15.637Z"
   },
   {
    "duration": 5,
    "start_time": "2024-05-30T17:58:15.649Z"
   },
   {
    "duration": 6,
    "start_time": "2024-05-30T17:58:15.657Z"
   },
   {
    "duration": 17,
    "start_time": "2024-05-30T17:58:15.665Z"
   },
   {
    "duration": 12,
    "start_time": "2024-05-30T17:58:15.732Z"
   },
   {
    "duration": 20,
    "start_time": "2024-05-30T17:58:15.749Z"
   },
   {
    "duration": 6,
    "start_time": "2024-05-30T17:58:15.771Z"
   },
   {
    "duration": 9,
    "start_time": "2024-05-30T17:58:15.779Z"
   },
   {
    "duration": 435,
    "start_time": "2024-05-30T17:58:15.830Z"
   },
   {
    "duration": 0,
    "start_time": "2024-05-30T17:58:16.268Z"
   },
   {
    "duration": 52,
    "start_time": "2024-05-30T17:59:43.576Z"
   },
   {
    "duration": 30,
    "start_time": "2024-05-30T18:00:03.505Z"
   },
   {
    "duration": 1319,
    "start_time": "2024-05-30T18:00:29.754Z"
   },
   {
    "duration": 35,
    "start_time": "2024-05-30T18:00:31.077Z"
   },
   {
    "duration": 24,
    "start_time": "2024-05-30T18:00:31.115Z"
   },
   {
    "duration": 37,
    "start_time": "2024-05-30T18:00:31.143Z"
   },
   {
    "duration": 6,
    "start_time": "2024-05-30T18:00:31.187Z"
   },
   {
    "duration": 38,
    "start_time": "2024-05-30T18:00:31.198Z"
   },
   {
    "duration": 22,
    "start_time": "2024-05-30T18:00:31.239Z"
   },
   {
    "duration": 13,
    "start_time": "2024-05-30T18:00:31.264Z"
   },
   {
    "duration": 10,
    "start_time": "2024-05-30T18:00:31.281Z"
   },
   {
    "duration": 7,
    "start_time": "2024-05-30T18:00:31.332Z"
   },
   {
    "duration": 8,
    "start_time": "2024-05-30T18:00:31.342Z"
   },
   {
    "duration": 21,
    "start_time": "2024-05-30T18:00:31.354Z"
   },
   {
    "duration": 62,
    "start_time": "2024-05-30T18:00:31.378Z"
   },
   {
    "duration": 23,
    "start_time": "2024-05-30T18:00:31.445Z"
   },
   {
    "duration": 6,
    "start_time": "2024-05-30T18:00:31.474Z"
   },
   {
    "duration": 15,
    "start_time": "2024-05-30T18:00:31.483Z"
   },
   {
    "duration": 65,
    "start_time": "2024-05-30T18:00:31.501Z"
   },
   {
    "duration": 66,
    "start_time": "2024-05-30T18:00:31.570Z"
   },
   {
    "duration": 30,
    "start_time": "2024-05-30T18:03:52.326Z"
   },
   {
    "duration": 43,
    "start_time": "2024-05-30T18:04:06.843Z"
   },
   {
    "duration": 1229,
    "start_time": "2024-05-30T18:04:11.754Z"
   },
   {
    "duration": 26,
    "start_time": "2024-05-30T18:04:12.988Z"
   },
   {
    "duration": 28,
    "start_time": "2024-05-30T18:04:13.017Z"
   },
   {
    "duration": 28,
    "start_time": "2024-05-30T18:04:13.048Z"
   },
   {
    "duration": 5,
    "start_time": "2024-05-30T18:04:13.080Z"
   },
   {
    "duration": 6,
    "start_time": "2024-05-30T18:04:13.088Z"
   },
   {
    "duration": 18,
    "start_time": "2024-05-30T18:04:13.130Z"
   },
   {
    "duration": 7,
    "start_time": "2024-05-30T18:04:13.150Z"
   },
   {
    "duration": 7,
    "start_time": "2024-05-30T18:04:13.161Z"
   },
   {
    "duration": 5,
    "start_time": "2024-05-30T18:04:13.171Z"
   },
   {
    "duration": 53,
    "start_time": "2024-05-30T18:04:13.179Z"
   },
   {
    "duration": 15,
    "start_time": "2024-05-30T18:04:13.235Z"
   },
   {
    "duration": 16,
    "start_time": "2024-05-30T18:04:13.253Z"
   },
   {
    "duration": 21,
    "start_time": "2024-05-30T18:04:13.275Z"
   },
   {
    "duration": 34,
    "start_time": "2024-05-30T18:04:13.298Z"
   },
   {
    "duration": 10,
    "start_time": "2024-05-30T18:04:13.336Z"
   },
   {
    "duration": 30,
    "start_time": "2024-05-30T18:04:13.351Z"
   },
   {
    "duration": 73,
    "start_time": "2024-05-30T18:04:13.384Z"
   },
   {
    "duration": 12,
    "start_time": "2024-05-30T18:07:06.874Z"
   },
   {
    "duration": 1131,
    "start_time": "2024-05-30T18:07:16.180Z"
   },
   {
    "duration": 28,
    "start_time": "2024-05-30T18:07:17.314Z"
   },
   {
    "duration": 21,
    "start_time": "2024-05-30T18:07:17.345Z"
   },
   {
    "duration": 60,
    "start_time": "2024-05-30T18:07:17.370Z"
   },
   {
    "duration": 4,
    "start_time": "2024-05-30T18:07:17.435Z"
   },
   {
    "duration": 6,
    "start_time": "2024-05-30T18:07:17.443Z"
   },
   {
    "duration": 17,
    "start_time": "2024-05-30T18:07:17.452Z"
   },
   {
    "duration": 7,
    "start_time": "2024-05-30T18:07:17.473Z"
   },
   {
    "duration": 52,
    "start_time": "2024-05-30T18:07:17.484Z"
   },
   {
    "duration": 8,
    "start_time": "2024-05-30T18:07:17.538Z"
   },
   {
    "duration": 7,
    "start_time": "2024-05-30T18:07:17.550Z"
   },
   {
    "duration": 27,
    "start_time": "2024-05-30T18:07:17.560Z"
   },
   {
    "duration": 46,
    "start_time": "2024-05-30T18:07:17.590Z"
   },
   {
    "duration": 19,
    "start_time": "2024-05-30T18:07:17.640Z"
   },
   {
    "duration": 6,
    "start_time": "2024-05-30T18:07:17.662Z"
   },
   {
    "duration": 8,
    "start_time": "2024-05-30T18:07:17.674Z"
   },
   {
    "duration": 49,
    "start_time": "2024-05-30T18:07:17.684Z"
   },
   {
    "duration": 32,
    "start_time": "2024-05-30T18:07:17.735Z"
   },
   {
    "duration": 66,
    "start_time": "2024-05-30T18:07:17.770Z"
   },
   {
    "duration": 428,
    "start_time": "2024-05-30T18:15:41.443Z"
   },
   {
    "duration": 5232,
    "start_time": "2024-05-30T18:15:49.214Z"
   },
   {
    "duration": 28,
    "start_time": "2024-05-30T18:15:54.449Z"
   },
   {
    "duration": 18,
    "start_time": "2024-05-30T18:15:54.481Z"
   },
   {
    "duration": 48,
    "start_time": "2024-05-30T18:15:54.504Z"
   },
   {
    "duration": 5,
    "start_time": "2024-05-30T18:15:54.555Z"
   },
   {
    "duration": 6,
    "start_time": "2024-05-30T18:15:54.563Z"
   },
   {
    "duration": 17,
    "start_time": "2024-05-30T18:15:54.573Z"
   },
   {
    "duration": 7,
    "start_time": "2024-05-30T18:15:54.631Z"
   },
   {
    "duration": 8,
    "start_time": "2024-05-30T18:15:54.641Z"
   },
   {
    "duration": 5,
    "start_time": "2024-05-30T18:15:54.655Z"
   },
   {
    "duration": 6,
    "start_time": "2024-05-30T18:15:54.663Z"
   },
   {
    "duration": 64,
    "start_time": "2024-05-30T18:15:54.674Z"
   },
   {
    "duration": 12,
    "start_time": "2024-05-30T18:15:54.740Z"
   },
   {
    "duration": 24,
    "start_time": "2024-05-30T18:15:54.755Z"
   },
   {
    "duration": 6,
    "start_time": "2024-05-30T18:15:54.784Z"
   },
   {
    "duration": 698,
    "start_time": "2024-05-30T18:15:54.794Z"
   },
   {
    "duration": 0,
    "start_time": "2024-05-30T18:15:55.494Z"
   },
   {
    "duration": 0,
    "start_time": "2024-05-30T18:15:55.496Z"
   },
   {
    "duration": 0,
    "start_time": "2024-05-30T18:15:55.499Z"
   },
   {
    "duration": 1588,
    "start_time": "2024-05-30T18:16:56.221Z"
   },
   {
    "duration": 31,
    "start_time": "2024-05-30T18:16:57.813Z"
   },
   {
    "duration": 18,
    "start_time": "2024-05-30T18:16:57.847Z"
   },
   {
    "duration": 26,
    "start_time": "2024-05-30T18:16:57.867Z"
   },
   {
    "duration": 32,
    "start_time": "2024-05-30T18:16:57.899Z"
   },
   {
    "duration": 7,
    "start_time": "2024-05-30T18:16:57.934Z"
   },
   {
    "duration": 16,
    "start_time": "2024-05-30T18:16:57.944Z"
   },
   {
    "duration": 7,
    "start_time": "2024-05-30T18:16:57.963Z"
   },
   {
    "duration": 57,
    "start_time": "2024-05-30T18:16:57.973Z"
   },
   {
    "duration": 5,
    "start_time": "2024-05-30T18:16:58.034Z"
   },
   {
    "duration": 5,
    "start_time": "2024-05-30T18:16:58.042Z"
   },
   {
    "duration": 16,
    "start_time": "2024-05-30T18:16:58.050Z"
   },
   {
    "duration": 14,
    "start_time": "2024-05-30T18:16:58.069Z"
   },
   {
    "duration": 19,
    "start_time": "2024-05-30T18:16:58.132Z"
   },
   {
    "duration": 5,
    "start_time": "2024-05-30T18:16:58.154Z"
   },
   {
    "duration": 204,
    "start_time": "2024-05-30T18:16:58.162Z"
   },
   {
    "duration": 8,
    "start_time": "2024-05-30T18:16:58.369Z"
   },
   {
    "duration": 50,
    "start_time": "2024-05-30T18:16:58.380Z"
   },
   {
    "duration": 38,
    "start_time": "2024-05-30T18:16:58.434Z"
   },
   {
    "duration": 1573,
    "start_time": "2024-05-30T18:22:44.258Z"
   },
   {
    "duration": 26,
    "start_time": "2024-05-30T18:22:45.835Z"
   },
   {
    "duration": 17,
    "start_time": "2024-05-30T18:22:45.865Z"
   },
   {
    "duration": 57,
    "start_time": "2024-05-30T18:22:45.885Z"
   },
   {
    "duration": 5,
    "start_time": "2024-05-30T18:22:45.946Z"
   },
   {
    "duration": 8,
    "start_time": "2024-05-30T18:22:45.957Z"
   },
   {
    "duration": 18,
    "start_time": "2024-05-30T18:22:45.968Z"
   },
   {
    "duration": 45,
    "start_time": "2024-05-30T18:22:45.990Z"
   },
   {
    "duration": 9,
    "start_time": "2024-05-30T18:22:46.038Z"
   },
   {
    "duration": 6,
    "start_time": "2024-05-30T18:22:46.051Z"
   },
   {
    "duration": 5,
    "start_time": "2024-05-30T18:22:46.060Z"
   },
   {
    "duration": 19,
    "start_time": "2024-05-30T18:22:46.068Z"
   },
   {
    "duration": 48,
    "start_time": "2024-05-30T18:22:46.090Z"
   },
   {
    "duration": 21,
    "start_time": "2024-05-30T18:22:46.145Z"
   },
   {
    "duration": 5,
    "start_time": "2024-05-30T18:22:46.170Z"
   },
   {
    "duration": 220,
    "start_time": "2024-05-30T18:22:46.178Z"
   },
   {
    "duration": 8,
    "start_time": "2024-05-30T18:22:46.401Z"
   },
   {
    "duration": 44,
    "start_time": "2024-05-30T18:22:46.412Z"
   },
   {
    "duration": 72,
    "start_time": "2024-05-30T18:22:46.459Z"
   },
   {
    "duration": 10,
    "start_time": "2024-05-30T18:23:53.752Z"
   },
   {
    "duration": 10,
    "start_time": "2024-05-30T18:24:59.004Z"
   },
   {
    "duration": 5481,
    "start_time": "2024-05-30T19:42:25.328Z"
   },
   {
    "duration": 41,
    "start_time": "2024-05-30T19:42:30.813Z"
   },
   {
    "duration": 17,
    "start_time": "2024-05-30T19:42:30.857Z"
   },
   {
    "duration": 25,
    "start_time": "2024-05-30T19:42:30.877Z"
   },
   {
    "duration": 27,
    "start_time": "2024-05-30T19:42:30.906Z"
   },
   {
    "duration": 8,
    "start_time": "2024-05-30T19:42:30.935Z"
   },
   {
    "duration": 19,
    "start_time": "2024-05-30T19:42:30.949Z"
   },
   {
    "duration": 9,
    "start_time": "2024-05-30T19:42:30.972Z"
   },
   {
    "duration": 51,
    "start_time": "2024-05-30T19:42:30.984Z"
   },
   {
    "duration": 5,
    "start_time": "2024-05-30T19:42:31.038Z"
   },
   {
    "duration": 7,
    "start_time": "2024-05-30T19:42:31.047Z"
   },
   {
    "duration": 16,
    "start_time": "2024-05-30T19:42:31.060Z"
   },
   {
    "duration": 54,
    "start_time": "2024-05-30T19:42:31.079Z"
   },
   {
    "duration": 20,
    "start_time": "2024-05-30T19:42:31.140Z"
   },
   {
    "duration": 5,
    "start_time": "2024-05-30T19:42:31.163Z"
   },
   {
    "duration": 217,
    "start_time": "2024-05-30T19:42:31.171Z"
   },
   {
    "duration": 12,
    "start_time": "2024-05-30T19:42:31.391Z"
   },
   {
    "duration": 57,
    "start_time": "2024-05-30T19:42:31.406Z"
   },
   {
    "duration": 69,
    "start_time": "2024-05-30T19:42:31.466Z"
   },
   {
    "duration": 8,
    "start_time": "2024-05-30T19:44:05.654Z"
   },
   {
    "duration": 1589,
    "start_time": "2024-05-30T19:44:10.738Z"
   },
   {
    "duration": 26,
    "start_time": "2024-05-30T19:44:12.332Z"
   },
   {
    "duration": 17,
    "start_time": "2024-05-30T19:44:12.361Z"
   },
   {
    "duration": 52,
    "start_time": "2024-05-30T19:44:12.382Z"
   },
   {
    "duration": 11,
    "start_time": "2024-05-30T19:44:12.437Z"
   },
   {
    "duration": 17,
    "start_time": "2024-05-30T19:44:12.450Z"
   },
   {
    "duration": 7,
    "start_time": "2024-05-30T19:44:12.472Z"
   },
   {
    "duration": 8,
    "start_time": "2024-05-30T19:44:12.482Z"
   },
   {
    "duration": 5,
    "start_time": "2024-05-30T19:44:12.532Z"
   },
   {
    "duration": 6,
    "start_time": "2024-05-30T19:44:12.544Z"
   },
   {
    "duration": 16,
    "start_time": "2024-05-30T19:44:12.553Z"
   },
   {
    "duration": 12,
    "start_time": "2024-05-30T19:44:12.572Z"
   },
   {
    "duration": 66,
    "start_time": "2024-05-30T19:44:12.587Z"
   },
   {
    "duration": 5,
    "start_time": "2024-05-30T19:44:12.656Z"
   },
   {
    "duration": 220,
    "start_time": "2024-05-30T19:44:12.664Z"
   },
   {
    "duration": 11,
    "start_time": "2024-05-30T19:44:12.888Z"
   },
   {
    "duration": 54,
    "start_time": "2024-05-30T19:44:12.903Z"
   },
   {
    "duration": 72,
    "start_time": "2024-05-30T19:44:12.960Z"
   },
   {
    "duration": 1528,
    "start_time": "2024-05-30T19:56:37.657Z"
   },
   {
    "duration": 26,
    "start_time": "2024-05-30T19:56:39.188Z"
   },
   {
    "duration": 29,
    "start_time": "2024-05-30T19:56:39.217Z"
   },
   {
    "duration": 25,
    "start_time": "2024-05-30T19:56:39.249Z"
   },
   {
    "duration": 8,
    "start_time": "2024-05-30T19:56:39.278Z"
   },
   {
    "duration": 51,
    "start_time": "2024-05-30T19:56:39.289Z"
   },
   {
    "duration": 8,
    "start_time": "2024-05-30T19:56:39.343Z"
   },
   {
    "duration": 9,
    "start_time": "2024-05-30T19:56:39.354Z"
   },
   {
    "duration": 6,
    "start_time": "2024-05-30T19:56:39.366Z"
   },
   {
    "duration": 6,
    "start_time": "2024-05-30T19:56:39.375Z"
   },
   {
    "duration": 17,
    "start_time": "2024-05-30T19:56:39.433Z"
   },
   {
    "duration": 13,
    "start_time": "2024-05-30T19:56:39.452Z"
   },
   {
    "duration": 20,
    "start_time": "2024-05-30T19:56:39.467Z"
   },
   {
    "duration": 5,
    "start_time": "2024-05-30T19:56:39.533Z"
   },
   {
    "duration": 191,
    "start_time": "2024-05-30T19:56:39.542Z"
   },
   {
    "duration": 11,
    "start_time": "2024-05-30T19:56:39.735Z"
   },
   {
    "duration": 31,
    "start_time": "2024-05-30T19:56:39.748Z"
   },
   {
    "duration": 70,
    "start_time": "2024-05-30T19:56:39.782Z"
   },
   {
    "duration": 68,
    "start_time": "2024-05-30T20:30:27.649Z"
   },
   {
    "duration": 1877,
    "start_time": "2024-05-30T20:32:08.637Z"
   },
   {
    "duration": 30,
    "start_time": "2024-05-30T20:32:10.517Z"
   },
   {
    "duration": 17,
    "start_time": "2024-05-30T20:32:10.552Z"
   },
   {
    "duration": 27,
    "start_time": "2024-05-30T20:32:10.573Z"
   },
   {
    "duration": 32,
    "start_time": "2024-05-30T20:32:10.604Z"
   },
   {
    "duration": 18,
    "start_time": "2024-05-30T20:32:10.639Z"
   },
   {
    "duration": 8,
    "start_time": "2024-05-30T20:32:10.661Z"
   },
   {
    "duration": 8,
    "start_time": "2024-05-30T20:32:10.673Z"
   },
   {
    "duration": 53,
    "start_time": "2024-05-30T20:32:10.684Z"
   },
   {
    "duration": 5,
    "start_time": "2024-05-30T20:32:10.742Z"
   },
   {
    "duration": 14,
    "start_time": "2024-05-30T20:32:10.751Z"
   },
   {
    "duration": 11,
    "start_time": "2024-05-30T20:32:10.769Z"
   },
   {
    "duration": 64,
    "start_time": "2024-05-30T20:32:10.782Z"
   },
   {
    "duration": 5,
    "start_time": "2024-05-30T20:32:10.849Z"
   },
   {
    "duration": 190,
    "start_time": "2024-05-30T20:32:10.857Z"
   },
   {
    "duration": 10,
    "start_time": "2024-05-30T20:32:11.050Z"
   },
   {
    "duration": 31,
    "start_time": "2024-05-30T20:32:11.062Z"
   },
   {
    "duration": 93,
    "start_time": "2024-05-30T20:32:11.096Z"
   },
   {
    "duration": 1581,
    "start_time": "2024-05-30T20:32:33.901Z"
   },
   {
    "duration": 24,
    "start_time": "2024-05-30T20:32:35.485Z"
   },
   {
    "duration": 32,
    "start_time": "2024-05-30T20:32:35.511Z"
   },
   {
    "duration": 24,
    "start_time": "2024-05-30T20:32:35.547Z"
   },
   {
    "duration": 7,
    "start_time": "2024-05-30T20:32:35.574Z"
   },
   {
    "duration": 50,
    "start_time": "2024-05-30T20:32:35.584Z"
   },
   {
    "duration": 11,
    "start_time": "2024-05-30T20:32:35.638Z"
   },
   {
    "duration": 8,
    "start_time": "2024-05-30T20:32:35.652Z"
   },
   {
    "duration": 5,
    "start_time": "2024-05-30T20:32:35.664Z"
   },
   {
    "duration": 6,
    "start_time": "2024-05-30T20:32:35.676Z"
   },
   {
    "duration": 57,
    "start_time": "2024-05-30T20:32:35.685Z"
   },
   {
    "duration": 12,
    "start_time": "2024-05-30T20:32:35.745Z"
   },
   {
    "duration": 20,
    "start_time": "2024-05-30T20:32:35.760Z"
   },
   {
    "duration": 5,
    "start_time": "2024-05-30T20:32:35.783Z"
   },
   {
    "duration": 180,
    "start_time": "2024-05-30T20:32:35.833Z"
   },
   {
    "duration": 20,
    "start_time": "2024-05-30T20:32:36.016Z"
   },
   {
    "duration": 30,
    "start_time": "2024-05-30T20:32:36.040Z"
   },
   {
    "duration": 62,
    "start_time": "2024-05-30T20:32:36.073Z"
   },
   {
    "duration": 138,
    "start_time": "2024-05-30T20:32:36.137Z"
   },
   {
    "duration": 7,
    "start_time": "2024-05-30T20:42:22.555Z"
   },
   {
    "duration": 7,
    "start_time": "2024-05-30T20:42:50.432Z"
   },
   {
    "duration": 96,
    "start_time": "2024-05-30T20:44:50.119Z"
   },
   {
    "duration": 107,
    "start_time": "2024-05-30T20:45:00.363Z"
   },
   {
    "duration": 33,
    "start_time": "2024-05-30T20:46:09.862Z"
   },
   {
    "duration": 36,
    "start_time": "2024-05-30T20:54:00.708Z"
   },
   {
    "duration": 111,
    "start_time": "2024-05-30T20:54:26.376Z"
   },
   {
    "duration": 37,
    "start_time": "2024-05-30T20:56:04.188Z"
   },
   {
    "duration": 1589,
    "start_time": "2024-05-30T21:19:44.846Z"
   },
   {
    "duration": 25,
    "start_time": "2024-05-30T21:19:46.439Z"
   },
   {
    "duration": 18,
    "start_time": "2024-05-30T21:19:46.466Z"
   },
   {
    "duration": 52,
    "start_time": "2024-05-30T21:19:46.489Z"
   },
   {
    "duration": 10,
    "start_time": "2024-05-30T21:19:46.544Z"
   },
   {
    "duration": 20,
    "start_time": "2024-05-30T21:19:46.557Z"
   },
   {
    "duration": 9,
    "start_time": "2024-05-30T21:19:46.580Z"
   },
   {
    "duration": 44,
    "start_time": "2024-05-30T21:19:46.592Z"
   },
   {
    "duration": 5,
    "start_time": "2024-05-30T21:19:46.639Z"
   },
   {
    "duration": 5,
    "start_time": "2024-05-30T21:19:46.649Z"
   },
   {
    "duration": 17,
    "start_time": "2024-05-30T21:19:46.657Z"
   },
   {
    "duration": 11,
    "start_time": "2024-05-30T21:19:46.678Z"
   },
   {
    "duration": 59,
    "start_time": "2024-05-30T21:19:46.692Z"
   },
   {
    "duration": 6,
    "start_time": "2024-05-30T21:19:46.754Z"
   },
   {
    "duration": 221,
    "start_time": "2024-05-30T21:19:46.763Z"
   },
   {
    "duration": 11,
    "start_time": "2024-05-30T21:19:46.987Z"
   },
   {
    "duration": 55,
    "start_time": "2024-05-30T21:19:47.000Z"
   },
   {
    "duration": 35,
    "start_time": "2024-05-30T21:19:47.058Z"
   },
   {
    "duration": 108,
    "start_time": "2024-05-30T21:19:47.135Z"
   },
   {
    "duration": 215,
    "start_time": "2024-05-30T21:19:47.246Z"
   },
   {
    "duration": 8,
    "start_time": "2024-05-30T21:19:47.464Z"
   },
   {
    "duration": 143,
    "start_time": "2024-05-30T21:19:47.475Z"
   },
   {
    "duration": 39,
    "start_time": "2024-05-30T21:19:47.622Z"
   },
   {
    "duration": 5096,
    "start_time": "2024-05-30T23:25:56.394Z"
   },
   {
    "duration": 43,
    "start_time": "2024-05-30T23:26:01.493Z"
   },
   {
    "duration": 22,
    "start_time": "2024-05-30T23:26:01.540Z"
   },
   {
    "duration": 26,
    "start_time": "2024-05-30T23:26:01.565Z"
   },
   {
    "duration": 41,
    "start_time": "2024-05-30T23:26:01.596Z"
   },
   {
    "duration": 19,
    "start_time": "2024-05-30T23:26:01.641Z"
   },
   {
    "duration": 9,
    "start_time": "2024-05-30T23:26:01.665Z"
   },
   {
    "duration": 10,
    "start_time": "2024-05-30T23:26:01.677Z"
   },
   {
    "duration": 48,
    "start_time": "2024-05-30T23:26:01.690Z"
   },
   {
    "duration": 6,
    "start_time": "2024-05-30T23:26:01.741Z"
   },
   {
    "duration": 15,
    "start_time": "2024-05-30T23:26:01.751Z"
   },
   {
    "duration": 12,
    "start_time": "2024-05-30T23:26:01.769Z"
   },
   {
    "duration": 63,
    "start_time": "2024-05-30T23:26:01.784Z"
   },
   {
    "duration": 6,
    "start_time": "2024-05-30T23:26:01.852Z"
   },
   {
    "duration": 202,
    "start_time": "2024-05-30T23:26:01.861Z"
   },
   {
    "duration": 9,
    "start_time": "2024-05-30T23:26:02.068Z"
   },
   {
    "duration": 30,
    "start_time": "2024-05-30T23:26:02.080Z"
   },
   {
    "duration": 36,
    "start_time": "2024-05-30T23:26:02.133Z"
   },
   {
    "duration": 81,
    "start_time": "2024-05-30T23:26:02.172Z"
   },
   {
    "duration": 214,
    "start_time": "2024-05-30T23:26:02.256Z"
   },
   {
    "duration": 9,
    "start_time": "2024-05-30T23:26:02.473Z"
   },
   {
    "duration": 133,
    "start_time": "2024-05-30T23:26:02.484Z"
   },
   {
    "duration": 39,
    "start_time": "2024-05-30T23:26:02.620Z"
   },
   {
    "duration": 5203,
    "start_time": "2024-05-31T00:38:45.820Z"
   },
   {
    "duration": 30,
    "start_time": "2024-05-31T00:38:51.027Z"
   },
   {
    "duration": 18,
    "start_time": "2024-05-31T00:38:51.060Z"
   },
   {
    "duration": 41,
    "start_time": "2024-05-31T00:38:51.083Z"
   },
   {
    "duration": 6,
    "start_time": "2024-05-31T00:38:51.130Z"
   },
   {
    "duration": 18,
    "start_time": "2024-05-31T00:38:51.139Z"
   },
   {
    "duration": 7,
    "start_time": "2024-05-31T00:38:51.159Z"
   },
   {
    "duration": 8,
    "start_time": "2024-05-31T00:38:51.207Z"
   },
   {
    "duration": 6,
    "start_time": "2024-05-31T00:38:51.217Z"
   },
   {
    "duration": 6,
    "start_time": "2024-05-31T00:38:51.228Z"
   },
   {
    "duration": 15,
    "start_time": "2024-05-31T00:38:51.237Z"
   },
   {
    "duration": 59,
    "start_time": "2024-05-31T00:38:51.254Z"
   },
   {
    "duration": 23,
    "start_time": "2024-05-31T00:38:51.316Z"
   },
   {
    "duration": 5,
    "start_time": "2024-05-31T00:38:51.342Z"
   },
   {
    "duration": 208,
    "start_time": "2024-05-31T00:38:51.350Z"
   },
   {
    "duration": 10,
    "start_time": "2024-05-31T00:38:51.561Z"
   },
   {
    "duration": 47,
    "start_time": "2024-05-31T00:38:51.576Z"
   },
   {
    "duration": 30,
    "start_time": "2024-05-31T00:38:51.626Z"
   },
   {
    "duration": 152,
    "start_time": "2024-05-31T00:38:51.659Z"
   },
   {
    "duration": 138,
    "start_time": "2024-05-31T00:38:51.813Z"
   },
   {
    "duration": 8,
    "start_time": "2024-05-31T00:38:52.005Z"
   },
   {
    "duration": 126,
    "start_time": "2024-05-31T00:38:52.016Z"
   },
   {
    "duration": 35,
    "start_time": "2024-05-31T00:38:52.145Z"
   },
   {
    "duration": 5,
    "start_time": "2024-05-31T00:42:42.743Z"
   },
   {
    "duration": 18,
    "start_time": "2024-05-31T00:43:54.083Z"
   },
   {
    "duration": 681,
    "start_time": "2024-05-31T00:45:41.608Z"
   },
   {
    "duration": 76,
    "start_time": "2024-05-31T00:46:20.331Z"
   },
   {
    "duration": 1587,
    "start_time": "2024-05-31T00:49:47.775Z"
   },
   {
    "duration": 25,
    "start_time": "2024-05-31T00:49:49.366Z"
   },
   {
    "duration": 26,
    "start_time": "2024-05-31T00:49:49.394Z"
   },
   {
    "duration": 25,
    "start_time": "2024-05-31T00:49:49.424Z"
   },
   {
    "duration": 7,
    "start_time": "2024-05-31T00:49:49.452Z"
   },
   {
    "duration": 56,
    "start_time": "2024-05-31T00:49:49.461Z"
   },
   {
    "duration": 7,
    "start_time": "2024-05-31T00:49:49.520Z"
   },
   {
    "duration": 8,
    "start_time": "2024-05-31T00:49:49.530Z"
   },
   {
    "duration": 7,
    "start_time": "2024-05-31T00:49:49.541Z"
   },
   {
    "duration": 6,
    "start_time": "2024-05-31T00:49:49.554Z"
   },
   {
    "duration": 17,
    "start_time": "2024-05-31T00:49:49.610Z"
   },
   {
    "duration": 12,
    "start_time": "2024-05-31T00:49:49.630Z"
   },
   {
    "duration": 22,
    "start_time": "2024-05-31T00:49:49.644Z"
   },
   {
    "duration": 39,
    "start_time": "2024-05-31T00:49:49.669Z"
   },
   {
    "duration": 189,
    "start_time": "2024-05-31T00:49:49.712Z"
   },
   {
    "duration": 9,
    "start_time": "2024-05-31T00:49:49.908Z"
   },
   {
    "duration": 30,
    "start_time": "2024-05-31T00:49:49.921Z"
   },
   {
    "duration": 63,
    "start_time": "2024-05-31T00:49:49.954Z"
   },
   {
    "duration": 108,
    "start_time": "2024-05-31T00:49:50.021Z"
   },
   {
    "duration": 138,
    "start_time": "2024-05-31T00:49:50.207Z"
   },
   {
    "duration": 8,
    "start_time": "2024-05-31T00:49:50.348Z"
   },
   {
    "duration": 140,
    "start_time": "2024-05-31T00:49:50.359Z"
   },
   {
    "duration": 39,
    "start_time": "2024-05-31T00:49:50.505Z"
   },
   {
    "duration": 25,
    "start_time": "2024-05-31T00:49:50.547Z"
   },
   {
    "duration": 88,
    "start_time": "2024-05-31T00:49:50.575Z"
   },
   {
    "duration": 7,
    "start_time": "2024-05-31T00:52:25.150Z"
   },
   {
    "duration": 415,
    "start_time": "2024-05-31T00:53:09.726Z"
   },
   {
    "duration": 1614,
    "start_time": "2024-05-31T00:53:46.411Z"
   },
   {
    "duration": 25,
    "start_time": "2024-05-31T00:53:48.029Z"
   },
   {
    "duration": 17,
    "start_time": "2024-05-31T00:53:48.058Z"
   },
   {
    "duration": 49,
    "start_time": "2024-05-31T00:53:48.080Z"
   },
   {
    "duration": 7,
    "start_time": "2024-05-31T00:53:48.134Z"
   },
   {
    "duration": 17,
    "start_time": "2024-05-31T00:53:48.145Z"
   },
   {
    "duration": 43,
    "start_time": "2024-05-31T00:53:48.165Z"
   },
   {
    "duration": 15,
    "start_time": "2024-05-31T00:53:48.212Z"
   },
   {
    "duration": 6,
    "start_time": "2024-05-31T00:53:48.232Z"
   },
   {
    "duration": 6,
    "start_time": "2024-05-31T00:53:48.241Z"
   },
   {
    "duration": 17,
    "start_time": "2024-05-31T00:53:48.249Z"
   },
   {
    "duration": 15,
    "start_time": "2024-05-31T00:53:48.306Z"
   },
   {
    "duration": 20,
    "start_time": "2024-05-31T00:53:48.324Z"
   },
   {
    "duration": 5,
    "start_time": "2024-05-31T00:53:48.350Z"
   },
   {
    "duration": 214,
    "start_time": "2024-05-31T00:53:48.358Z"
   },
   {
    "duration": 11,
    "start_time": "2024-05-31T00:53:48.575Z"
   },
   {
    "duration": 51,
    "start_time": "2024-05-31T00:53:48.588Z"
   },
   {
    "duration": 65,
    "start_time": "2024-05-31T00:53:48.642Z"
   },
   {
    "duration": 118,
    "start_time": "2024-05-31T00:53:48.709Z"
   },
   {
    "duration": 208,
    "start_time": "2024-05-31T00:53:48.829Z"
   },
   {
    "duration": 7,
    "start_time": "2024-05-31T00:53:49.041Z"
   },
   {
    "duration": 133,
    "start_time": "2024-05-31T00:53:49.051Z"
   },
   {
    "duration": 39,
    "start_time": "2024-05-31T00:53:49.186Z"
   },
   {
    "duration": 19,
    "start_time": "2024-05-31T00:53:49.229Z"
   },
   {
    "duration": 97,
    "start_time": "2024-05-31T00:53:49.251Z"
   },
   {
    "duration": 55,
    "start_time": "2024-05-31T00:53:49.351Z"
   },
   {
    "duration": 511,
    "start_time": "2024-05-31T00:53:49.410Z"
   },
   {
    "duration": 6,
    "start_time": "2024-05-31T00:56:33.957Z"
   },
   {
    "duration": 28,
    "start_time": "2024-05-31T00:56:35.691Z"
   },
   {
    "duration": 16,
    "start_time": "2024-05-31T00:58:18.491Z"
   },
   {
    "duration": 21,
    "start_time": "2024-05-31T00:58:20.205Z"
   },
   {
    "duration": 29,
    "start_time": "2024-05-31T01:04:49.666Z"
   },
   {
    "duration": 14,
    "start_time": "2024-05-31T01:05:13.070Z"
   },
   {
    "duration": 54,
    "start_time": "2024-05-31T01:05:16.070Z"
   },
   {
    "duration": 14670,
    "start_time": "2024-05-31T01:05:38.730Z"
   },
   {
    "duration": 362,
    "start_time": "2024-05-31T01:08:00.010Z"
   },
   {
    "duration": 1626,
    "start_time": "2024-05-31T01:13:17.640Z"
   },
   {
    "duration": 25,
    "start_time": "2024-05-31T01:13:19.270Z"
   },
   {
    "duration": 24,
    "start_time": "2024-05-31T01:13:19.298Z"
   },
   {
    "duration": 26,
    "start_time": "2024-05-31T01:13:19.324Z"
   },
   {
    "duration": 6,
    "start_time": "2024-05-31T01:13:19.355Z"
   },
   {
    "duration": 59,
    "start_time": "2024-05-31T01:13:19.364Z"
   },
   {
    "duration": 7,
    "start_time": "2024-05-31T01:13:19.427Z"
   },
   {
    "duration": 10,
    "start_time": "2024-05-31T01:13:19.438Z"
   },
   {
    "duration": 6,
    "start_time": "2024-05-31T01:13:19.455Z"
   },
   {
    "duration": 46,
    "start_time": "2024-05-31T01:13:19.464Z"
   },
   {
    "duration": 17,
    "start_time": "2024-05-31T01:13:19.513Z"
   },
   {
    "duration": 12,
    "start_time": "2024-05-31T01:13:19.533Z"
   },
   {
    "duration": 60,
    "start_time": "2024-05-31T01:13:19.548Z"
   },
   {
    "duration": 5,
    "start_time": "2024-05-31T01:13:19.615Z"
   },
   {
    "duration": 206,
    "start_time": "2024-05-31T01:13:19.624Z"
   },
   {
    "duration": 10,
    "start_time": "2024-05-31T01:13:19.833Z"
   },
   {
    "duration": 32,
    "start_time": "2024-05-31T01:13:19.845Z"
   },
   {
    "duration": 60,
    "start_time": "2024-05-31T01:13:19.879Z"
   },
   {
    "duration": 169,
    "start_time": "2024-05-31T01:13:19.942Z"
   },
   {
    "duration": 211,
    "start_time": "2024-05-31T01:13:20.114Z"
   },
   {
    "duration": 9,
    "start_time": "2024-05-31T01:13:20.328Z"
   },
   {
    "duration": 127,
    "start_time": "2024-05-31T01:13:20.340Z"
   },
   {
    "duration": 50,
    "start_time": "2024-05-31T01:13:20.470Z"
   },
   {
    "duration": 25,
    "start_time": "2024-05-31T01:13:20.527Z"
   },
   {
    "duration": 94,
    "start_time": "2024-05-31T01:13:20.556Z"
   },
   {
    "duration": 65,
    "start_time": "2024-05-31T01:13:20.653Z"
   },
   {
    "duration": 96,
    "start_time": "2024-05-31T01:13:20.724Z"
   },
   {
    "duration": 14790,
    "start_time": "2024-05-31T01:13:20.829Z"
   },
   {
    "duration": 371,
    "start_time": "2024-05-31T01:13:35.622Z"
   },
   {
    "duration": 541,
    "start_time": "2024-05-31T01:13:43.277Z"
   },
   {
    "duration": 1655,
    "start_time": "2024-05-31T01:19:01.394Z"
   },
   {
    "duration": 24,
    "start_time": "2024-05-31T01:19:03.054Z"
   },
   {
    "duration": 34,
    "start_time": "2024-05-31T01:19:03.080Z"
   },
   {
    "duration": 26,
    "start_time": "2024-05-31T01:19:03.119Z"
   },
   {
    "duration": 7,
    "start_time": "2024-05-31T01:19:03.148Z"
   },
   {
    "duration": 53,
    "start_time": "2024-05-31T01:19:03.159Z"
   },
   {
    "duration": 8,
    "start_time": "2024-05-31T01:19:03.215Z"
   },
   {
    "duration": 8,
    "start_time": "2024-05-31T01:19:03.227Z"
   },
   {
    "duration": 5,
    "start_time": "2024-05-31T01:19:03.238Z"
   },
   {
    "duration": 7,
    "start_time": "2024-05-31T01:19:03.250Z"
   },
   {
    "duration": 60,
    "start_time": "2024-05-31T01:19:03.261Z"
   },
   {
    "duration": 12,
    "start_time": "2024-05-31T01:19:03.325Z"
   },
   {
    "duration": 20,
    "start_time": "2024-05-31T01:19:03.339Z"
   },
   {
    "duration": 43,
    "start_time": "2024-05-31T01:19:03.363Z"
   },
   {
    "duration": 186,
    "start_time": "2024-05-31T01:19:03.409Z"
   },
   {
    "duration": 10,
    "start_time": "2024-05-31T01:19:03.607Z"
   },
   {
    "duration": 30,
    "start_time": "2024-05-31T01:19:03.622Z"
   },
   {
    "duration": 63,
    "start_time": "2024-05-31T01:19:03.654Z"
   },
   {
    "duration": 107,
    "start_time": "2024-05-31T01:19:03.719Z"
   },
   {
    "duration": 21,
    "start_time": "2024-05-31T01:19:03.906Z"
   },
   {
    "duration": 141,
    "start_time": "2024-05-31T01:19:03.930Z"
   },
   {
    "duration": 17,
    "start_time": "2024-05-31T01:19:04.107Z"
   },
   {
    "duration": 90,
    "start_time": "2024-05-31T01:19:04.126Z"
   },
   {
    "duration": 14855,
    "start_time": "2024-05-31T01:19:04.218Z"
   },
   {
    "duration": 541,
    "start_time": "2024-05-31T01:19:19.076Z"
   },
   {
    "duration": 61,
    "start_time": "2024-05-31T01:19:19.619Z"
   },
   {
    "duration": 27,
    "start_time": "2024-05-31T01:19:19.684Z"
   },
   {
    "duration": 134,
    "start_time": "2024-05-31T01:19:19.717Z"
   },
   {
    "duration": 35,
    "start_time": "2024-05-31T01:19:19.855Z"
   },
   {
    "duration": 1549,
    "start_time": "2024-05-31T01:20:03.136Z"
   },
   {
    "duration": 29,
    "start_time": "2024-05-31T01:20:04.688Z"
   },
   {
    "duration": 19,
    "start_time": "2024-05-31T01:20:04.721Z"
   },
   {
    "duration": 26,
    "start_time": "2024-05-31T01:20:04.744Z"
   },
   {
    "duration": 36,
    "start_time": "2024-05-31T01:20:04.773Z"
   },
   {
    "duration": 17,
    "start_time": "2024-05-31T01:20:04.812Z"
   },
   {
    "duration": 8,
    "start_time": "2024-05-31T01:20:04.832Z"
   },
   {
    "duration": 8,
    "start_time": "2024-05-31T01:20:04.843Z"
   },
   {
    "duration": 52,
    "start_time": "2024-05-31T01:20:04.854Z"
   },
   {
    "duration": 7,
    "start_time": "2024-05-31T01:20:04.913Z"
   },
   {
    "duration": 20,
    "start_time": "2024-05-31T01:20:04.923Z"
   },
   {
    "duration": 14,
    "start_time": "2024-05-31T01:20:04.946Z"
   },
   {
    "duration": 61,
    "start_time": "2024-05-31T01:20:04.962Z"
   },
   {
    "duration": 6,
    "start_time": "2024-05-31T01:20:05.026Z"
   },
   {
    "duration": 199,
    "start_time": "2024-05-31T01:20:05.035Z"
   },
   {
    "duration": 11,
    "start_time": "2024-05-31T01:20:05.237Z"
   },
   {
    "duration": 62,
    "start_time": "2024-05-31T01:20:05.250Z"
   },
   {
    "duration": 39,
    "start_time": "2024-05-31T01:20:05.316Z"
   },
   {
    "duration": 116,
    "start_time": "2024-05-31T01:20:05.407Z"
   },
   {
    "duration": 92,
    "start_time": "2024-05-31T01:20:05.528Z"
   },
   {
    "duration": 143,
    "start_time": "2024-05-31T01:20:05.626Z"
   },
   {
    "duration": 16,
    "start_time": "2024-05-31T01:20:05.806Z"
   },
   {
    "duration": 90,
    "start_time": "2024-05-31T01:20:05.825Z"
   },
   {
    "duration": 214,
    "start_time": "2024-05-31T01:20:05.918Z"
   },
   {
    "duration": 9,
    "start_time": "2024-05-31T01:20:06.137Z"
   },
   {
    "duration": 141,
    "start_time": "2024-05-31T01:20:06.150Z"
   },
   {
    "duration": 48,
    "start_time": "2024-05-31T01:20:06.294Z"
   },
   {
    "duration": 5,
    "start_time": "2024-05-31T01:27:47.679Z"
   },
   {
    "duration": 12,
    "start_time": "2024-05-31T01:28:50.790Z"
   },
   {
    "duration": 1596,
    "start_time": "2024-05-31T01:40:59.910Z"
   },
   {
    "duration": 29,
    "start_time": "2024-05-31T01:41:01.509Z"
   },
   {
    "duration": 18,
    "start_time": "2024-05-31T01:41:01.540Z"
   },
   {
    "duration": 46,
    "start_time": "2024-05-31T01:41:01.561Z"
   },
   {
    "duration": 6,
    "start_time": "2024-05-31T01:41:01.612Z"
   },
   {
    "duration": 19,
    "start_time": "2024-05-31T01:41:01.622Z"
   },
   {
    "duration": 8,
    "start_time": "2024-05-31T01:41:01.646Z"
   },
   {
    "duration": 50,
    "start_time": "2024-05-31T01:41:01.657Z"
   },
   {
    "duration": 5,
    "start_time": "2024-05-31T01:41:01.711Z"
   },
   {
    "duration": 6,
    "start_time": "2024-05-31T01:41:01.719Z"
   },
   {
    "duration": 16,
    "start_time": "2024-05-31T01:41:01.729Z"
   },
   {
    "duration": 59,
    "start_time": "2024-05-31T01:41:01.748Z"
   },
   {
    "duration": 23,
    "start_time": "2024-05-31T01:41:01.809Z"
   },
   {
    "duration": 6,
    "start_time": "2024-05-31T01:41:01.839Z"
   },
   {
    "duration": 220,
    "start_time": "2024-05-31T01:41:01.849Z"
   },
   {
    "duration": 12,
    "start_time": "2024-05-31T01:41:02.072Z"
   },
   {
    "duration": 18,
    "start_time": "2024-05-31T01:41:02.088Z"
   },
   {
    "duration": 6,
    "start_time": "2024-05-31T01:41:02.111Z"
   },
   {
    "duration": 6,
    "start_time": "2024-05-31T01:41:02.120Z"
   },
   {
    "duration": 6,
    "start_time": "2024-05-31T01:41:02.130Z"
   },
   {
    "duration": 78,
    "start_time": "2024-05-31T01:41:02.141Z"
   },
   {
    "duration": 281,
    "start_time": "2024-05-31T01:41:02.222Z"
   },
   {
    "duration": 0,
    "start_time": "2024-05-31T01:41:02.507Z"
   },
   {
    "duration": 0,
    "start_time": "2024-05-31T01:41:02.509Z"
   },
   {
    "duration": 0,
    "start_time": "2024-05-31T01:41:02.511Z"
   },
   {
    "duration": 1,
    "start_time": "2024-05-31T01:41:02.514Z"
   },
   {
    "duration": 0,
    "start_time": "2024-05-31T01:41:02.517Z"
   },
   {
    "duration": 0,
    "start_time": "2024-05-31T01:41:02.520Z"
   },
   {
    "duration": 0,
    "start_time": "2024-05-31T01:41:02.522Z"
   },
   {
    "duration": 0,
    "start_time": "2024-05-31T01:41:02.526Z"
   },
   {
    "duration": 0,
    "start_time": "2024-05-31T01:41:02.528Z"
   },
   {
    "duration": 0,
    "start_time": "2024-05-31T01:41:02.532Z"
   },
   {
    "duration": 1556,
    "start_time": "2024-05-31T01:42:45.862Z"
   },
   {
    "duration": 25,
    "start_time": "2024-05-31T01:42:47.421Z"
   },
   {
    "duration": 19,
    "start_time": "2024-05-31T01:42:47.449Z"
   },
   {
    "duration": 52,
    "start_time": "2024-05-31T01:42:47.473Z"
   },
   {
    "duration": 6,
    "start_time": "2024-05-31T01:42:47.531Z"
   },
   {
    "duration": 16,
    "start_time": "2024-05-31T01:42:47.540Z"
   },
   {
    "duration": 7,
    "start_time": "2024-05-31T01:42:47.559Z"
   },
   {
    "duration": 41,
    "start_time": "2024-05-31T01:42:47.570Z"
   },
   {
    "duration": 5,
    "start_time": "2024-05-31T01:42:47.614Z"
   },
   {
    "duration": 8,
    "start_time": "2024-05-31T01:42:47.622Z"
   },
   {
    "duration": 16,
    "start_time": "2024-05-31T01:42:47.633Z"
   },
   {
    "duration": 57,
    "start_time": "2024-05-31T01:42:47.652Z"
   },
   {
    "duration": 21,
    "start_time": "2024-05-31T01:42:47.712Z"
   },
   {
    "duration": 6,
    "start_time": "2024-05-31T01:42:47.740Z"
   },
   {
    "duration": 222,
    "start_time": "2024-05-31T01:42:47.750Z"
   },
   {
    "duration": 10,
    "start_time": "2024-05-31T01:42:47.976Z"
   },
   {
    "duration": 20,
    "start_time": "2024-05-31T01:42:47.989Z"
   },
   {
    "duration": 7,
    "start_time": "2024-05-31T01:42:48.012Z"
   },
   {
    "duration": 6,
    "start_time": "2024-05-31T01:42:48.022Z"
   },
   {
    "duration": 6,
    "start_time": "2024-05-31T01:42:48.032Z"
   },
   {
    "duration": 81,
    "start_time": "2024-05-31T01:42:48.041Z"
   },
   {
    "duration": 33,
    "start_time": "2024-05-31T01:42:48.126Z"
   },
   {
    "duration": 152,
    "start_time": "2024-05-31T01:42:48.161Z"
   },
   {
    "duration": 97,
    "start_time": "2024-05-31T01:42:48.316Z"
   },
   {
    "duration": 119,
    "start_time": "2024-05-31T01:42:48.416Z"
   },
   {
    "duration": 73,
    "start_time": "2024-05-31T01:42:48.538Z"
   },
   {
    "duration": 98,
    "start_time": "2024-05-31T01:42:48.614Z"
   },
   {
    "duration": 122,
    "start_time": "2024-05-31T01:42:48.721Z"
   },
   {
    "duration": 8,
    "start_time": "2024-05-31T01:42:48.847Z"
   },
   {
    "duration": 127,
    "start_time": "2024-05-31T01:42:48.859Z"
   },
   {
    "duration": 42,
    "start_time": "2024-05-31T01:42:48.989Z"
   },
   {
    "duration": 11,
    "start_time": "2024-05-31T01:42:49.035Z"
   },
   {
    "duration": 1699,
    "start_time": "2024-05-31T01:44:00.449Z"
   },
   {
    "duration": 32,
    "start_time": "2024-05-31T01:44:02.153Z"
   },
   {
    "duration": 28,
    "start_time": "2024-05-31T01:44:02.188Z"
   },
   {
    "duration": 26,
    "start_time": "2024-05-31T01:44:02.220Z"
   },
   {
    "duration": 7,
    "start_time": "2024-05-31T01:44:02.251Z"
   },
   {
    "duration": 56,
    "start_time": "2024-05-31T01:44:02.263Z"
   },
   {
    "duration": 7,
    "start_time": "2024-05-31T01:44:02.323Z"
   },
   {
    "duration": 8,
    "start_time": "2024-05-31T01:44:02.335Z"
   },
   {
    "duration": 6,
    "start_time": "2024-05-31T01:44:02.346Z"
   },
   {
    "duration": 52,
    "start_time": "2024-05-31T01:44:02.355Z"
   },
   {
    "duration": 18,
    "start_time": "2024-05-31T01:44:02.410Z"
   },
   {
    "duration": 14,
    "start_time": "2024-05-31T01:44:02.432Z"
   },
   {
    "duration": 61,
    "start_time": "2024-05-31T01:44:02.448Z"
   },
   {
    "duration": 6,
    "start_time": "2024-05-31T01:44:02.516Z"
   },
   {
    "duration": 189,
    "start_time": "2024-05-31T01:44:02.526Z"
   },
   {
    "duration": 11,
    "start_time": "2024-05-31T01:44:02.718Z"
   },
   {
    "duration": 6,
    "start_time": "2024-05-31T01:44:02.732Z"
   },
   {
    "duration": 7,
    "start_time": "2024-05-31T01:44:02.740Z"
   },
   {
    "duration": 8,
    "start_time": "2024-05-31T01:44:02.749Z"
   },
   {
    "duration": 48,
    "start_time": "2024-05-31T01:44:02.760Z"
   },
   {
    "duration": 29,
    "start_time": "2024-05-31T01:44:02.811Z"
   },
   {
    "duration": 62,
    "start_time": "2024-05-31T01:44:02.843Z"
   },
   {
    "duration": 107,
    "start_time": "2024-05-31T01:44:02.912Z"
   },
   {
    "duration": 85,
    "start_time": "2024-05-31T01:44:03.021Z"
   },
   {
    "duration": 131,
    "start_time": "2024-05-31T01:44:03.109Z"
   },
   {
    "duration": 64,
    "start_time": "2024-05-31T01:44:03.244Z"
   },
   {
    "duration": 95,
    "start_time": "2024-05-31T01:44:03.311Z"
   },
   {
    "duration": 125,
    "start_time": "2024-05-31T01:44:03.415Z"
   },
   {
    "duration": 7,
    "start_time": "2024-05-31T01:44:03.544Z"
   },
   {
    "duration": 118,
    "start_time": "2024-05-31T01:44:03.554Z"
   },
   {
    "duration": 42,
    "start_time": "2024-05-31T01:44:03.675Z"
   },
   {
    "duration": 10,
    "start_time": "2024-05-31T01:44:03.720Z"
   },
   {
    "duration": 33,
    "start_time": "2024-05-31T01:50:06.960Z"
   },
   {
    "duration": 33,
    "start_time": "2024-05-31T01:50:16.508Z"
   },
   {
    "duration": 30,
    "start_time": "2024-05-31T01:54:57.853Z"
   },
   {
    "duration": 43,
    "start_time": "2024-05-31T01:55:19.680Z"
   },
   {
    "duration": 1553,
    "start_time": "2024-05-31T02:18:33.842Z"
   },
   {
    "duration": 28,
    "start_time": "2024-05-31T02:18:35.399Z"
   },
   {
    "duration": 18,
    "start_time": "2024-05-31T02:18:35.430Z"
   },
   {
    "duration": 54,
    "start_time": "2024-05-31T02:18:35.452Z"
   },
   {
    "duration": 8,
    "start_time": "2024-05-31T02:18:35.508Z"
   },
   {
    "duration": 16,
    "start_time": "2024-05-31T02:18:35.519Z"
   },
   {
    "duration": 7,
    "start_time": "2024-05-31T02:18:35.538Z"
   },
   {
    "duration": 8,
    "start_time": "2024-05-31T02:18:35.548Z"
   },
   {
    "duration": 49,
    "start_time": "2024-05-31T02:18:35.559Z"
   },
   {
    "duration": 5,
    "start_time": "2024-05-31T02:18:35.615Z"
   },
   {
    "duration": 15,
    "start_time": "2024-05-31T02:18:35.624Z"
   },
   {
    "duration": 12,
    "start_time": "2024-05-31T02:18:35.642Z"
   },
   {
    "duration": 64,
    "start_time": "2024-05-31T02:18:35.656Z"
   },
   {
    "duration": 5,
    "start_time": "2024-05-31T02:18:35.723Z"
   },
   {
    "duration": 204,
    "start_time": "2024-05-31T02:18:35.731Z"
   },
   {
    "duration": 11,
    "start_time": "2024-05-31T02:18:35.937Z"
   },
   {
    "duration": 9,
    "start_time": "2024-05-31T02:18:35.950Z"
   },
   {
    "duration": 6,
    "start_time": "2024-05-31T02:18:35.961Z"
   },
   {
    "duration": 37,
    "start_time": "2024-05-31T02:18:35.970Z"
   },
   {
    "duration": 6,
    "start_time": "2024-05-31T02:18:36.010Z"
   },
   {
    "duration": 29,
    "start_time": "2024-05-31T02:18:36.020Z"
   },
   {
    "duration": 65,
    "start_time": "2024-05-31T02:18:36.052Z"
   },
   {
    "duration": 98,
    "start_time": "2024-05-31T02:18:36.120Z"
   },
   {
    "duration": 95,
    "start_time": "2024-05-31T02:18:36.221Z"
   },
   {
    "duration": 128,
    "start_time": "2024-05-31T02:18:36.318Z"
   },
   {
    "duration": 64,
    "start_time": "2024-05-31T02:18:36.449Z"
   },
   {
    "duration": 91,
    "start_time": "2024-05-31T02:18:36.516Z"
   },
   {
    "duration": 126,
    "start_time": "2024-05-31T02:18:36.615Z"
   },
   {
    "duration": 9,
    "start_time": "2024-05-31T02:18:36.744Z"
   },
   {
    "duration": 119,
    "start_time": "2024-05-31T02:18:36.756Z"
   },
   {
    "duration": 47,
    "start_time": "2024-05-31T02:18:36.877Z"
   },
   {
    "duration": 13,
    "start_time": "2024-05-31T02:18:36.928Z"
   },
   {
    "duration": 67,
    "start_time": "2024-05-31T02:18:36.944Z"
   },
   {
    "duration": 6151,
    "start_time": "2024-05-31T11:17:30.249Z"
   },
   {
    "duration": 46,
    "start_time": "2024-05-31T11:17:36.404Z"
   },
   {
    "duration": 20,
    "start_time": "2024-05-31T11:17:36.453Z"
   },
   {
    "duration": 64,
    "start_time": "2024-05-31T11:17:36.477Z"
   },
   {
    "duration": 8,
    "start_time": "2024-05-31T11:17:36.547Z"
   },
   {
    "duration": 17,
    "start_time": "2024-05-31T11:17:36.559Z"
   },
   {
    "duration": 55,
    "start_time": "2024-05-31T11:17:36.579Z"
   },
   {
    "duration": 9,
    "start_time": "2024-05-31T11:17:36.642Z"
   },
   {
    "duration": 5,
    "start_time": "2024-05-31T11:17:36.655Z"
   },
   {
    "duration": 6,
    "start_time": "2024-05-31T11:17:36.664Z"
   },
   {
    "duration": 59,
    "start_time": "2024-05-31T11:17:36.673Z"
   },
   {
    "duration": 21,
    "start_time": "2024-05-31T11:17:36.735Z"
   },
   {
    "duration": 22,
    "start_time": "2024-05-31T11:17:36.760Z"
   },
   {
    "duration": 7,
    "start_time": "2024-05-31T11:17:36.826Z"
   },
   {
    "duration": 260,
    "start_time": "2024-05-31T11:17:36.837Z"
   },
   {
    "duration": 27,
    "start_time": "2024-05-31T11:17:37.106Z"
   },
   {
    "duration": 11,
    "start_time": "2024-05-31T11:17:37.137Z"
   },
   {
    "duration": 7,
    "start_time": "2024-05-31T11:17:37.151Z"
   },
   {
    "duration": 11,
    "start_time": "2024-05-31T11:17:37.162Z"
   },
   {
    "duration": 46,
    "start_time": "2024-05-31T11:17:37.178Z"
   },
   {
    "duration": 125,
    "start_time": "2024-05-31T11:17:37.229Z"
   },
   {
    "duration": 71,
    "start_time": "2024-05-31T11:17:37.359Z"
   },
   {
    "duration": 100,
    "start_time": "2024-05-31T11:17:37.442Z"
   },
   {
    "duration": 97,
    "start_time": "2024-05-31T11:17:37.545Z"
   },
   {
    "duration": 133,
    "start_time": "2024-05-31T11:17:37.645Z"
   },
   {
    "duration": 32,
    "start_time": "2024-05-31T11:17:37.822Z"
   },
   {
    "duration": 24,
    "start_time": "2024-05-31T11:17:37.925Z"
   },
   {
    "duration": 197,
    "start_time": "2024-05-31T11:17:37.953Z"
   },
   {
    "duration": 9,
    "start_time": "2024-05-31T11:17:38.154Z"
   },
   {
    "duration": 135,
    "start_time": "2024-05-31T11:17:38.167Z"
   },
   {
    "duration": 46,
    "start_time": "2024-05-31T11:17:38.305Z"
   },
   {
    "duration": 12,
    "start_time": "2024-05-31T11:17:38.358Z"
   },
   {
    "duration": 85,
    "start_time": "2024-05-31T11:17:38.374Z"
   },
   {
    "duration": 5122,
    "start_time": "2024-06-01T15:31:15.103Z"
   },
   {
    "duration": 38,
    "start_time": "2024-06-01T15:31:20.231Z"
   },
   {
    "duration": 17,
    "start_time": "2024-06-01T15:31:20.277Z"
   },
   {
    "duration": 46,
    "start_time": "2024-06-01T15:31:20.297Z"
   },
   {
    "duration": 7,
    "start_time": "2024-06-01T15:31:20.345Z"
   },
   {
    "duration": 15,
    "start_time": "2024-06-01T15:31:20.356Z"
   },
   {
    "duration": 7,
    "start_time": "2024-06-01T15:31:20.374Z"
   },
   {
    "duration": 51,
    "start_time": "2024-06-01T15:31:20.384Z"
   },
   {
    "duration": 5,
    "start_time": "2024-06-01T15:31:20.440Z"
   },
   {
    "duration": 7,
    "start_time": "2024-06-01T15:31:20.451Z"
   },
   {
    "duration": 17,
    "start_time": "2024-06-01T15:31:20.461Z"
   },
   {
    "duration": 13,
    "start_time": "2024-06-01T15:31:20.481Z"
   },
   {
    "duration": 20,
    "start_time": "2024-06-01T15:31:20.531Z"
   },
   {
    "duration": 5,
    "start_time": "2024-06-01T15:31:20.554Z"
   },
   {
    "duration": 200,
    "start_time": "2024-06-01T15:31:20.563Z"
   },
   {
    "duration": 11,
    "start_time": "2024-06-01T15:31:20.767Z"
   },
   {
    "duration": 7,
    "start_time": "2024-06-01T15:31:20.781Z"
   },
   {
    "duration": 7,
    "start_time": "2024-06-01T15:31:20.791Z"
   },
   {
    "duration": 6,
    "start_time": "2024-06-01T15:31:20.835Z"
   },
   {
    "duration": 6,
    "start_time": "2024-06-01T15:31:20.845Z"
   },
   {
    "duration": 44,
    "start_time": "2024-06-01T15:31:20.855Z"
   },
   {
    "duration": 26,
    "start_time": "2024-06-01T15:31:20.931Z"
   },
   {
    "duration": 92,
    "start_time": "2024-06-01T15:31:20.960Z"
   },
   {
    "duration": 100,
    "start_time": "2024-06-01T15:31:21.055Z"
   },
   {
    "duration": 54,
    "start_time": "2024-06-01T15:31:21.232Z"
   },
   {
    "duration": 26,
    "start_time": "2024-06-01T15:31:21.330Z"
   },
   {
    "duration": 16,
    "start_time": "2024-06-01T15:31:21.430Z"
   },
   {
    "duration": 190,
    "start_time": "2024-06-01T15:31:21.449Z"
   },
   {
    "duration": 8,
    "start_time": "2024-06-01T15:31:21.642Z"
   },
   {
    "duration": 124,
    "start_time": "2024-06-01T15:31:21.652Z"
   },
   {
    "duration": 34,
    "start_time": "2024-06-01T15:31:21.779Z"
   },
   {
    "duration": 10,
    "start_time": "2024-06-01T15:31:21.832Z"
   },
   {
    "duration": 31,
    "start_time": "2024-06-01T15:31:21.845Z"
   },
   {
    "duration": 1632,
    "start_time": "2024-06-01T15:31:51.704Z"
   },
   {
    "duration": 23,
    "start_time": "2024-06-01T15:31:53.341Z"
   },
   {
    "duration": 18,
    "start_time": "2024-06-01T15:31:53.367Z"
   },
   {
    "duration": 49,
    "start_time": "2024-06-01T15:31:53.388Z"
   },
   {
    "duration": 6,
    "start_time": "2024-06-01T15:31:53.444Z"
   },
   {
    "duration": 19,
    "start_time": "2024-06-01T15:31:53.453Z"
   },
   {
    "duration": 8,
    "start_time": "2024-06-01T15:31:53.474Z"
   },
   {
    "duration": 53,
    "start_time": "2024-06-01T15:31:53.485Z"
   },
   {
    "duration": 5,
    "start_time": "2024-06-01T15:31:53.541Z"
   },
   {
    "duration": 5,
    "start_time": "2024-06-01T15:31:53.550Z"
   },
   {
    "duration": 16,
    "start_time": "2024-06-01T15:31:53.558Z"
   },
   {
    "duration": 53,
    "start_time": "2024-06-01T15:31:53.577Z"
   },
   {
    "duration": 21,
    "start_time": "2024-06-01T15:31:53.633Z"
   },
   {
    "duration": 6,
    "start_time": "2024-06-01T15:31:53.661Z"
   },
   {
    "duration": 209,
    "start_time": "2024-06-01T15:31:53.670Z"
   },
   {
    "duration": 10,
    "start_time": "2024-06-01T15:31:53.882Z"
   },
   {
    "duration": 6,
    "start_time": "2024-06-01T15:31:53.894Z"
   },
   {
    "duration": 29,
    "start_time": "2024-06-01T15:31:53.904Z"
   },
   {
    "duration": 6,
    "start_time": "2024-06-01T15:31:53.937Z"
   },
   {
    "duration": 5,
    "start_time": "2024-06-01T15:31:53.946Z"
   },
   {
    "duration": 35,
    "start_time": "2024-06-01T15:31:53.955Z"
   },
   {
    "duration": 63,
    "start_time": "2024-06-01T15:31:53.994Z"
   },
   {
    "duration": 91,
    "start_time": "2024-06-01T15:31:54.060Z"
   },
   {
    "duration": 90,
    "start_time": "2024-06-01T15:31:54.154Z"
   },
   {
    "duration": 136,
    "start_time": "2024-06-01T15:31:54.247Z"
   },
   {
    "duration": 57,
    "start_time": "2024-06-01T15:31:54.386Z"
   },
   {
    "duration": 89,
    "start_time": "2024-06-01T15:31:54.446Z"
   },
   {
    "duration": 199,
    "start_time": "2024-06-01T15:31:54.538Z"
   },
   {
    "duration": 7,
    "start_time": "2024-06-01T15:31:54.742Z"
   },
   {
    "duration": 116,
    "start_time": "2024-06-01T15:31:54.752Z"
   },
   {
    "duration": 31,
    "start_time": "2024-06-01T15:31:54.871Z"
   },
   {
    "duration": 26,
    "start_time": "2024-06-01T15:31:54.905Z"
   },
   {
    "duration": 42,
    "start_time": "2024-06-01T15:31:54.935Z"
   },
   {
    "duration": 49,
    "start_time": "2024-06-01T15:35:02.578Z"
   },
   {
    "duration": 50,
    "start_time": "2024-06-01T15:36:05.020Z"
   },
   {
    "duration": 19,
    "start_time": "2024-06-01T15:36:06.601Z"
   },
   {
    "duration": 1545,
    "start_time": "2024-06-01T15:36:23.971Z"
   },
   {
    "duration": 29,
    "start_time": "2024-06-01T15:36:25.520Z"
   },
   {
    "duration": 17,
    "start_time": "2024-06-01T15:36:25.552Z"
   },
   {
    "duration": 25,
    "start_time": "2024-06-01T15:36:25.572Z"
   },
   {
    "duration": 6,
    "start_time": "2024-06-01T15:36:25.630Z"
   },
   {
    "duration": 18,
    "start_time": "2024-06-01T15:36:25.639Z"
   },
   {
    "duration": 8,
    "start_time": "2024-06-01T15:36:25.663Z"
   },
   {
    "duration": 8,
    "start_time": "2024-06-01T15:36:25.675Z"
   },
   {
    "duration": 45,
    "start_time": "2024-06-01T15:36:25.687Z"
   },
   {
    "duration": 10,
    "start_time": "2024-06-01T15:36:25.735Z"
   },
   {
    "duration": 16,
    "start_time": "2024-06-01T15:36:25.748Z"
   },
   {
    "duration": 13,
    "start_time": "2024-06-01T15:36:25.766Z"
   },
   {
    "duration": 70,
    "start_time": "2024-06-01T15:36:25.781Z"
   },
   {
    "duration": 9,
    "start_time": "2024-06-01T15:36:25.858Z"
   },
   {
    "duration": 205,
    "start_time": "2024-06-01T15:36:25.870Z"
   },
   {
    "duration": 10,
    "start_time": "2024-06-01T15:36:26.078Z"
   },
   {
    "duration": 6,
    "start_time": "2024-06-01T15:36:26.091Z"
   },
   {
    "duration": 31,
    "start_time": "2024-06-01T15:36:26.099Z"
   },
   {
    "duration": 6,
    "start_time": "2024-06-01T15:36:26.133Z"
   },
   {
    "duration": 6,
    "start_time": "2024-06-01T15:36:26.142Z"
   },
   {
    "duration": 37,
    "start_time": "2024-06-01T15:36:26.151Z"
   },
   {
    "duration": 63,
    "start_time": "2024-06-01T15:36:26.191Z"
   },
   {
    "duration": 97,
    "start_time": "2024-06-01T15:36:26.257Z"
   },
   {
    "duration": 92,
    "start_time": "2024-06-01T15:36:26.439Z"
   },
   {
    "duration": 52,
    "start_time": "2024-06-01T15:36:26.534Z"
   },
   {
    "duration": 53,
    "start_time": "2024-06-01T15:36:26.589Z"
   },
   {
    "duration": 91,
    "start_time": "2024-06-01T15:36:26.645Z"
   },
   {
    "duration": 200,
    "start_time": "2024-06-01T15:36:26.739Z"
   },
   {
    "duration": 8,
    "start_time": "2024-06-01T15:36:26.943Z"
   },
   {
    "duration": 124,
    "start_time": "2024-06-01T15:36:26.955Z"
   },
   {
    "duration": 54,
    "start_time": "2024-06-01T15:36:27.083Z"
   },
   {
    "duration": 17,
    "start_time": "2024-06-01T15:36:27.140Z"
   },
   {
    "duration": 32,
    "start_time": "2024-06-01T15:36:27.160Z"
   },
   {
    "duration": 41,
    "start_time": "2024-06-01T15:36:27.194Z"
   },
   {
    "duration": 45,
    "start_time": "2024-06-01T15:36:27.238Z"
   },
   {
    "duration": 1633,
    "start_time": "2024-06-01T15:39:31.983Z"
   },
   {
    "duration": 28,
    "start_time": "2024-06-01T15:39:33.620Z"
   },
   {
    "duration": 18,
    "start_time": "2024-06-01T15:39:33.651Z"
   },
   {
    "duration": 25,
    "start_time": "2024-06-01T15:39:33.673Z"
   },
   {
    "duration": 6,
    "start_time": "2024-06-01T15:39:33.730Z"
   },
   {
    "duration": 18,
    "start_time": "2024-06-01T15:39:33.739Z"
   },
   {
    "duration": 7,
    "start_time": "2024-06-01T15:39:33.759Z"
   },
   {
    "duration": 8,
    "start_time": "2024-06-01T15:39:33.769Z"
   },
   {
    "duration": 53,
    "start_time": "2024-06-01T15:39:33.780Z"
   },
   {
    "duration": 5,
    "start_time": "2024-06-01T15:39:33.841Z"
   },
   {
    "duration": 17,
    "start_time": "2024-06-01T15:39:33.849Z"
   },
   {
    "duration": 14,
    "start_time": "2024-06-01T15:39:33.868Z"
   },
   {
    "duration": 59,
    "start_time": "2024-06-01T15:39:33.885Z"
   },
   {
    "duration": 6,
    "start_time": "2024-06-01T15:39:33.947Z"
   },
   {
    "duration": 198,
    "start_time": "2024-06-01T15:39:33.956Z"
   },
   {
    "duration": 10,
    "start_time": "2024-06-01T15:39:34.158Z"
   },
   {
    "duration": 7,
    "start_time": "2024-06-01T15:39:34.170Z"
   },
   {
    "duration": 6,
    "start_time": "2024-06-01T15:39:34.180Z"
   },
   {
    "duration": 43,
    "start_time": "2024-06-01T15:39:34.189Z"
   },
   {
    "duration": 5,
    "start_time": "2024-06-01T15:39:34.235Z"
   },
   {
    "duration": 36,
    "start_time": "2024-06-01T15:39:34.243Z"
   },
   {
    "duration": 57,
    "start_time": "2024-06-01T15:39:34.282Z"
   },
   {
    "duration": 97,
    "start_time": "2024-06-01T15:39:34.341Z"
   },
   {
    "duration": 97,
    "start_time": "2024-06-01T15:39:34.446Z"
   },
   {
    "duration": 122,
    "start_time": "2024-06-01T15:39:34.546Z"
   },
   {
    "duration": 74,
    "start_time": "2024-06-01T15:39:34.671Z"
   },
   {
    "duration": 92,
    "start_time": "2024-06-01T15:39:34.748Z"
   },
   {
    "duration": 116,
    "start_time": "2024-06-01T15:39:34.848Z"
   },
   {
    "duration": 68,
    "start_time": "2024-06-01T15:39:34.967Z"
   },
   {
    "duration": 115,
    "start_time": "2024-06-01T15:39:35.038Z"
   },
   {
    "duration": 47,
    "start_time": "2024-06-01T15:39:35.156Z"
   },
   {
    "duration": 35,
    "start_time": "2024-06-01T15:39:35.206Z"
   },
   {
    "duration": 31,
    "start_time": "2024-06-01T15:39:35.246Z"
   },
   {
    "duration": 10,
    "start_time": "2024-06-01T15:39:35.280Z"
   },
   {
    "duration": 75,
    "start_time": "2024-06-01T15:39:35.293Z"
   },
   {
    "duration": 438,
    "start_time": "2024-06-01T15:39:50.944Z"
   },
   {
    "duration": 29,
    "start_time": "2024-06-01T15:40:10.046Z"
   },
   {
    "duration": 30,
    "start_time": "2024-06-01T15:40:19.935Z"
   },
   {
    "duration": 18,
    "start_time": "2024-06-01T15:40:44.303Z"
   },
   {
    "duration": 31,
    "start_time": "2024-06-01T15:40:57.561Z"
   },
   {
    "duration": 28,
    "start_time": "2024-06-01T15:41:13.649Z"
   },
   {
    "duration": 31,
    "start_time": "2024-06-01T15:41:16.908Z"
   },
   {
    "duration": 32,
    "start_time": "2024-06-01T15:41:19.699Z"
   },
   {
    "duration": 33,
    "start_time": "2024-06-01T15:41:22.530Z"
   },
   {
    "duration": 1556,
    "start_time": "2024-06-01T15:41:56.200Z"
   },
   {
    "duration": 24,
    "start_time": "2024-06-01T15:41:57.760Z"
   },
   {
    "duration": 17,
    "start_time": "2024-06-01T15:41:57.790Z"
   },
   {
    "duration": 43,
    "start_time": "2024-06-01T15:41:57.810Z"
   },
   {
    "duration": 6,
    "start_time": "2024-06-01T15:41:57.858Z"
   },
   {
    "duration": 16,
    "start_time": "2024-06-01T15:41:57.867Z"
   },
   {
    "duration": 44,
    "start_time": "2024-06-01T15:41:57.886Z"
   },
   {
    "duration": 10,
    "start_time": "2024-06-01T15:41:57.933Z"
   },
   {
    "duration": 5,
    "start_time": "2024-06-01T15:41:57.947Z"
   },
   {
    "duration": 5,
    "start_time": "2024-06-01T15:41:57.956Z"
   },
   {
    "duration": 15,
    "start_time": "2024-06-01T15:41:57.966Z"
   },
   {
    "duration": 54,
    "start_time": "2024-06-01T15:41:57.983Z"
   },
   {
    "duration": 21,
    "start_time": "2024-06-01T15:41:58.039Z"
   },
   {
    "duration": 9,
    "start_time": "2024-06-01T15:41:58.068Z"
   },
   {
    "duration": 223,
    "start_time": "2024-06-01T15:41:58.080Z"
   },
   {
    "duration": 27,
    "start_time": "2024-06-01T15:41:58.307Z"
   },
   {
    "duration": 5,
    "start_time": "2024-06-01T15:41:58.337Z"
   },
   {
    "duration": 7,
    "start_time": "2024-06-01T15:41:58.345Z"
   },
   {
    "duration": 6,
    "start_time": "2024-06-01T15:41:58.355Z"
   },
   {
    "duration": 6,
    "start_time": "2024-06-01T15:41:58.365Z"
   },
   {
    "duration": 80,
    "start_time": "2024-06-01T15:41:58.374Z"
   },
   {
    "duration": 72,
    "start_time": "2024-06-01T15:41:58.457Z"
   },
   {
    "duration": 106,
    "start_time": "2024-06-01T15:41:58.535Z"
   },
   {
    "duration": 94,
    "start_time": "2024-06-01T15:41:58.649Z"
   },
   {
    "duration": 126,
    "start_time": "2024-06-01T15:41:58.751Z"
   },
   {
    "duration": 20,
    "start_time": "2024-06-01T15:41:58.930Z"
   },
   {
    "duration": 92,
    "start_time": "2024-06-01T15:41:58.955Z"
   },
   {
    "duration": 197,
    "start_time": "2024-06-01T15:41:59.053Z"
   },
   {
    "duration": 8,
    "start_time": "2024-06-01T15:41:59.252Z"
   },
   {
    "duration": 132,
    "start_time": "2024-06-01T15:41:59.264Z"
   },
   {
    "duration": 58,
    "start_time": "2024-06-01T15:41:59.402Z"
   },
   {
    "duration": 18,
    "start_time": "2024-06-01T15:41:59.463Z"
   },
   {
    "duration": 54,
    "start_time": "2024-06-01T15:41:59.483Z"
   },
   {
    "duration": 10,
    "start_time": "2024-06-01T15:41:59.540Z"
   },
   {
    "duration": 31,
    "start_time": "2024-06-01T15:41:59.553Z"
   },
   {
    "duration": 1556,
    "start_time": "2024-06-01T15:43:55.358Z"
   },
   {
    "duration": 31,
    "start_time": "2024-06-01T15:43:56.917Z"
   },
   {
    "duration": 17,
    "start_time": "2024-06-01T15:43:56.950Z"
   },
   {
    "duration": 24,
    "start_time": "2024-06-01T15:43:56.970Z"
   },
   {
    "duration": 33,
    "start_time": "2024-06-01T15:43:57.000Z"
   },
   {
    "duration": 16,
    "start_time": "2024-06-01T15:43:57.035Z"
   },
   {
    "duration": 7,
    "start_time": "2024-06-01T15:43:57.054Z"
   },
   {
    "duration": 8,
    "start_time": "2024-06-01T15:43:57.065Z"
   },
   {
    "duration": 4,
    "start_time": "2024-06-01T15:43:57.079Z"
   },
   {
    "duration": 9,
    "start_time": "2024-06-01T15:43:57.131Z"
   },
   {
    "duration": 16,
    "start_time": "2024-06-01T15:43:57.144Z"
   },
   {
    "duration": 14,
    "start_time": "2024-06-01T15:43:57.164Z"
   },
   {
    "duration": 57,
    "start_time": "2024-06-01T15:43:57.181Z"
   },
   {
    "duration": 5,
    "start_time": "2024-06-01T15:43:57.244Z"
   },
   {
    "duration": 203,
    "start_time": "2024-06-01T15:43:57.252Z"
   },
   {
    "duration": 11,
    "start_time": "2024-06-01T15:43:57.457Z"
   },
   {
    "duration": 5,
    "start_time": "2024-06-01T15:43:57.472Z"
   },
   {
    "duration": 6,
    "start_time": "2024-06-01T15:43:57.481Z"
   },
   {
    "duration": 43,
    "start_time": "2024-06-01T15:43:57.490Z"
   },
   {
    "duration": 6,
    "start_time": "2024-06-01T15:43:57.536Z"
   },
   {
    "duration": 455,
    "start_time": "2024-06-01T15:43:57.545Z"
   },
   {
    "duration": 0,
    "start_time": "2024-06-01T15:43:58.003Z"
   },
   {
    "duration": 0,
    "start_time": "2024-06-01T15:43:58.005Z"
   },
   {
    "duration": 0,
    "start_time": "2024-06-01T15:43:58.007Z"
   },
   {
    "duration": 0,
    "start_time": "2024-06-01T15:43:58.009Z"
   },
   {
    "duration": 0,
    "start_time": "2024-06-01T15:43:58.011Z"
   },
   {
    "duration": 0,
    "start_time": "2024-06-01T15:43:58.030Z"
   },
   {
    "duration": 0,
    "start_time": "2024-06-01T15:43:58.034Z"
   },
   {
    "duration": 0,
    "start_time": "2024-06-01T15:43:58.035Z"
   },
   {
    "duration": 0,
    "start_time": "2024-06-01T15:43:58.038Z"
   },
   {
    "duration": 0,
    "start_time": "2024-06-01T15:43:58.041Z"
   },
   {
    "duration": 0,
    "start_time": "2024-06-01T15:43:58.043Z"
   },
   {
    "duration": 0,
    "start_time": "2024-06-01T15:43:58.045Z"
   },
   {
    "duration": 0,
    "start_time": "2024-06-01T15:43:58.047Z"
   },
   {
    "duration": 0,
    "start_time": "2024-06-01T15:43:58.050Z"
   },
   {
    "duration": 48,
    "start_time": "2024-06-01T15:44:07.864Z"
   },
   {
    "duration": 1552,
    "start_time": "2024-06-01T15:44:12.668Z"
   },
   {
    "duration": 23,
    "start_time": "2024-06-01T15:44:14.224Z"
   },
   {
    "duration": 17,
    "start_time": "2024-06-01T15:44:14.250Z"
   },
   {
    "duration": 27,
    "start_time": "2024-06-01T15:44:14.270Z"
   },
   {
    "duration": 7,
    "start_time": "2024-06-01T15:44:14.333Z"
   },
   {
    "duration": 17,
    "start_time": "2024-06-01T15:44:14.343Z"
   },
   {
    "duration": 6,
    "start_time": "2024-06-01T15:44:14.363Z"
   },
   {
    "duration": 7,
    "start_time": "2024-06-01T15:44:14.372Z"
   },
   {
    "duration": 50,
    "start_time": "2024-06-01T15:44:14.382Z"
   },
   {
    "duration": 6,
    "start_time": "2024-06-01T15:44:14.435Z"
   },
   {
    "duration": 15,
    "start_time": "2024-06-01T15:44:14.444Z"
   },
   {
    "duration": 13,
    "start_time": "2024-06-01T15:44:14.462Z"
   },
   {
    "duration": 66,
    "start_time": "2024-06-01T15:44:14.478Z"
   },
   {
    "duration": 6,
    "start_time": "2024-06-01T15:44:14.551Z"
   },
   {
    "duration": 191,
    "start_time": "2024-06-01T15:44:14.560Z"
   },
   {
    "duration": 10,
    "start_time": "2024-06-01T15:44:14.753Z"
   },
   {
    "duration": 5,
    "start_time": "2024-06-01T15:44:14.766Z"
   },
   {
    "duration": 6,
    "start_time": "2024-06-01T15:44:14.774Z"
   },
   {
    "duration": 6,
    "start_time": "2024-06-01T15:44:14.783Z"
   },
   {
    "duration": 6,
    "start_time": "2024-06-01T15:44:14.832Z"
   },
   {
    "duration": 50,
    "start_time": "2024-06-01T15:44:14.841Z"
   },
   {
    "duration": 60,
    "start_time": "2024-06-01T15:44:14.893Z"
   },
   {
    "duration": 92,
    "start_time": "2024-06-01T15:44:14.955Z"
   },
   {
    "duration": 97,
    "start_time": "2024-06-01T15:44:15.050Z"
   },
   {
    "duration": 58,
    "start_time": "2024-06-01T15:44:15.229Z"
   },
   {
    "duration": 48,
    "start_time": "2024-06-01T15:44:15.292Z"
   },
   {
    "duration": 91,
    "start_time": "2024-06-01T15:44:15.343Z"
   },
   {
    "duration": 128,
    "start_time": "2024-06-01T15:44:15.437Z"
   },
   {
    "duration": 64,
    "start_time": "2024-06-01T15:44:15.568Z"
   },
   {
    "duration": 102,
    "start_time": "2024-06-01T15:44:15.636Z"
   },
   {
    "duration": 46,
    "start_time": "2024-06-01T15:44:15.741Z"
   },
   {
    "duration": 42,
    "start_time": "2024-06-01T15:44:15.790Z"
   },
   {
    "duration": 31,
    "start_time": "2024-06-01T15:44:15.835Z"
   },
   {
    "duration": 11,
    "start_time": "2024-06-01T15:44:15.869Z"
   },
   {
    "duration": 65,
    "start_time": "2024-06-01T15:44:15.883Z"
   },
   {
    "duration": 169,
    "start_time": "2024-06-01T15:46:18.267Z"
   },
   {
    "duration": 203,
    "start_time": "2024-06-01T15:47:23.944Z"
   },
   {
    "duration": 170,
    "start_time": "2024-06-01T15:47:37.663Z"
   },
   {
    "duration": 183,
    "start_time": "2024-06-01T15:48:26.899Z"
   },
   {
    "duration": 170,
    "start_time": "2024-06-01T15:49:10.815Z"
   },
   {
    "duration": 1567,
    "start_time": "2024-06-01T15:54:08.143Z"
   },
   {
    "duration": 28,
    "start_time": "2024-06-01T15:54:09.714Z"
   },
   {
    "duration": 17,
    "start_time": "2024-06-01T15:54:09.745Z"
   },
   {
    "duration": 26,
    "start_time": "2024-06-01T15:54:09.767Z"
   },
   {
    "duration": 37,
    "start_time": "2024-06-01T15:54:09.796Z"
   },
   {
    "duration": 18,
    "start_time": "2024-06-01T15:54:09.835Z"
   },
   {
    "duration": 6,
    "start_time": "2024-06-01T15:54:09.856Z"
   },
   {
    "duration": 8,
    "start_time": "2024-06-01T15:54:09.865Z"
   },
   {
    "duration": 5,
    "start_time": "2024-06-01T15:54:09.876Z"
   },
   {
    "duration": 5,
    "start_time": "2024-06-01T15:54:09.932Z"
   },
   {
    "duration": 16,
    "start_time": "2024-06-01T15:54:09.940Z"
   },
   {
    "duration": 13,
    "start_time": "2024-06-01T15:54:09.959Z"
   },
   {
    "duration": 58,
    "start_time": "2024-06-01T15:54:09.975Z"
   },
   {
    "duration": 6,
    "start_time": "2024-06-01T15:54:10.037Z"
   },
   {
    "duration": 221,
    "start_time": "2024-06-01T15:54:10.047Z"
   },
   {
    "duration": 164,
    "start_time": "2024-06-01T15:54:10.276Z"
   },
   {
    "duration": 173,
    "start_time": "2024-06-01T15:54:10.443Z"
   },
   {
    "duration": 201,
    "start_time": "2024-06-01T15:54:10.619Z"
   },
   {
    "duration": 14,
    "start_time": "2024-06-01T15:54:10.823Z"
   },
   {
    "duration": 6,
    "start_time": "2024-06-01T15:54:10.840Z"
   },
   {
    "duration": 5,
    "start_time": "2024-06-01T15:54:10.850Z"
   },
   {
    "duration": 6,
    "start_time": "2024-06-01T15:54:10.859Z"
   },
   {
    "duration": 6,
    "start_time": "2024-06-01T15:54:10.868Z"
   },
   {
    "duration": 83,
    "start_time": "2024-06-01T15:54:10.877Z"
   },
   {
    "duration": 67,
    "start_time": "2024-06-01T15:54:10.963Z"
   },
   {
    "duration": 111,
    "start_time": "2024-06-01T15:54:11.032Z"
   },
   {
    "duration": 92,
    "start_time": "2024-06-01T15:54:11.151Z"
   },
   {
    "duration": 55,
    "start_time": "2024-06-01T15:54:11.330Z"
   },
   {
    "duration": 53,
    "start_time": "2024-06-01T15:54:11.389Z"
   },
   {
    "duration": 90,
    "start_time": "2024-06-01T15:54:11.445Z"
   },
   {
    "duration": 206,
    "start_time": "2024-06-01T15:54:11.538Z"
   },
   {
    "duration": 9,
    "start_time": "2024-06-01T15:54:11.747Z"
   },
   {
    "duration": 126,
    "start_time": "2024-06-01T15:54:11.765Z"
   },
   {
    "duration": 59,
    "start_time": "2024-06-01T15:54:11.894Z"
   },
   {
    "duration": 17,
    "start_time": "2024-06-01T15:54:11.956Z"
   },
   {
    "duration": 55,
    "start_time": "2024-06-01T15:54:11.976Z"
   },
   {
    "duration": 12,
    "start_time": "2024-06-01T15:54:12.035Z"
   },
   {
    "duration": 39,
    "start_time": "2024-06-01T15:54:12.051Z"
   },
   {
    "duration": 313,
    "start_time": "2024-06-02T15:33:06.272Z"
   },
   {
    "duration": 5298,
    "start_time": "2024-06-02T15:33:12.639Z"
   },
   {
    "duration": 36,
    "start_time": "2024-06-02T15:33:17.941Z"
   },
   {
    "duration": 32,
    "start_time": "2024-06-02T15:33:17.980Z"
   },
   {
    "duration": 25,
    "start_time": "2024-06-02T15:33:18.016Z"
   },
   {
    "duration": 7,
    "start_time": "2024-06-02T15:33:18.047Z"
   },
   {
    "duration": 16,
    "start_time": "2024-06-02T15:33:18.057Z"
   },
   {
    "duration": 8,
    "start_time": "2024-06-02T15:33:18.112Z"
   },
   {
    "duration": 8,
    "start_time": "2024-06-02T15:33:18.122Z"
   },
   {
    "duration": 5,
    "start_time": "2024-06-02T15:33:18.133Z"
   },
   {
    "duration": 5,
    "start_time": "2024-06-02T15:33:18.141Z"
   },
   {
    "duration": 66,
    "start_time": "2024-06-02T15:33:18.150Z"
   },
   {
    "duration": 12,
    "start_time": "2024-06-02T15:33:18.219Z"
   },
   {
    "duration": 24,
    "start_time": "2024-06-02T15:33:18.234Z"
   },
   {
    "duration": 5,
    "start_time": "2024-06-02T15:33:18.264Z"
   },
   {
    "duration": 304,
    "start_time": "2024-06-02T15:33:18.272Z"
   },
   {
    "duration": 171,
    "start_time": "2024-06-02T15:33:18.580Z"
   },
   {
    "duration": 171,
    "start_time": "2024-06-02T15:33:18.754Z"
   },
   {
    "duration": 184,
    "start_time": "2024-06-02T15:33:18.928Z"
   },
   {
    "duration": 10,
    "start_time": "2024-06-02T15:33:19.115Z"
   },
   {
    "duration": 6,
    "start_time": "2024-06-02T15:33:19.128Z"
   },
   {
    "duration": 5,
    "start_time": "2024-06-02T15:33:19.140Z"
   },
   {
    "duration": 7,
    "start_time": "2024-06-02T15:33:19.148Z"
   },
   {
    "duration": 54,
    "start_time": "2024-06-02T15:33:19.158Z"
   },
   {
    "duration": 37,
    "start_time": "2024-06-02T15:33:19.215Z"
   },
   {
    "duration": 60,
    "start_time": "2024-06-02T15:33:19.255Z"
   },
   {
    "duration": 108,
    "start_time": "2024-06-02T15:33:19.321Z"
   },
   {
    "duration": 94,
    "start_time": "2024-06-02T15:33:19.432Z"
   },
   {
    "duration": 128,
    "start_time": "2024-06-02T15:33:19.536Z"
   },
   {
    "duration": 53,
    "start_time": "2024-06-02T15:33:19.668Z"
   },
   {
    "duration": 94,
    "start_time": "2024-06-02T15:33:19.724Z"
   },
   {
    "duration": 199,
    "start_time": "2024-06-02T15:33:19.821Z"
   },
   {
    "duration": 8,
    "start_time": "2024-06-02T15:33:20.023Z"
   },
   {
    "duration": 119,
    "start_time": "2024-06-02T15:33:20.034Z"
   },
   {
    "duration": 59,
    "start_time": "2024-06-02T15:33:20.156Z"
   },
   {
    "duration": 17,
    "start_time": "2024-06-02T15:33:20.218Z"
   },
   {
    "duration": 37,
    "start_time": "2024-06-02T15:33:20.238Z"
   },
   {
    "duration": 62,
    "start_time": "2024-06-02T15:33:20.278Z"
   },
   {
    "duration": 17,
    "start_time": "2024-06-02T15:33:20.343Z"
   },
   {
    "duration": 60,
    "start_time": "2024-06-02T15:33:20.364Z"
   },
   {
    "duration": 34,
    "start_time": "2024-06-02T15:33:55.225Z"
   },
   {
    "duration": 35,
    "start_time": "2024-06-02T15:34:01.336Z"
   },
   {
    "duration": 31,
    "start_time": "2024-06-02T15:35:08.870Z"
   },
   {
    "duration": 34,
    "start_time": "2024-06-02T15:35:22.981Z"
   },
   {
    "duration": 31,
    "start_time": "2024-06-02T15:35:27.458Z"
   },
   {
    "duration": 30,
    "start_time": "2024-06-02T15:35:31.193Z"
   },
   {
    "duration": 36,
    "start_time": "2024-06-02T15:35:52.516Z"
   },
   {
    "duration": 22,
    "start_time": "2024-06-02T15:37:01.421Z"
   },
   {
    "duration": 19,
    "start_time": "2024-06-02T15:37:07.932Z"
   },
   {
    "duration": 20,
    "start_time": "2024-06-02T15:37:12.970Z"
   },
   {
    "duration": 30,
    "start_time": "2024-06-02T15:37:17.629Z"
   },
   {
    "duration": 30,
    "start_time": "2024-06-02T15:37:26.546Z"
   },
   {
    "duration": 31,
    "start_time": "2024-06-02T15:37:29.590Z"
   },
   {
    "duration": 30,
    "start_time": "2024-06-02T15:37:32.886Z"
   },
   {
    "duration": 32,
    "start_time": "2024-06-02T15:37:37.085Z"
   },
   {
    "duration": 30,
    "start_time": "2024-06-02T15:37:47.317Z"
   },
   {
    "duration": 1623,
    "start_time": "2024-06-02T15:39:18.173Z"
   },
   {
    "duration": 44,
    "start_time": "2024-06-02T15:39:19.801Z"
   },
   {
    "duration": 21,
    "start_time": "2024-06-02T15:39:19.848Z"
   },
   {
    "duration": 48,
    "start_time": "2024-06-02T15:39:19.873Z"
   },
   {
    "duration": 6,
    "start_time": "2024-06-02T15:39:19.927Z"
   },
   {
    "duration": 21,
    "start_time": "2024-06-02T15:39:19.936Z"
   },
   {
    "duration": 8,
    "start_time": "2024-06-02T15:39:19.960Z"
   },
   {
    "duration": 10,
    "start_time": "2024-06-02T15:39:20.013Z"
   },
   {
    "duration": 8,
    "start_time": "2024-06-02T15:39:20.025Z"
   },
   {
    "duration": 5,
    "start_time": "2024-06-02T15:39:20.042Z"
   },
   {
    "duration": 20,
    "start_time": "2024-06-02T15:39:20.052Z"
   },
   {
    "duration": 15,
    "start_time": "2024-06-02T15:39:20.112Z"
   },
   {
    "duration": 25,
    "start_time": "2024-06-02T15:39:20.133Z"
   },
   {
    "duration": 6,
    "start_time": "2024-06-02T15:39:20.166Z"
   },
   {
    "duration": 232,
    "start_time": "2024-06-02T15:39:20.180Z"
   },
   {
    "duration": 179,
    "start_time": "2024-06-02T15:39:20.415Z"
   },
   {
    "duration": 208,
    "start_time": "2024-06-02T15:39:20.598Z"
   },
   {
    "duration": 195,
    "start_time": "2024-06-02T15:39:20.812Z"
   },
   {
    "duration": 13,
    "start_time": "2024-06-02T15:39:21.010Z"
   },
   {
    "duration": 6,
    "start_time": "2024-06-02T15:39:21.027Z"
   },
   {
    "duration": 6,
    "start_time": "2024-06-02T15:39:21.037Z"
   },
   {
    "duration": 6,
    "start_time": "2024-06-02T15:39:21.046Z"
   },
   {
    "duration": 6,
    "start_time": "2024-06-02T15:39:21.055Z"
   },
   {
    "duration": 85,
    "start_time": "2024-06-02T15:39:21.065Z"
   },
   {
    "duration": 60,
    "start_time": "2024-06-02T15:39:21.153Z"
   },
   {
    "duration": 107,
    "start_time": "2024-06-02T15:39:21.216Z"
   },
   {
    "duration": 95,
    "start_time": "2024-06-02T15:39:21.326Z"
   },
   {
    "duration": 96,
    "start_time": "2024-06-02T15:39:21.424Z"
   },
   {
    "duration": 20,
    "start_time": "2024-06-02T15:39:21.527Z"
   },
   {
    "duration": 84,
    "start_time": "2024-06-02T15:39:21.553Z"
   },
   {
    "duration": 193,
    "start_time": "2024-06-02T15:39:21.644Z"
   },
   {
    "duration": 8,
    "start_time": "2024-06-02T15:39:21.841Z"
   },
   {
    "duration": 123,
    "start_time": "2024-06-02T15:39:21.852Z"
   },
   {
    "duration": 61,
    "start_time": "2024-06-02T15:39:21.979Z"
   },
   {
    "duration": 25,
    "start_time": "2024-06-02T15:39:22.044Z"
   },
   {
    "duration": 52,
    "start_time": "2024-06-02T15:39:22.074Z"
   },
   {
    "duration": 33,
    "start_time": "2024-06-02T15:39:22.131Z"
   },
   {
    "duration": 11,
    "start_time": "2024-06-02T15:39:22.169Z"
   },
   {
    "duration": 33,
    "start_time": "2024-06-02T15:39:22.211Z"
   },
   {
    "duration": 30,
    "start_time": "2024-06-02T15:40:44.764Z"
   },
   {
    "duration": 34,
    "start_time": "2024-06-02T15:41:19.215Z"
   },
   {
    "duration": 39,
    "start_time": "2024-06-02T15:41:35.791Z"
   },
   {
    "duration": 8,
    "start_time": "2024-06-02T15:41:52.052Z"
   },
   {
    "duration": 35,
    "start_time": "2024-06-02T15:41:58.391Z"
   },
   {
    "duration": 31,
    "start_time": "2024-06-02T15:42:17.802Z"
   },
   {
    "duration": 39,
    "start_time": "2024-06-02T15:42:20.239Z"
   },
   {
    "duration": 35,
    "start_time": "2024-06-02T15:42:22.664Z"
   },
   {
    "duration": 36,
    "start_time": "2024-06-02T15:42:46.398Z"
   },
   {
    "duration": 41,
    "start_time": "2024-06-02T15:42:51.189Z"
   },
   {
    "duration": 1590,
    "start_time": "2024-06-02T15:44:15.919Z"
   },
   {
    "duration": 24,
    "start_time": "2024-06-02T15:44:17.513Z"
   },
   {
    "duration": 17,
    "start_time": "2024-06-02T15:44:17.541Z"
   },
   {
    "duration": 54,
    "start_time": "2024-06-02T15:44:17.561Z"
   },
   {
    "duration": 6,
    "start_time": "2024-06-02T15:44:17.621Z"
   },
   {
    "duration": 17,
    "start_time": "2024-06-02T15:44:17.631Z"
   },
   {
    "duration": 7,
    "start_time": "2024-06-02T15:44:17.651Z"
   },
   {
    "duration": 50,
    "start_time": "2024-06-02T15:44:17.662Z"
   },
   {
    "duration": 6,
    "start_time": "2024-06-02T15:44:17.716Z"
   },
   {
    "duration": 6,
    "start_time": "2024-06-02T15:44:17.725Z"
   },
   {
    "duration": 17,
    "start_time": "2024-06-02T15:44:17.734Z"
   },
   {
    "duration": 58,
    "start_time": "2024-06-02T15:44:17.754Z"
   },
   {
    "duration": 21,
    "start_time": "2024-06-02T15:44:17.815Z"
   },
   {
    "duration": 5,
    "start_time": "2024-06-02T15:44:17.843Z"
   },
   {
    "duration": 216,
    "start_time": "2024-06-02T15:44:17.852Z"
   },
   {
    "duration": 171,
    "start_time": "2024-06-02T15:44:18.071Z"
   },
   {
    "duration": 171,
    "start_time": "2024-06-02T15:44:18.245Z"
   },
   {
    "duration": 189,
    "start_time": "2024-06-02T15:44:18.420Z"
   },
   {
    "duration": 10,
    "start_time": "2024-06-02T15:44:18.613Z"
   },
   {
    "duration": 6,
    "start_time": "2024-06-02T15:44:18.626Z"
   },
   {
    "duration": 6,
    "start_time": "2024-06-02T15:44:18.635Z"
   },
   {
    "duration": 6,
    "start_time": "2024-06-02T15:44:18.645Z"
   },
   {
    "duration": 5,
    "start_time": "2024-06-02T15:44:18.654Z"
   },
   {
    "duration": 36,
    "start_time": "2024-06-02T15:44:18.712Z"
   },
   {
    "duration": 64,
    "start_time": "2024-06-02T15:44:18.751Z"
   },
   {
    "duration": 106,
    "start_time": "2024-06-02T15:44:18.817Z"
   },
   {
    "duration": 87,
    "start_time": "2024-06-02T15:44:18.926Z"
   },
   {
    "duration": 127,
    "start_time": "2024-06-02T15:44:19.017Z"
   },
   {
    "duration": 70,
    "start_time": "2024-06-02T15:44:19.147Z"
   },
   {
    "duration": 92,
    "start_time": "2024-06-02T15:44:19.220Z"
   },
   {
    "duration": 125,
    "start_time": "2024-06-02T15:44:19.316Z"
   },
   {
    "duration": 9,
    "start_time": "2024-06-02T15:44:19.445Z"
   },
   {
    "duration": 128,
    "start_time": "2024-06-02T15:44:19.461Z"
   },
   {
    "duration": 58,
    "start_time": "2024-06-02T15:44:19.593Z"
   },
   {
    "duration": 17,
    "start_time": "2024-06-02T15:44:19.654Z"
   },
   {
    "duration": 59,
    "start_time": "2024-06-02T15:44:19.674Z"
   },
   {
    "duration": 38,
    "start_time": "2024-06-02T15:44:19.739Z"
   },
   {
    "duration": 32,
    "start_time": "2024-06-02T15:44:19.781Z"
   },
   {
    "duration": 37,
    "start_time": "2024-06-02T15:44:19.817Z"
   },
   {
    "duration": 36,
    "start_time": "2024-06-02T15:44:32.168Z"
   },
   {
    "duration": 1573,
    "start_time": "2024-06-02T15:45:46.037Z"
   },
   {
    "duration": 24,
    "start_time": "2024-06-02T15:45:47.613Z"
   },
   {
    "duration": 19,
    "start_time": "2024-06-02T15:45:47.640Z"
   },
   {
    "duration": 53,
    "start_time": "2024-06-02T15:45:47.662Z"
   },
   {
    "duration": 6,
    "start_time": "2024-06-02T15:45:47.720Z"
   },
   {
    "duration": 21,
    "start_time": "2024-06-02T15:45:47.729Z"
   },
   {
    "duration": 7,
    "start_time": "2024-06-02T15:45:47.754Z"
   },
   {
    "duration": 49,
    "start_time": "2024-06-02T15:45:47.764Z"
   },
   {
    "duration": 6,
    "start_time": "2024-06-02T15:45:47.816Z"
   },
   {
    "duration": 8,
    "start_time": "2024-06-02T15:45:47.826Z"
   },
   {
    "duration": 16,
    "start_time": "2024-06-02T15:45:47.839Z"
   },
   {
    "duration": 56,
    "start_time": "2024-06-02T15:45:47.859Z"
   },
   {
    "duration": 21,
    "start_time": "2024-06-02T15:45:47.918Z"
   },
   {
    "duration": 7,
    "start_time": "2024-06-02T15:45:47.946Z"
   },
   {
    "duration": 236,
    "start_time": "2024-06-02T15:45:47.956Z"
   },
   {
    "duration": 168,
    "start_time": "2024-06-02T15:45:48.195Z"
   },
   {
    "duration": 171,
    "start_time": "2024-06-02T15:45:48.366Z"
   },
   {
    "duration": 175,
    "start_time": "2024-06-02T15:45:48.539Z"
   },
   {
    "duration": 11,
    "start_time": "2024-06-02T15:45:48.717Z"
   },
   {
    "duration": 6,
    "start_time": "2024-06-02T15:45:48.731Z"
   },
   {
    "duration": 6,
    "start_time": "2024-06-02T15:45:48.740Z"
   },
   {
    "duration": 5,
    "start_time": "2024-06-02T15:45:48.749Z"
   },
   {
    "duration": 7,
    "start_time": "2024-06-02T15:45:48.757Z"
   },
   {
    "duration": 41,
    "start_time": "2024-06-02T15:45:48.814Z"
   },
   {
    "duration": 56,
    "start_time": "2024-06-02T15:45:48.859Z"
   },
   {
    "duration": 103,
    "start_time": "2024-06-02T15:45:48.922Z"
   },
   {
    "duration": 87,
    "start_time": "2024-06-02T15:45:49.030Z"
   },
   {
    "duration": 130,
    "start_time": "2024-06-02T15:45:49.120Z"
   },
   {
    "duration": 66,
    "start_time": "2024-06-02T15:45:49.256Z"
   },
   {
    "duration": 89,
    "start_time": "2024-06-02T15:45:49.329Z"
   },
   {
    "duration": 197,
    "start_time": "2024-06-02T15:45:49.426Z"
   },
   {
    "duration": 7,
    "start_time": "2024-06-02T15:45:49.626Z"
   },
   {
    "duration": 118,
    "start_time": "2024-06-02T15:45:49.636Z"
   },
   {
    "duration": 56,
    "start_time": "2024-06-02T15:45:49.757Z"
   },
   {
    "duration": 18,
    "start_time": "2024-06-02T15:45:49.816Z"
   },
   {
    "duration": 35,
    "start_time": "2024-06-02T15:45:49.837Z"
   },
   {
    "duration": 68,
    "start_time": "2024-06-02T15:45:49.875Z"
   },
   {
    "duration": 13,
    "start_time": "2024-06-02T15:45:49.946Z"
   },
   {
    "duration": 73,
    "start_time": "2024-06-02T15:45:49.963Z"
   },
   {
    "duration": 30,
    "start_time": "2024-06-02T15:46:11.678Z"
   },
   {
    "duration": 43,
    "start_time": "2024-06-02T15:46:24.601Z"
   },
   {
    "duration": 49,
    "start_time": "2024-06-02T15:46:45.887Z"
   },
   {
    "duration": 38,
    "start_time": "2024-06-02T15:47:00.014Z"
   },
   {
    "duration": 21,
    "start_time": "2024-06-02T15:47:10.139Z"
   },
   {
    "duration": 35,
    "start_time": "2024-06-02T15:47:17.979Z"
   },
   {
    "duration": 1645,
    "start_time": "2024-06-02T15:48:14.932Z"
   },
   {
    "duration": 33,
    "start_time": "2024-06-02T15:48:16.580Z"
   },
   {
    "duration": 18,
    "start_time": "2024-06-02T15:48:16.615Z"
   },
   {
    "duration": 25,
    "start_time": "2024-06-02T15:48:16.637Z"
   },
   {
    "duration": 7,
    "start_time": "2024-06-02T15:48:16.665Z"
   },
   {
    "duration": 49,
    "start_time": "2024-06-02T15:48:16.676Z"
   },
   {
    "duration": 6,
    "start_time": "2024-06-02T15:48:16.731Z"
   },
   {
    "duration": 9,
    "start_time": "2024-06-02T15:48:16.740Z"
   },
   {
    "duration": 5,
    "start_time": "2024-06-02T15:48:16.751Z"
   },
   {
    "duration": 44,
    "start_time": "2024-06-02T15:48:16.768Z"
   },
   {
    "duration": 16,
    "start_time": "2024-06-02T15:48:16.816Z"
   },
   {
    "duration": 11,
    "start_time": "2024-06-02T15:48:16.835Z"
   },
   {
    "duration": 21,
    "start_time": "2024-06-02T15:48:16.849Z"
   },
   {
    "duration": 42,
    "start_time": "2024-06-02T15:48:16.873Z"
   },
   {
    "duration": 213,
    "start_time": "2024-06-02T15:48:16.918Z"
   },
   {
    "duration": 174,
    "start_time": "2024-06-02T15:48:17.134Z"
   },
   {
    "duration": 176,
    "start_time": "2024-06-02T15:48:17.313Z"
   },
   {
    "duration": 207,
    "start_time": "2024-06-02T15:48:17.492Z"
   },
   {
    "duration": 17,
    "start_time": "2024-06-02T15:48:17.702Z"
   },
   {
    "duration": 6,
    "start_time": "2024-06-02T15:48:17.722Z"
   },
   {
    "duration": 8,
    "start_time": "2024-06-02T15:48:17.733Z"
   },
   {
    "duration": 6,
    "start_time": "2024-06-02T15:48:17.744Z"
   },
   {
    "duration": 6,
    "start_time": "2024-06-02T15:48:17.754Z"
   },
   {
    "duration": 80,
    "start_time": "2024-06-02T15:48:17.764Z"
   },
   {
    "duration": 65,
    "start_time": "2024-06-02T15:48:17.848Z"
   },
   {
    "duration": 104,
    "start_time": "2024-06-02T15:48:17.916Z"
   },
   {
    "duration": 89,
    "start_time": "2024-06-02T15:48:18.023Z"
   },
   {
    "duration": 129,
    "start_time": "2024-06-02T15:48:18.126Z"
   },
   {
    "duration": 66,
    "start_time": "2024-06-02T15:48:18.257Z"
   },
   {
    "duration": 91,
    "start_time": "2024-06-02T15:48:18.326Z"
   },
   {
    "duration": 200,
    "start_time": "2024-06-02T15:48:18.420Z"
   },
   {
    "duration": 7,
    "start_time": "2024-06-02T15:48:18.623Z"
   },
   {
    "duration": 123,
    "start_time": "2024-06-02T15:48:18.634Z"
   },
   {
    "duration": 61,
    "start_time": "2024-06-02T15:48:18.761Z"
   },
   {
    "duration": 18,
    "start_time": "2024-06-02T15:48:18.825Z"
   },
   {
    "duration": 35,
    "start_time": "2024-06-02T15:48:18.847Z"
   },
   {
    "duration": 35,
    "start_time": "2024-06-02T15:48:18.913Z"
   },
   {
    "duration": 12,
    "start_time": "2024-06-02T15:48:18.952Z"
   },
   {
    "duration": 64,
    "start_time": "2024-06-02T15:48:18.967Z"
   },
   {
    "duration": 33,
    "start_time": "2024-06-02T15:49:02.789Z"
   },
   {
    "duration": 1609,
    "start_time": "2024-06-02T15:50:01.935Z"
   },
   {
    "duration": 26,
    "start_time": "2024-06-02T15:50:03.549Z"
   },
   {
    "duration": 37,
    "start_time": "2024-06-02T15:50:03.577Z"
   },
   {
    "duration": 28,
    "start_time": "2024-06-02T15:50:03.617Z"
   },
   {
    "duration": 7,
    "start_time": "2024-06-02T15:50:03.649Z"
   },
   {
    "duration": 18,
    "start_time": "2024-06-02T15:50:03.659Z"
   },
   {
    "duration": 15,
    "start_time": "2024-06-02T15:50:03.713Z"
   },
   {
    "duration": 9,
    "start_time": "2024-06-02T15:50:03.731Z"
   },
   {
    "duration": 5,
    "start_time": "2024-06-02T15:50:03.743Z"
   },
   {
    "duration": 6,
    "start_time": "2024-06-02T15:50:03.751Z"
   },
   {
    "duration": 63,
    "start_time": "2024-06-02T15:50:03.761Z"
   },
   {
    "duration": 13,
    "start_time": "2024-06-02T15:50:03.827Z"
   },
   {
    "duration": 20,
    "start_time": "2024-06-02T15:50:03.843Z"
   },
   {
    "duration": 5,
    "start_time": "2024-06-02T15:50:03.870Z"
   },
   {
    "duration": 238,
    "start_time": "2024-06-02T15:50:03.877Z"
   },
   {
    "duration": 180,
    "start_time": "2024-06-02T15:50:04.118Z"
   },
   {
    "duration": 188,
    "start_time": "2024-06-02T15:50:04.302Z"
   },
   {
    "duration": 182,
    "start_time": "2024-06-02T15:50:04.493Z"
   },
   {
    "duration": 10,
    "start_time": "2024-06-02T15:50:04.677Z"
   },
   {
    "duration": 25,
    "start_time": "2024-06-02T15:50:04.690Z"
   },
   {
    "duration": 7,
    "start_time": "2024-06-02T15:50:04.719Z"
   },
   {
    "duration": 7,
    "start_time": "2024-06-02T15:50:04.730Z"
   },
   {
    "duration": 6,
    "start_time": "2024-06-02T15:50:04.740Z"
   },
   {
    "duration": 83,
    "start_time": "2024-06-02T15:50:04.750Z"
   },
   {
    "duration": 33,
    "start_time": "2024-06-02T15:50:04.835Z"
   },
   {
    "duration": 103,
    "start_time": "2024-06-02T15:50:04.914Z"
   },
   {
    "duration": 97,
    "start_time": "2024-06-02T15:50:05.020Z"
   },
   {
    "duration": 112,
    "start_time": "2024-06-02T15:50:05.120Z"
   },
   {
    "duration": 84,
    "start_time": "2024-06-02T15:50:05.235Z"
   },
   {
    "duration": 92,
    "start_time": "2024-06-02T15:50:05.321Z"
   },
   {
    "duration": 128,
    "start_time": "2024-06-02T15:50:05.416Z"
   },
   {
    "duration": 8,
    "start_time": "2024-06-02T15:50:05.548Z"
   },
   {
    "duration": 122,
    "start_time": "2024-06-02T15:50:05.559Z"
   },
   {
    "duration": 64,
    "start_time": "2024-06-02T15:50:05.683Z"
   },
   {
    "duration": 23,
    "start_time": "2024-06-02T15:50:05.750Z"
   },
   {
    "duration": 53,
    "start_time": "2024-06-02T15:50:05.776Z"
   },
   {
    "duration": 32,
    "start_time": "2024-06-02T15:50:05.832Z"
   },
   {
    "duration": 11,
    "start_time": "2024-06-02T15:50:05.867Z"
   },
   {
    "duration": 64,
    "start_time": "2024-06-02T15:50:05.881Z"
   },
   {
    "duration": 31,
    "start_time": "2024-06-02T15:50:19.044Z"
   },
   {
    "duration": 31,
    "start_time": "2024-06-02T15:50:39.746Z"
   },
   {
    "duration": 36,
    "start_time": "2024-06-02T15:50:42.962Z"
   },
   {
    "duration": 1568,
    "start_time": "2024-06-02T15:51:47.929Z"
   },
   {
    "duration": 28,
    "start_time": "2024-06-02T15:51:49.501Z"
   },
   {
    "duration": 18,
    "start_time": "2024-06-02T15:51:49.532Z"
   },
   {
    "duration": 26,
    "start_time": "2024-06-02T15:51:49.553Z"
   },
   {
    "duration": 7,
    "start_time": "2024-06-02T15:51:49.611Z"
   },
   {
    "duration": 18,
    "start_time": "2024-06-02T15:51:49.621Z"
   },
   {
    "duration": 8,
    "start_time": "2024-06-02T15:51:49.642Z"
   },
   {
    "duration": 8,
    "start_time": "2024-06-02T15:51:49.653Z"
   },
   {
    "duration": 50,
    "start_time": "2024-06-02T15:51:49.664Z"
   },
   {
    "duration": 7,
    "start_time": "2024-06-02T15:51:49.717Z"
   },
   {
    "duration": 18,
    "start_time": "2024-06-02T15:51:49.727Z"
   },
   {
    "duration": 12,
    "start_time": "2024-06-02T15:51:49.748Z"
   },
   {
    "duration": 61,
    "start_time": "2024-06-02T15:51:49.764Z"
   },
   {
    "duration": 5,
    "start_time": "2024-06-02T15:51:49.831Z"
   },
   {
    "duration": 222,
    "start_time": "2024-06-02T15:51:49.839Z"
   },
   {
    "duration": 173,
    "start_time": "2024-06-02T15:51:50.065Z"
   },
   {
    "duration": 175,
    "start_time": "2024-06-02T15:51:50.242Z"
   },
   {
    "duration": 181,
    "start_time": "2024-06-02T15:51:50.420Z"
   },
   {
    "duration": 15,
    "start_time": "2024-06-02T15:51:50.604Z"
   },
   {
    "duration": 6,
    "start_time": "2024-06-02T15:51:50.621Z"
   },
   {
    "duration": 6,
    "start_time": "2024-06-02T15:51:50.630Z"
   },
   {
    "duration": 6,
    "start_time": "2024-06-02T15:51:50.639Z"
   },
   {
    "duration": 5,
    "start_time": "2024-06-02T15:51:50.649Z"
   },
   {
    "duration": 82,
    "start_time": "2024-06-02T15:51:50.658Z"
   },
   {
    "duration": 70,
    "start_time": "2024-06-02T15:51:50.742Z"
   },
   {
    "duration": 104,
    "start_time": "2024-06-02T15:51:50.814Z"
   },
   {
    "duration": 91,
    "start_time": "2024-06-02T15:51:50.921Z"
   },
   {
    "duration": 116,
    "start_time": "2024-06-02T15:51:51.015Z"
   },
   {
    "duration": 81,
    "start_time": "2024-06-02T15:51:51.140Z"
   },
   {
    "duration": 92,
    "start_time": "2024-06-02T15:51:51.224Z"
   },
   {
    "duration": 131,
    "start_time": "2024-06-02T15:51:51.318Z"
   },
   {
    "duration": 62,
    "start_time": "2024-06-02T15:51:51.452Z"
   },
   {
    "duration": 114,
    "start_time": "2024-06-02T15:51:51.517Z"
   },
   {
    "duration": 46,
    "start_time": "2024-06-02T15:51:51.634Z"
   },
   {
    "duration": 37,
    "start_time": "2024-06-02T15:51:51.684Z"
   },
   {
    "duration": 37,
    "start_time": "2024-06-02T15:51:51.724Z"
   },
   {
    "duration": 56,
    "start_time": "2024-06-02T15:51:51.764Z"
   },
   {
    "duration": 10,
    "start_time": "2024-06-02T15:51:51.823Z"
   },
   {
    "duration": 32,
    "start_time": "2024-06-02T15:51:51.836Z"
   },
   {
    "duration": 35,
    "start_time": "2024-06-02T15:52:18.709Z"
   },
   {
    "duration": 25,
    "start_time": "2024-06-02T15:52:59.831Z"
   },
   {
    "duration": 32,
    "start_time": "2024-06-02T15:53:05.011Z"
   },
   {
    "duration": 5314,
    "start_time": "2024-06-02T16:57:12.682Z"
   },
   {
    "duration": 61,
    "start_time": "2024-06-02T16:57:18.001Z"
   },
   {
    "duration": 22,
    "start_time": "2024-06-02T16:57:18.069Z"
   },
   {
    "duration": 54,
    "start_time": "2024-06-02T16:57:18.096Z"
   },
   {
    "duration": 8,
    "start_time": "2024-06-02T16:57:18.153Z"
   },
   {
    "duration": 18,
    "start_time": "2024-06-02T16:57:18.164Z"
   },
   {
    "duration": 7,
    "start_time": "2024-06-02T16:57:18.184Z"
   },
   {
    "duration": 44,
    "start_time": "2024-06-02T16:57:18.194Z"
   },
   {
    "duration": 5,
    "start_time": "2024-06-02T16:57:18.241Z"
   },
   {
    "duration": 5,
    "start_time": "2024-06-02T16:57:18.249Z"
   },
   {
    "duration": 17,
    "start_time": "2024-06-02T16:57:18.258Z"
   },
   {
    "duration": 56,
    "start_time": "2024-06-02T16:57:18.278Z"
   },
   {
    "duration": 19,
    "start_time": "2024-06-02T16:57:18.340Z"
   },
   {
    "duration": 6,
    "start_time": "2024-06-02T16:57:18.362Z"
   },
   {
    "duration": 215,
    "start_time": "2024-06-02T16:57:18.371Z"
   },
   {
    "duration": 226,
    "start_time": "2024-06-02T16:57:18.589Z"
   },
   {
    "duration": 169,
    "start_time": "2024-06-02T16:57:18.818Z"
   },
   {
    "duration": 198,
    "start_time": "2024-06-02T16:57:18.991Z"
   },
   {
    "duration": 9,
    "start_time": "2024-06-02T16:57:19.193Z"
   },
   {
    "duration": 6,
    "start_time": "2024-06-02T16:57:19.206Z"
   },
   {
    "duration": 5,
    "start_time": "2024-06-02T16:57:19.234Z"
   },
   {
    "duration": 6,
    "start_time": "2024-06-02T16:57:19.242Z"
   },
   {
    "duration": 6,
    "start_time": "2024-06-02T16:57:19.251Z"
   },
   {
    "duration": 72,
    "start_time": "2024-06-02T16:57:19.261Z"
   },
   {
    "duration": 30,
    "start_time": "2024-06-02T16:57:19.336Z"
   },
   {
    "duration": 87,
    "start_time": "2024-06-02T16:57:19.368Z"
   },
   {
    "duration": 95,
    "start_time": "2024-06-02T16:57:19.457Z"
   },
   {
    "duration": 130,
    "start_time": "2024-06-02T16:57:19.555Z"
   },
   {
    "duration": 52,
    "start_time": "2024-06-02T16:57:19.689Z"
   },
   {
    "duration": 93,
    "start_time": "2024-06-02T16:57:19.744Z"
   },
   {
    "duration": 124,
    "start_time": "2024-06-02T16:57:19.840Z"
   },
   {
    "duration": 64,
    "start_time": "2024-06-02T16:57:19.969Z"
   },
   {
    "duration": 118,
    "start_time": "2024-06-02T16:57:20.036Z"
   },
   {
    "duration": 46,
    "start_time": "2024-06-02T16:57:20.157Z"
   },
   {
    "duration": 39,
    "start_time": "2024-06-02T16:57:20.206Z"
   },
   {
    "duration": 37,
    "start_time": "2024-06-02T16:57:20.248Z"
   },
   {
    "duration": 53,
    "start_time": "2024-06-02T16:57:20.288Z"
   },
   {
    "duration": 12,
    "start_time": "2024-06-02T16:57:20.345Z"
   },
   {
    "duration": 33,
    "start_time": "2024-06-02T16:57:20.360Z"
   },
   {
    "duration": 1518,
    "start_time": "2024-06-02T17:01:04.876Z"
   },
   {
    "duration": 35,
    "start_time": "2024-06-02T17:01:06.397Z"
   },
   {
    "duration": 18,
    "start_time": "2024-06-02T17:01:06.436Z"
   },
   {
    "duration": 25,
    "start_time": "2024-06-02T17:01:06.458Z"
   },
   {
    "duration": 6,
    "start_time": "2024-06-02T17:01:06.486Z"
   },
   {
    "duration": 46,
    "start_time": "2024-06-02T17:01:06.495Z"
   },
   {
    "duration": 6,
    "start_time": "2024-06-02T17:01:06.544Z"
   },
   {
    "duration": 8,
    "start_time": "2024-06-02T17:01:06.553Z"
   },
   {
    "duration": 5,
    "start_time": "2024-06-02T17:01:06.565Z"
   },
   {
    "duration": 59,
    "start_time": "2024-06-02T17:01:06.577Z"
   },
   {
    "duration": 17,
    "start_time": "2024-06-02T17:01:06.639Z"
   },
   {
    "duration": 13,
    "start_time": "2024-06-02T17:01:06.659Z"
   },
   {
    "duration": 71,
    "start_time": "2024-06-02T17:01:06.675Z"
   },
   {
    "duration": 6,
    "start_time": "2024-06-02T17:01:06.749Z"
   },
   {
    "duration": 264,
    "start_time": "2024-06-02T17:01:06.758Z"
   },
   {
    "duration": 176,
    "start_time": "2024-06-02T17:01:07.026Z"
   },
   {
    "duration": 173,
    "start_time": "2024-06-02T17:01:07.205Z"
   },
   {
    "duration": 184,
    "start_time": "2024-06-02T17:01:07.381Z"
   },
   {
    "duration": 10,
    "start_time": "2024-06-02T17:01:07.568Z"
   },
   {
    "duration": 5,
    "start_time": "2024-06-02T17:01:07.581Z"
   },
   {
    "duration": 6,
    "start_time": "2024-06-02T17:01:07.589Z"
   },
   {
    "duration": 38,
    "start_time": "2024-06-02T17:01:07.598Z"
   },
   {
    "duration": 6,
    "start_time": "2024-06-02T17:01:07.639Z"
   },
   {
    "duration": 37,
    "start_time": "2024-06-02T17:01:07.648Z"
   },
   {
    "duration": 64,
    "start_time": "2024-06-02T17:01:07.689Z"
   },
   {
    "duration": 96,
    "start_time": "2024-06-02T17:01:07.761Z"
   },
   {
    "duration": 19,
    "start_time": "2024-06-02T17:01:07.935Z"
   },
   {
    "duration": 58,
    "start_time": "2024-06-02T17:01:08.037Z"
   },
   {
    "duration": 15,
    "start_time": "2024-06-02T17:01:08.134Z"
   },
   {
    "duration": 92,
    "start_time": "2024-06-02T17:01:08.152Z"
   },
   {
    "duration": 188,
    "start_time": "2024-06-02T17:01:08.246Z"
   },
   {
    "duration": 8,
    "start_time": "2024-06-02T17:01:08.437Z"
   },
   {
    "duration": 118,
    "start_time": "2024-06-02T17:01:08.448Z"
   },
   {
    "duration": 49,
    "start_time": "2024-06-02T17:01:08.569Z"
   },
   {
    "duration": 17,
    "start_time": "2024-06-02T17:01:08.634Z"
   },
   {
    "duration": 36,
    "start_time": "2024-06-02T17:01:08.654Z"
   },
   {
    "duration": 59,
    "start_time": "2024-06-02T17:01:08.693Z"
   },
   {
    "duration": 11,
    "start_time": "2024-06-02T17:01:08.755Z"
   },
   {
    "duration": 33,
    "start_time": "2024-06-02T17:01:08.770Z"
   },
   {
    "duration": 1561,
    "start_time": "2024-06-02T17:03:17.202Z"
   },
   {
    "duration": 24,
    "start_time": "2024-06-02T17:03:18.767Z"
   },
   {
    "duration": 19,
    "start_time": "2024-06-02T17:03:18.794Z"
   },
   {
    "duration": 25,
    "start_time": "2024-06-02T17:03:18.833Z"
   },
   {
    "duration": 6,
    "start_time": "2024-06-02T17:03:18.863Z"
   },
   {
    "duration": 15,
    "start_time": "2024-06-02T17:03:18.872Z"
   },
   {
    "duration": 44,
    "start_time": "2024-06-02T17:03:18.890Z"
   },
   {
    "duration": 8,
    "start_time": "2024-06-02T17:03:18.937Z"
   },
   {
    "duration": 5,
    "start_time": "2024-06-02T17:03:18.949Z"
   },
   {
    "duration": 6,
    "start_time": "2024-06-02T17:03:18.957Z"
   },
   {
    "duration": 16,
    "start_time": "2024-06-02T17:03:18.966Z"
   },
   {
    "duration": 57,
    "start_time": "2024-06-02T17:03:18.984Z"
   },
   {
    "duration": 20,
    "start_time": "2024-06-02T17:03:19.046Z"
   },
   {
    "duration": 5,
    "start_time": "2024-06-02T17:03:19.073Z"
   },
   {
    "duration": 238,
    "start_time": "2024-06-02T17:03:19.081Z"
   },
   {
    "duration": 168,
    "start_time": "2024-06-02T17:03:19.323Z"
   },
   {
    "duration": 173,
    "start_time": "2024-06-02T17:03:19.496Z"
   },
   {
    "duration": 177,
    "start_time": "2024-06-02T17:03:19.672Z"
   },
   {
    "duration": 10,
    "start_time": "2024-06-02T17:03:19.852Z"
   },
   {
    "duration": 5,
    "start_time": "2024-06-02T17:03:19.865Z"
   },
   {
    "duration": 6,
    "start_time": "2024-06-02T17:03:19.873Z"
   },
   {
    "duration": 7,
    "start_time": "2024-06-02T17:03:19.882Z"
   },
   {
    "duration": 5,
    "start_time": "2024-06-02T17:03:19.932Z"
   },
   {
    "duration": 35,
    "start_time": "2024-06-02T17:03:19.940Z"
   },
   {
    "duration": 58,
    "start_time": "2024-06-02T17:03:19.978Z"
   },
   {
    "duration": 108,
    "start_time": "2024-06-02T17:03:20.038Z"
   },
   {
    "duration": 88,
    "start_time": "2024-06-02T17:03:20.152Z"
   },
   {
    "duration": 130,
    "start_time": "2024-06-02T17:03:20.243Z"
   },
   {
    "duration": 62,
    "start_time": "2024-06-02T17:03:20.376Z"
   },
   {
    "duration": 94,
    "start_time": "2024-06-02T17:03:20.446Z"
   },
   {
    "duration": 203,
    "start_time": "2024-06-02T17:03:20.548Z"
   },
   {
    "duration": 7,
    "start_time": "2024-06-02T17:03:20.754Z"
   },
   {
    "duration": 115,
    "start_time": "2024-06-02T17:03:20.763Z"
   },
   {
    "duration": 57,
    "start_time": "2024-06-02T17:03:20.883Z"
   },
   {
    "duration": 17,
    "start_time": "2024-06-02T17:03:20.944Z"
   },
   {
    "duration": 34,
    "start_time": "2024-06-02T17:03:20.964Z"
   },
   {
    "duration": 56,
    "start_time": "2024-06-02T17:03:21.001Z"
   },
   {
    "duration": 10,
    "start_time": "2024-06-02T17:03:21.060Z"
   },
   {
    "duration": 30,
    "start_time": "2024-06-02T17:03:21.073Z"
   },
   {
    "duration": 49,
    "start_time": "2024-06-02T17:03:35.842Z"
   },
   {
    "duration": 33,
    "start_time": "2024-06-02T17:03:47.910Z"
   },
   {
    "duration": 413,
    "start_time": "2024-06-02T17:06:18.493Z"
   },
   {
    "duration": 1549,
    "start_time": "2024-06-02T17:06:24.781Z"
   },
   {
    "duration": 25,
    "start_time": "2024-06-02T17:06:26.335Z"
   },
   {
    "duration": 17,
    "start_time": "2024-06-02T17:06:26.363Z"
   },
   {
    "duration": 51,
    "start_time": "2024-06-02T17:06:26.383Z"
   },
   {
    "duration": 6,
    "start_time": "2024-06-02T17:06:26.439Z"
   },
   {
    "duration": 16,
    "start_time": "2024-06-02T17:06:26.448Z"
   },
   {
    "duration": 6,
    "start_time": "2024-06-02T17:06:26.467Z"
   },
   {
    "duration": 8,
    "start_time": "2024-06-02T17:06:26.476Z"
   },
   {
    "duration": 49,
    "start_time": "2024-06-02T17:06:26.486Z"
   },
   {
    "duration": 5,
    "start_time": "2024-06-02T17:06:26.538Z"
   },
   {
    "duration": 16,
    "start_time": "2024-06-02T17:06:26.547Z"
   },
   {
    "duration": 12,
    "start_time": "2024-06-02T17:06:26.566Z"
   },
   {
    "duration": 60,
    "start_time": "2024-06-02T17:06:26.581Z"
   },
   {
    "duration": 5,
    "start_time": "2024-06-02T17:06:26.648Z"
   },
   {
    "duration": 226,
    "start_time": "2024-06-02T17:06:26.656Z"
   },
   {
    "duration": 163,
    "start_time": "2024-06-02T17:06:26.885Z"
   },
   {
    "duration": 186,
    "start_time": "2024-06-02T17:06:27.051Z"
   },
   {
    "duration": 184,
    "start_time": "2024-06-02T17:06:27.240Z"
   },
   {
    "duration": 16,
    "start_time": "2024-06-02T17:06:27.427Z"
   },
   {
    "duration": 6,
    "start_time": "2024-06-02T17:06:27.446Z"
   },
   {
    "duration": 6,
    "start_time": "2024-06-02T17:06:27.455Z"
   },
   {
    "duration": 7,
    "start_time": "2024-06-02T17:06:27.465Z"
   },
   {
    "duration": 5,
    "start_time": "2024-06-02T17:06:27.475Z"
   },
   {
    "duration": 80,
    "start_time": "2024-06-02T17:06:27.484Z"
   },
   {
    "duration": 66,
    "start_time": "2024-06-02T17:06:27.567Z"
   },
   {
    "duration": 101,
    "start_time": "2024-06-02T17:06:27.636Z"
   },
   {
    "duration": 98,
    "start_time": "2024-06-02T17:06:27.741Z"
   },
   {
    "duration": 110,
    "start_time": "2024-06-02T17:06:27.847Z"
   },
   {
    "duration": 74,
    "start_time": "2024-06-02T17:06:27.959Z"
   },
   {
    "duration": 17,
    "start_time": "2024-06-02T17:06:28.036Z"
   },
   {
    "duration": 196,
    "start_time": "2024-06-02T17:06:28.056Z"
   },
   {
    "duration": 8,
    "start_time": "2024-06-02T17:06:28.255Z"
   },
   {
    "duration": 118,
    "start_time": "2024-06-02T17:06:28.266Z"
   },
   {
    "duration": 61,
    "start_time": "2024-06-02T17:06:28.387Z"
   },
   {
    "duration": 17,
    "start_time": "2024-06-02T17:06:28.452Z"
   },
   {
    "duration": 35,
    "start_time": "2024-06-02T17:06:28.472Z"
   },
   {
    "duration": 30,
    "start_time": "2024-06-02T17:06:28.533Z"
   },
   {
    "duration": 12,
    "start_time": "2024-06-02T17:06:28.565Z"
   },
   {
    "duration": 63,
    "start_time": "2024-06-02T17:06:28.579Z"
   },
   {
    "duration": 17188,
    "start_time": "2024-06-02T17:06:28.645Z"
   },
   {
    "duration": 450,
    "start_time": "2024-06-02T17:07:16.951Z"
   },
   {
    "duration": 11920,
    "start_time": "2024-06-02T17:07:31.786Z"
   },
   {
    "duration": 6,
    "start_time": "2024-06-02T17:09:01.339Z"
   },
   {
    "duration": 220,
    "start_time": "2024-06-02T17:09:12.022Z"
   },
   {
    "duration": 228,
    "start_time": "2024-06-02T17:09:29.975Z"
   },
   {
    "duration": 239,
    "start_time": "2024-06-02T17:09:41.250Z"
   },
   {
    "duration": 236,
    "start_time": "2024-06-02T17:10:36.202Z"
   },
   {
    "duration": 105,
    "start_time": "2024-06-02T17:10:55.048Z"
   },
   {
    "duration": 107,
    "start_time": "2024-06-02T17:11:11.968Z"
   },
   {
    "duration": 229,
    "start_time": "2024-06-02T17:11:25.517Z"
   },
   {
    "duration": 232,
    "start_time": "2024-06-02T17:12:08.123Z"
   },
   {
    "duration": 173,
    "start_time": "2024-06-02T17:12:19.560Z"
   },
   {
    "duration": 35,
    "start_time": "2024-06-02T17:17:52.473Z"
   },
   {
    "duration": 38,
    "start_time": "2024-06-02T17:18:04.640Z"
   },
   {
    "duration": 18,
    "start_time": "2024-06-02T17:18:33.153Z"
   },
   {
    "duration": 19,
    "start_time": "2024-06-02T17:18:42.600Z"
   },
   {
    "duration": 20,
    "start_time": "2024-06-02T17:19:00.748Z"
   },
   {
    "duration": 30,
    "start_time": "2024-06-02T17:19:06.953Z"
   },
   {
    "duration": 413,
    "start_time": "2024-06-02T17:20:10.827Z"
   },
   {
    "duration": 70,
    "start_time": "2024-06-02T17:20:18.452Z"
   },
   {
    "duration": 95,
    "start_time": "2024-06-02T17:20:22.503Z"
   },
   {
    "duration": 30,
    "start_time": "2024-06-02T17:21:47.942Z"
   },
   {
    "duration": 33,
    "start_time": "2024-06-02T17:21:54.239Z"
   },
   {
    "duration": 1591,
    "start_time": "2024-06-02T17:23:01.383Z"
   },
   {
    "duration": 26,
    "start_time": "2024-06-02T17:23:02.977Z"
   },
   {
    "duration": 30,
    "start_time": "2024-06-02T17:23:03.006Z"
   },
   {
    "duration": 27,
    "start_time": "2024-06-02T17:23:03.038Z"
   },
   {
    "duration": 6,
    "start_time": "2024-06-02T17:23:03.071Z"
   },
   {
    "duration": 53,
    "start_time": "2024-06-02T17:23:03.081Z"
   },
   {
    "duration": 8,
    "start_time": "2024-06-02T17:23:03.136Z"
   },
   {
    "duration": 7,
    "start_time": "2024-06-02T17:23:03.147Z"
   },
   {
    "duration": 5,
    "start_time": "2024-06-02T17:23:03.157Z"
   },
   {
    "duration": 6,
    "start_time": "2024-06-02T17:23:03.165Z"
   },
   {
    "duration": 65,
    "start_time": "2024-06-02T17:23:03.174Z"
   },
   {
    "duration": 13,
    "start_time": "2024-06-02T17:23:03.242Z"
   },
   {
    "duration": 21,
    "start_time": "2024-06-02T17:23:03.257Z"
   },
   {
    "duration": 5,
    "start_time": "2024-06-02T17:23:03.285Z"
   },
   {
    "duration": 226,
    "start_time": "2024-06-02T17:23:03.293Z"
   },
   {
    "duration": 167,
    "start_time": "2024-06-02T17:23:03.522Z"
   },
   {
    "duration": 166,
    "start_time": "2024-06-02T17:23:03.693Z"
   },
   {
    "duration": 194,
    "start_time": "2024-06-02T17:23:03.863Z"
   },
   {
    "duration": 10,
    "start_time": "2024-06-02T17:23:04.060Z"
   },
   {
    "duration": 6,
    "start_time": "2024-06-02T17:23:04.073Z"
   },
   {
    "duration": 6,
    "start_time": "2024-06-02T17:23:04.082Z"
   },
   {
    "duration": 41,
    "start_time": "2024-06-02T17:23:04.092Z"
   },
   {
    "duration": 6,
    "start_time": "2024-06-02T17:23:04.136Z"
   },
   {
    "duration": 43,
    "start_time": "2024-06-02T17:23:04.145Z"
   },
   {
    "duration": 57,
    "start_time": "2024-06-02T17:23:04.190Z"
   },
   {
    "duration": 98,
    "start_time": "2024-06-02T17:23:04.249Z"
   },
   {
    "duration": 90,
    "start_time": "2024-06-02T17:23:04.350Z"
   },
   {
    "duration": 129,
    "start_time": "2024-06-02T17:23:04.443Z"
   },
   {
    "duration": 73,
    "start_time": "2024-06-02T17:23:04.575Z"
   },
   {
    "duration": 90,
    "start_time": "2024-06-02T17:23:04.651Z"
   },
   {
    "duration": 205,
    "start_time": "2024-06-02T17:23:04.744Z"
   },
   {
    "duration": 8,
    "start_time": "2024-06-02T17:23:04.951Z"
   },
   {
    "duration": 125,
    "start_time": "2024-06-02T17:23:04.964Z"
   },
   {
    "duration": 60,
    "start_time": "2024-06-02T17:23:05.092Z"
   },
   {
    "duration": 18,
    "start_time": "2024-06-02T17:23:05.155Z"
   },
   {
    "duration": 19,
    "start_time": "2024-06-02T17:23:05.176Z"
   },
   {
    "duration": 63,
    "start_time": "2024-06-02T17:23:05.198Z"
   },
   {
    "duration": 12,
    "start_time": "2024-06-02T17:23:05.263Z"
   },
   {
    "duration": 56,
    "start_time": "2024-06-02T17:23:05.277Z"
   },
   {
    "duration": 43,
    "start_time": "2024-06-02T17:23:22.225Z"
   },
   {
    "duration": 19,
    "start_time": "2024-06-02T17:23:52.757Z"
   },
   {
    "duration": 21,
    "start_time": "2024-06-02T17:24:02.805Z"
   },
   {
    "duration": 24,
    "start_time": "2024-06-02T17:24:55.449Z"
   },
   {
    "duration": 21,
    "start_time": "2024-06-02T17:25:04.634Z"
   },
   {
    "duration": 34,
    "start_time": "2024-06-02T17:25:35.831Z"
   },
   {
    "duration": 1683,
    "start_time": "2024-06-02T17:27:54.885Z"
   },
   {
    "duration": 32,
    "start_time": "2024-06-02T17:27:56.572Z"
   },
   {
    "duration": 37,
    "start_time": "2024-06-02T17:27:56.608Z"
   },
   {
    "duration": 34,
    "start_time": "2024-06-02T17:27:56.648Z"
   },
   {
    "duration": 8,
    "start_time": "2024-06-02T17:27:56.688Z"
   },
   {
    "duration": 54,
    "start_time": "2024-06-02T17:27:56.699Z"
   },
   {
    "duration": 10,
    "start_time": "2024-06-02T17:27:56.756Z"
   },
   {
    "duration": 8,
    "start_time": "2024-06-02T17:27:56.771Z"
   },
   {
    "duration": 5,
    "start_time": "2024-06-02T17:27:56.783Z"
   },
   {
    "duration": 45,
    "start_time": "2024-06-02T17:27:56.792Z"
   },
   {
    "duration": 18,
    "start_time": "2024-06-02T17:27:56.840Z"
   },
   {
    "duration": 14,
    "start_time": "2024-06-02T17:27:56.861Z"
   },
   {
    "duration": 60,
    "start_time": "2024-06-02T17:27:56.879Z"
   },
   {
    "duration": 7,
    "start_time": "2024-06-02T17:27:56.949Z"
   },
   {
    "duration": 208,
    "start_time": "2024-06-02T17:27:56.959Z"
   },
   {
    "duration": 180,
    "start_time": "2024-06-02T17:27:57.169Z"
   },
   {
    "duration": 173,
    "start_time": "2024-06-02T17:27:57.352Z"
   },
   {
    "duration": 193,
    "start_time": "2024-06-02T17:27:57.527Z"
   },
   {
    "duration": 18,
    "start_time": "2024-06-02T17:27:57.722Z"
   },
   {
    "duration": 6,
    "start_time": "2024-06-02T17:27:57.742Z"
   },
   {
    "duration": 7,
    "start_time": "2024-06-02T17:27:57.750Z"
   },
   {
    "duration": 6,
    "start_time": "2024-06-02T17:27:57.761Z"
   },
   {
    "duration": 5,
    "start_time": "2024-06-02T17:27:57.770Z"
   },
   {
    "duration": 90,
    "start_time": "2024-06-02T17:27:57.778Z"
   },
   {
    "duration": 64,
    "start_time": "2024-06-02T17:27:57.870Z"
   },
   {
    "duration": 105,
    "start_time": "2024-06-02T17:27:57.936Z"
   },
   {
    "duration": 89,
    "start_time": "2024-06-02T17:27:58.044Z"
   },
   {
    "duration": 124,
    "start_time": "2024-06-02T17:27:58.135Z"
   },
   {
    "duration": 79,
    "start_time": "2024-06-02T17:27:58.265Z"
   },
   {
    "duration": 89,
    "start_time": "2024-06-02T17:27:58.347Z"
   },
   {
    "duration": 196,
    "start_time": "2024-06-02T17:27:58.440Z"
   },
   {
    "duration": 7,
    "start_time": "2024-06-02T17:27:58.639Z"
   },
   {
    "duration": 121,
    "start_time": "2024-06-02T17:27:58.649Z"
   },
   {
    "duration": 59,
    "start_time": "2024-06-02T17:27:58.773Z"
   },
   {
    "duration": 17,
    "start_time": "2024-06-02T17:27:58.836Z"
   },
   {
    "duration": 36,
    "start_time": "2024-06-02T17:27:58.856Z"
   },
   {
    "duration": 67,
    "start_time": "2024-06-02T17:27:58.895Z"
   },
   {
    "duration": 11,
    "start_time": "2024-06-02T17:27:58.964Z"
   },
   {
    "duration": 22,
    "start_time": "2024-06-02T17:27:58.978Z"
   },
   {
    "duration": 5233,
    "start_time": "2024-06-03T07:06:59.702Z"
   },
   {
    "duration": 34,
    "start_time": "2024-06-03T07:07:04.939Z"
   },
   {
    "duration": 21,
    "start_time": "2024-06-03T07:07:04.976Z"
   },
   {
    "duration": 44,
    "start_time": "2024-06-03T07:07:05.001Z"
   },
   {
    "duration": 7,
    "start_time": "2024-06-03T07:07:05.049Z"
   },
   {
    "duration": 21,
    "start_time": "2024-06-03T07:07:05.059Z"
   },
   {
    "duration": 7,
    "start_time": "2024-06-03T07:07:05.084Z"
   },
   {
    "duration": 40,
    "start_time": "2024-06-03T07:07:05.094Z"
   },
   {
    "duration": 7,
    "start_time": "2024-06-03T07:07:05.138Z"
   },
   {
    "duration": 5,
    "start_time": "2024-06-03T07:07:05.152Z"
   },
   {
    "duration": 17,
    "start_time": "2024-06-03T07:07:05.161Z"
   },
   {
    "duration": 58,
    "start_time": "2024-06-03T07:07:05.182Z"
   },
   {
    "duration": 20,
    "start_time": "2024-06-03T07:07:05.242Z"
   },
   {
    "duration": 5,
    "start_time": "2024-06-03T07:07:05.265Z"
   },
   {
    "duration": 216,
    "start_time": "2024-06-03T07:07:05.274Z"
   },
   {
    "duration": 165,
    "start_time": "2024-06-03T07:07:05.492Z"
   },
   {
    "duration": 238,
    "start_time": "2024-06-03T07:07:05.661Z"
   },
   {
    "duration": 178,
    "start_time": "2024-06-03T07:07:05.903Z"
   },
   {
    "duration": 10,
    "start_time": "2024-06-03T07:07:06.084Z"
   },
   {
    "duration": 6,
    "start_time": "2024-06-03T07:07:06.096Z"
   },
   {
    "duration": 5,
    "start_time": "2024-06-03T07:07:06.132Z"
   },
   {
    "duration": 6,
    "start_time": "2024-06-03T07:07:06.140Z"
   },
   {
    "duration": 5,
    "start_time": "2024-06-03T07:07:06.149Z"
   },
   {
    "duration": 78,
    "start_time": "2024-06-03T07:07:06.158Z"
   },
   {
    "duration": 32,
    "start_time": "2024-06-03T07:07:06.238Z"
   },
   {
    "duration": 82,
    "start_time": "2024-06-03T07:07:06.273Z"
   },
   {
    "duration": 84,
    "start_time": "2024-06-03T07:07:06.359Z"
   },
   {
    "duration": 127,
    "start_time": "2024-06-03T07:07:06.451Z"
   },
   {
    "duration": 61,
    "start_time": "2024-06-03T07:07:06.580Z"
   },
   {
    "duration": 92,
    "start_time": "2024-06-03T07:07:06.644Z"
   },
   {
    "duration": 198,
    "start_time": "2024-06-03T07:07:06.740Z"
   },
   {
    "duration": 8,
    "start_time": "2024-06-03T07:07:06.942Z"
   },
   {
    "duration": 120,
    "start_time": "2024-06-03T07:07:06.953Z"
   },
   {
    "duration": 83,
    "start_time": "2024-06-03T07:07:07.076Z"
   },
   {
    "duration": 30,
    "start_time": "2024-06-03T07:07:07.162Z"
   },
   {
    "duration": 36,
    "start_time": "2024-06-03T07:07:07.196Z"
   },
   {
    "duration": 34,
    "start_time": "2024-06-03T07:07:07.235Z"
   },
   {
    "duration": 11,
    "start_time": "2024-06-03T07:07:07.272Z"
   },
   {
    "duration": 50,
    "start_time": "2024-06-03T07:07:07.285Z"
   },
   {
    "duration": 340,
    "start_time": "2024-06-03T17:53:18.217Z"
   },
   {
    "duration": 5481,
    "start_time": "2024-06-03T17:53:25.277Z"
   },
   {
    "duration": 46,
    "start_time": "2024-06-03T17:53:30.764Z"
   },
   {
    "duration": 19,
    "start_time": "2024-06-03T17:53:30.813Z"
   },
   {
    "duration": 30,
    "start_time": "2024-06-03T17:53:30.835Z"
   },
   {
    "duration": 7,
    "start_time": "2024-06-03T17:53:30.894Z"
   },
   {
    "duration": 17,
    "start_time": "2024-06-03T17:53:30.904Z"
   },
   {
    "duration": 7,
    "start_time": "2024-06-03T17:53:30.925Z"
   },
   {
    "duration": 54,
    "start_time": "2024-06-03T17:53:30.936Z"
   },
   {
    "duration": 5,
    "start_time": "2024-06-03T17:53:30.994Z"
   },
   {
    "duration": 5,
    "start_time": "2024-06-03T17:53:31.003Z"
   },
   {
    "duration": 16,
    "start_time": "2024-06-03T17:53:31.012Z"
   },
   {
    "duration": 15,
    "start_time": "2024-06-03T17:53:31.031Z"
   },
   {
    "duration": 61,
    "start_time": "2024-06-03T17:53:31.049Z"
   },
   {
    "duration": 6,
    "start_time": "2024-06-03T17:53:31.118Z"
   },
   {
    "duration": 238,
    "start_time": "2024-06-03T17:53:31.128Z"
   },
   {
    "duration": 173,
    "start_time": "2024-06-03T17:53:31.370Z"
   },
   {
    "duration": 176,
    "start_time": "2024-06-03T17:53:31.547Z"
   },
   {
    "duration": 207,
    "start_time": "2024-06-03T17:53:31.726Z"
   },
   {
    "duration": 10,
    "start_time": "2024-06-03T17:53:31.937Z"
   },
   {
    "duration": 8,
    "start_time": "2024-06-03T17:53:31.949Z"
   },
   {
    "duration": 33,
    "start_time": "2024-06-03T17:53:31.961Z"
   },
   {
    "duration": 7,
    "start_time": "2024-06-03T17:53:31.998Z"
   },
   {
    "duration": 6,
    "start_time": "2024-06-03T17:53:32.010Z"
   },
   {
    "duration": 76,
    "start_time": "2024-06-03T17:53:32.020Z"
   },
   {
    "duration": 38,
    "start_time": "2024-06-03T17:53:32.099Z"
   },
   {
    "duration": 75,
    "start_time": "2024-06-03T17:53:32.140Z"
   },
   {
    "duration": 91,
    "start_time": "2024-06-03T17:53:32.218Z"
   },
   {
    "duration": 127,
    "start_time": "2024-06-03T17:53:32.312Z"
   },
   {
    "duration": 71,
    "start_time": "2024-06-03T17:53:32.445Z"
   },
   {
    "duration": 93,
    "start_time": "2024-06-03T17:53:32.522Z"
   },
   {
    "duration": 180,
    "start_time": "2024-06-03T17:53:32.618Z"
   },
   {
    "duration": 7,
    "start_time": "2024-06-03T17:53:32.801Z"
   },
   {
    "duration": 126,
    "start_time": "2024-06-03T17:53:32.812Z"
   },
   {
    "duration": 69,
    "start_time": "2024-06-03T17:53:32.942Z"
   },
   {
    "duration": 18,
    "start_time": "2024-06-03T17:53:33.015Z"
   },
   {
    "duration": 65,
    "start_time": "2024-06-03T17:53:33.036Z"
   },
   {
    "duration": 37,
    "start_time": "2024-06-03T17:53:33.105Z"
   },
   {
    "duration": 11,
    "start_time": "2024-06-03T17:53:33.146Z"
   },
   {
    "duration": 51,
    "start_time": "2024-06-03T17:53:33.163Z"
   },
   {
    "duration": 24,
    "start_time": "2024-06-03T17:53:39.730Z"
   },
   {
    "duration": 4371,
    "start_time": "2024-06-03T17:57:09.865Z"
   },
   {
    "duration": 227,
    "start_time": "2024-06-03T17:58:34.871Z"
   },
   {
    "duration": 309,
    "start_time": "2024-06-03T17:58:45.006Z"
   },
   {
    "duration": 245,
    "start_time": "2024-06-03T17:59:47.611Z"
   },
   {
    "duration": 239,
    "start_time": "2024-06-03T17:59:52.443Z"
   },
   {
    "duration": 121,
    "start_time": "2024-06-03T18:00:09.332Z"
   },
   {
    "duration": 297,
    "start_time": "2024-06-03T18:00:23.749Z"
   },
   {
    "duration": 236,
    "start_time": "2024-06-03T18:00:29.722Z"
   },
   {
    "duration": 336,
    "start_time": "2024-06-03T18:00:33.808Z"
   },
   {
    "duration": 26,
    "start_time": "2024-06-03T18:00:44.962Z"
   },
   {
    "duration": 119,
    "start_time": "2024-06-03T18:01:48.378Z"
   },
   {
    "duration": 164,
    "start_time": "2024-06-03T18:01:52.755Z"
   },
   {
    "duration": 138,
    "start_time": "2024-06-03T18:01:57.488Z"
   },
   {
    "duration": 311,
    "start_time": "2024-06-03T18:02:07.890Z"
   },
   {
    "duration": 39,
    "start_time": "2024-06-03T18:02:17.243Z"
   },
   {
    "duration": 231,
    "start_time": "2024-06-03T18:02:19.234Z"
   },
   {
    "duration": 238,
    "start_time": "2024-06-03T18:02:27.955Z"
   },
   {
    "duration": 330,
    "start_time": "2024-06-03T18:02:30.936Z"
   },
   {
    "duration": 211,
    "start_time": "2024-06-03T18:05:13.348Z"
   },
   {
    "duration": 209,
    "start_time": "2024-06-03T18:05:32.316Z"
   },
   {
    "duration": 243,
    "start_time": "2024-06-03T18:05:41.491Z"
   },
   {
    "duration": 27,
    "start_time": "2024-06-03T18:06:35.348Z"
   },
   {
    "duration": 22,
    "start_time": "2024-06-03T18:06:42.713Z"
   },
   {
    "duration": 22,
    "start_time": "2024-06-03T18:06:47.938Z"
   },
   {
    "duration": 22,
    "start_time": "2024-06-03T18:06:51.762Z"
   },
   {
    "duration": 21,
    "start_time": "2024-06-03T18:06:58.387Z"
   },
   {
    "duration": 30,
    "start_time": "2024-06-03T18:07:08.390Z"
   },
   {
    "duration": 40,
    "start_time": "2024-06-03T18:07:15.140Z"
   },
   {
    "duration": 40,
    "start_time": "2024-06-03T18:07:18.534Z"
   },
   {
    "duration": 30,
    "start_time": "2024-06-03T18:07:21.316Z"
   },
   {
    "duration": 31,
    "start_time": "2024-06-03T18:07:25.173Z"
   },
   {
    "duration": 30,
    "start_time": "2024-06-03T18:07:29.971Z"
   },
   {
    "duration": 35,
    "start_time": "2024-06-03T18:07:34.019Z"
   },
   {
    "duration": 593,
    "start_time": "2024-06-03T18:07:52.297Z"
   },
   {
    "duration": 20,
    "start_time": "2024-06-03T18:08:04.290Z"
   },
   {
    "duration": 22,
    "start_time": "2024-06-03T18:08:16.962Z"
   },
   {
    "duration": 36,
    "start_time": "2024-06-03T18:10:31.588Z"
   },
   {
    "duration": 51,
    "start_time": "2024-06-03T18:10:38.724Z"
   },
   {
    "duration": 28,
    "start_time": "2024-06-03T18:10:53.860Z"
   },
   {
    "duration": 22,
    "start_time": "2024-06-03T18:14:43.198Z"
   },
   {
    "duration": 19,
    "start_time": "2024-06-03T18:14:46.489Z"
   },
   {
    "duration": 22,
    "start_time": "2024-06-03T18:14:50.133Z"
   },
   {
    "duration": 21,
    "start_time": "2024-06-03T18:14:53.465Z"
   },
   {
    "duration": 24,
    "start_time": "2024-06-03T18:14:56.924Z"
   },
   {
    "duration": 23,
    "start_time": "2024-06-03T18:15:00.555Z"
   },
   {
    "duration": 19,
    "start_time": "2024-06-03T18:15:07.491Z"
   },
   {
    "duration": 19,
    "start_time": "2024-06-03T18:15:13.100Z"
   },
   {
    "duration": 19,
    "start_time": "2024-06-03T18:15:16.369Z"
   },
   {
    "duration": 23,
    "start_time": "2024-06-03T18:15:26.800Z"
   },
   {
    "duration": 34,
    "start_time": "2024-06-03T18:15:57.573Z"
   },
   {
    "duration": 19,
    "start_time": "2024-06-03T18:16:04.293Z"
   },
   {
    "duration": 1590,
    "start_time": "2024-06-03T18:18:36.754Z"
   },
   {
    "duration": 26,
    "start_time": "2024-06-03T18:18:38.348Z"
   },
   {
    "duration": 28,
    "start_time": "2024-06-03T18:18:38.377Z"
   },
   {
    "duration": 26,
    "start_time": "2024-06-03T18:18:38.409Z"
   },
   {
    "duration": 8,
    "start_time": "2024-06-03T18:18:38.438Z"
   },
   {
    "duration": 51,
    "start_time": "2024-06-03T18:18:38.449Z"
   },
   {
    "duration": 7,
    "start_time": "2024-06-03T18:18:38.504Z"
   },
   {
    "duration": 8,
    "start_time": "2024-06-03T18:18:38.514Z"
   },
   {
    "duration": 5,
    "start_time": "2024-06-03T18:18:38.527Z"
   },
   {
    "duration": 5,
    "start_time": "2024-06-03T18:18:38.538Z"
   },
   {
    "duration": 18,
    "start_time": "2024-06-03T18:18:38.590Z"
   },
   {
    "duration": 12,
    "start_time": "2024-06-03T18:18:38.610Z"
   },
   {
    "duration": 21,
    "start_time": "2024-06-03T18:18:38.625Z"
   },
   {
    "duration": 43,
    "start_time": "2024-06-03T18:18:38.650Z"
   },
   {
    "duration": 214,
    "start_time": "2024-06-03T18:18:38.696Z"
   },
   {
    "duration": 168,
    "start_time": "2024-06-03T18:18:38.914Z"
   },
   {
    "duration": 176,
    "start_time": "2024-06-03T18:18:39.090Z"
   },
   {
    "duration": 185,
    "start_time": "2024-06-03T18:18:39.269Z"
   },
   {
    "duration": 10,
    "start_time": "2024-06-03T18:18:39.458Z"
   },
   {
    "duration": 23,
    "start_time": "2024-06-03T18:18:39.471Z"
   },
   {
    "duration": 7,
    "start_time": "2024-06-03T18:18:39.497Z"
   },
   {
    "duration": 5,
    "start_time": "2024-06-03T18:18:39.507Z"
   },
   {
    "duration": 6,
    "start_time": "2024-06-03T18:18:39.516Z"
   },
   {
    "duration": 88,
    "start_time": "2024-06-03T18:18:39.525Z"
   },
   {
    "duration": 31,
    "start_time": "2024-06-03T18:18:39.616Z"
   },
   {
    "duration": 144,
    "start_time": "2024-06-03T18:18:39.649Z"
   },
   {
    "duration": 97,
    "start_time": "2024-06-03T18:18:39.802Z"
   },
   {
    "duration": 82,
    "start_time": "2024-06-03T18:18:39.908Z"
   },
   {
    "duration": 16,
    "start_time": "2024-06-03T18:18:39.994Z"
   },
   {
    "duration": 89,
    "start_time": "2024-06-03T18:18:40.012Z"
   },
   {
    "duration": 198,
    "start_time": "2024-06-03T18:18:40.104Z"
   },
   {
    "duration": 8,
    "start_time": "2024-06-03T18:18:40.306Z"
   },
   {
    "duration": 126,
    "start_time": "2024-06-03T18:18:40.317Z"
   },
   {
    "duration": 60,
    "start_time": "2024-06-03T18:18:40.447Z"
   },
   {
    "duration": 17,
    "start_time": "2024-06-03T18:18:40.510Z"
   },
   {
    "duration": 60,
    "start_time": "2024-06-03T18:18:40.530Z"
   },
   {
    "duration": 4486,
    "start_time": "2024-06-03T18:18:40.593Z"
   },
   {
    "duration": 37,
    "start_time": "2024-06-03T18:18:45.091Z"
   },
   {
    "duration": 12,
    "start_time": "2024-06-03T18:18:45.130Z"
   },
   {
    "duration": 54,
    "start_time": "2024-06-03T18:18:45.144Z"
   },
   {
    "duration": 5448,
    "start_time": "2024-06-04T04:28:34.376Z"
   },
   {
    "duration": 34,
    "start_time": "2024-06-04T04:28:39.828Z"
   },
   {
    "duration": 30,
    "start_time": "2024-06-04T04:28:39.865Z"
   },
   {
    "duration": 25,
    "start_time": "2024-06-04T04:28:39.898Z"
   },
   {
    "duration": 6,
    "start_time": "2024-06-04T04:28:39.928Z"
   },
   {
    "duration": 16,
    "start_time": "2024-06-04T04:28:39.938Z"
   },
   {
    "duration": 8,
    "start_time": "2024-06-04T04:28:39.992Z"
   },
   {
    "duration": 11,
    "start_time": "2024-06-04T04:28:40.003Z"
   },
   {
    "duration": 5,
    "start_time": "2024-06-04T04:28:40.017Z"
   },
   {
    "duration": 8,
    "start_time": "2024-06-04T04:28:40.025Z"
   },
   {
    "duration": 66,
    "start_time": "2024-06-04T04:28:40.036Z"
   },
   {
    "duration": 13,
    "start_time": "2024-06-04T04:28:40.105Z"
   },
   {
    "duration": 20,
    "start_time": "2024-06-04T04:28:40.120Z"
   },
   {
    "duration": 5,
    "start_time": "2024-06-04T04:28:40.147Z"
   },
   {
    "duration": 224,
    "start_time": "2024-06-04T04:28:40.155Z"
   },
   {
    "duration": 242,
    "start_time": "2024-06-04T04:28:40.390Z"
   },
   {
    "duration": 173,
    "start_time": "2024-06-04T04:28:40.635Z"
   },
   {
    "duration": 186,
    "start_time": "2024-06-04T04:28:40.811Z"
   },
   {
    "duration": 10,
    "start_time": "2024-06-04T04:28:41.000Z"
   },
   {
    "duration": 5,
    "start_time": "2024-06-04T04:28:41.013Z"
   },
   {
    "duration": 6,
    "start_time": "2024-06-04T04:28:41.022Z"
   },
   {
    "duration": 5,
    "start_time": "2024-06-04T04:28:41.032Z"
   },
   {
    "duration": 6,
    "start_time": "2024-06-04T04:28:41.040Z"
   },
   {
    "duration": 47,
    "start_time": "2024-06-04T04:28:41.093Z"
   },
   {
    "duration": 58,
    "start_time": "2024-06-04T04:28:41.142Z"
   },
   {
    "duration": 100,
    "start_time": "2024-06-04T04:28:41.202Z"
   },
   {
    "duration": 91,
    "start_time": "2024-06-04T04:28:41.304Z"
   },
   {
    "duration": 136,
    "start_time": "2024-06-04T04:28:41.398Z"
   },
   {
    "duration": 62,
    "start_time": "2024-06-04T04:28:41.537Z"
   },
   {
    "duration": 92,
    "start_time": "2024-06-04T04:28:41.602Z"
   },
   {
    "duration": 200,
    "start_time": "2024-06-04T04:28:41.697Z"
   },
   {
    "duration": 8,
    "start_time": "2024-06-04T04:28:41.900Z"
   },
   {
    "duration": 115,
    "start_time": "2024-06-04T04:28:41.911Z"
   },
   {
    "duration": 46,
    "start_time": "2024-06-04T04:28:42.029Z"
   },
   {
    "duration": 17,
    "start_time": "2024-06-04T04:28:42.092Z"
   },
   {
    "duration": 39,
    "start_time": "2024-06-04T04:28:42.112Z"
   },
   {
    "duration": 4421,
    "start_time": "2024-06-04T04:28:42.154Z"
   },
   {
    "duration": 44,
    "start_time": "2024-06-04T04:28:46.578Z"
   },
   {
    "duration": 10,
    "start_time": "2024-06-04T04:28:46.625Z"
   },
   {
    "duration": 20,
    "start_time": "2024-06-04T04:28:46.638Z"
   },
   {
    "duration": 324,
    "start_time": "2024-07-08T21:45:57.600Z"
   },
   {
    "duration": 2645,
    "start_time": "2024-12-26T23:16:31.686Z"
   },
   {
    "duration": 26,
    "start_time": "2024-12-26T23:16:34.333Z"
   },
   {
    "duration": 11,
    "start_time": "2024-12-26T23:16:34.360Z"
   },
   {
    "duration": 14,
    "start_time": "2024-12-26T23:16:34.372Z"
   },
   {
    "duration": 3,
    "start_time": "2024-12-26T23:16:34.389Z"
   },
   {
    "duration": 19,
    "start_time": "2024-12-26T23:16:34.394Z"
   },
   {
    "duration": 4,
    "start_time": "2024-12-26T23:16:34.415Z"
   },
   {
    "duration": 5,
    "start_time": "2024-12-26T23:16:34.421Z"
   },
   {
    "duration": 3,
    "start_time": "2024-12-26T23:16:34.428Z"
   },
   {
    "duration": 4,
    "start_time": "2024-12-26T23:16:34.433Z"
   },
   {
    "duration": 8,
    "start_time": "2024-12-26T23:16:34.438Z"
   },
   {
    "duration": 7,
    "start_time": "2024-12-26T23:16:34.448Z"
   },
   {
    "duration": 52,
    "start_time": "2024-12-26T23:16:34.457Z"
   },
   {
    "duration": 3,
    "start_time": "2024-12-26T23:16:34.512Z"
   },
   {
    "duration": 116,
    "start_time": "2024-12-26T23:16:34.517Z"
   },
   {
    "duration": 147,
    "start_time": "2024-12-26T23:16:34.635Z"
   },
   {
    "duration": 91,
    "start_time": "2024-12-26T23:16:34.783Z"
   },
   {
    "duration": 98,
    "start_time": "2024-12-26T23:16:34.875Z"
   },
   {
    "duration": 6,
    "start_time": "2024-12-26T23:16:34.975Z"
   },
   {
    "duration": 4,
    "start_time": "2024-12-26T23:16:34.983Z"
   },
   {
    "duration": 3,
    "start_time": "2024-12-26T23:16:34.988Z"
   },
   {
    "duration": 3,
    "start_time": "2024-12-26T23:16:35.009Z"
   },
   {
    "duration": 3,
    "start_time": "2024-12-26T23:16:35.014Z"
   },
   {
    "duration": 22,
    "start_time": "2024-12-26T23:16:35.018Z"
   },
   {
    "duration": 16,
    "start_time": "2024-12-26T23:16:35.041Z"
   },
   {
    "duration": 62,
    "start_time": "2024-12-26T23:16:35.059Z"
   },
   {
    "duration": 86,
    "start_time": "2024-12-26T23:16:35.123Z"
   },
   {
    "duration": 32,
    "start_time": "2024-12-26T23:16:35.213Z"
   },
   {
    "duration": 12,
    "start_time": "2024-12-26T23:16:35.310Z"
   },
   {
    "duration": 88,
    "start_time": "2024-12-26T23:16:35.325Z"
   },
   {
    "duration": 107,
    "start_time": "2024-12-26T23:16:35.416Z"
   },
   {
    "duration": 4,
    "start_time": "2024-12-26T23:16:35.525Z"
   },
   {
    "duration": 4,
    "start_time": "2024-12-26T23:16:35.531Z"
   },
   {
    "duration": 0,
    "start_time": "2024-12-26T23:16:35.537Z"
   },
   {
    "duration": 0,
    "start_time": "2024-12-26T23:16:35.539Z"
   },
   {
    "duration": 0,
    "start_time": "2024-12-26T23:16:35.540Z"
   },
   {
    "duration": 0,
    "start_time": "2024-12-26T23:16:35.541Z"
   },
   {
    "duration": 0,
    "start_time": "2024-12-26T23:16:35.542Z"
   },
   {
    "duration": 0,
    "start_time": "2024-12-26T23:16:35.543Z"
   },
   {
    "duration": 0,
    "start_time": "2024-12-26T23:16:35.544Z"
   },
   {
    "duration": 1036,
    "start_time": "2024-12-26T23:18:27.187Z"
   },
   {
    "duration": 16,
    "start_time": "2024-12-26T23:18:28.225Z"
   },
   {
    "duration": 10,
    "start_time": "2024-12-26T23:18:28.243Z"
   },
   {
    "duration": 13,
    "start_time": "2024-12-26T23:18:28.255Z"
   },
   {
    "duration": 3,
    "start_time": "2024-12-26T23:18:28.270Z"
   },
   {
    "duration": 35,
    "start_time": "2024-12-26T23:18:28.275Z"
   },
   {
    "duration": 4,
    "start_time": "2024-12-26T23:18:28.311Z"
   },
   {
    "duration": 4,
    "start_time": "2024-12-26T23:18:28.317Z"
   },
   {
    "duration": 4,
    "start_time": "2024-12-26T23:18:28.322Z"
   },
   {
    "duration": 4,
    "start_time": "2024-12-26T23:18:28.327Z"
   },
   {
    "duration": 9,
    "start_time": "2024-12-26T23:18:28.333Z"
   },
   {
    "duration": 6,
    "start_time": "2024-12-26T23:18:28.343Z"
   },
   {
    "duration": 10,
    "start_time": "2024-12-26T23:18:28.352Z"
   },
   {
    "duration": 3,
    "start_time": "2024-12-26T23:18:28.366Z"
   },
   {
    "duration": 158,
    "start_time": "2024-12-26T23:18:28.371Z"
   },
   {
    "duration": 93,
    "start_time": "2024-12-26T23:18:28.530Z"
   },
   {
    "duration": 94,
    "start_time": "2024-12-26T23:18:28.624Z"
   },
   {
    "duration": 97,
    "start_time": "2024-12-26T23:18:28.719Z"
   },
   {
    "duration": 6,
    "start_time": "2024-12-26T23:18:28.818Z"
   },
   {
    "duration": 4,
    "start_time": "2024-12-26T23:18:28.826Z"
   },
   {
    "duration": 4,
    "start_time": "2024-12-26T23:18:28.831Z"
   },
   {
    "duration": 5,
    "start_time": "2024-12-26T23:18:28.836Z"
   },
   {
    "duration": 4,
    "start_time": "2024-12-26T23:18:28.842Z"
   },
   {
    "duration": 23,
    "start_time": "2024-12-26T23:18:28.848Z"
   },
   {
    "duration": 49,
    "start_time": "2024-12-26T23:18:28.872Z"
   },
   {
    "duration": 86,
    "start_time": "2024-12-26T23:18:28.922Z"
   },
   {
    "duration": 12,
    "start_time": "2024-12-26T23:18:29.010Z"
   },
   {
    "duration": 103,
    "start_time": "2024-12-26T23:18:29.023Z"
   },
   {
    "duration": 10,
    "start_time": "2024-12-26T23:18:29.128Z"
   },
   {
    "duration": 77,
    "start_time": "2024-12-26T23:18:29.139Z"
   },
   {
    "duration": 106,
    "start_time": "2024-12-26T23:18:29.218Z"
   },
   {
    "duration": 4,
    "start_time": "2024-12-26T23:18:29.326Z"
   },
   {
    "duration": 94,
    "start_time": "2024-12-26T23:18:29.332Z"
   },
   {
    "duration": 28,
    "start_time": "2024-12-26T23:18:29.427Z"
   },
   {
    "duration": 10,
    "start_time": "2024-12-26T23:18:29.457Z"
   },
   {
    "duration": 40,
    "start_time": "2024-12-26T23:18:29.469Z"
   },
   {
    "duration": 2558,
    "start_time": "2024-12-26T23:18:29.510Z"
   },
   {
    "duration": 20,
    "start_time": "2024-12-26T23:18:32.070Z"
   },
   {
    "duration": 19,
    "start_time": "2024-12-26T23:18:32.092Z"
   },
   {
    "duration": 12,
    "start_time": "2024-12-26T23:18:32.113Z"
   }
  ],
  "kernelspec": {
   "display_name": "Python 3 (ipykernel)",
   "language": "python",
   "name": "python3"
  },
  "language_info": {
   "codemirror_mode": {
    "name": "ipython",
    "version": 3
   },
   "file_extension": ".py",
   "mimetype": "text/x-python",
   "name": "python",
   "nbconvert_exporter": "python",
   "pygments_lexer": "ipython3",
   "version": "3.9.19"
  },
  "toc": {
   "base_numbering": 1,
   "nav_menu": {},
   "number_sections": true,
   "sideBar": true,
   "skip_h1_title": true,
   "title_cell": "Table of Contents",
   "title_sidebar": "Contents",
   "toc_cell": false,
   "toc_position": {
    "height": "calc(100% - 180px)",
    "left": "10px",
    "top": "150px",
    "width": "254.6px"
   },
   "toc_section_display": true,
   "toc_window_display": true
  }
 },
 "nbformat": 4,
 "nbformat_minor": 2
}
